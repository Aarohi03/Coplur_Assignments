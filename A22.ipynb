{
 "cells": [
  {
   "cell_type": "code",
   "execution_count": 0,
   "metadata": {
    "application/vnd.databricks.v1+cell": {
     "cellMetadata": {
      "byteLimit": 2048000,
      "rowLimit": 10000
     },
     "inputWidgets": {},
     "nuid": "a6a51795-2436-4be8-8bf6-c8bd4a156244",
     "showTitle": false,
     "tableResultSettingsMap": {},
     "title": ""
    }
   },
   "outputs": [
    {
     "output_type": "execute_result",
     "data": {
      "text/plain": [
       "[FileInfo(path='dbfs:/Volumes/workspace/skit_training/aarohi_training/Sales.csv', name='Sales.csv', size=533934, modificationTime=1752505351000)]"
      ]
     },
     "execution_count": 11,
     "metadata": {},
     "output_type": "execute_result"
    }
   ],
   "source": [
    "dbutils.fs.ls(\"dbfs:/Volumes/workspace/skit_training/aarohi_training/Sales.csv\")"
   ]
  },
  {
   "cell_type": "code",
   "execution_count": 0,
   "metadata": {
    "application/vnd.databricks.v1+cell": {
     "cellMetadata": {
      "byteLimit": 2048000,
      "rowLimit": 10000
     },
     "inputWidgets": {},
     "nuid": "b62cb136-8c08-43f3-a877-059b59121a57",
     "showTitle": false,
     "tableResultSettingsMap": {},
     "title": ""
    }
   },
   "outputs": [
    {
     "output_type": "stream",
     "name": "stdout",
     "output_type": "stream",
     "text": [
      "Requirement already satisfied: pandas in /databricks/python3/lib/python3.11/site-packages (1.5.3)\nRequirement already satisfied: python-dateutil>=2.8.1 in /databricks/python3/lib/python3.11/site-packages (from pandas) (2.8.2)\nRequirement already satisfied: pytz>=2020.1 in /databricks/python3/lib/python3.11/site-packages (from pandas) (2022.7)\nRequirement already satisfied: numpy>=1.21.0 in /databricks/python3/lib/python3.11/site-packages (from pandas) (1.23.5)\nRequirement already satisfied: six>=1.5 in /usr/lib/python3/dist-packages (from python-dateutil>=2.8.1->pandas) (1.16.0)\n\u001B[43mNote: you may need to restart the kernel using %restart_python or dbutils.library.restartPython() to use updated packages.\u001B[0m\n"
     ]
    }
   ],
   "source": [
    "%pip install pandas\n",
    "%restart_python"
   ]
  },
  {
   "cell_type": "code",
   "execution_count": 0,
   "metadata": {
    "application/vnd.databricks.v1+cell": {
     "cellMetadata": {
      "byteLimit": 2048000,
      "rowLimit": 10000
     },
     "inputWidgets": {},
     "nuid": "70ee6de4-6192-4a9c-be8d-5ac4f0a81819",
     "showTitle": false,
     "tableResultSettingsMap": {},
     "title": ""
    }
   },
   "outputs": [],
   "source": [
    "# reading the csv file\n",
    "df=spark.read.csv(\"/Volumes/workspace/skit_training/aarohi_training/Sales.csv\", header=True, inferSchema=True)"
   ]
  },
  {
   "cell_type": "code",
   "execution_count": 0,
   "metadata": {
    "application/vnd.databricks.v1+cell": {
     "cellMetadata": {
      "byteLimit": 2048000,
      "rowLimit": 10000
     },
     "inputWidgets": {},
     "nuid": "e942ec6c-8d98-4e4c-afda-a618c700aa03",
     "showTitle": false,
     "tableResultSettingsMap": {},
     "title": ""
    }
   },
   "outputs": [
    {
     "output_type": "display_data",
     "data": {
      "text/html": [
       "<style scoped>\n",
       "  .table-result-container {\n",
       "    max-height: 300px;\n",
       "    overflow: auto;\n",
       "  }\n",
       "  table, th, td {\n",
       "    border: 1px solid black;\n",
       "    border-collapse: collapse;\n",
       "  }\n",
       "  th, td {\n",
       "    padding: 5px;\n",
       "  }\n",
       "  th {\n",
       "    text-align: left;\n",
       "  }\n",
       "</style><div class='table-result-container'><table class='table-result'><thead style='background-color: white'><tr><th>ORDERNUMBER</th><th>QUANTITYORDERED</th><th>PRICEEACH</th><th>ORDERLINENUMBER</th><th>SALES</th><th>ORDERDATE</th><th>STATUS</th><th>QTR_ID</th><th>MONTH_ID</th><th>YEAR_ID</th><th>PRODUCTLINE</th><th>MSRP</th><th>PRODUCTCODE</th><th>CUSTOMERNAME</th><th>PHONE</th><th>ADDRESSLINE1</th><th>ADDRESSLINE2</th><th>CITY</th><th>STATE</th><th>POSTALCODE</th><th>COUNTRY</th><th>TERRITORY</th><th>CONTACTLASTNAME</th><th>CONTACTFIRSTNAME</th><th>DEALSIZE</th></tr></thead><tbody><tr><td>10107</td><td>30</td><td>95.7</td><td>2</td><td>2871.0</td><td>2/24/2003 0:00</td><td>Shipped</td><td>1</td><td>2</td><td>2003</td><td>Motorcycles</td><td>95</td><td>S10_1678</td><td>Land of Toys Inc.</td><td>2125557818</td><td>897 Long Airport Avenue</td><td>null</td><td>NYC</td><td>NY</td><td>10022</td><td>USA</td><td>NA</td><td>Yu</td><td>Kwai</td><td>Small</td></tr><tr><td>10121</td><td>34</td><td>81.35</td><td>5</td><td>2765.9</td><td>05-07-2003 00:00</td><td>Shipped</td><td>2</td><td>5</td><td>2003</td><td>Motorcycles</td><td>95</td><td>S10_1678</td><td>Reims Collectables</td><td>26.47.1555</td><td>59 rue de l'Abbaye</td><td>null</td><td>Reims</td><td>null</td><td>51100</td><td>France</td><td>EMEA</td><td>Henriot</td><td>Paul</td><td>Small</td></tr><tr><td>10134</td><td>41</td><td>94.74</td><td>2</td><td>3884.34</td><td>07-01-2003 00:00</td><td>Shipped</td><td>3</td><td>7</td><td>2003</td><td>Motorcycles</td><td>95</td><td>S10_1678</td><td>Lyon Souveniers</td><td>+33 1 46 62 7555</td><td>27 rue du Colonel Pierre Avia</td><td>null</td><td>Paris</td><td>null</td><td>75508</td><td>France</td><td>EMEA</td><td>Da Cunha</td><td>Daniel</td><td>Medium</td></tr><tr><td>10145</td><td>45</td><td>83.26</td><td>6</td><td>3746.7</td><td>8/25/2003 0:00</td><td>Shipped</td><td>3</td><td>8</td><td>2003</td><td>Motorcycles</td><td>95</td><td>S10_1678</td><td>Toys4GrownUps.com</td><td>6265557265</td><td>78934 Hillside Dr.</td><td>null</td><td>Pasadena</td><td>CA</td><td>90003</td><td>USA</td><td>NA</td><td>Young</td><td>Julie</td><td>Medium</td></tr><tr><td>10159</td><td>49</td><td>100.0</td><td>14</td><td>5205.27</td><td>10-10-2003 00:00</td><td>Shipped</td><td>4</td><td>10</td><td>2003</td><td>Motorcycles</td><td>95</td><td>S10_1678</td><td>Corporate Gift Ideas Co.</td><td>6505551386</td><td>7734 Strong St.</td><td>null</td><td>San Francisco</td><td>CA</td><td>null</td><td>USA</td><td>NA</td><td>Brown</td><td>Julie</td><td>Medium</td></tr></tbody></table></div>"
      ]
     },
     "metadata": {
      "application/vnd.databricks.v1+output": {
       "addedWidgets": {},
       "aggData": [],
       "aggError": "",
       "aggOverflow": false,
       "aggSchema": [],
       "aggSeriesLimitReached": false,
       "aggType": "",
       "arguments": {},
       "columnCustomDisplayInfos": {},
       "data": [
        [
         10107,
         30,
         95.7,
         2,
         2871.0,
         "2/24/2003 0:00",
         "Shipped",
         1,
         2,
         2003,
         "Motorcycles",
         95,
         "S10_1678",
         "Land of Toys Inc.",
         "2125557818",
         "897 Long Airport Avenue",
         null,
         "NYC",
         "NY",
         "10022",
         "USA",
         "NA",
         "Yu",
         "Kwai",
         "Small"
        ],
        [
         10121,
         34,
         81.35,
         5,
         2765.9,
         "05-07-2003 00:00",
         "Shipped",
         2,
         5,
         2003,
         "Motorcycles",
         95,
         "S10_1678",
         "Reims Collectables",
         "26.47.1555",
         "59 rue de l'Abbaye",
         null,
         "Reims",
         null,
         "51100",
         "France",
         "EMEA",
         "Henriot",
         "Paul",
         "Small"
        ],
        [
         10134,
         41,
         94.74,
         2,
         3884.34,
         "07-01-2003 00:00",
         "Shipped",
         3,
         7,
         2003,
         "Motorcycles",
         95,
         "S10_1678",
         "Lyon Souveniers",
         "+33 1 46 62 7555",
         "27 rue du Colonel Pierre Avia",
         null,
         "Paris",
         null,
         "75508",
         "France",
         "EMEA",
         "Da Cunha",
         "Daniel",
         "Medium"
        ],
        [
         10145,
         45,
         83.26,
         6,
         3746.7,
         "8/25/2003 0:00",
         "Shipped",
         3,
         8,
         2003,
         "Motorcycles",
         95,
         "S10_1678",
         "Toys4GrownUps.com",
         "6265557265",
         "78934 Hillside Dr.",
         null,
         "Pasadena",
         "CA",
         "90003",
         "USA",
         "NA",
         "Young",
         "Julie",
         "Medium"
        ],
        [
         10159,
         49,
         100.0,
         14,
         5205.27,
         "10-10-2003 00:00",
         "Shipped",
         4,
         10,
         2003,
         "Motorcycles",
         95,
         "S10_1678",
         "Corporate Gift Ideas Co.",
         "6505551386",
         "7734 Strong St.",
         null,
         "San Francisco",
         "CA",
         null,
         "USA",
         "NA",
         "Brown",
         "Julie",
         "Medium"
        ]
       ],
       "datasetInfos": [],
       "dbfsResultPath": null,
       "isJsonSchema": true,
       "metadata": {},
       "overflow": false,
       "plotOptions": {
        "customPlotOptions": {},
        "displayType": "table",
        "pivotAggregation": null,
        "pivotColumns": null,
        "xColumns": null,
        "yColumns": null
       },
       "removedWidgets": [],
       "schema": [
        {
         "metadata": "{}",
         "name": "ORDERNUMBER",
         "type": "\"integer\""
        },
        {
         "metadata": "{}",
         "name": "QUANTITYORDERED",
         "type": "\"integer\""
        },
        {
         "metadata": "{}",
         "name": "PRICEEACH",
         "type": "\"double\""
        },
        {
         "metadata": "{}",
         "name": "ORDERLINENUMBER",
         "type": "\"integer\""
        },
        {
         "metadata": "{}",
         "name": "SALES",
         "type": "\"double\""
        },
        {
         "metadata": "{}",
         "name": "ORDERDATE",
         "type": "\"string\""
        },
        {
         "metadata": "{}",
         "name": "STATUS",
         "type": "\"string\""
        },
        {
         "metadata": "{}",
         "name": "QTR_ID",
         "type": "\"integer\""
        },
        {
         "metadata": "{}",
         "name": "MONTH_ID",
         "type": "\"integer\""
        },
        {
         "metadata": "{}",
         "name": "YEAR_ID",
         "type": "\"integer\""
        },
        {
         "metadata": "{}",
         "name": "PRODUCTLINE",
         "type": "\"string\""
        },
        {
         "metadata": "{}",
         "name": "MSRP",
         "type": "\"integer\""
        },
        {
         "metadata": "{}",
         "name": "PRODUCTCODE",
         "type": "\"string\""
        },
        {
         "metadata": "{}",
         "name": "CUSTOMERNAME",
         "type": "\"string\""
        },
        {
         "metadata": "{}",
         "name": "PHONE",
         "type": "\"string\""
        },
        {
         "metadata": "{}",
         "name": "ADDRESSLINE1",
         "type": "\"string\""
        },
        {
         "metadata": "{}",
         "name": "ADDRESSLINE2",
         "type": "\"string\""
        },
        {
         "metadata": "{}",
         "name": "CITY",
         "type": "\"string\""
        },
        {
         "metadata": "{}",
         "name": "STATE",
         "type": "\"string\""
        },
        {
         "metadata": "{}",
         "name": "POSTALCODE",
         "type": "\"string\""
        },
        {
         "metadata": "{}",
         "name": "COUNTRY",
         "type": "\"string\""
        },
        {
         "metadata": "{}",
         "name": "TERRITORY",
         "type": "\"string\""
        },
        {
         "metadata": "{}",
         "name": "CONTACTLASTNAME",
         "type": "\"string\""
        },
        {
         "metadata": "{}",
         "name": "CONTACTFIRSTNAME",
         "type": "\"string\""
        },
        {
         "metadata": "{}",
         "name": "DEALSIZE",
         "type": "\"string\""
        }
       ],
       "type": "table"
      }
     },
     "output_type": "display_data"
    }
   ],
   "source": [
    "# fetching first 5 rows of the dataframe\n",
    "df1=df.limit(5)\n",
    "display(df1)"
   ]
  },
  {
   "cell_type": "code",
   "execution_count": 0,
   "metadata": {
    "application/vnd.databricks.v1+cell": {
     "cellMetadata": {
      "byteLimit": 2048000,
      "rowLimit": 10000
     },
     "inputWidgets": {},
     "nuid": "7e8950ac-4fec-4c2f-9d33-f23aafdb5eb7",
     "showTitle": false,
     "tableResultSettingsMap": {},
     "title": ""
    }
   },
   "outputs": [
    {
     "output_type": "display_data",
     "data": {
      "text/html": [
       "<style scoped>\n",
       "  .table-result-container {\n",
       "    max-height: 300px;\n",
       "    overflow: auto;\n",
       "  }\n",
       "  table, th, td {\n",
       "    border: 1px solid black;\n",
       "    border-collapse: collapse;\n",
       "  }\n",
       "  th, td {\n",
       "    padding: 5px;\n",
       "  }\n",
       "  th {\n",
       "    text-align: left;\n",
       "  }\n",
       "</style><div class='table-result-container'><table class='table-result'><thead style='background-color: white'><tr><th>ORDERNUMBER</th><th>QUANTITYORDERED</th><th>PRICEEACH</th><th>ORDERLINENUMBER</th><th>SALES</th><th>ORDERDATE</th><th>STATUS</th><th>QTR_ID</th><th>MONTH_ID</th><th>YEAR_ID</th><th>PRODUCTLINE</th><th>MSRP</th><th>PRODUCTCODE</th><th>CUSTOMERNAME</th><th>PHONE</th><th>ADDRESSLINE1</th><th>ADDRESSLINE2</th><th>CITY</th><th>STATE</th><th>POSTALCODE</th><th>COUNTRY</th><th>TERRITORY</th><th>CONTACTLASTNAME</th><th>CONTACTFIRSTNAME</th><th>DEALSIZE</th></tr></thead><tbody><tr><td>10107</td><td>30</td><td>95.7</td><td>2</td><td>2871.0</td><td>2/24/2003 0:00</td><td>Shipped</td><td>1</td><td>2</td><td>2003</td><td>Motorcycles</td><td>95</td><td>S10_1678</td><td>Land of Toys Inc.</td><td>2125557818</td><td>897 Long Airport Avenue</td><td>null</td><td>NYC</td><td>NY</td><td>10022</td><td>USA</td><td>NA</td><td>Yu</td><td>Kwai</td><td>Small</td></tr><tr><td>10121</td><td>34</td><td>81.35</td><td>5</td><td>2765.9</td><td>05-07-2003 00:00</td><td>Shipped</td><td>2</td><td>5</td><td>2003</td><td>Motorcycles</td><td>95</td><td>S10_1678</td><td>Reims Collectables</td><td>26.47.1555</td><td>59 rue de l'Abbaye</td><td>null</td><td>Reims</td><td>null</td><td>51100</td><td>France</td><td>EMEA</td><td>Henriot</td><td>Paul</td><td>Small</td></tr><tr><td>10134</td><td>41</td><td>94.74</td><td>2</td><td>3884.34</td><td>07-01-2003 00:00</td><td>Shipped</td><td>3</td><td>7</td><td>2003</td><td>Motorcycles</td><td>95</td><td>S10_1678</td><td>Lyon Souveniers</td><td>+33 1 46 62 7555</td><td>27 rue du Colonel Pierre Avia</td><td>null</td><td>Paris</td><td>null</td><td>75508</td><td>France</td><td>EMEA</td><td>Da Cunha</td><td>Daniel</td><td>Medium</td></tr><tr><td>10145</td><td>45</td><td>83.26</td><td>6</td><td>3746.7</td><td>8/25/2003 0:00</td><td>Shipped</td><td>3</td><td>8</td><td>2003</td><td>Motorcycles</td><td>95</td><td>S10_1678</td><td>Toys4GrownUps.com</td><td>6265557265</td><td>78934 Hillside Dr.</td><td>null</td><td>Pasadena</td><td>CA</td><td>90003</td><td>USA</td><td>NA</td><td>Young</td><td>Julie</td><td>Medium</td></tr><tr><td>10159</td><td>49</td><td>100.0</td><td>14</td><td>5205.27</td><td>10-10-2003 00:00</td><td>Shipped</td><td>4</td><td>10</td><td>2003</td><td>Motorcycles</td><td>95</td><td>S10_1678</td><td>Corporate Gift Ideas Co.</td><td>6505551386</td><td>7734 Strong St.</td><td>null</td><td>San Francisco</td><td>CA</td><td>null</td><td>USA</td><td>NA</td><td>Brown</td><td>Julie</td><td>Medium</td></tr></tbody></table></div>"
      ]
     },
     "metadata": {
      "application/vnd.databricks.v1+output": {
       "addedWidgets": {},
       "aggData": [],
       "aggError": "",
       "aggOverflow": false,
       "aggSchema": [],
       "aggSeriesLimitReached": false,
       "aggType": "",
       "arguments": {},
       "columnCustomDisplayInfos": {},
       "data": [
        [
         10107,
         30,
         95.7,
         2,
         2871.0,
         "2/24/2003 0:00",
         "Shipped",
         1,
         2,
         2003,
         "Motorcycles",
         95,
         "S10_1678",
         "Land of Toys Inc.",
         "2125557818",
         "897 Long Airport Avenue",
         null,
         "NYC",
         "NY",
         "10022",
         "USA",
         "NA",
         "Yu",
         "Kwai",
         "Small"
        ],
        [
         10121,
         34,
         81.35,
         5,
         2765.9,
         "05-07-2003 00:00",
         "Shipped",
         2,
         5,
         2003,
         "Motorcycles",
         95,
         "S10_1678",
         "Reims Collectables",
         "26.47.1555",
         "59 rue de l'Abbaye",
         null,
         "Reims",
         null,
         "51100",
         "France",
         "EMEA",
         "Henriot",
         "Paul",
         "Small"
        ],
        [
         10134,
         41,
         94.74,
         2,
         3884.34,
         "07-01-2003 00:00",
         "Shipped",
         3,
         7,
         2003,
         "Motorcycles",
         95,
         "S10_1678",
         "Lyon Souveniers",
         "+33 1 46 62 7555",
         "27 rue du Colonel Pierre Avia",
         null,
         "Paris",
         null,
         "75508",
         "France",
         "EMEA",
         "Da Cunha",
         "Daniel",
         "Medium"
        ],
        [
         10145,
         45,
         83.26,
         6,
         3746.7,
         "8/25/2003 0:00",
         "Shipped",
         3,
         8,
         2003,
         "Motorcycles",
         95,
         "S10_1678",
         "Toys4GrownUps.com",
         "6265557265",
         "78934 Hillside Dr.",
         null,
         "Pasadena",
         "CA",
         "90003",
         "USA",
         "NA",
         "Young",
         "Julie",
         "Medium"
        ],
        [
         10159,
         49,
         100.0,
         14,
         5205.27,
         "10-10-2003 00:00",
         "Shipped",
         4,
         10,
         2003,
         "Motorcycles",
         95,
         "S10_1678",
         "Corporate Gift Ideas Co.",
         "6505551386",
         "7734 Strong St.",
         null,
         "San Francisco",
         "CA",
         null,
         "USA",
         "NA",
         "Brown",
         "Julie",
         "Medium"
        ]
       ],
       "datasetInfos": [],
       "dbfsResultPath": null,
       "isJsonSchema": true,
       "metadata": {},
       "overflow": false,
       "plotOptions": {
        "customPlotOptions": {},
        "displayType": "table",
        "pivotAggregation": null,
        "pivotColumns": null,
        "xColumns": null,
        "yColumns": null
       },
       "removedWidgets": [],
       "schema": [
        {
         "metadata": "{}",
         "name": "ORDERNUMBER",
         "type": "\"integer\""
        },
        {
         "metadata": "{}",
         "name": "QUANTITYORDERED",
         "type": "\"integer\""
        },
        {
         "metadata": "{}",
         "name": "PRICEEACH",
         "type": "\"double\""
        },
        {
         "metadata": "{}",
         "name": "ORDERLINENUMBER",
         "type": "\"integer\""
        },
        {
         "metadata": "{}",
         "name": "SALES",
         "type": "\"double\""
        },
        {
         "metadata": "{}",
         "name": "ORDERDATE",
         "type": "\"string\""
        },
        {
         "metadata": "{}",
         "name": "STATUS",
         "type": "\"string\""
        },
        {
         "metadata": "{}",
         "name": "QTR_ID",
         "type": "\"integer\""
        },
        {
         "metadata": "{}",
         "name": "MONTH_ID",
         "type": "\"integer\""
        },
        {
         "metadata": "{}",
         "name": "YEAR_ID",
         "type": "\"integer\""
        },
        {
         "metadata": "{}",
         "name": "PRODUCTLINE",
         "type": "\"string\""
        },
        {
         "metadata": "{}",
         "name": "MSRP",
         "type": "\"integer\""
        },
        {
         "metadata": "{}",
         "name": "PRODUCTCODE",
         "type": "\"string\""
        },
        {
         "metadata": "{}",
         "name": "CUSTOMERNAME",
         "type": "\"string\""
        },
        {
         "metadata": "{}",
         "name": "PHONE",
         "type": "\"string\""
        },
        {
         "metadata": "{}",
         "name": "ADDRESSLINE1",
         "type": "\"string\""
        },
        {
         "metadata": "{}",
         "name": "ADDRESSLINE2",
         "type": "\"string\""
        },
        {
         "metadata": "{}",
         "name": "CITY",
         "type": "\"string\""
        },
        {
         "metadata": "{}",
         "name": "STATE",
         "type": "\"string\""
        },
        {
         "metadata": "{}",
         "name": "POSTALCODE",
         "type": "\"string\""
        },
        {
         "metadata": "{}",
         "name": "COUNTRY",
         "type": "\"string\""
        },
        {
         "metadata": "{}",
         "name": "TERRITORY",
         "type": "\"string\""
        },
        {
         "metadata": "{}",
         "name": "CONTACTLASTNAME",
         "type": "\"string\""
        },
        {
         "metadata": "{}",
         "name": "CONTACTFIRSTNAME",
         "type": "\"string\""
        },
        {
         "metadata": "{}",
         "name": "DEALSIZE",
         "type": "\"string\""
        }
       ],
       "type": "table"
      }
     },
     "output_type": "display_data"
    }
   ],
   "source": [
    "# filtering sales data >1000\n",
    "df1_filtered=df1.filter((df1.SALES>1000))\n",
    "display(df1_filtered)"
   ]
  },
  {
   "cell_type": "code",
   "execution_count": 0,
   "metadata": {
    "application/vnd.databricks.v1+cell": {
     "cellMetadata": {
      "byteLimit": 2048000,
      "rowLimit": 10000
     },
     "inputWidgets": {},
     "nuid": "02edb5a2-c56c-4c2c-94c7-68f8b1586804",
     "showTitle": false,
     "tableResultSettingsMap": {},
     "title": ""
    }
   },
   "outputs": [
    {
     "output_type": "display_data",
     "data": {
      "text/html": [
       "<style scoped>\n",
       "  .table-result-container {\n",
       "    max-height: 300px;\n",
       "    overflow: auto;\n",
       "  }\n",
       "  table, th, td {\n",
       "    border: 1px solid black;\n",
       "    border-collapse: collapse;\n",
       "  }\n",
       "  th, td {\n",
       "    padding: 5px;\n",
       "  }\n",
       "  th {\n",
       "    text-align: left;\n",
       "  }\n",
       "</style><div class='table-result-container'><table class='table-result'><thead style='background-color: white'><tr><th>ORDERNUMBER</th><th>QUANTITYORDERED</th><th>PRICEEACH</th><th>ORDERDATE</th><th>CUSTOMERNAME</th><th>PHONE</th></tr></thead><tbody><tr><td>10107</td><td>30</td><td>95.7</td><td>2/24/2003 0:00</td><td>Land of Toys Inc.</td><td>2125557818</td></tr><tr><td>10121</td><td>34</td><td>81.35</td><td>05-07-2003 00:00</td><td>Reims Collectables</td><td>26.47.1555</td></tr><tr><td>10134</td><td>41</td><td>94.74</td><td>07-01-2003 00:00</td><td>Lyon Souveniers</td><td>+33 1 46 62 7555</td></tr><tr><td>10145</td><td>45</td><td>83.26</td><td>8/25/2003 0:00</td><td>Toys4GrownUps.com</td><td>6265557265</td></tr><tr><td>10159</td><td>49</td><td>100.0</td><td>10-10-2003 00:00</td><td>Corporate Gift Ideas Co.</td><td>6505551386</td></tr></tbody></table></div>"
      ]
     },
     "metadata": {
      "application/vnd.databricks.v1+output": {
       "addedWidgets": {},
       "aggData": [],
       "aggError": "",
       "aggOverflow": false,
       "aggSchema": [],
       "aggSeriesLimitReached": false,
       "aggType": "",
       "arguments": {},
       "columnCustomDisplayInfos": {},
       "data": [
        [
         10107,
         30,
         95.7,
         "2/24/2003 0:00",
         "Land of Toys Inc.",
         "2125557818"
        ],
        [
         10121,
         34,
         81.35,
         "05-07-2003 00:00",
         "Reims Collectables",
         "26.47.1555"
        ],
        [
         10134,
         41,
         94.74,
         "07-01-2003 00:00",
         "Lyon Souveniers",
         "+33 1 46 62 7555"
        ],
        [
         10145,
         45,
         83.26,
         "8/25/2003 0:00",
         "Toys4GrownUps.com",
         "6265557265"
        ],
        [
         10159,
         49,
         100.0,
         "10-10-2003 00:00",
         "Corporate Gift Ideas Co.",
         "6505551386"
        ]
       ],
       "datasetInfos": [],
       "dbfsResultPath": null,
       "isJsonSchema": true,
       "metadata": {},
       "overflow": false,
       "plotOptions": {
        "customPlotOptions": {},
        "displayType": "table",
        "pivotAggregation": null,
        "pivotColumns": null,
        "xColumns": null,
        "yColumns": null
       },
       "removedWidgets": [],
       "schema": [
        {
         "metadata": "{}",
         "name": "ORDERNUMBER",
         "type": "\"integer\""
        },
        {
         "metadata": "{}",
         "name": "QUANTITYORDERED",
         "type": "\"integer\""
        },
        {
         "metadata": "{}",
         "name": "PRICEEACH",
         "type": "\"double\""
        },
        {
         "metadata": "{}",
         "name": "ORDERDATE",
         "type": "\"string\""
        },
        {
         "metadata": "{}",
         "name": "CUSTOMERNAME",
         "type": "\"string\""
        },
        {
         "metadata": "{}",
         "name": "PHONE",
         "type": "\"string\""
        }
       ],
       "type": "table"
      }
     },
     "output_type": "display_data"
    }
   ],
   "source": [
    "# selecting relevant data\n",
    "df_selected=df1_filtered.select(\"ORDERNUMBER\",\"QUANTITYORDERED\",\"PRICEEACH\",\"ORDERDATE\",\"CUSTOMERNAME\",\"PHONE\")\n",
    "display(df_selected)"
   ]
  },
  {
   "cell_type": "code",
   "execution_count": 0,
   "metadata": {
    "application/vnd.databricks.v1+cell": {
     "cellMetadata": {
      "byteLimit": 2048000,
      "rowLimit": 10000
     },
     "inputWidgets": {},
     "nuid": "8faee7e6-8559-46a6-9178-cde931ac7c14",
     "showTitle": false,
     "tableResultSettingsMap": {},
     "title": ""
    }
   },
   "outputs": [
    {
     "output_type": "display_data",
     "data": {
      "text/html": [
       "<style scoped>\n",
       "  .table-result-container {\n",
       "    max-height: 300px;\n",
       "    overflow: auto;\n",
       "  }\n",
       "  table, th, td {\n",
       "    border: 1px solid black;\n",
       "    border-collapse: collapse;\n",
       "  }\n",
       "  th, td {\n",
       "    padding: 5px;\n",
       "  }\n",
       "  th {\n",
       "    text-align: left;\n",
       "  }\n",
       "</style><div class='table-result-container'><table class='table-result'><thead style='background-color: white'><tr><th>ORDERNUMBER</th><th>QUANTITYORDERED</th><th>PRICEEACH</th><th>ORDERDATE</th><th>CUSTOMERNAME</th><th>PHONE</th></tr></thead><tbody><tr><td>10107</td><td>30</td><td>95.7</td><td>2/24/2003 0:00</td><td>Land of Toys Inc.</td><td>2125557818</td></tr><tr><td>10121</td><td>34</td><td>81.35</td><td>05-07-2003 00:00</td><td>Reims Collectables</td><td>26.47.1555</td></tr><tr><td>10134</td><td>41</td><td>94.74</td><td>07-01-2003 00:00</td><td>Lyon Souveniers</td><td>+33 1 46 62 7555</td></tr><tr><td>10145</td><td>45</td><td>83.26</td><td>8/25/2003 0:00</td><td>Toys4GrownUps.com</td><td>6265557265</td></tr><tr><td>10159</td><td>49</td><td>100.0</td><td>10-10-2003 00:00</td><td>Corporate Gift Ideas Co.</td><td>6505551386</td></tr><tr><td>10107</td><td>30</td><td>95.7</td><td>2/24/2003 0:00</td><td>Land of Toys Inc.</td><td>2125557818</td></tr><tr><td>10121</td><td>34</td><td>81.35</td><td>05-07-2003 00:00</td><td>Reims Collectables</td><td>26.47.1555</td></tr><tr><td>10134</td><td>41</td><td>94.74</td><td>07-01-2003 00:00</td><td>Lyon Souveniers</td><td>+33 1 46 62 7555</td></tr><tr><td>10145</td><td>45</td><td>83.26</td><td>8/25/2003 0:00</td><td>Toys4GrownUps.com</td><td>6265557265</td></tr><tr><td>10159</td><td>49</td><td>100.0</td><td>10-10-2003 00:00</td><td>Corporate Gift Ideas Co.</td><td>6505551386</td></tr><tr><td>10107</td><td>30</td><td>95.7</td><td>2/24/2003 0:00</td><td>Land of Toys Inc.</td><td>2125557818</td></tr><tr><td>10121</td><td>34</td><td>81.35</td><td>05-07-2003 00:00</td><td>Reims Collectables</td><td>26.47.1555</td></tr><tr><td>10134</td><td>41</td><td>94.74</td><td>07-01-2003 00:00</td><td>Lyon Souveniers</td><td>+33 1 46 62 7555</td></tr><tr><td>10145</td><td>45</td><td>83.26</td><td>8/25/2003 0:00</td><td>Toys4GrownUps.com</td><td>6265557265</td></tr><tr><td>10159</td><td>49</td><td>100.0</td><td>10-10-2003 00:00</td><td>Corporate Gift Ideas Co.</td><td>6505551386</td></tr><tr><td>10107</td><td>30</td><td>95.7</td><td>2/24/2003 0:00</td><td>Land of Toys Inc.</td><td>2125557818</td></tr><tr><td>10121</td><td>34</td><td>81.35</td><td>05-07-2003 00:00</td><td>Reims Collectables</td><td>26.47.1555</td></tr><tr><td>10134</td><td>41</td><td>94.74</td><td>07-01-2003 00:00</td><td>Lyon Souveniers</td><td>+33 1 46 62 7555</td></tr><tr><td>10145</td><td>45</td><td>83.26</td><td>8/25/2003 0:00</td><td>Toys4GrownUps.com</td><td>6265557265</td></tr><tr><td>10159</td><td>49</td><td>100.0</td><td>10-10-2003 00:00</td><td>Corporate Gift Ideas Co.</td><td>6505551386</td></tr><tr><td>10107</td><td>30</td><td>95.7</td><td>2/24/2003 0:00</td><td>Land of Toys Inc.</td><td>2125557818</td></tr><tr><td>10121</td><td>34</td><td>81.35</td><td>05-07-2003 00:00</td><td>Reims Collectables</td><td>26.47.1555</td></tr><tr><td>10134</td><td>41</td><td>94.74</td><td>07-01-2003 00:00</td><td>Lyon Souveniers</td><td>+33 1 46 62 7555</td></tr><tr><td>10145</td><td>45</td><td>83.26</td><td>8/25/2003 0:00</td><td>Toys4GrownUps.com</td><td>6265557265</td></tr><tr><td>10159</td><td>49</td><td>100.0</td><td>10-10-2003 00:00</td><td>Corporate Gift Ideas Co.</td><td>6505551386</td></tr></tbody></table></div>"
      ]
     },
     "metadata": {
      "application/vnd.databricks.v1+output": {
       "addedWidgets": {},
       "aggData": [],
       "aggError": "",
       "aggOverflow": false,
       "aggSchema": [],
       "aggSeriesLimitReached": false,
       "aggType": "",
       "arguments": {},
       "columnCustomDisplayInfos": {},
       "data": [
        [
         10107,
         30,
         95.7,
         "2/24/2003 0:00",
         "Land of Toys Inc.",
         "2125557818"
        ],
        [
         10121,
         34,
         81.35,
         "05-07-2003 00:00",
         "Reims Collectables",
         "26.47.1555"
        ],
        [
         10134,
         41,
         94.74,
         "07-01-2003 00:00",
         "Lyon Souveniers",
         "+33 1 46 62 7555"
        ],
        [
         10145,
         45,
         83.26,
         "8/25/2003 0:00",
         "Toys4GrownUps.com",
         "6265557265"
        ],
        [
         10159,
         49,
         100.0,
         "10-10-2003 00:00",
         "Corporate Gift Ideas Co.",
         "6505551386"
        ],
        [
         10107,
         30,
         95.7,
         "2/24/2003 0:00",
         "Land of Toys Inc.",
         "2125557818"
        ],
        [
         10121,
         34,
         81.35,
         "05-07-2003 00:00",
         "Reims Collectables",
         "26.47.1555"
        ],
        [
         10134,
         41,
         94.74,
         "07-01-2003 00:00",
         "Lyon Souveniers",
         "+33 1 46 62 7555"
        ],
        [
         10145,
         45,
         83.26,
         "8/25/2003 0:00",
         "Toys4GrownUps.com",
         "6265557265"
        ],
        [
         10159,
         49,
         100.0,
         "10-10-2003 00:00",
         "Corporate Gift Ideas Co.",
         "6505551386"
        ],
        [
         10107,
         30,
         95.7,
         "2/24/2003 0:00",
         "Land of Toys Inc.",
         "2125557818"
        ],
        [
         10121,
         34,
         81.35,
         "05-07-2003 00:00",
         "Reims Collectables",
         "26.47.1555"
        ],
        [
         10134,
         41,
         94.74,
         "07-01-2003 00:00",
         "Lyon Souveniers",
         "+33 1 46 62 7555"
        ],
        [
         10145,
         45,
         83.26,
         "8/25/2003 0:00",
         "Toys4GrownUps.com",
         "6265557265"
        ],
        [
         10159,
         49,
         100.0,
         "10-10-2003 00:00",
         "Corporate Gift Ideas Co.",
         "6505551386"
        ],
        [
         10107,
         30,
         95.7,
         "2/24/2003 0:00",
         "Land of Toys Inc.",
         "2125557818"
        ],
        [
         10121,
         34,
         81.35,
         "05-07-2003 00:00",
         "Reims Collectables",
         "26.47.1555"
        ],
        [
         10134,
         41,
         94.74,
         "07-01-2003 00:00",
         "Lyon Souveniers",
         "+33 1 46 62 7555"
        ],
        [
         10145,
         45,
         83.26,
         "8/25/2003 0:00",
         "Toys4GrownUps.com",
         "6265557265"
        ],
        [
         10159,
         49,
         100.0,
         "10-10-2003 00:00",
         "Corporate Gift Ideas Co.",
         "6505551386"
        ],
        [
         10107,
         30,
         95.7,
         "2/24/2003 0:00",
         "Land of Toys Inc.",
         "2125557818"
        ],
        [
         10121,
         34,
         81.35,
         "05-07-2003 00:00",
         "Reims Collectables",
         "26.47.1555"
        ],
        [
         10134,
         41,
         94.74,
         "07-01-2003 00:00",
         "Lyon Souveniers",
         "+33 1 46 62 7555"
        ],
        [
         10145,
         45,
         83.26,
         "8/25/2003 0:00",
         "Toys4GrownUps.com",
         "6265557265"
        ],
        [
         10159,
         49,
         100.0,
         "10-10-2003 00:00",
         "Corporate Gift Ideas Co.",
         "6505551386"
        ]
       ],
       "datasetInfos": [],
       "dbfsResultPath": null,
       "isJsonSchema": true,
       "metadata": {},
       "overflow": false,
       "plotOptions": {
        "customPlotOptions": {},
        "displayType": "table",
        "pivotAggregation": null,
        "pivotColumns": null,
        "xColumns": null,
        "yColumns": null
       },
       "removedWidgets": [],
       "schema": [
        {
         "metadata": "{}",
         "name": "ORDERNUMBER",
         "type": "\"integer\""
        },
        {
         "metadata": "{}",
         "name": "QUANTITYORDERED",
         "type": "\"integer\""
        },
        {
         "metadata": "{}",
         "name": "PRICEEACH",
         "type": "\"double\""
        },
        {
         "metadata": "{}",
         "name": "ORDERDATE",
         "type": "\"string\""
        },
        {
         "metadata": "{}",
         "name": "CUSTOMERNAME",
         "type": "\"string\""
        },
        {
         "metadata": "{}",
         "name": "PHONE",
         "type": "\"string\""
        }
       ],
       "type": "table"
      }
     },
     "output_type": "display_data"
    }
   ],
   "source": [
    "# delta table\n",
    "df_selected.write.format(\"delta\").mode(\"append\").saveAsTable(\n",
    "    \"skit_training.agg_sales_data\"\n",
    ")\n",
    "display(spark.sql(\"select * from skit_training.agg_sales_data\"))"
   ]
  },
  {
   "cell_type": "code",
   "execution_count": 0,
   "metadata": {
    "application/vnd.databricks.v1+cell": {
     "cellMetadata": {
      "byteLimit": 2048000,
      "rowLimit": 10000
     },
     "inputWidgets": {},
     "nuid": "c83a1c70-2ff1-4510-be44-db03334a7e29",
     "showTitle": false,
     "tableResultSettingsMap": {},
     "title": ""
    }
   },
   "outputs": [
    {
     "output_type": "display_data",
     "data": {
      "text/html": [
       "<style scoped>\n",
       "  .table-result-container {\n",
       "    max-height: 300px;\n",
       "    overflow: auto;\n",
       "  }\n",
       "  table, th, td {\n",
       "    border: 1px solid black;\n",
       "    border-collapse: collapse;\n",
       "  }\n",
       "  th, td {\n",
       "    padding: 5px;\n",
       "  }\n",
       "  th {\n",
       "    text-align: left;\n",
       "  }\n",
       "</style><div class='table-result-container'><table class='table-result'><thead style='background-color: white'><tr><th>version</th><th>timestamp</th><th>userId</th><th>userName</th><th>operation</th><th>operationParameters</th><th>job</th><th>notebook</th><th>clusterId</th><th>readVersion</th><th>isolationLevel</th><th>isBlindAppend</th><th>operationMetrics</th><th>userMetadata</th><th>engineInfo</th></tr></thead><tbody><tr><td>4</td><td>2025-07-14T16:35:36.000Z</td><td>73982676075452</td><td>aarohi03mathur@gmail.com</td><td>WRITE</td><td>Map(mode -> Append, statsOnLoad -> true, partitionBy -> [])</td><td>null</td><td>null</td><td>0714-162333-v0ewdp0c-v2n</td><td>3</td><td>WriteSerializable</td><td>true</td><td>Map(numFiles -> 1, numOutputRows -> 5, numOutputBytes -> 2099)</td><td>null</td><td>Databricks-Runtime/16.4.x-aarch64-photon-scala2.12</td></tr><tr><td>3</td><td>2025-07-14T15:28:50.000Z</td><td>73982676075452</td><td>aarohi03mathur@gmail.com</td><td>WRITE</td><td>Map(mode -> Append, statsOnLoad -> true, partitionBy -> [])</td><td>null</td><td>null</td><td>0714-150523-tca7uqn8-v2n</td><td>2</td><td>WriteSerializable</td><td>true</td><td>Map(numFiles -> 1, numOutputRows -> 5, numOutputBytes -> 2099)</td><td>null</td><td>Databricks-Runtime/16.4.x-aarch64-photon-scala2.12</td></tr><tr><td>2</td><td>2025-07-14T15:28:25.000Z</td><td>73982676075452</td><td>aarohi03mathur@gmail.com</td><td>WRITE</td><td>Map(mode -> Append, statsOnLoad -> true, partitionBy -> [])</td><td>null</td><td>null</td><td>0714-150523-tca7uqn8-v2n</td><td>1</td><td>WriteSerializable</td><td>true</td><td>Map(numFiles -> 1, numOutputRows -> 5, numOutputBytes -> 2099)</td><td>null</td><td>Databricks-Runtime/16.4.x-aarch64-photon-scala2.12</td></tr><tr><td>1</td><td>2025-07-14T15:27:34.000Z</td><td>73982676075452</td><td>aarohi03mathur@gmail.com</td><td>WRITE</td><td>Map(mode -> Append, statsOnLoad -> true, partitionBy -> [])</td><td>null</td><td>null</td><td>0714-150523-tca7uqn8-v2n</td><td>0</td><td>WriteSerializable</td><td>true</td><td>Map(numFiles -> 1, numOutputRows -> 5, numOutputBytes -> 2099)</td><td>null</td><td>Databricks-Runtime/16.4.x-aarch64-photon-scala2.12</td></tr><tr><td>0</td><td>2025-07-14T15:26:55.000Z</td><td>73982676075452</td><td>aarohi03mathur@gmail.com</td><td>CREATE OR REPLACE TABLE AS SELECT</td><td>Map(partitionBy -> [], clusterBy -> [], description -> null, isManaged -> true, properties -> {\"delta.enableDeletionVectors\":\"true\"}, statsOnLoad -> true)</td><td>null</td><td>null</td><td>0714-150523-tca7uqn8-v2n</td><td>null</td><td>WriteSerializable</td><td>false</td><td>Map(numFiles -> 1, numRemovedFiles -> 0, numRemovedBytes -> 0, numOutputRows -> 5, numOutputBytes -> 2099)</td><td>null</td><td>Databricks-Runtime/16.4.x-aarch64-photon-scala2.12</td></tr></tbody></table></div>"
      ]
     },
     "metadata": {
      "application/vnd.databricks.v1+output": {
       "addedWidgets": {},
       "aggData": [],
       "aggError": "",
       "aggOverflow": false,
       "aggSchema": [],
       "aggSeriesLimitReached": false,
       "aggType": "",
       "arguments": {},
       "columnCustomDisplayInfos": {},
       "data": [
        [
         4,
         "2025-07-14T16:35:36.000Z",
         "73982676075452",
         "aarohi03mathur@gmail.com",
         "WRITE",
         {
          "mode": "Append",
          "partitionBy": "[]",
          "statsOnLoad": "true"
         },
         null,
         null,
         "0714-162333-v0ewdp0c-v2n",
         3,
         "WriteSerializable",
         true,
         {
          "numFiles": "1",
          "numOutputBytes": "2099",
          "numOutputRows": "5"
         },
         null,
         "Databricks-Runtime/16.4.x-aarch64-photon-scala2.12"
        ],
        [
         3,
         "2025-07-14T15:28:50.000Z",
         "73982676075452",
         "aarohi03mathur@gmail.com",
         "WRITE",
         {
          "mode": "Append",
          "partitionBy": "[]",
          "statsOnLoad": "true"
         },
         null,
         null,
         "0714-150523-tca7uqn8-v2n",
         2,
         "WriteSerializable",
         true,
         {
          "numFiles": "1",
          "numOutputBytes": "2099",
          "numOutputRows": "5"
         },
         null,
         "Databricks-Runtime/16.4.x-aarch64-photon-scala2.12"
        ],
        [
         2,
         "2025-07-14T15:28:25.000Z",
         "73982676075452",
         "aarohi03mathur@gmail.com",
         "WRITE",
         {
          "mode": "Append",
          "partitionBy": "[]",
          "statsOnLoad": "true"
         },
         null,
         null,
         "0714-150523-tca7uqn8-v2n",
         1,
         "WriteSerializable",
         true,
         {
          "numFiles": "1",
          "numOutputBytes": "2099",
          "numOutputRows": "5"
         },
         null,
         "Databricks-Runtime/16.4.x-aarch64-photon-scala2.12"
        ],
        [
         1,
         "2025-07-14T15:27:34.000Z",
         "73982676075452",
         "aarohi03mathur@gmail.com",
         "WRITE",
         {
          "mode": "Append",
          "partitionBy": "[]",
          "statsOnLoad": "true"
         },
         null,
         null,
         "0714-150523-tca7uqn8-v2n",
         0,
         "WriteSerializable",
         true,
         {
          "numFiles": "1",
          "numOutputBytes": "2099",
          "numOutputRows": "5"
         },
         null,
         "Databricks-Runtime/16.4.x-aarch64-photon-scala2.12"
        ],
        [
         0,
         "2025-07-14T15:26:55.000Z",
         "73982676075452",
         "aarohi03mathur@gmail.com",
         "CREATE OR REPLACE TABLE AS SELECT",
         {
          "clusterBy": "[]",
          "description": null,
          "isManaged": "true",
          "partitionBy": "[]",
          "properties": "{\"delta.enableDeletionVectors\":\"true\"}",
          "statsOnLoad": "true"
         },
         null,
         null,
         "0714-150523-tca7uqn8-v2n",
         null,
         "WriteSerializable",
         false,
         {
          "numFiles": "1",
          "numOutputBytes": "2099",
          "numOutputRows": "5",
          "numRemovedBytes": "0",
          "numRemovedFiles": "0"
         },
         null,
         "Databricks-Runtime/16.4.x-aarch64-photon-scala2.12"
        ]
       ],
       "datasetInfos": [],
       "dbfsResultPath": null,
       "isJsonSchema": true,
       "metadata": {},
       "overflow": false,
       "plotOptions": {
        "customPlotOptions": {},
        "displayType": "table",
        "pivotAggregation": null,
        "pivotColumns": null,
        "xColumns": null,
        "yColumns": null
       },
       "removedWidgets": [],
       "schema": [
        {
         "metadata": "{}",
         "name": "version",
         "type": "\"long\""
        },
        {
         "metadata": "{}",
         "name": "timestamp",
         "type": "\"timestamp\""
        },
        {
         "metadata": "{}",
         "name": "userId",
         "type": "\"string\""
        },
        {
         "metadata": "{}",
         "name": "userName",
         "type": "\"string\""
        },
        {
         "metadata": "{}",
         "name": "operation",
         "type": "\"string\""
        },
        {
         "metadata": "{}",
         "name": "operationParameters",
         "type": "{\"keyType\":\"string\",\"type\":\"map\",\"valueContainsNull\":true,\"valueType\":\"string\"}"
        },
        {
         "metadata": "{}",
         "name": "job",
         "type": "{\"fields\":[{\"metadata\":{},\"name\":\"jobId\",\"nullable\":true,\"type\":\"string\"},{\"metadata\":{},\"name\":\"jobName\",\"nullable\":true,\"type\":\"string\"},{\"metadata\":{},\"name\":\"jobRunId\",\"nullable\":true,\"type\":\"string\"},{\"metadata\":{},\"name\":\"runId\",\"nullable\":true,\"type\":\"string\"},{\"metadata\":{},\"name\":\"jobOwnerId\",\"nullable\":true,\"type\":\"string\"},{\"metadata\":{},\"name\":\"triggerType\",\"nullable\":true,\"type\":\"string\"}],\"type\":\"struct\"}"
        },
        {
         "metadata": "{}",
         "name": "notebook",
         "type": "{\"fields\":[{\"metadata\":{},\"name\":\"notebookId\",\"nullable\":true,\"type\":\"string\"}],\"type\":\"struct\"}"
        },
        {
         "metadata": "{}",
         "name": "clusterId",
         "type": "\"string\""
        },
        {
         "metadata": "{}",
         "name": "readVersion",
         "type": "\"long\""
        },
        {
         "metadata": "{}",
         "name": "isolationLevel",
         "type": "\"string\""
        },
        {
         "metadata": "{}",
         "name": "isBlindAppend",
         "type": "\"boolean\""
        },
        {
         "metadata": "{}",
         "name": "operationMetrics",
         "type": "{\"keyType\":\"string\",\"type\":\"map\",\"valueContainsNull\":true,\"valueType\":\"string\"}"
        },
        {
         "metadata": "{}",
         "name": "userMetadata",
         "type": "\"string\""
        },
        {
         "metadata": "{}",
         "name": "engineInfo",
         "type": "\"string\""
        }
       ],
       "type": "table"
      }
     },
     "output_type": "display_data"
    }
   ],
   "source": [
    "# version control\n",
    "df_history=spark.sql(\"DESCRIBE HISTORY skit_training.agg_sales_data\")\n",
    "display(df_history)"
   ]
  },
  {
   "cell_type": "code",
   "execution_count": 0,
   "metadata": {
    "application/vnd.databricks.v1+cell": {
     "cellMetadata": {
      "byteLimit": 2048000,
      "implicitDf": true,
      "rowLimit": 10000
     },
     "inputWidgets": {},
     "nuid": "e4df237b-286c-41ad-971f-522efeb0a315",
     "showTitle": false,
     "tableResultSettingsMap": {},
     "title": ""
    }
   },
   "outputs": [],
   "source": [
    "%sql\n",
    "select * from skit_training.agg_sales_data version as of 2"
   ]
  },
  {
   "cell_type": "code",
   "execution_count": 0,
   "metadata": {
    "application/vnd.databricks.v1+cell": {
     "cellMetadata": {
      "byteLimit": 2048000,
      "rowLimit": 10000
     },
     "inputWidgets": {},
     "nuid": "aa181c35-4a8c-4ca6-b609-9239af9e57d0",
     "showTitle": false,
     "tableResultSettingsMap": {},
     "title": ""
    }
   },
   "outputs": [
    {
     "output_type": "display_data",
     "data": {
      "text/html": [
       "<style scoped>\n",
       "  .table-result-container {\n",
       "    max-height: 300px;\n",
       "    overflow: auto;\n",
       "  }\n",
       "  table, th, td {\n",
       "    border: 1px solid black;\n",
       "    border-collapse: collapse;\n",
       "  }\n",
       "  th, td {\n",
       "    padding: 5px;\n",
       "  }\n",
       "  th {\n",
       "    text-align: left;\n",
       "  }\n",
       "</style><div class='table-result-container'><table class='table-result'><thead style='background-color: white'><tr><th>ORDERNUMBER</th><th>QUANTITYORDERED</th><th>PRICEEACH</th><th>ORDERDATE</th><th>CUSTOMERNAME</th><th>PHONE</th></tr></thead><tbody><tr><td>10107</td><td>30</td><td>95.7</td><td>2/24/2003 0:00</td><td>Land of Toys Inc.</td><td>2125557818</td></tr><tr><td>10121</td><td>34</td><td>81.35</td><td>05-07-2003 00:00</td><td>Reims Collectables</td><td>26.47.1555</td></tr><tr><td>10134</td><td>41</td><td>94.74</td><td>07-01-2003 00:00</td><td>Lyon Souveniers</td><td>+33 1 46 62 7555</td></tr><tr><td>10145</td><td>45</td><td>83.26</td><td>8/25/2003 0:00</td><td>Toys4GrownUps.com</td><td>6265557265</td></tr><tr><td>10159</td><td>49</td><td>100.0</td><td>10-10-2003 00:00</td><td>Corporate Gift Ideas Co.</td><td>6505551386</td></tr><tr><td>10107</td><td>30</td><td>95.7</td><td>2/24/2003 0:00</td><td>Land of Toys Inc.</td><td>2125557818</td></tr><tr><td>10121</td><td>34</td><td>81.35</td><td>05-07-2003 00:00</td><td>Reims Collectables</td><td>26.47.1555</td></tr><tr><td>10134</td><td>41</td><td>94.74</td><td>07-01-2003 00:00</td><td>Lyon Souveniers</td><td>+33 1 46 62 7555</td></tr><tr><td>10145</td><td>45</td><td>83.26</td><td>8/25/2003 0:00</td><td>Toys4GrownUps.com</td><td>6265557265</td></tr><tr><td>10159</td><td>49</td><td>100.0</td><td>10-10-2003 00:00</td><td>Corporate Gift Ideas Co.</td><td>6505551386</td></tr><tr><td>10107</td><td>30</td><td>95.7</td><td>2/24/2003 0:00</td><td>Land of Toys Inc.</td><td>2125557818</td></tr><tr><td>10121</td><td>34</td><td>81.35</td><td>05-07-2003 00:00</td><td>Reims Collectables</td><td>26.47.1555</td></tr><tr><td>10134</td><td>41</td><td>94.74</td><td>07-01-2003 00:00</td><td>Lyon Souveniers</td><td>+33 1 46 62 7555</td></tr><tr><td>10145</td><td>45</td><td>83.26</td><td>8/25/2003 0:00</td><td>Toys4GrownUps.com</td><td>6265557265</td></tr><tr><td>10159</td><td>49</td><td>100.0</td><td>10-10-2003 00:00</td><td>Corporate Gift Ideas Co.</td><td>6505551386</td></tr></tbody></table></div>"
      ]
     },
     "metadata": {
      "application/vnd.databricks.v1+output": {
       "addedWidgets": {},
       "aggData": [],
       "aggError": "",
       "aggOverflow": false,
       "aggSchema": [],
       "aggSeriesLimitReached": false,
       "aggType": "",
       "arguments": {},
       "columnCustomDisplayInfos": {},
       "data": [
        [
         10107,
         30,
         95.7,
         "2/24/2003 0:00",
         "Land of Toys Inc.",
         "2125557818"
        ],
        [
         10121,
         34,
         81.35,
         "05-07-2003 00:00",
         "Reims Collectables",
         "26.47.1555"
        ],
        [
         10134,
         41,
         94.74,
         "07-01-2003 00:00",
         "Lyon Souveniers",
         "+33 1 46 62 7555"
        ],
        [
         10145,
         45,
         83.26,
         "8/25/2003 0:00",
         "Toys4GrownUps.com",
         "6265557265"
        ],
        [
         10159,
         49,
         100.0,
         "10-10-2003 00:00",
         "Corporate Gift Ideas Co.",
         "6505551386"
        ],
        [
         10107,
         30,
         95.7,
         "2/24/2003 0:00",
         "Land of Toys Inc.",
         "2125557818"
        ],
        [
         10121,
         34,
         81.35,
         "05-07-2003 00:00",
         "Reims Collectables",
         "26.47.1555"
        ],
        [
         10134,
         41,
         94.74,
         "07-01-2003 00:00",
         "Lyon Souveniers",
         "+33 1 46 62 7555"
        ],
        [
         10145,
         45,
         83.26,
         "8/25/2003 0:00",
         "Toys4GrownUps.com",
         "6265557265"
        ],
        [
         10159,
         49,
         100.0,
         "10-10-2003 00:00",
         "Corporate Gift Ideas Co.",
         "6505551386"
        ],
        [
         10107,
         30,
         95.7,
         "2/24/2003 0:00",
         "Land of Toys Inc.",
         "2125557818"
        ],
        [
         10121,
         34,
         81.35,
         "05-07-2003 00:00",
         "Reims Collectables",
         "26.47.1555"
        ],
        [
         10134,
         41,
         94.74,
         "07-01-2003 00:00",
         "Lyon Souveniers",
         "+33 1 46 62 7555"
        ],
        [
         10145,
         45,
         83.26,
         "8/25/2003 0:00",
         "Toys4GrownUps.com",
         "6265557265"
        ],
        [
         10159,
         49,
         100.0,
         "10-10-2003 00:00",
         "Corporate Gift Ideas Co.",
         "6505551386"
        ]
       ],
       "datasetInfos": [],
       "dbfsResultPath": null,
       "isJsonSchema": true,
       "metadata": {},
       "overflow": false,
       "plotOptions": {
        "customPlotOptions": {},
        "displayType": "table",
        "pivotAggregation": null,
        "pivotColumns": null,
        "xColumns": null,
        "yColumns": null
       },
       "removedWidgets": [],
       "schema": [
        {
         "metadata": "{}",
         "name": "ORDERNUMBER",
         "type": "\"integer\""
        },
        {
         "metadata": "{}",
         "name": "QUANTITYORDERED",
         "type": "\"integer\""
        },
        {
         "metadata": "{}",
         "name": "PRICEEACH",
         "type": "\"double\""
        },
        {
         "metadata": "{}",
         "name": "ORDERDATE",
         "type": "\"string\""
        },
        {
         "metadata": "{}",
         "name": "CUSTOMERNAME",
         "type": "\"string\""
        },
        {
         "metadata": "{}",
         "name": "PHONE",
         "type": "\"string\""
        }
       ],
       "type": "table"
      }
     },
     "output_type": "display_data"
    }
   ],
   "source": [
    "# fetching data from specific version\n",
    "version_number=2\n",
    "df_specific_version = spark.read.format('delta').option('versionAsOf', version_number).table(\"skit_training.agg_sales_data\")\n",
    "display(df_specific_version)"
   ]
  },
  {
   "cell_type": "code",
   "execution_count": 0,
   "metadata": {
    "application/vnd.databricks.v1+cell": {
     "cellMetadata": {
      "byteLimit": 2048000,
      "rowLimit": 10000
     },
     "inputWidgets": {},
     "nuid": "ce03da3e-50e5-431e-b06f-17d3a93b0901",
     "showTitle": false,
     "tableResultSettingsMap": {},
     "title": ""
    }
   },
   "outputs": [],
   "source": [
    "# filter and transformation\n",
    "df_transformed = df.filter(df.QUANTITYORDERED > 40) \\\n",
    "    .select(\n",
    "        \"ORDERNUMBER\",\n",
    "        \"QUANTITYORDERED\",\n",
    "        \"PRICEEACH\",\n",
    "        \"ORDERDATE\",\n",
    "        \"CUSTOMERNAME\",\n",
    "        \"PHONE\"\n",
    "    )\n",
    "\n",
    "\n",
    "# Write as Delta, partitioned by CUSTOMERNAME\n",
    "df_transformed.write.format(\"delta\") \\\n",
    "    .mode(\"overwrite\") \\\n",
    "    .partitionBy(\"CUSTOMERNAME\") \\\n",
    "    .save(\"/Volumes/workspace/skit_training/aarohi_training/Large_orders\")\n"
   ]
  }
 ],
 "metadata": {
  "application/vnd.databricks.v1+notebook": {
   "computePreferences": null,
   "dashboards": [],
   "environmentMetadata": {
    "base_environment": "",
    "environment_version": "2"
   },
   "inputWidgetPreferences": null,
   "language": "python",
   "notebookMetadata": {
    "mostRecentlyExecutedCommandWithImplicitDF": {
     "commandId": 6133653670405351,
     "dataframes": [
      "_sqldf"
     ]
    },
    "pythonIndentUnit": 4
   },
   "notebookName": "A22",
   "widgets": {}
  },
  "language_info": {
   "name": "python"
  }
 },
 "nbformat": 4,
 "nbformat_minor": 0
}