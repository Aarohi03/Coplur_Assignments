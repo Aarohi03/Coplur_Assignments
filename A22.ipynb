{
 "cells": [
  {
   "cell_type": "code",
   "execution_count": 0,
   "metadata": {
    "application/vnd.databricks.v1+cell": {
     "cellMetadata": {
      "byteLimit": 2048000,
      "rowLimit": 10000
     },
     "inputWidgets": {},
     "nuid": "a6a51795-2436-4be8-8bf6-c8bd4a156244",
     "showTitle": false,
     "tableResultSettingsMap": {},
     "title": ""
    }
   },
   "outputs": [
    {
     "output_type": "execute_result",
     "data": {
      "text/plain": [
       "[FileInfo(path='dbfs:/Volumes/workspace/skit_training/aarohi_training/Sales.csv', name='Sales.csv', size=533934, modificationTime=1752505351000)]"
      ]
     },
     "execution_count": 11,
     "metadata": {},
     "output_type": "execute_result"
    }
   ],
   "source": [
    "dbutils.fs.ls(\"dbfs:/Volumes/workspace/skit_training/aarohi_training/Sales.csv\")"
   ]
  },
  {
   "cell_type": "code",
   "execution_count": 0,
   "metadata": {
    "application/vnd.databricks.v1+cell": {
     "cellMetadata": {
      "byteLimit": 2048000,
      "rowLimit": 10000
     },
     "inputWidgets": {},
     "nuid": "b62cb136-8c08-43f3-a877-059b59121a57",
     "showTitle": false,
     "tableResultSettingsMap": {},
     "title": ""
    }
   },
   "outputs": [
    {
     "output_type": "stream",
     "name": "stdout",
     "output_type": "stream",
     "text": [
      "Requirement already satisfied: pandas in /databricks/python3/lib/python3.11/site-packages (1.5.3)\nRequirement already satisfied: python-dateutil>=2.8.1 in /databricks/python3/lib/python3.11/site-packages (from pandas) (2.8.2)\nRequirement already satisfied: pytz>=2020.1 in /databricks/python3/lib/python3.11/site-packages (from pandas) (2022.7)\nRequirement already satisfied: numpy>=1.21.0 in /databricks/python3/lib/python3.11/site-packages (from pandas) (1.23.5)\nRequirement already satisfied: six>=1.5 in /usr/lib/python3/dist-packages (from python-dateutil>=2.8.1->pandas) (1.16.0)\n\u001B[43mNote: you may need to restart the kernel using %restart_python or dbutils.library.restartPython() to use updated packages.\u001B[0m\n"
     ]
    }
   ],
   "source": [
    "%pip install pandas\n",
    "%restart_python"
   ]
  },
  {
   "cell_type": "code",
   "execution_count": 0,
   "metadata": {
    "application/vnd.databricks.v1+cell": {
     "cellMetadata": {
      "byteLimit": 2048000,
      "rowLimit": 10000
     },
     "inputWidgets": {},
     "nuid": "70ee6de4-6192-4a9c-be8d-5ac4f0a81819",
     "showTitle": false,
     "tableResultSettingsMap": {},
     "title": ""
    }
   },
   "outputs": [],
   "source": [
    "# reading the csv file\n",
    "df=spark.read.csv(\"/Volumes/workspace/skit_training/aarohi_training/Sales.csv\", header=True, inferSchema=True)"
   ]
  },
  {
   "cell_type": "code",
   "execution_count": 0,
   "metadata": {
    "application/vnd.databricks.v1+cell": {
     "cellMetadata": {
      "byteLimit": 2048000,
      "rowLimit": 10000
     },
     "inputWidgets": {},
     "nuid": "e942ec6c-8d98-4e4c-afda-a618c700aa03",
     "showTitle": false,
     "tableResultSettingsMap": {},
     "title": ""
    }
   },
   "outputs": [
    {
     "output_type": "display_data",
     "data": {
      "text/html": [
       "<style scoped>\n",
       "  .table-result-container {\n",
       "    max-height: 300px;\n",
       "    overflow: auto;\n",
       "  }\n",
       "  table, th, td {\n",
       "    border: 1px solid black;\n",
       "    border-collapse: collapse;\n",
       "  }\n",
       "  th, td {\n",
       "    padding: 5px;\n",
       "  }\n",
       "  th {\n",
       "    text-align: left;\n",
       "  }\n",
       "</style><div class='table-result-container'><table class='table-result'><thead style='background-color: white'><tr><th>ORDERNUMBER</th><th>QUANTITYORDERED</th><th>PRICEEACH</th><th>ORDERLINENUMBER</th><th>SALES</th><th>ORDERDATE</th><th>STATUS</th><th>QTR_ID</th><th>MONTH_ID</th><th>YEAR_ID</th><th>PRODUCTLINE</th><th>MSRP</th><th>PRODUCTCODE</th><th>CUSTOMERNAME</th><th>PHONE</th><th>ADDRESSLINE1</th><th>ADDRESSLINE2</th><th>CITY</th><th>STATE</th><th>POSTALCODE</th><th>COUNTRY</th><th>TERRITORY</th><th>CONTACTLASTNAME</th><th>CONTACTFIRSTNAME</th><th>DEALSIZE</th></tr></thead><tbody><tr><td>10107</td><td>30</td><td>95.7</td><td>2</td><td>2871.0</td><td>2/24/2003 0:00</td><td>Shipped</td><td>1</td><td>2</td><td>2003</td><td>Motorcycles</td><td>95</td><td>S10_1678</td><td>Land of Toys Inc.</td><td>2125557818</td><td>897 Long Airport Avenue</td><td>null</td><td>NYC</td><td>NY</td><td>10022</td><td>USA</td><td>NA</td><td>Yu</td><td>Kwai</td><td>Small</td></tr><tr><td>10121</td><td>34</td><td>81.35</td><td>5</td><td>2765.9</td><td>05-07-2003 00:00</td><td>Shipped</td><td>2</td><td>5</td><td>2003</td><td>Motorcycles</td><td>95</td><td>S10_1678</td><td>Reims Collectables</td><td>26.47.1555</td><td>59 rue de l'Abbaye</td><td>null</td><td>Reims</td><td>null</td><td>51100</td><td>France</td><td>EMEA</td><td>Henriot</td><td>Paul</td><td>Small</td></tr><tr><td>10134</td><td>41</td><td>94.74</td><td>2</td><td>3884.34</td><td>07-01-2003 00:00</td><td>Shipped</td><td>3</td><td>7</td><td>2003</td><td>Motorcycles</td><td>95</td><td>S10_1678</td><td>Lyon Souveniers</td><td>+33 1 46 62 7555</td><td>27 rue du Colonel Pierre Avia</td><td>null</td><td>Paris</td><td>null</td><td>75508</td><td>France</td><td>EMEA</td><td>Da Cunha</td><td>Daniel</td><td>Medium</td></tr><tr><td>10145</td><td>45</td><td>83.26</td><td>6</td><td>3746.7</td><td>8/25/2003 0:00</td><td>Shipped</td><td>3</td><td>8</td><td>2003</td><td>Motorcycles</td><td>95</td><td>S10_1678</td><td>Toys4GrownUps.com</td><td>6265557265</td><td>78934 Hillside Dr.</td><td>null</td><td>Pasadena</td><td>CA</td><td>90003</td><td>USA</td><td>NA</td><td>Young</td><td>Julie</td><td>Medium</td></tr><tr><td>10159</td><td>49</td><td>100.0</td><td>14</td><td>5205.27</td><td>10-10-2003 00:00</td><td>Shipped</td><td>4</td><td>10</td><td>2003</td><td>Motorcycles</td><td>95</td><td>S10_1678</td><td>Corporate Gift Ideas Co.</td><td>6505551386</td><td>7734 Strong St.</td><td>null</td><td>San Francisco</td><td>CA</td><td>null</td><td>USA</td><td>NA</td><td>Brown</td><td>Julie</td><td>Medium</td></tr></tbody></table></div>"
      ]
     },
     "metadata": {
      "application/vnd.databricks.v1+output": {
       "addedWidgets": {},
       "aggData": [],
       "aggError": "",
       "aggOverflow": false,
       "aggSchema": [],
       "aggSeriesLimitReached": false,
       "aggType": "",
       "arguments": {},
       "columnCustomDisplayInfos": {},
       "data": [
        [
         10107,
         30,
         95.7,
         2,
         2871.0,
         "2/24/2003 0:00",
         "Shipped",
         1,
         2,
         2003,
         "Motorcycles",
         95,
         "S10_1678",
         "Land of Toys Inc.",
         "2125557818",
         "897 Long Airport Avenue",
         null,
         "NYC",
         "NY",
         "10022",
         "USA",
         "NA",
         "Yu",
         "Kwai",
         "Small"
        ],
        [
         10121,
         34,
         81.35,
         5,
         2765.9,
         "05-07-2003 00:00",
         "Shipped",
         2,
         5,
         2003,
         "Motorcycles",
         95,
         "S10_1678",
         "Reims Collectables",
         "26.47.1555",
         "59 rue de l'Abbaye",
         null,
         "Reims",
         null,
         "51100",
         "France",
         "EMEA",
         "Henriot",
         "Paul",
         "Small"
        ],
        [
         10134,
         41,
         94.74,
         2,
         3884.34,
         "07-01-2003 00:00",
         "Shipped",
         3,
         7,
         2003,
         "Motorcycles",
         95,
         "S10_1678",
         "Lyon Souveniers",
         "+33 1 46 62 7555",
         "27 rue du Colonel Pierre Avia",
         null,
         "Paris",
         null,
         "75508",
         "France",
         "EMEA",
         "Da Cunha",
         "Daniel",
         "Medium"
        ],
        [
         10145,
         45,
         83.26,
         6,
         3746.7,
         "8/25/2003 0:00",
         "Shipped",
         3,
         8,
         2003,
         "Motorcycles",
         95,
         "S10_1678",
         "Toys4GrownUps.com",
         "6265557265",
         "78934 Hillside Dr.",
         null,
         "Pasadena",
         "CA",
         "90003",
         "USA",
         "NA",
         "Young",
         "Julie",
         "Medium"
        ],
        [
         10159,
         49,
         100.0,
         14,
         5205.27,
         "10-10-2003 00:00",
         "Shipped",
         4,
         10,
         2003,
         "Motorcycles",
         95,
         "S10_1678",
         "Corporate Gift Ideas Co.",
         "6505551386",
         "7734 Strong St.",
         null,
         "San Francisco",
         "CA",
         null,
         "USA",
         "NA",
         "Brown",
         "Julie",
         "Medium"
        ]
       ],
       "datasetInfos": [],
       "dbfsResultPath": null,
       "isJsonSchema": true,
       "metadata": {},
       "overflow": false,
       "plotOptions": {
        "customPlotOptions": {},
        "displayType": "table",
        "pivotAggregation": null,
        "pivotColumns": null,
        "xColumns": null,
        "yColumns": null
       },
       "removedWidgets": [],
       "schema": [
        {
         "metadata": "{}",
         "name": "ORDERNUMBER",
         "type": "\"integer\""
        },
        {
         "metadata": "{}",
         "name": "QUANTITYORDERED",
         "type": "\"integer\""
        },
        {
         "metadata": "{}",
         "name": "PRICEEACH",
         "type": "\"double\""
        },
        {
         "metadata": "{}",
         "name": "ORDERLINENUMBER",
         "type": "\"integer\""
        },
        {
         "metadata": "{}",
         "name": "SALES",
         "type": "\"double\""
        },
        {
         "metadata": "{}",
         "name": "ORDERDATE",
         "type": "\"string\""
        },
        {
         "metadata": "{}",
         "name": "STATUS",
         "type": "\"string\""
        },
        {
         "metadata": "{}",
         "name": "QTR_ID",
         "type": "\"integer\""
        },
        {
         "metadata": "{}",
         "name": "MONTH_ID",
         "type": "\"integer\""
        },
        {
         "metadata": "{}",
         "name": "YEAR_ID",
         "type": "\"integer\""
        },
        {
         "metadata": "{}",
         "name": "PRODUCTLINE",
         "type": "\"string\""
        },
        {
         "metadata": "{}",
         "name": "MSRP",
         "type": "\"integer\""
        },
        {
         "metadata": "{}",
         "name": "PRODUCTCODE",
         "type": "\"string\""
        },
        {
         "metadata": "{}",
         "name": "CUSTOMERNAME",
         "type": "\"string\""
        },
        {
         "metadata": "{}",
         "name": "PHONE",
         "type": "\"string\""
        },
        {
         "metadata": "{}",
         "name": "ADDRESSLINE1",
         "type": "\"string\""
        },
        {
         "metadata": "{}",
         "name": "ADDRESSLINE2",
         "type": "\"string\""
        },
        {
         "metadata": "{}",
         "name": "CITY",
         "type": "\"string\""
        },
        {
         "metadata": "{}",
         "name": "STATE",
         "type": "\"string\""
        },
        {
         "metadata": "{}",
         "name": "POSTALCODE",
         "type": "\"string\""
        },
        {
         "metadata": "{}",
         "name": "COUNTRY",
         "type": "\"string\""
        },
        {
         "metadata": "{}",
         "name": "TERRITORY",
         "type": "\"string\""
        },
        {
         "metadata": "{}",
         "name": "CONTACTLASTNAME",
         "type": "\"string\""
        },
        {
         "metadata": "{}",
         "name": "CONTACTFIRSTNAME",
         "type": "\"string\""
        },
        {
         "metadata": "{}",
         "name": "DEALSIZE",
         "type": "\"string\""
        }
       ],
       "type": "table"
      }
     },
     "output_type": "display_data"
    }
   ],
   "source": [
    "# fetching first 5 rows of the dataframe\n",
    "df1=df.limit(5)\n",
    "display(df1)"
   ]
  },
  {
   "cell_type": "code",
   "execution_count": 0,
   "metadata": {
    "application/vnd.databricks.v1+cell": {
     "cellMetadata": {
      "byteLimit": 2048000,
      "rowLimit": 10000
     },
     "inputWidgets": {},
     "nuid": "7e8950ac-4fec-4c2f-9d33-f23aafdb5eb7",
     "showTitle": false,
     "tableResultSettingsMap": {},
     "title": ""
    }
   },
   "outputs": [
    {
     "output_type": "display_data",
     "data": {
      "text/html": [
       "<style scoped>\n",
       "  .table-result-container {\n",
       "    max-height: 300px;\n",
       "    overflow: auto;\n",
       "  }\n",
       "  table, th, td {\n",
       "    border: 1px solid black;\n",
       "    border-collapse: collapse;\n",
       "  }\n",
       "  th, td {\n",
       "    padding: 5px;\n",
       "  }\n",
       "  th {\n",
       "    text-align: left;\n",
       "  }\n",
       "</style><div class='table-result-container'><table class='table-result'><thead style='background-color: white'><tr><th>ORDERNUMBER</th><th>QUANTITYORDERED</th><th>PRICEEACH</th><th>ORDERLINENUMBER</th><th>SALES</th><th>ORDERDATE</th><th>STATUS</th><th>QTR_ID</th><th>MONTH_ID</th><th>YEAR_ID</th><th>PRODUCTLINE</th><th>MSRP</th><th>PRODUCTCODE</th><th>CUSTOMERNAME</th><th>PHONE</th><th>ADDRESSLINE1</th><th>ADDRESSLINE2</th><th>CITY</th><th>STATE</th><th>POSTALCODE</th><th>COUNTRY</th><th>TERRITORY</th><th>CONTACTLASTNAME</th><th>CONTACTFIRSTNAME</th><th>DEALSIZE</th></tr></thead><tbody><tr><td>10107</td><td>30</td><td>95.7</td><td>2</td><td>2871.0</td><td>2/24/2003 0:00</td><td>Shipped</td><td>1</td><td>2</td><td>2003</td><td>Motorcycles</td><td>95</td><td>S10_1678</td><td>Land of Toys Inc.</td><td>2125557818</td><td>897 Long Airport Avenue</td><td>null</td><td>NYC</td><td>NY</td><td>10022</td><td>USA</td><td>NA</td><td>Yu</td><td>Kwai</td><td>Small</td></tr><tr><td>10121</td><td>34</td><td>81.35</td><td>5</td><td>2765.9</td><td>05-07-2003 00:00</td><td>Shipped</td><td>2</td><td>5</td><td>2003</td><td>Motorcycles</td><td>95</td><td>S10_1678</td><td>Reims Collectables</td><td>26.47.1555</td><td>59 rue de l'Abbaye</td><td>null</td><td>Reims</td><td>null</td><td>51100</td><td>France</td><td>EMEA</td><td>Henriot</td><td>Paul</td><td>Small</td></tr><tr><td>10134</td><td>41</td><td>94.74</td><td>2</td><td>3884.34</td><td>07-01-2003 00:00</td><td>Shipped</td><td>3</td><td>7</td><td>2003</td><td>Motorcycles</td><td>95</td><td>S10_1678</td><td>Lyon Souveniers</td><td>+33 1 46 62 7555</td><td>27 rue du Colonel Pierre Avia</td><td>null</td><td>Paris</td><td>null</td><td>75508</td><td>France</td><td>EMEA</td><td>Da Cunha</td><td>Daniel</td><td>Medium</td></tr><tr><td>10145</td><td>45</td><td>83.26</td><td>6</td><td>3746.7</td><td>8/25/2003 0:00</td><td>Shipped</td><td>3</td><td>8</td><td>2003</td><td>Motorcycles</td><td>95</td><td>S10_1678</td><td>Toys4GrownUps.com</td><td>6265557265</td><td>78934 Hillside Dr.</td><td>null</td><td>Pasadena</td><td>CA</td><td>90003</td><td>USA</td><td>NA</td><td>Young</td><td>Julie</td><td>Medium</td></tr><tr><td>10159</td><td>49</td><td>100.0</td><td>14</td><td>5205.27</td><td>10-10-2003 00:00</td><td>Shipped</td><td>4</td><td>10</td><td>2003</td><td>Motorcycles</td><td>95</td><td>S10_1678</td><td>Corporate Gift Ideas Co.</td><td>6505551386</td><td>7734 Strong St.</td><td>null</td><td>San Francisco</td><td>CA</td><td>null</td><td>USA</td><td>NA</td><td>Brown</td><td>Julie</td><td>Medium</td></tr></tbody></table></div>"
      ]
     },
     "metadata": {
      "application/vnd.databricks.v1+output": {
       "addedWidgets": {},
       "aggData": [],
       "aggError": "",
       "aggOverflow": false,
       "aggSchema": [],
       "aggSeriesLimitReached": false,
       "aggType": "",
       "arguments": {},
       "columnCustomDisplayInfos": {},
       "data": [
        [
         10107,
         30,
         95.7,
         2,
         2871.0,
         "2/24/2003 0:00",
         "Shipped",
         1,
         2,
         2003,
         "Motorcycles",
         95,
         "S10_1678",
         "Land of Toys Inc.",
         "2125557818",
         "897 Long Airport Avenue",
         null,
         "NYC",
         "NY",
         "10022",
         "USA",
         "NA",
         "Yu",
         "Kwai",
         "Small"
        ],
        [
         10121,
         34,
         81.35,
         5,
         2765.9,
         "05-07-2003 00:00",
         "Shipped",
         2,
         5,
         2003,
         "Motorcycles",
         95,
         "S10_1678",
         "Reims Collectables",
         "26.47.1555",
         "59 rue de l'Abbaye",
         null,
         "Reims",
         null,
         "51100",
         "France",
         "EMEA",
         "Henriot",
         "Paul",
         "Small"
        ],
        [
         10134,
         41,
         94.74,
         2,
         3884.34,
         "07-01-2003 00:00",
         "Shipped",
         3,
         7,
         2003,
         "Motorcycles",
         95,
         "S10_1678",
         "Lyon Souveniers",
         "+33 1 46 62 7555",
         "27 rue du Colonel Pierre Avia",
         null,
         "Paris",
         null,
         "75508",
         "France",
         "EMEA",
         "Da Cunha",
         "Daniel",
         "Medium"
        ],
        [
         10145,
         45,
         83.26,
         6,
         3746.7,
         "8/25/2003 0:00",
         "Shipped",
         3,
         8,
         2003,
         "Motorcycles",
         95,
         "S10_1678",
         "Toys4GrownUps.com",
         "6265557265",
         "78934 Hillside Dr.",
         null,
         "Pasadena",
         "CA",
         "90003",
         "USA",
         "NA",
         "Young",
         "Julie",
         "Medium"
        ],
        [
         10159,
         49,
         100.0,
         14,
         5205.27,
         "10-10-2003 00:00",
         "Shipped",
         4,
         10,
         2003,
         "Motorcycles",
         95,
         "S10_1678",
         "Corporate Gift Ideas Co.",
         "6505551386",
         "7734 Strong St.",
         null,
         "San Francisco",
         "CA",
         null,
         "USA",
         "NA",
         "Brown",
         "Julie",
         "Medium"
        ]
       ],
       "datasetInfos": [],
       "dbfsResultPath": null,
       "isJsonSchema": true,
       "metadata": {},
       "overflow": false,
       "plotOptions": {
        "customPlotOptions": {},
        "displayType": "table",
        "pivotAggregation": null,
        "pivotColumns": null,
        "xColumns": null,
        "yColumns": null
       },
       "removedWidgets": [],
       "schema": [
        {
         "metadata": "{}",
         "name": "ORDERNUMBER",
         "type": "\"integer\""
        },
        {
         "metadata": "{}",
         "name": "QUANTITYORDERED",
         "type": "\"integer\""
        },
        {
         "metadata": "{}",
         "name": "PRICEEACH",
         "type": "\"double\""
        },
        {
         "metadata": "{}",
         "name": "ORDERLINENUMBER",
         "type": "\"integer\""
        },
        {
         "metadata": "{}",
         "name": "SALES",
         "type": "\"double\""
        },
        {
         "metadata": "{}",
         "name": "ORDERDATE",
         "type": "\"string\""
        },
        {
         "metadata": "{}",
         "name": "STATUS",
         "type": "\"string\""
        },
        {
         "metadata": "{}",
         "name": "QTR_ID",
         "type": "\"integer\""
        },
        {
         "metadata": "{}",
         "name": "MONTH_ID",
         "type": "\"integer\""
        },
        {
         "metadata": "{}",
         "name": "YEAR_ID",
         "type": "\"integer\""
        },
        {
         "metadata": "{}",
         "name": "PRODUCTLINE",
         "type": "\"string\""
        },
        {
         "metadata": "{}",
         "name": "MSRP",
         "type": "\"integer\""
        },
        {
         "metadata": "{}",
         "name": "PRODUCTCODE",
         "type": "\"string\""
        },
        {
         "metadata": "{}",
         "name": "CUSTOMERNAME",
         "type": "\"string\""
        },
        {
         "metadata": "{}",
         "name": "PHONE",
         "type": "\"string\""
        },
        {
         "metadata": "{}",
         "name": "ADDRESSLINE1",
         "type": "\"string\""
        },
        {
         "metadata": "{}",
         "name": "ADDRESSLINE2",
         "type": "\"string\""
        },
        {
         "metadata": "{}",
         "name": "CITY",
         "type": "\"string\""
        },
        {
         "metadata": "{}",
         "name": "STATE",
         "type": "\"string\""
        },
        {
         "metadata": "{}",
         "name": "POSTALCODE",
         "type": "\"string\""
        },
        {
         "metadata": "{}",
         "name": "COUNTRY",
         "type": "\"string\""
        },
        {
         "metadata": "{}",
         "name": "TERRITORY",
         "type": "\"string\""
        },
        {
         "metadata": "{}",
         "name": "CONTACTLASTNAME",
         "type": "\"string\""
        },
        {
         "metadata": "{}",
         "name": "CONTACTFIRSTNAME",
         "type": "\"string\""
        },
        {
         "metadata": "{}",
         "name": "DEALSIZE",
         "type": "\"string\""
        }
       ],
       "type": "table"
      }
     },
     "output_type": "display_data"
    }
   ],
   "source": [
    "# filtering sales data >1000\n",
    "df1_filtered=df1.filter((df1.SALES>1000))\n",
    "display(df1_filtered)"
   ]
  },
  {
   "cell_type": "code",
   "execution_count": 0,
   "metadata": {
    "application/vnd.databricks.v1+cell": {
     "cellMetadata": {
      "byteLimit": 2048000,
      "rowLimit": 10000
     },
     "inputWidgets": {},
     "nuid": "02edb5a2-c56c-4c2c-94c7-68f8b1586804",
     "showTitle": false,
     "tableResultSettingsMap": {},
     "title": ""
    }
   },
   "outputs": [
    {
     "output_type": "display_data",
     "data": {
      "text/html": [
       "<style scoped>\n",
       "  .table-result-container {\n",
       "    max-height: 300px;\n",
       "    overflow: auto;\n",
       "  }\n",
       "  table, th, td {\n",
       "    border: 1px solid black;\n",
       "    border-collapse: collapse;\n",
       "  }\n",
       "  th, td {\n",
       "    padding: 5px;\n",
       "  }\n",
       "  th {\n",
       "    text-align: left;\n",
       "  }\n",
       "</style><div class='table-result-container'><table class='table-result'><thead style='background-color: white'><tr><th>ORDERNUMBER</th><th>QUANTITYORDERED</th><th>PRICEEACH</th><th>ORDERDATE</th><th>CUSTOMERNAME</th><th>PHONE</th></tr></thead><tbody><tr><td>10107</td><td>30</td><td>95.7</td><td>2/24/2003 0:00</td><td>Land of Toys Inc.</td><td>2125557818</td></tr><tr><td>10121</td><td>34</td><td>81.35</td><td>05-07-2003 00:00</td><td>Reims Collectables</td><td>26.47.1555</td></tr><tr><td>10134</td><td>41</td><td>94.74</td><td>07-01-2003 00:00</td><td>Lyon Souveniers</td><td>+33 1 46 62 7555</td></tr><tr><td>10145</td><td>45</td><td>83.26</td><td>8/25/2003 0:00</td><td>Toys4GrownUps.com</td><td>6265557265</td></tr><tr><td>10159</td><td>49</td><td>100.0</td><td>10-10-2003 00:00</td><td>Corporate Gift Ideas Co.</td><td>6505551386</td></tr></tbody></table></div>"
      ]
     },
     "metadata": {
      "application/vnd.databricks.v1+output": {
       "addedWidgets": {},
       "aggData": [],
       "aggError": "",
       "aggOverflow": false,
       "aggSchema": [],
       "aggSeriesLimitReached": false,
       "aggType": "",
       "arguments": {},
       "columnCustomDisplayInfos": {},
       "data": [
        [
         10107,
         30,
         95.7,
         "2/24/2003 0:00",
         "Land of Toys Inc.",
         "2125557818"
        ],
        [
         10121,
         34,
         81.35,
         "05-07-2003 00:00",
         "Reims Collectables",
         "26.47.1555"
        ],
        [
         10134,
         41,
         94.74,
         "07-01-2003 00:00",
         "Lyon Souveniers",
         "+33 1 46 62 7555"
        ],
        [
         10145,
         45,
         83.26,
         "8/25/2003 0:00",
         "Toys4GrownUps.com",
         "6265557265"
        ],
        [
         10159,
         49,
         100.0,
         "10-10-2003 00:00",
         "Corporate Gift Ideas Co.",
         "6505551386"
        ]
       ],
       "datasetInfos": [],
       "dbfsResultPath": null,
       "isJsonSchema": true,
       "metadata": {},
       "overflow": false,
       "plotOptions": {
        "customPlotOptions": {},
        "displayType": "table",
        "pivotAggregation": null,
        "pivotColumns": null,
        "xColumns": null,
        "yColumns": null
       },
       "removedWidgets": [],
       "schema": [
        {
         "metadata": "{}",
         "name": "ORDERNUMBER",
         "type": "\"integer\""
        },
        {
         "metadata": "{}",
         "name": "QUANTITYORDERED",
         "type": "\"integer\""
        },
        {
         "metadata": "{}",
         "name": "PRICEEACH",
         "type": "\"double\""
        },
        {
         "metadata": "{}",
         "name": "ORDERDATE",
         "type": "\"string\""
        },
        {
         "metadata": "{}",
         "name": "CUSTOMERNAME",
         "type": "\"string\""
        },
        {
         "metadata": "{}",
         "name": "PHONE",
         "type": "\"string\""
        }
       ],
       "type": "table"
      }
     },
     "output_type": "display_data"
    }
   ],
   "source": [
    "# selecting relevant data\n",
    "df_selected=df1_filtered.select(\"ORDERNUMBER\",\"QUANTITYORDERED\",\"PRICEEACH\",\"ORDERDATE\",\"CUSTOMERNAME\",\"PHONE\")\n",
    "display(df_selected)"
   ]
  },
  {
   "cell_type": "code",
   "execution_count": 0,
   "metadata": {
    "application/vnd.databricks.v1+cell": {
     "cellMetadata": {
      "byteLimit": 2048000,
      "rowLimit": 10000
     },
     "inputWidgets": {},
     "nuid": "8faee7e6-8559-46a6-9178-cde931ac7c14",
     "showTitle": false,
     "tableResultSettingsMap": {},
     "title": ""
    }
   },
   "outputs": [
    {
     "output_type": "display_data",
     "data": {
      "text/html": [
       "<style scoped>\n",
       "  .table-result-container {\n",
       "    max-height: 300px;\n",
       "    overflow: auto;\n",
       "  }\n",
       "  table, th, td {\n",
       "    border: 1px solid black;\n",
       "    border-collapse: collapse;\n",
       "  }\n",
       "  th, td {\n",
       "    padding: 5px;\n",
       "  }\n",
       "  th {\n",
       "    text-align: left;\n",
       "  }\n",
       "</style><div class='table-result-container'><table class='table-result'><thead style='background-color: white'><tr><th>ORDERNUMBER</th><th>QUANTITYORDERED</th><th>PRICEEACH</th><th>ORDERDATE</th><th>CUSTOMERNAME</th><th>PHONE</th></tr></thead><tbody><tr><td>10107</td><td>30</td><td>95.7</td><td>2/24/2003 0:00</td><td>Land of Toys Inc.</td><td>2125557818</td></tr><tr><td>10121</td><td>34</td><td>81.35</td><td>05-07-2003 00:00</td><td>Reims Collectables</td><td>26.47.1555</td></tr><tr><td>10134</td><td>41</td><td>94.74</td><td>07-01-2003 00:00</td><td>Lyon Souveniers</td><td>+33 1 46 62 7555</td></tr><tr><td>10145</td><td>45</td><td>83.26</td><td>8/25/2003 0:00</td><td>Toys4GrownUps.com</td><td>6265557265</td></tr><tr><td>10159</td><td>49</td><td>100.0</td><td>10-10-2003 00:00</td><td>Corporate Gift Ideas Co.</td><td>6505551386</td></tr><tr><td>10107</td><td>30</td><td>95.7</td><td>2/24/2003 0:00</td><td>Land of Toys Inc.</td><td>2125557818</td></tr><tr><td>10121</td><td>34</td><td>81.35</td><td>05-07-2003 00:00</td><td>Reims Collectables</td><td>26.47.1555</td></tr><tr><td>10134</td><td>41</td><td>94.74</td><td>07-01-2003 00:00</td><td>Lyon Souveniers</td><td>+33 1 46 62 7555</td></tr><tr><td>10145</td><td>45</td><td>83.26</td><td>8/25/2003 0:00</td><td>Toys4GrownUps.com</td><td>6265557265</td></tr><tr><td>10159</td><td>49</td><td>100.0</td><td>10-10-2003 00:00</td><td>Corporate Gift Ideas Co.</td><td>6505551386</td></tr><tr><td>10107</td><td>30</td><td>95.7</td><td>2/24/2003 0:00</td><td>Land of Toys Inc.</td><td>2125557818</td></tr><tr><td>10121</td><td>34</td><td>81.35</td><td>05-07-2003 00:00</td><td>Reims Collectables</td><td>26.47.1555</td></tr><tr><td>10134</td><td>41</td><td>94.74</td><td>07-01-2003 00:00</td><td>Lyon Souveniers</td><td>+33 1 46 62 7555</td></tr><tr><td>10145</td><td>45</td><td>83.26</td><td>8/25/2003 0:00</td><td>Toys4GrownUps.com</td><td>6265557265</td></tr><tr><td>10159</td><td>49</td><td>100.0</td><td>10-10-2003 00:00</td><td>Corporate Gift Ideas Co.</td><td>6505551386</td></tr><tr><td>10107</td><td>30</td><td>95.7</td><td>2/24/2003 0:00</td><td>Land of Toys Inc.</td><td>2125557818</td></tr><tr><td>10121</td><td>34</td><td>81.35</td><td>05-07-2003 00:00</td><td>Reims Collectables</td><td>26.47.1555</td></tr><tr><td>10134</td><td>41</td><td>94.74</td><td>07-01-2003 00:00</td><td>Lyon Souveniers</td><td>+33 1 46 62 7555</td></tr><tr><td>10145</td><td>45</td><td>83.26</td><td>8/25/2003 0:00</td><td>Toys4GrownUps.com</td><td>6265557265</td></tr><tr><td>10159</td><td>49</td><td>100.0</td><td>10-10-2003 00:00</td><td>Corporate Gift Ideas Co.</td><td>6505551386</td></tr><tr><td>10107</td><td>30</td><td>95.7</td><td>2/24/2003 0:00</td><td>Land of Toys Inc.</td><td>2125557818</td></tr><tr><td>10121</td><td>34</td><td>81.35</td><td>05-07-2003 00:00</td><td>Reims Collectables</td><td>26.47.1555</td></tr><tr><td>10134</td><td>41</td><td>94.74</td><td>07-01-2003 00:00</td><td>Lyon Souveniers</td><td>+33 1 46 62 7555</td></tr><tr><td>10145</td><td>45</td><td>83.26</td><td>8/25/2003 0:00</td><td>Toys4GrownUps.com</td><td>6265557265</td></tr><tr><td>10159</td><td>49</td><td>100.0</td><td>10-10-2003 00:00</td><td>Corporate Gift Ideas Co.</td><td>6505551386</td></tr></tbody></table></div>"
      ]
     },
     "metadata": {
      "application/vnd.databricks.v1+output": {
       "addedWidgets": {},
       "aggData": [],
       "aggError": "",
       "aggOverflow": false,
       "aggSchema": [],
       "aggSeriesLimitReached": false,
       "aggType": "",
       "arguments": {},
       "columnCustomDisplayInfos": {},
       "data": [
        [
         10107,
         30,
         95.7,
         "2/24/2003 0:00",
         "Land of Toys Inc.",
         "2125557818"
        ],
        [
         10121,
         34,
         81.35,
         "05-07-2003 00:00",
         "Reims Collectables",
         "26.47.1555"
        ],
        [
         10134,
         41,
         94.74,
         "07-01-2003 00:00",
         "Lyon Souveniers",
         "+33 1 46 62 7555"
        ],
        [
         10145,
         45,
         83.26,
         "8/25/2003 0:00",
         "Toys4GrownUps.com",
         "6265557265"
        ],
        [
         10159,
         49,
         100.0,
         "10-10-2003 00:00",
         "Corporate Gift Ideas Co.",
         "6505551386"
        ],
        [
         10107,
         30,
         95.7,
         "2/24/2003 0:00",
         "Land of Toys Inc.",
         "2125557818"
        ],
        [
         10121,
         34,
         81.35,
         "05-07-2003 00:00",
         "Reims Collectables",
         "26.47.1555"
        ],
        [
         10134,
         41,
         94.74,
         "07-01-2003 00:00",
         "Lyon Souveniers",
         "+33 1 46 62 7555"
        ],
        [
         10145,
         45,
         83.26,
         "8/25/2003 0:00",
         "Toys4GrownUps.com",
         "6265557265"
        ],
        [
         10159,
         49,
         100.0,
         "10-10-2003 00:00",
         "Corporate Gift Ideas Co.",
         "6505551386"
        ],
        [
         10107,
         30,
         95.7,
         "2/24/2003 0:00",
         "Land of Toys Inc.",
         "2125557818"
        ],
        [
         10121,
         34,
         81.35,
         "05-07-2003 00:00",
         "Reims Collectables",
         "26.47.1555"
        ],
        [
         10134,
         41,
         94.74,
         "07-01-2003 00:00",
         "Lyon Souveniers",
         "+33 1 46 62 7555"
        ],
        [
         10145,
         45,
         83.26,
         "8/25/2003 0:00",
         "Toys4GrownUps.com",
         "6265557265"
        ],
        [
         10159,
         49,
         100.0,
         "10-10-2003 00:00",
         "Corporate Gift Ideas Co.",
         "6505551386"
        ],
        [
         10107,
         30,
         95.7,
         "2/24/2003 0:00",
         "Land of Toys Inc.",
         "2125557818"
        ],
        [
         10121,
         34,
         81.35,
         "05-07-2003 00:00",
         "Reims Collectables",
         "26.47.1555"
        ],
        [
         10134,
         41,
         94.74,
         "07-01-2003 00:00",
         "Lyon Souveniers",
         "+33 1 46 62 7555"
        ],
        [
         10145,
         45,
         83.26,
         "8/25/2003 0:00",
         "Toys4GrownUps.com",
         "6265557265"
        ],
        [
         10159,
         49,
         100.0,
         "10-10-2003 00:00",
         "Corporate Gift Ideas Co.",
         "6505551386"
        ],
        [
         10107,
         30,
         95.7,
         "2/24/2003 0:00",
         "Land of Toys Inc.",
         "2125557818"
        ],
        [
         10121,
         34,
         81.35,
         "05-07-2003 00:00",
         "Reims Collectables",
         "26.47.1555"
        ],
        [
         10134,
         41,
         94.74,
         "07-01-2003 00:00",
         "Lyon Souveniers",
         "+33 1 46 62 7555"
        ],
        [
         10145,
         45,
         83.26,
         "8/25/2003 0:00",
         "Toys4GrownUps.com",
         "6265557265"
        ],
        [
         10159,
         49,
         100.0,
         "10-10-2003 00:00",
         "Corporate Gift Ideas Co.",
         "6505551386"
        ]
       ],
       "datasetInfos": [],
       "dbfsResultPath": null,
       "isJsonSchema": true,
       "metadata": {},
       "overflow": false,
       "plotOptions": {
        "customPlotOptions": {},
        "displayType": "table",
        "pivotAggregation": null,
        "pivotColumns": null,
        "xColumns": null,
        "yColumns": null
       },
       "removedWidgets": [],
       "schema": [
        {
         "metadata": "{}",
         "name": "ORDERNUMBER",
         "type": "\"integer\""
        },
        {
         "metadata": "{}",
         "name": "QUANTITYORDERED",
         "type": "\"integer\""
        },
        {
         "metadata": "{}",
         "name": "PRICEEACH",
         "type": "\"double\""
        },
        {
         "metadata": "{}",
         "name": "ORDERDATE",
         "type": "\"string\""
        },
        {
         "metadata": "{}",
         "name": "CUSTOMERNAME",
         "type": "\"string\""
        },
        {
         "metadata": "{}",
         "name": "PHONE",
         "type": "\"string\""
        }
       ],
       "type": "table"
      }
     },
     "output_type": "display_data"
    }
   ],
   "source": [
    "# delta table\n",
    "df_selected.write.format(\"delta\").mode(\"append\").saveAsTable(\n",
    "    \"skit_training.agg_sales_data\"\n",
    ")\n",
    "display(spark.sql(\"select * from skit_training.agg_sales_data\"))"
   ]
  },
  {
   "cell_type": "code",
   "execution_count": 0,
   "metadata": {
    "application/vnd.databricks.v1+cell": {
     "cellMetadata": {
      "byteLimit": 2048000,
      "rowLimit": 10000
     },
     "inputWidgets": {},
     "nuid": "c83a1c70-2ff1-4510-be44-db03334a7e29",
     "showTitle": false,
     "tableResultSettingsMap": {},
     "title": ""
    }
   },
   "outputs": [
    {
     "output_type": "display_data",
     "data": {
      "text/html": [
       "<style scoped>\n",
       "  .table-result-container {\n",
       "    max-height: 300px;\n",
       "    overflow: auto;\n",
       "  }\n",
       "  table, th, td {\n",
       "    border: 1px solid black;\n",
       "    border-collapse: collapse;\n",
       "  }\n",
       "  th, td {\n",
       "    padding: 5px;\n",
       "  }\n",
       "  th {\n",
       "    text-align: left;\n",
       "  }\n",
       "</style><div class='table-result-container'><table class='table-result'><thead style='background-color: white'><tr><th>version</th><th>timestamp</th><th>userId</th><th>userName</th><th>operation</th><th>operationParameters</th><th>job</th><th>notebook</th><th>clusterId</th><th>readVersion</th><th>isolationLevel</th><th>isBlindAppend</th><th>operationMetrics</th><th>userMetadata</th><th>engineInfo</th></tr></thead><tbody><tr><td>4</td><td>2025-07-14T16:35:36.000Z</td><td>73982676075452</td><td>aarohi03mathur@gmail.com</td><td>WRITE</td><td>Map(mode -> Append, statsOnLoad -> true, partitionBy -> [])</td><td>null</td><td>null</td><td>0714-162333-v0ewdp0c-v2n</td><td>3</td><td>WriteSerializable</td><td>true</td><td>Map(numFiles -> 1, numOutputRows -> 5, numOutputBytes -> 2099)</td><td>null</td><td>Databricks-Runtime/16.4.x-aarch64-photon-scala2.12</td></tr><tr><td>3</td><td>2025-07-14T15:28:50.000Z</td><td>73982676075452</td><td>aarohi03mathur@gmail.com</td><td>WRITE</td><td>Map(mode -> Append, statsOnLoad -> true, partitionBy -> [])</td><td>null</td><td>null</td><td>0714-150523-tca7uqn8-v2n</td><td>2</td><td>WriteSerializable</td><td>true</td><td>Map(numFiles -> 1, numOutputRows -> 5, numOutputBytes -> 2099)</td><td>null</td><td>Databricks-Runtime/16.4.x-aarch64-photon-scala2.12</td></tr><tr><td>2</td><td>2025-07-14T15:28:25.000Z</td><td>73982676075452</td><td>aarohi03mathur@gmail.com</td><td>WRITE</td><td>Map(mode -> Append, statsOnLoad -> true, partitionBy -> [])</td><td>null</td><td>null</td><td>0714-150523-tca7uqn8-v2n</td><td>1</td><td>WriteSerializable</td><td>true</td><td>Map(numFiles -> 1, numOutputRows -> 5, numOutputBytes -> 2099)</td><td>null</td><td>Databricks-Runtime/16.4.x-aarch64-photon-scala2.12</td></tr><tr><td>1</td><td>2025-07-14T15:27:34.000Z</td><td>73982676075452</td><td>aarohi03mathur@gmail.com</td><td>WRITE</td><td>Map(mode -> Append, statsOnLoad -> true, partitionBy -> [])</td><td>null</td><td>null</td><td>0714-150523-tca7uqn8-v2n</td><td>0</td><td>WriteSerializable</td><td>true</td><td>Map(numFiles -> 1, numOutputRows -> 5, numOutputBytes -> 2099)</td><td>null</td><td>Databricks-Runtime/16.4.x-aarch64-photon-scala2.12</td></tr><tr><td>0</td><td>2025-07-14T15:26:55.000Z</td><td>73982676075452</td><td>aarohi03mathur@gmail.com</td><td>CREATE OR REPLACE TABLE AS SELECT</td><td>Map(partitionBy -> [], clusterBy -> [], description -> null, isManaged -> true, properties -> {\"delta.enableDeletionVectors\":\"true\"}, statsOnLoad -> true)</td><td>null</td><td>null</td><td>0714-150523-tca7uqn8-v2n</td><td>null</td><td>WriteSerializable</td><td>false</td><td>Map(numFiles -> 1, numRemovedFiles -> 0, numRemovedBytes -> 0, numOutputRows -> 5, numOutputBytes -> 2099)</td><td>null</td><td>Databricks-Runtime/16.4.x-aarch64-photon-scala2.12</td></tr></tbody></table></div>"
      ]
     },
     "metadata": {
      "application/vnd.databricks.v1+output": {
       "addedWidgets": {},
       "aggData": [],
       "aggError": "",
       "aggOverflow": false,
       "aggSchema": [],
       "aggSeriesLimitReached": false,
       "aggType": "",
       "arguments": {},
       "columnCustomDisplayInfos": {},
       "data": [
        [
         4,
         "2025-07-14T16:35:36.000Z",
         "73982676075452",
         "aarohi03mathur@gmail.com",
         "WRITE",
         {
          "mode": "Append",
          "partitionBy": "[]",
          "statsOnLoad": "true"
         },
         null,
         null,
         "0714-162333-v0ewdp0c-v2n",
         3,
         "WriteSerializable",
         true,
         {
          "numFiles": "1",
          "numOutputBytes": "2099",
          "numOutputRows": "5"
         },
         null,
         "Databricks-Runtime/16.4.x-aarch64-photon-scala2.12"
        ],
        [
         3,
         "2025-07-14T15:28:50.000Z",
         "73982676075452",
         "aarohi03mathur@gmail.com",
         "WRITE",
         {
          "mode": "Append",
          "partitionBy": "[]",
          "statsOnLoad": "true"
         },
         null,
         null,
         "0714-150523-tca7uqn8-v2n",
         2,
         "WriteSerializable",
         true,
         {
          "numFiles": "1",
          "numOutputBytes": "2099",
          "numOutputRows": "5"
         },
         null,
         "Databricks-Runtime/16.4.x-aarch64-photon-scala2.12"
        ],
        [
         2,
         "2025-07-14T15:28:25.000Z",
         "73982676075452",
         "aarohi03mathur@gmail.com",
         "WRITE",
         {
          "mode": "Append",
          "partitionBy": "[]",
          "statsOnLoad": "true"
         },
         null,
         null,
         "0714-150523-tca7uqn8-v2n",
         1,
         "WriteSerializable",
         true,
         {
          "numFiles": "1",
          "numOutputBytes": "2099",
          "numOutputRows": "5"
         },
         null,
         "Databricks-Runtime/16.4.x-aarch64-photon-scala2.12"
        ],
        [
         1,
         "2025-07-14T15:27:34.000Z",
         "73982676075452",
         "aarohi03mathur@gmail.com",
         "WRITE",
         {
          "mode": "Append",
          "partitionBy": "[]",
          "statsOnLoad": "true"
         },
         null,
         null,
         "0714-150523-tca7uqn8-v2n",
         0,
         "WriteSerializable",
         true,
         {
          "numFiles": "1",
          "numOutputBytes": "2099",
          "numOutputRows": "5"
         },
         null,
         "Databricks-Runtime/16.4.x-aarch64-photon-scala2.12"
        ],
        [
         0,
         "2025-07-14T15:26:55.000Z",
         "73982676075452",
         "aarohi03mathur@gmail.com",
         "CREATE OR REPLACE TABLE AS SELECT",
         {
          "clusterBy": "[]",
          "description": null,
          "isManaged": "true",
          "partitionBy": "[]",
          "properties": "{\"delta.enableDeletionVectors\":\"true\"}",
          "statsOnLoad": "true"
         },
         null,
         null,
         "0714-150523-tca7uqn8-v2n",
         null,
         "WriteSerializable",
         false,
         {
          "numFiles": "1",
          "numOutputBytes": "2099",
          "numOutputRows": "5",
          "numRemovedBytes": "0",
          "numRemovedFiles": "0"
         },
         null,
         "Databricks-Runtime/16.4.x-aarch64-photon-scala2.12"
        ]
       ],
       "datasetInfos": [],
       "dbfsResultPath": null,
       "isJsonSchema": true,
       "metadata": {},
       "overflow": false,
       "plotOptions": {
        "customPlotOptions": {},
        "displayType": "table",
        "pivotAggregation": null,
        "pivotColumns": null,
        "xColumns": null,
        "yColumns": null
       },
       "removedWidgets": [],
       "schema": [
        {
         "metadata": "{}",
         "name": "version",
         "type": "\"long\""
        },
        {
         "metadata": "{}",
         "name": "timestamp",
         "type": "\"timestamp\""
        },
        {
         "metadata": "{}",
         "name": "userId",
         "type": "\"string\""
        },
        {
         "metadata": "{}",
         "name": "userName",
         "type": "\"string\""
        },
        {
         "metadata": "{}",
         "name": "operation",
         "type": "\"string\""
        },
        {
         "metadata": "{}",
         "name": "operationParameters",
         "type": "{\"keyType\":\"string\",\"type\":\"map\",\"valueContainsNull\":true,\"valueType\":\"string\"}"
        },
        {
         "metadata": "{}",
         "name": "job",
         "type": "{\"fields\":[{\"metadata\":{},\"name\":\"jobId\",\"nullable\":true,\"type\":\"string\"},{\"metadata\":{},\"name\":\"jobName\",\"nullable\":true,\"type\":\"string\"},{\"metadata\":{},\"name\":\"jobRunId\",\"nullable\":true,\"type\":\"string\"},{\"metadata\":{},\"name\":\"runId\",\"nullable\":true,\"type\":\"string\"},{\"metadata\":{},\"name\":\"jobOwnerId\",\"nullable\":true,\"type\":\"string\"},{\"metadata\":{},\"name\":\"triggerType\",\"nullable\":true,\"type\":\"string\"}],\"type\":\"struct\"}"
        },
        {
         "metadata": "{}",
         "name": "notebook",
         "type": "{\"fields\":[{\"metadata\":{},\"name\":\"notebookId\",\"nullable\":true,\"type\":\"string\"}],\"type\":\"struct\"}"
        },
        {
         "metadata": "{}",
         "name": "clusterId",
         "type": "\"string\""
        },
        {
         "metadata": "{}",
         "name": "readVersion",
         "type": "\"long\""
        },
        {
         "metadata": "{}",
         "name": "isolationLevel",
         "type": "\"string\""
        },
        {
         "metadata": "{}",
         "name": "isBlindAppend",
         "type": "\"boolean\""
        },
        {
         "metadata": "{}",
         "name": "operationMetrics",
         "type": "{\"keyType\":\"string\",\"type\":\"map\",\"valueContainsNull\":true,\"valueType\":\"string\"}"
        },
        {
         "metadata": "{}",
         "name": "userMetadata",
         "type": "\"string\""
        },
        {
         "metadata": "{}",
         "name": "engineInfo",
         "type": "\"string\""
        }
       ],
       "type": "table"
      }
     },
     "output_type": "display_data"
    }
   ],
   "source": [
    "# version control\n",
    "df_history=spark.sql(\"DESCRIBE HISTORY skit_training.agg_sales_data\")\n",
    "display(df_history)"
   ]
  },
  {
   "cell_type": "code",
   "execution_count": 0,
   "metadata": {
    "application/vnd.databricks.v1+cell": {
     "cellMetadata": {
      "byteLimit": 2048000,
      "implicitDf": true,
      "rowLimit": 10000
     },
     "inputWidgets": {},
     "nuid": "e4df237b-286c-41ad-971f-522efeb0a315",
     "showTitle": false,
     "tableResultSettingsMap": {},
     "title": ""
    }
   },
   "outputs": [
    {
     "output_type": "display_data",
     "data": {
      "text/html": [
       "<style scoped>\n",
       "  .table-result-container {\n",
       "    max-height: 300px;\n",
       "    overflow: auto;\n",
       "  }\n",
       "  table, th, td {\n",
       "    border: 1px solid black;\n",
       "    border-collapse: collapse;\n",
       "  }\n",
       "  th, td {\n",
       "    padding: 5px;\n",
       "  }\n",
       "  th {\n",
       "    text-align: left;\n",
       "  }\n",
       "</style><div class='table-result-container'><table class='table-result'><thead style='background-color: white'><tr><th>ORDERNUMBER</th><th>QUANTITYORDERED</th><th>PRICEEACH</th><th>ORDERDATE</th><th>CUSTOMERNAME</th><th>PHONE</th></tr></thead><tbody><tr><td>10107</td><td>30</td><td>95.7</td><td>2/24/2003 0:00</td><td>Land of Toys Inc.</td><td>2125557818</td></tr><tr><td>10121</td><td>34</td><td>81.35</td><td>05-07-2003 00:00</td><td>Reims Collectables</td><td>26.47.1555</td></tr><tr><td>10134</td><td>41</td><td>94.74</td><td>07-01-2003 00:00</td><td>Lyon Souveniers</td><td>+33 1 46 62 7555</td></tr><tr><td>10145</td><td>45</td><td>83.26</td><td>8/25/2003 0:00</td><td>Toys4GrownUps.com</td><td>6265557265</td></tr><tr><td>10159</td><td>49</td><td>100.0</td><td>10-10-2003 00:00</td><td>Corporate Gift Ideas Co.</td><td>6505551386</td></tr><tr><td>10107</td><td>30</td><td>95.7</td><td>2/24/2003 0:00</td><td>Land of Toys Inc.</td><td>2125557818</td></tr><tr><td>10121</td><td>34</td><td>81.35</td><td>05-07-2003 00:00</td><td>Reims Collectables</td><td>26.47.1555</td></tr><tr><td>10134</td><td>41</td><td>94.74</td><td>07-01-2003 00:00</td><td>Lyon Souveniers</td><td>+33 1 46 62 7555</td></tr><tr><td>10145</td><td>45</td><td>83.26</td><td>8/25/2003 0:00</td><td>Toys4GrownUps.com</td><td>6265557265</td></tr><tr><td>10159</td><td>49</td><td>100.0</td><td>10-10-2003 00:00</td><td>Corporate Gift Ideas Co.</td><td>6505551386</td></tr><tr><td>10107</td><td>30</td><td>95.7</td><td>2/24/2003 0:00</td><td>Land of Toys Inc.</td><td>2125557818</td></tr><tr><td>10121</td><td>34</td><td>81.35</td><td>05-07-2003 00:00</td><td>Reims Collectables</td><td>26.47.1555</td></tr><tr><td>10134</td><td>41</td><td>94.74</td><td>07-01-2003 00:00</td><td>Lyon Souveniers</td><td>+33 1 46 62 7555</td></tr><tr><td>10145</td><td>45</td><td>83.26</td><td>8/25/2003 0:00</td><td>Toys4GrownUps.com</td><td>6265557265</td></tr><tr><td>10159</td><td>49</td><td>100.0</td><td>10-10-2003 00:00</td><td>Corporate Gift Ideas Co.</td><td>6505551386</td></tr></tbody></table></div>"
      ]
     },
     "metadata": {
      "application/vnd.databricks.v1+output": {
       "addedWidgets": {},
       "aggData": [],
       "aggError": "",
       "aggOverflow": false,
       "aggSchema": [],
       "aggSeriesLimitReached": false,
       "aggType": "",
       "arguments": {},
       "columnCustomDisplayInfos": {},
       "data": [
        [
         10107,
         30,
         95.7,
         "2/24/2003 0:00",
         "Land of Toys Inc.",
         "2125557818"
        ],
        [
         10121,
         34,
         81.35,
         "05-07-2003 00:00",
         "Reims Collectables",
         "26.47.1555"
        ],
        [
         10134,
         41,
         94.74,
         "07-01-2003 00:00",
         "Lyon Souveniers",
         "+33 1 46 62 7555"
        ],
        [
         10145,
         45,
         83.26,
         "8/25/2003 0:00",
         "Toys4GrownUps.com",
         "6265557265"
        ],
        [
         10159,
         49,
         100.0,
         "10-10-2003 00:00",
         "Corporate Gift Ideas Co.",
         "6505551386"
        ],
        [
         10107,
         30,
         95.7,
         "2/24/2003 0:00",
         "Land of Toys Inc.",
         "2125557818"
        ],
        [
         10121,
         34,
         81.35,
         "05-07-2003 00:00",
         "Reims Collectables",
         "26.47.1555"
        ],
        [
         10134,
         41,
         94.74,
         "07-01-2003 00:00",
         "Lyon Souveniers",
         "+33 1 46 62 7555"
        ],
        [
         10145,
         45,
         83.26,
         "8/25/2003 0:00",
         "Toys4GrownUps.com",
         "6265557265"
        ],
        [
         10159,
         49,
         100.0,
         "10-10-2003 00:00",
         "Corporate Gift Ideas Co.",
         "6505551386"
        ],
        [
         10107,
         30,
         95.7,
         "2/24/2003 0:00",
         "Land of Toys Inc.",
         "2125557818"
        ],
        [
         10121,
         34,
         81.35,
         "05-07-2003 00:00",
         "Reims Collectables",
         "26.47.1555"
        ],
        [
         10134,
         41,
         94.74,
         "07-01-2003 00:00",
         "Lyon Souveniers",
         "+33 1 46 62 7555"
        ],
        [
         10145,
         45,
         83.26,
         "8/25/2003 0:00",
         "Toys4GrownUps.com",
         "6265557265"
        ],
        [
         10159,
         49,
         100.0,
         "10-10-2003 00:00",
         "Corporate Gift Ideas Co.",
         "6505551386"
        ]
       ],
       "datasetInfos": [
        {
         "name": "_sqldf",
         "schema": {
          "fields": [
           {
            "metadata": {},
            "name": "ORDERNUMBER",
            "nullable": true,
            "type": "integer"
           },
           {
            "metadata": {},
            "name": "QUANTITYORDERED",
            "nullable": true,
            "type": "integer"
           },
           {
            "metadata": {},
            "name": "PRICEEACH",
            "nullable": true,
            "type": "double"
           },
           {
            "metadata": {},
            "name": "ORDERDATE",
            "nullable": true,
            "type": "string"
           },
           {
            "metadata": {},
            "name": "CUSTOMERNAME",
            "nullable": true,
            "type": "string"
           },
           {
            "metadata": {},
            "name": "PHONE",
            "nullable": true,
            "type": "string"
           }
          ],
          "type": "struct"
         },
         "tableIdentifier": null,
         "typeStr": "pyspark.sql.connect.dataframe.DataFrame"
        }
       ],
       "dbfsResultPath": null,
       "isJsonSchema": true,
       "metadata": {
        "createTempViewForImplicitDf": true,
        "dataframeName": "_sqldf",
        "executionCount": 7
       },
       "overflow": false,
       "plotOptions": {
        "customPlotOptions": {},
        "displayType": "table",
        "pivotAggregation": null,
        "pivotColumns": null,
        "xColumns": null,
        "yColumns": null
       },
       "removedWidgets": [],
       "schema": [
        {
         "metadata": "{}",
         "name": "ORDERNUMBER",
         "type": "\"integer\""
        },
        {
         "metadata": "{}",
         "name": "QUANTITYORDERED",
         "type": "\"integer\""
        },
        {
         "metadata": "{}",
         "name": "PRICEEACH",
         "type": "\"double\""
        },
        {
         "metadata": "{}",
         "name": "ORDERDATE",
         "type": "\"string\""
        },
        {
         "metadata": "{}",
         "name": "CUSTOMERNAME",
         "type": "\"string\""
        },
        {
         "metadata": "{}",
         "name": "PHONE",
         "type": "\"string\""
        }
       ],
       "type": "table"
      }
     },
     "output_type": "display_data"
    }
   ],
   "source": [
    "%sql\n",
    "select * from skit_training.agg_sales_data version as of 2"
   ]
  },
  {
   "cell_type": "code",
   "execution_count": 0,
   "metadata": {
    "application/vnd.databricks.v1+cell": {
     "cellMetadata": {
      "byteLimit": 2048000,
      "rowLimit": 10000
     },
     "inputWidgets": {},
     "nuid": "aa181c35-4a8c-4ca6-b609-9239af9e57d0",
     "showTitle": false,
     "tableResultSettingsMap": {},
     "title": ""
    }
   },
   "outputs": [
    {
     "output_type": "display_data",
     "data": {
      "text/html": [
       "<style scoped>\n",
       "  .table-result-container {\n",
       "    max-height: 300px;\n",
       "    overflow: auto;\n",
       "  }\n",
       "  table, th, td {\n",
       "    border: 1px solid black;\n",
       "    border-collapse: collapse;\n",
       "  }\n",
       "  th, td {\n",
       "    padding: 5px;\n",
       "  }\n",
       "  th {\n",
       "    text-align: left;\n",
       "  }\n",
       "</style><div class='table-result-container'><table class='table-result'><thead style='background-color: white'><tr><th>ORDERNUMBER</th><th>QUANTITYORDERED</th><th>PRICEEACH</th><th>ORDERDATE</th><th>CUSTOMERNAME</th><th>PHONE</th></tr></thead><tbody><tr><td>10107</td><td>30</td><td>95.7</td><td>2/24/2003 0:00</td><td>Land of Toys Inc.</td><td>2125557818</td></tr><tr><td>10121</td><td>34</td><td>81.35</td><td>05-07-2003 00:00</td><td>Reims Collectables</td><td>26.47.1555</td></tr><tr><td>10134</td><td>41</td><td>94.74</td><td>07-01-2003 00:00</td><td>Lyon Souveniers</td><td>+33 1 46 62 7555</td></tr><tr><td>10145</td><td>45</td><td>83.26</td><td>8/25/2003 0:00</td><td>Toys4GrownUps.com</td><td>6265557265</td></tr><tr><td>10159</td><td>49</td><td>100.0</td><td>10-10-2003 00:00</td><td>Corporate Gift Ideas Co.</td><td>6505551386</td></tr><tr><td>10107</td><td>30</td><td>95.7</td><td>2/24/2003 0:00</td><td>Land of Toys Inc.</td><td>2125557818</td></tr><tr><td>10121</td><td>34</td><td>81.35</td><td>05-07-2003 00:00</td><td>Reims Collectables</td><td>26.47.1555</td></tr><tr><td>10134</td><td>41</td><td>94.74</td><td>07-01-2003 00:00</td><td>Lyon Souveniers</td><td>+33 1 46 62 7555</td></tr><tr><td>10145</td><td>45</td><td>83.26</td><td>8/25/2003 0:00</td><td>Toys4GrownUps.com</td><td>6265557265</td></tr><tr><td>10159</td><td>49</td><td>100.0</td><td>10-10-2003 00:00</td><td>Corporate Gift Ideas Co.</td><td>6505551386</td></tr><tr><td>10107</td><td>30</td><td>95.7</td><td>2/24/2003 0:00</td><td>Land of Toys Inc.</td><td>2125557818</td></tr><tr><td>10121</td><td>34</td><td>81.35</td><td>05-07-2003 00:00</td><td>Reims Collectables</td><td>26.47.1555</td></tr><tr><td>10134</td><td>41</td><td>94.74</td><td>07-01-2003 00:00</td><td>Lyon Souveniers</td><td>+33 1 46 62 7555</td></tr><tr><td>10145</td><td>45</td><td>83.26</td><td>8/25/2003 0:00</td><td>Toys4GrownUps.com</td><td>6265557265</td></tr><tr><td>10159</td><td>49</td><td>100.0</td><td>10-10-2003 00:00</td><td>Corporate Gift Ideas Co.</td><td>6505551386</td></tr></tbody></table></div>"
      ]
     },
     "metadata": {
      "application/vnd.databricks.v1+output": {
       "addedWidgets": {},
       "aggData": [],
       "aggError": "",
       "aggOverflow": false,
       "aggSchema": [],
       "aggSeriesLimitReached": false,
       "aggType": "",
       "arguments": {},
       "columnCustomDisplayInfos": {},
       "data": [
        [
         10107,
         30,
         95.7,
         "2/24/2003 0:00",
         "Land of Toys Inc.",
         "2125557818"
        ],
        [
         10121,
         34,
         81.35,
         "05-07-2003 00:00",
         "Reims Collectables",
         "26.47.1555"
        ],
        [
         10134,
         41,
         94.74,
         "07-01-2003 00:00",
         "Lyon Souveniers",
         "+33 1 46 62 7555"
        ],
        [
         10145,
         45,
         83.26,
         "8/25/2003 0:00",
         "Toys4GrownUps.com",
         "6265557265"
        ],
        [
         10159,
         49,
         100.0,
         "10-10-2003 00:00",
         "Corporate Gift Ideas Co.",
         "6505551386"
        ],
        [
         10107,
         30,
         95.7,
         "2/24/2003 0:00",
         "Land of Toys Inc.",
         "2125557818"
        ],
        [
         10121,
         34,
         81.35,
         "05-07-2003 00:00",
         "Reims Collectables",
         "26.47.1555"
        ],
        [
         10134,
         41,
         94.74,
         "07-01-2003 00:00",
         "Lyon Souveniers",
         "+33 1 46 62 7555"
        ],
        [
         10145,
         45,
         83.26,
         "8/25/2003 0:00",
         "Toys4GrownUps.com",
         "6265557265"
        ],
        [
         10159,
         49,
         100.0,
         "10-10-2003 00:00",
         "Corporate Gift Ideas Co.",
         "6505551386"
        ],
        [
         10107,
         30,
         95.7,
         "2/24/2003 0:00",
         "Land of Toys Inc.",
         "2125557818"
        ],
        [
         10121,
         34,
         81.35,
         "05-07-2003 00:00",
         "Reims Collectables",
         "26.47.1555"
        ],
        [
         10134,
         41,
         94.74,
         "07-01-2003 00:00",
         "Lyon Souveniers",
         "+33 1 46 62 7555"
        ],
        [
         10145,
         45,
         83.26,
         "8/25/2003 0:00",
         "Toys4GrownUps.com",
         "6265557265"
        ],
        [
         10159,
         49,
         100.0,
         "10-10-2003 00:00",
         "Corporate Gift Ideas Co.",
         "6505551386"
        ]
       ],
       "datasetInfos": [],
       "dbfsResultPath": null,
       "isJsonSchema": true,
       "metadata": {},
       "overflow": false,
       "plotOptions": {
        "customPlotOptions": {},
        "displayType": "table",
        "pivotAggregation": null,
        "pivotColumns": null,
        "xColumns": null,
        "yColumns": null
       },
       "removedWidgets": [],
       "schema": [
        {
         "metadata": "{}",
         "name": "ORDERNUMBER",
         "type": "\"integer\""
        },
        {
         "metadata": "{}",
         "name": "QUANTITYORDERED",
         "type": "\"integer\""
        },
        {
         "metadata": "{}",
         "name": "PRICEEACH",
         "type": "\"double\""
        },
        {
         "metadata": "{}",
         "name": "ORDERDATE",
         "type": "\"string\""
        },
        {
         "metadata": "{}",
         "name": "CUSTOMERNAME",
         "type": "\"string\""
        },
        {
         "metadata": "{}",
         "name": "PHONE",
         "type": "\"string\""
        }
       ],
       "type": "table"
      }
     },
     "output_type": "display_data"
    }
   ],
   "source": [
    "# fetching data from specific version\n",
    "version_number=2\n",
    "df_specific_version = spark.read.format('delta').option('versionAsOf', version_number).table(\"skit_training.agg_sales_data\")\n",
    "display(df_specific_version)"
   ]
  },
  {
   "cell_type": "code",
   "execution_count": 0,
   "metadata": {
    "application/vnd.databricks.v1+cell": {
     "cellMetadata": {
      "byteLimit": 2048000,
      "rowLimit": 10000
     },
     "inputWidgets": {},
     "nuid": "ce03da3e-50e5-431e-b06f-17d3a93b0901",
     "showTitle": false,
     "tableResultSettingsMap": {},
     "title": ""
    }
   },
   "outputs": [
    {
     "output_type": "display_data",
     "data": {
      "text/html": [
       "<style scoped>\n",
       "  .table-result-container {\n",
       "    max-height: 300px;\n",
       "    overflow: auto;\n",
       "  }\n",
       "  table, th, td {\n",
       "    border: 1px solid black;\n",
       "    border-collapse: collapse;\n",
       "  }\n",
       "  th, td {\n",
       "    padding: 5px;\n",
       "  }\n",
       "  th {\n",
       "    text-align: left;\n",
       "  }\n",
       "</style><div class='table-result-container'><table class='table-result'><thead style='background-color: white'><tr><th>ORDERNUMBER</th><th>QUANTITYORDERED</th><th>PRICEEACH</th><th>ORDERDATE</th><th>CUSTOMERNAME</th><th>PHONE</th></tr></thead><tbody><tr><td>10134</td><td>41</td><td>94.74</td><td>07-01-2003 00:00</td><td>Lyon Souveniers</td><td>+33 1 46 62 7555</td></tr><tr><td>10145</td><td>45</td><td>83.26</td><td>8/25/2003 0:00</td><td>Toys4GrownUps.com</td><td>6265557265</td></tr><tr><td>10159</td><td>49</td><td>100.0</td><td>10-10-2003 00:00</td><td>Corporate Gift Ideas Co.</td><td>6505551386</td></tr><tr><td>10188</td><td>48</td><td>100.0</td><td>11/18/2003 0:00</td><td>Herkku Gifts</td><td>+47 2267 3215</td></tr><tr><td>10211</td><td>41</td><td>100.0</td><td>1/15/2004 0:00</td><td>Auto Canal Petit</td><td>(1) 47.55.6555</td></tr><tr><td>10275</td><td>45</td><td>92.83</td><td>7/23/2004 0:00</td><td>La Rochelle Gifts</td><td>40.67.8555</td></tr><tr><td>10309</td><td>41</td><td>100.0</td><td>10/15/2004 0:00</td><td>Baane Mini Imports</td><td>07-98 9555</td></tr><tr><td>10318</td><td>46</td><td>94.74</td><td>11-02-2004 00:00</td><td>Diecast Classics Inc.</td><td>2155551555</td></tr><tr><td>10329</td><td>42</td><td>100.0</td><td>11/15/2004 0:00</td><td>Land of Toys Inc.</td><td>2125557818</td></tr><tr><td>10341</td><td>41</td><td>100.0</td><td>11/24/2004 0:00</td><td>Salzburg Collectables</td><td>6562-9555</td></tr><tr><td>10388</td><td>42</td><td>76.36</td><td>03-03-2005 00:00</td><td>FunGiftIdeas.com</td><td>5085552555</td></tr><tr><td>10417</td><td>66</td><td>100.0</td><td>5/13/2005 0:00</td><td>Euro Shopping Channel</td><td>(91) 555 94 44</td></tr><tr><td>10150</td><td>45</td><td>100.0</td><td>9/19/2003 0:00</td><td>Dragon Souveniers, Ltd.</td><td>+65 221 7555</td></tr><tr><td>10194</td><td>42</td><td>100.0</td><td>11/25/2003 0:00</td><td>Saveley & Henriot, Co.</td><td>78.32.5555</td></tr><tr><td>10206</td><td>47</td><td>100.0</td><td>12-05-2003 00:00</td><td>Canadian Gift Exchange Network</td><td>(604) 555-3392</td></tr><tr><td>10304</td><td>47</td><td>100.0</td><td>10-11-2004 00:00</td><td>Auto Assoc. & Cie.</td><td>30.59.8555</td></tr><tr><td>10312</td><td>48</td><td>100.0</td><td>10/21/2004 0:00</td><td>Mini Gifts Distributors Ltd.</td><td>4155551450</td></tr><tr><td>10369</td><td>41</td><td>100.0</td><td>1/20/2005 0:00</td><td>Collectables For Less Inc.</td><td>6175558555</td></tr><tr><td>10424</td><td>50</td><td>100.0</td><td>5/31/2005 0:00</td><td>Euro Shopping Channel</td><td>(91) 555 94 44</td></tr><tr><td>10180</td><td>42</td><td>100.0</td><td>11-11-2003 00:00</td><td>Daedalus Designs Imports</td><td>20.16.1555</td></tr><tr><td>10223</td><td>47</td><td>100.0</td><td>2/20/2004 0:00</td><td>Australian Collectors, Co.</td><td>03 9520 4555</td></tr><tr><td>10251</td><td>44</td><td>100.0</td><td>5/18/2004 0:00</td><td>Tekni Collectables Inc.</td><td>2015559350</td></tr><tr><td>10285</td><td>47</td><td>100.0</td><td>8/27/2004 0:00</td><td>Marta's Replicas Co.</td><td>6175558555</td></tr><tr><td>10318</td><td>45</td><td>100.0</td><td>11-02-2004 00:00</td><td>Diecast Classics Inc.</td><td>2155551555</td></tr><tr><td>10388</td><td>50</td><td>44.51</td><td>03-03-2005 00:00</td><td>FunGiftIdeas.com</td><td>5085552555</td></tr><tr><td>10402</td><td>45</td><td>100.0</td><td>04-07-2005 00:00</td><td>Auto Canal Petit</td><td>(1) 47.55.6555</td></tr><tr><td>10417</td><td>45</td><td>100.0</td><td>5/13/2005 0:00</td><td>Euro Shopping Channel</td><td>(91) 555 94 44</td></tr><tr><td>10120</td><td>46</td><td>100.0</td><td>4/29/2003 0:00</td><td>Australian Collectors, Co.</td><td>03 9520 4555</td></tr><tr><td>10180</td><td>41</td><td>100.0</td><td>11-11-2003 00:00</td><td>Daedalus Designs Imports</td><td>20.16.1555</td></tr><tr><td>10188</td><td>45</td><td>100.0</td><td>11/18/2003 0:00</td><td>Herkku Gifts</td><td>+47 2267 3215</td></tr><tr><td>10201</td><td>49</td><td>100.0</td><td>12-01-2003 00:00</td><td>Mini Wheels Co.</td><td>6505555787</td></tr><tr><td>10223</td><td>49</td><td>100.0</td><td>2/20/2004 0:00</td><td>Australian Collectors, Co.</td><td>03 9520 4555</td></tr><tr><td>10251</td><td>43</td><td>100.0</td><td>5/18/2004 0:00</td><td>Tekni Collectables Inc.</td><td>2015559350</td></tr><tr><td>10263</td><td>41</td><td>100.0</td><td>6/28/2004 0:00</td><td>Gift Depot Inc.</td><td>2035552570</td></tr><tr><td>10403</td><td>66</td><td>100.0</td><td>04-08-2005 00:00</td><td>UK Collectables, Ltd.</td><td>(171) 555-2282</td></tr><tr><td>10417</td><td>56</td><td>100.0</td><td>5/13/2005 0:00</td><td>Euro Shopping Channel</td><td>(91) 555 94 44</td></tr><tr><td>10105</td><td>50</td><td>100.0</td><td>02-11-2003 00:00</td><td>Danish Wholesale Imports</td><td>31 12 3555</td></tr><tr><td>10119</td><td>46</td><td>100.0</td><td>4/28/2003 0:00</td><td>Salzburg Collectables</td><td>6562-9555</td></tr><tr><td>10143</td><td>49</td><td>100.0</td><td>08-10-2003 00:00</td><td>Mini Creations Ltd.</td><td>5085559555</td></tr><tr><td>10167</td><td>44</td><td>100.0</td><td>10/23/2003 0:00</td><td>Scandinavian Gift Ideas</td><td>0695-34 6555</td></tr><tr><td>10197</td><td>45</td><td>100.0</td><td>11/26/2003 0:00</td><td>Enaco Distributors</td><td>(93) 203 4555</td></tr><tr><td>10222</td><td>49</td><td>100.0</td><td>2/19/2004 0:00</td><td>Collectable Mini Designs Co.</td><td>7605558146</td></tr><tr><td>10325</td><td>47</td><td>64.93</td><td>11-05-2004 00:00</td><td>Baane Mini Imports</td><td>07-98 9555</td></tr><tr><td>10359</td><td>48</td><td>54.68</td><td>12/15/2004 0:00</td><td>Reims Collectables</td><td>26.47.1555</td></tr><tr><td>10400</td><td>64</td><td>100.0</td><td>04-01-2005 00:00</td><td>The Sharp Gifts Warehouse</td><td>4085553659</td></tr><tr><td>10103</td><td>42</td><td>100.0</td><td>1/29/2003 0:00</td><td>Baane Mini Imports</td><td>07-98 9555</td></tr><tr><td>10217</td><td>48</td><td>100.0</td><td>02-04-2004 00:00</td><td>Handji Gifts& Co</td><td>+65 224 1555</td></tr><tr><td>10229</td><td>50</td><td>100.0</td><td>03-11-2004 00:00</td><td>Mini Gifts Distributors Ltd.</td><td>4155551450</td></tr><tr><td>10281</td><td>44</td><td>100.0</td><td>8/19/2004 0:00</td><td>Diecast Classics Inc.</td><td>2155551555</td></tr><tr><td>10322</td><td>46</td><td>61.99</td><td>11-04-2004 00:00</td><td>Online Diecast Creations Co.</td><td>6035558647</td></tr><tr><td>10357</td><td>43</td><td>100.0</td><td>12-10-2004 00:00</td><td>Mini Gifts Distributors Ltd.</td><td>4155551450</td></tr><tr><td>10122</td><td>42</td><td>100.0</td><td>05-08-2003 00:00</td><td>Marseille Mini Autos</td><td>91.24.4555</td></tr><tr><td>10135</td><td>42</td><td>100.0</td><td>07-02-2003 00:00</td><td>Mini Gifts Distributors Ltd.</td><td>4155551450</td></tr><tr><td>10147</td><td>48</td><td>100.0</td><td>09-05-2003 00:00</td><td>Collectables For Less Inc.</td><td>6175558555</td></tr><tr><td>10159</td><td>41</td><td>100.0</td><td>10-10-2003 00:00</td><td>Corporate Gift Ideas Co.</td><td>6505551386</td></tr><tr><td>10211</td><td>41</td><td>100.0</td><td>1/15/2004 0:00</td><td>Auto Canal Petit</td><td>(1) 47.55.6555</td></tr><tr><td>10266</td><td>44</td><td>100.0</td><td>07-06-2004 00:00</td><td>L'ordine Souveniers</td><td>0522-556555</td></tr><tr><td>10276</td><td>50</td><td>100.0</td><td>08-02-2004 00:00</td><td>Online Mini Collectables</td><td>6175557555</td></tr><tr><td>10329</td><td>41</td><td>71.47</td><td>11/15/2004 0:00</td><td>Land of Toys Inc.</td><td>2125557818</td></tr><tr><td>10341</td><td>45</td><td>79.65</td><td>11/24/2004 0:00</td><td>Salzburg Collectables</td><td>6562-9555</td></tr><tr><td>10375</td><td>45</td><td>76.0</td><td>02-03-2005 00:00</td><td>La Rochelle Gifts</td><td>40.67.8555</td></tr><tr><td>10105</td><td>41</td><td>100.0</td><td>02-11-2003 00:00</td><td>Danish Wholesale Imports</td><td>31 12 3555</td></tr><tr><td>10127</td><td>46</td><td>100.0</td><td>06-03-2003 00:00</td><td>Muscle Machine Inc</td><td>2125557413</td></tr><tr><td>10165</td><td>44</td><td>100.0</td><td>10/22/2003 0:00</td><td>Dragon Souveniers, Ltd.</td><td>+65 221 7555</td></tr><tr><td>10196</td><td>47</td><td>100.0</td><td>11/26/2003 0:00</td><td>Super Scale Inc.</td><td>2035559545</td></tr><tr><td>10208</td><td>46</td><td>100.0</td><td>01-02-2004 00:00</td><td>Saveley & Henriot, Co.</td><td>78.32.5555</td></tr><tr><td>10231</td><td>42</td><td>100.0</td><td>3/19/2004 0:00</td><td>CAF Imports</td><td>+34 913 728 555</td></tr><tr><td>10247</td><td>44</td><td>100.0</td><td>05-05-2004 00:00</td><td>Suominen Souveniers</td><td>+358 9 8045 555</td></tr><tr><td>10282</td><td>41</td><td>100.0</td><td>8/20/2004 0:00</td><td>Mini Gifts Distributors Ltd.</td><td>4155551450</td></tr><tr><td>10293</td><td>46</td><td>100.0</td><td>09-09-2004 00:00</td><td>Amica Models & Co.</td><td>011-4988555</td></tr><tr><td>10325</td><td>42</td><td>64.0</td><td>11-05-2004 00:00</td><td>Baane Mini Imports</td><td>07-98 9555</td></tr><tr><td>10348</td><td>48</td><td>52.36</td><td>11-01-2004 00:00</td><td>Corrida Auto Replicas, Ltd</td><td>(91) 555 22 82</td></tr><tr><td>10359</td><td>42</td><td>100.0</td><td>12/15/2004 0:00</td><td>Reims Collectables</td><td>26.47.1555</td></tr><tr><td>10164</td><td>49</td><td>100.0</td><td>10/21/2003 0:00</td><td>Mini Auto Werke</td><td>7675-3555</td></tr><tr><td>10174</td><td>43</td><td>100.0</td><td>11-06-2003 00:00</td><td>Australian Gift Network, Co</td><td>61-7-3844-6555</td></tr><tr><td>10183</td><td>41</td><td>100.0</td><td>11/13/2003 0:00</td><td>Classic Gift Ideas, Inc</td><td>2155554695</td></tr><tr><td>10216</td><td>43</td><td>100.0</td><td>02-02-2004 00:00</td><td>Auto Assoc. & Cie.</td><td>30.59.8555</td></tr><tr><td>10258</td><td>41</td><td>100.0</td><td>6/15/2004 0:00</td><td>Tokyo Collectables, Ltd</td><td>+81 3 3584 0555</td></tr><tr><td>10291</td><td>41</td><td>100.0</td><td>09-08-2004 00:00</td><td>Scandinavian Gift Ideas</td><td>0695-34 6555</td></tr><tr><td>10357</td><td>49</td><td>100.0</td><td>12-10-2004 00:00</td><td>Mini Gifts Distributors Ltd.</td><td>4155551450</td></tr><tr><td>10370</td><td>49</td><td>100.0</td><td>1/20/2005 0:00</td><td>Anna's Decorations, Ltd</td><td>02 9936 8555</td></tr><tr><td>10424</td><td>49</td><td>100.0</td><td>5/31/2005 0:00</td><td>Euro Shopping Channel</td><td>(91) 555 94 44</td></tr><tr><td>10121</td><td>50</td><td>100.0</td><td>05-07-2003 00:00</td><td>Reims Collectables</td><td>26.47.1555</td></tr><tr><td>10145</td><td>49</td><td>100.0</td><td>8/25/2003 0:00</td><td>Toys4GrownUps.com</td><td>6265557265</td></tr><tr><td>10224</td><td>43</td><td>100.0</td><td>2/21/2004 0:00</td><td>Daedalus Designs Imports</td><td>20.16.1555</td></tr><tr><td>10251</td><td>46</td><td>100.0</td><td>5/18/2004 0:00</td><td>Tekni Collectables Inc.</td><td>2015559350</td></tr><tr><td>10263</td><td>48</td><td>100.0</td><td>6/28/2004 0:00</td><td>Gift Depot Inc.</td><td>2035552570</td></tr><tr><td>10276</td><td>43</td><td>100.0</td><td>08-02-2004 00:00</td><td>Online Mini Collectables</td><td>6175557555</td></tr><tr><td>10285</td><td>49</td><td>100.0</td><td>8/27/2004 0:00</td><td>Marta's Replicas Co.</td><td>6175558555</td></tr><tr><td>10341</td><td>55</td><td>100.0</td><td>11/24/2004 0:00</td><td>Salzburg Collectables</td><td>6562-9555</td></tr><tr><td>10375</td><td>49</td><td>78.92</td><td>02-03-2005 00:00</td><td>La Rochelle Gifts</td><td>40.67.8555</td></tr><tr><td>10388</td><td>44</td><td>100.0</td><td>03-03-2005 00:00</td><td>FunGiftIdeas.com</td><td>5085552555</td></tr><tr><td>10403</td><td>66</td><td>100.0</td><td>04-08-2005 00:00</td><td>UK Collectables, Ltd.</td><td>(171) 555-2282</td></tr><tr><td>10117</td><td>43</td><td>100.0</td><td>4/16/2003 0:00</td><td>Dragon Souveniers, Ltd.</td><td>+65 221 7555</td></tr><tr><td>10127</td><td>46</td><td>100.0</td><td>06-03-2003 00:00</td><td>Muscle Machine Inc</td><td>2125557413</td></tr><tr><td>10153</td><td>42</td><td>100.0</td><td>9/28/2003 0:00</td><td>Euro Shopping Channel</td><td>(91) 555 94 44</td></tr><tr><td>10176</td><td>47</td><td>100.0</td><td>11-06-2003 00:00</td><td>L'ordine Souveniers</td><td>0522-556555</td></tr><tr><td>10230</td><td>43</td><td>100.0</td><td>3/15/2004 0:00</td><td>Blauer See Auto, Co.</td><td>+49 69 66 90 2555</td></tr><tr><td>10314</td><td>46</td><td>100.0</td><td>10/22/2004 0:00</td><td>Heintze Collectables</td><td>86 21 3555</td></tr><tr><td>10348</td><td>47</td><td>100.0</td><td>11-01-2004 00:00</td><td>Corrida Auto Replicas, Ltd</td><td>(91) 555 22 82</td></tr><tr><td>10358</td><td>49</td><td>55.34</td><td>12-10-2004 00:00</td><td>Euro Shopping Channel</td><td>(91) 555 94 44</td></tr><tr><td>10413</td><td>47</td><td>100.0</td><td>05-05-2005 00:00</td><td>Gift Depot Inc.</td><td>2035552570</td></tr><tr><td>10108</td><td>45</td><td>100.0</td><td>03-03-2003 00:00</td><td>Cruz & Sons Co.</td><td>+63 2 555 3587</td></tr><tr><td>10135</td><td>48</td><td>100.0</td><td>07-02-2003 00:00</td><td>Mini Gifts Distributors Ltd.</td><td>4155551450</td></tr><tr><td>10160</td><td>46</td><td>100.0</td><td>10-11-2003 00:00</td><td>Men 'R' US Retailers, Ltd.</td><td>2155554369</td></tr><tr><td>10170</td><td>47</td><td>100.0</td><td>11-04-2003 00:00</td><td>Mini Auto Werke</td><td>7675-3555</td></tr><tr><td>10276</td><td>47</td><td>100.0</td><td>08-02-2004 00:00</td><td>Online Mini Collectables</td><td>6175557555</td></tr><tr><td>10287</td><td>45</td><td>100.0</td><td>8/30/2004 0:00</td><td>Vida Sport, Ltd</td><td>0897-034555</td></tr><tr><td>10329</td><td>46</td><td>83.63</td><td>11/15/2004 0:00</td><td>Land of Toys Inc.</td><td>2125557818</td></tr><tr><td>10341</td><td>44</td><td>95.93</td><td>11/24/2004 0:00</td><td>Salzburg Collectables</td><td>6562-9555</td></tr><tr><td>10127</td><td>42</td><td>100.0</td><td>06-03-2003 00:00</td><td>Muscle Machine Inc</td><td>2125557413</td></tr><tr><td>10142</td><td>46</td><td>100.0</td><td>08-08-2003 00:00</td><td>Mini Gifts Distributors Ltd.</td><td>4155551450</td></tr><tr><td>10153</td><td>49</td><td>100.0</td><td>9/28/2003 0:00</td><td>Euro Shopping Channel</td><td>(91) 555 94 44</td></tr><tr><td>10176</td><td>50</td><td>100.0</td><td>11-06-2003 00:00</td><td>L'ordine Souveniers</td><td>0522-556555</td></tr><tr><td>10185</td><td>43</td><td>100.0</td><td>11/14/2003 0:00</td><td>Mini Creations Ltd.</td><td>5085559555</td></tr><tr><td>10231</td><td>49</td><td>100.0</td><td>3/19/2004 0:00</td><td>CAF Imports</td><td>+34 913 728 555</td></tr><tr><td>10293</td><td>45</td><td>100.0</td><td>09-09-2004 00:00</td><td>Amica Models & Co.</td><td>011-4988555</td></tr><tr><td>10336</td><td>49</td><td>63.38</td><td>11/20/2004 0:00</td><td>La Corne D'abondance, Co.</td><td>(1) 42.34.2555</td></tr><tr><td>10359</td><td>49</td><td>62.09</td><td>12/15/2004 0:00</td><td>Reims Collectables</td><td>26.47.1555</td></tr><tr><td>10203</td><td>44</td><td>82.99</td><td>12-02-2003 00:00</td><td>Euro Shopping Channel</td><td>(91) 555 94 44</td></tr><tr><td>10287</td><td>41</td><td>69.43</td><td>8/30/2004 0:00</td><td>Vida Sport, Ltd</td><td>0897-034555</td></tr><tr><td>10310</td><td>49</td><td>81.4</td><td>10/16/2004 0:00</td><td>Toms Spezialitten, Ltd</td><td>0221-5554327</td></tr><tr><td>10104</td><td>41</td><td>100.0</td><td>1/31/2003 0:00</td><td>Euro Shopping Channel</td><td>(91) 555 94 44</td></tr><tr><td>10115</td><td>46</td><td>100.0</td><td>04-04-2003 00:00</td><td>Classic Legends Inc.</td><td>2125558493</td></tr><tr><td>10165</td><td>48</td><td>100.0</td><td>10/22/2003 0:00</td><td>Dragon Souveniers, Ltd.</td><td>+65 221 7555</td></tr><tr><td>10195</td><td>49</td><td>100.0</td><td>11/25/2003 0:00</td><td>Mini Classics</td><td>9145554562</td></tr><tr><td>10219</td><td>48</td><td>100.0</td><td>02-10-2004 00:00</td><td>Signal Collectibles Ltd.</td><td>4155554312</td></tr><tr><td>10246</td><td>46</td><td>100.0</td><td>05-05-2004 00:00</td><td>Euro Shopping Channel</td><td>(91) 555 94 44</td></tr><tr><td>10259</td><td>46</td><td>100.0</td><td>6/15/2004 0:00</td><td>Handji Gifts& Co</td><td>+65 224 1555</td></tr><tr><td>10281</td><td>41</td><td>100.0</td><td>8/19/2004 0:00</td><td>Diecast Classics Inc.</td><td>2155551555</td></tr><tr><td>10314</td><td>45</td><td>100.0</td><td>10/22/2004 0:00</td><td>Heintze Collectables</td><td>86 21 3555</td></tr><tr><td>10349</td><td>48</td><td>100.0</td><td>12-01-2004 00:00</td><td>Muscle Machine Inc</td><td>2125557413</td></tr><tr><td>10358</td><td>42</td><td>64.16</td><td>12-10-2004 00:00</td><td>Euro Shopping Channel</td><td>(91) 555 94 44</td></tr><tr><td>10371</td><td>49</td><td>35.71</td><td>1/23/2005 0:00</td><td>Mini Gifts Distributors Ltd.</td><td>4155551450</td></tr><tr><td>10412</td><td>54</td><td>100.0</td><td>05-03-2005 00:00</td><td>Euro Shopping Channel</td><td>(91) 555 94 44</td></tr><tr><td>10160</td><td>50</td><td>100.0</td><td>10-11-2003 00:00</td><td>Men 'R' US Retailers, Ltd.</td><td>2155554369</td></tr><tr><td>10170</td><td>41</td><td>100.0</td><td>11-04-2003 00:00</td><td>Mini Auto Werke</td><td>7675-3555</td></tr><tr><td>10203</td><td>47</td><td>100.0</td><td>12-02-2003 00:00</td><td>Euro Shopping Channel</td><td>(91) 555 94 44</td></tr><tr><td>10253</td><td>41</td><td>100.0</td><td>06-01-2004 00:00</td><td>UK Collectables, Ltd.</td><td>(171) 555-2282</td></tr><tr><td>10341</td><td>55</td><td>75.2</td><td>11/24/2004 0:00</td><td>Salzburg Collectables</td><td>6562-9555</td></tr><tr><td>10363</td><td>46</td><td>88.45</td><td>01-06-2005 00:00</td><td>Suominen Souveniers</td><td>+358 9 8045 555</td></tr><tr><td>10377</td><td>50</td><td>100.0</td><td>02-09-2005 00:00</td><td>Toys of Finland, Co.</td><td>90-224 8555</td></tr><tr><td>10389</td><td>47</td><td>100.0</td><td>03-03-2005 00:00</td><td>Scandinavian Gift Ideas</td><td>0695-34 6555</td></tr><tr><td>10405</td><td>97</td><td>93.28</td><td>4/14/2005 0:00</td><td>Mini Caravy</td><td>88.60.1555</td></tr><tr><td>10113</td><td>49</td><td>100.0</td><td>3/26/2003 0:00</td><td>Mini Gifts Distributors Ltd.</td><td>4155551450</td></tr><tr><td>10174</td><td>48</td><td>93.34</td><td>11-06-2003 00:00</td><td>Australian Gift Network, Co</td><td>61-7-3844-6555</td></tr><tr><td>10215</td><td>46</td><td>100.0</td><td>1/29/2004 0:00</td><td>West Coast Collectables Co.</td><td>3105553722</td></tr><tr><td>10258</td><td>41</td><td>100.0</td><td>6/15/2004 0:00</td><td>Tokyo Collectables, Ltd</td><td>+81 3 3584 0555</td></tr><tr><td>10270</td><td>43</td><td>96.84</td><td>7/19/2004 0:00</td><td>Souveniers And Things Co.</td><td>+61 2 9495 8555</td></tr><tr><td>10291</td><td>41</td><td>100.0</td><td>09-08-2004 00:00</td><td>Scandinavian Gift Ideas</td><td>0695-34 6555</td></tr><tr><td>10304</td><td>46</td><td>98.0</td><td>10-11-2004 00:00</td><td>Auto Assoc. & Cie.</td><td>30.59.8555</td></tr><tr><td>10347</td><td>42</td><td>49.6</td><td>11/29/2004 0:00</td><td>Australian Collectors, Co.</td><td>03 9520 4555</td></tr><tr><td>10381</td><td>48</td><td>98.0</td><td>2/17/2005 0:00</td><td>Corporate Gift Ideas Co.</td><td>6505551386</td></tr><tr><td>10424</td><td>54</td><td>100.0</td><td>5/31/2005 0:00</td><td>Euro Shopping Channel</td><td>(91) 555 94 44</td></tr><tr><td>10181</td><td>44</td><td>100.0</td><td>11-12-2003 00:00</td><td>Herkku Gifts</td><td>+47 2267 3215</td></tr><tr><td>10204</td><td>42</td><td>100.0</td><td>12-02-2003 00:00</td><td>Muscle Machine Inc</td><td>2125557413</td></tr><tr><td>10240</td><td>41</td><td>100.0</td><td>4/13/2004 0:00</td><td>Osaka Souveniers Co.</td><td>+81 06 6342 5555</td></tr><tr><td>10287</td><td>41</td><td>100.0</td><td>8/30/2004 0:00</td><td>Vida Sport, Ltd</td><td>0897-034555</td></tr><tr><td>10321</td><td>41</td><td>100.0</td><td>11-04-2004 00:00</td><td>FunGiftIdeas.com</td><td>5085552555</td></tr><tr><td>10331</td><td>46</td><td>100.0</td><td>11/17/2004 0:00</td><td>Motor Mint Distributors Inc.</td><td>2155559857</td></tr><tr><td>10356</td><td>43</td><td>97.6</td><td>12-09-2004 00:00</td><td>Lyon Souveniers</td><td>+33 1 46 62 7555</td></tr><tr><td>10406</td><td>61</td><td>100.0</td><td>4/15/2005 0:00</td><td>Danish Wholesale Imports</td><td>31 12 3555</td></tr><tr><td>10149</td><td>50</td><td>100.0</td><td>09-12-2003 00:00</td><td>Signal Collectibles Ltd.</td><td>4155554312</td></tr><tr><td>10162</td><td>48</td><td>91.44</td><td>10/18/2003 0:00</td><td>Corporate Gift Ideas Co.</td><td>6505551386</td></tr><tr><td>10173</td><td>43</td><td>100.0</td><td>11-05-2003 00:00</td><td>Rovelli Gifts</td><td>035-640555</td></tr><tr><td>10280</td><td>50</td><td>100.0</td><td>8/17/2004 0:00</td><td>Amica Models & Co.</td><td>011-4988555</td></tr><tr><td>10312</td><td>43</td><td>89.38</td><td>10/21/2004 0:00</td><td>Mini Gifts Distributors Ltd.</td><td>4155551450</td></tr><tr><td>10322</td><td>43</td><td>86.3</td><td>11-04-2004 00:00</td><td>Online Diecast Creations Co.</td><td>6035558647</td></tr><tr><td>10332</td><td>46</td><td>95.13</td><td>11/17/2004 0:00</td><td>AV Stores, Co.</td><td>(171) 555-1555</td></tr><tr><td>10346</td><td>42</td><td>36.11</td><td>11/29/2004 0:00</td><td>Signal Gift Stores</td><td>7025551838</td></tr><tr><td>10356</td><td>50</td><td>50.18</td><td>12-09-2004 00:00</td><td>Lyon Souveniers</td><td>+33 1 46 62 7555</td></tr><tr><td>10369</td><td>44</td><td>100.0</td><td>1/20/2005 0:00</td><td>Collectables For Less Inc.</td><td>6175558555</td></tr><tr><td>10422</td><td>51</td><td>95.55</td><td>5/30/2005 0:00</td><td>Diecast Classics Inc.</td><td>2155551555</td></tr><tr><td>10102</td><td>41</td><td>50.14</td><td>01-10-2003 00:00</td><td>Vitachrome Inc.</td><td>2125551500</td></tr><tr><td>10111</td><td>48</td><td>49.06</td><td>3/25/2003 0:00</td><td>Mini Wheels Co.</td><td>6505555787</td></tr><tr><td>10126</td><td>42</td><td>54.99</td><td>5/28/2003 0:00</td><td>Corrida Auto Replicas, Ltd</td><td>(91) 555 22 82</td></tr><tr><td>10139</td><td>49</td><td>43.13</td><td>7/16/2003 0:00</td><td>Souveniers And Things Co.</td><td>+61 2 9495 8555</td></tr><tr><td>10162</td><td>45</td><td>51.21</td><td>10/18/2003 0:00</td><td>Corporate Gift Ideas Co.</td><td>6505551386</td></tr><tr><td>10173</td><td>48</td><td>44.21</td><td>11-05-2003 00:00</td><td>Rovelli Gifts</td><td>035-640555</td></tr><tr><td>10193</td><td>46</td><td>53.37</td><td>11/21/2003 0:00</td><td>Australian Collectables, Ltd</td><td>61-9-3844-6555</td></tr><tr><td>10205</td><td>48</td><td>63.61</td><td>12-03-2003 00:00</td><td>Euro Shopping Channel</td><td>(91) 555 94 44</td></tr><tr><td>10322</td><td>41</td><td>57.68</td><td>11-04-2004 00:00</td><td>Online Diecast Creations Co.</td><td>6035558647</td></tr><tr><td>10391</td><td>42</td><td>100.0</td><td>03-09-2005 00:00</td><td>Anna's Decorations, Ltd</td><td>02 9936 8555</td></tr><tr><td>10137</td><td>44</td><td>99.55</td><td>07-10-2003 00:00</td><td>Reims Collectables</td><td>26.47.1555</td></tr><tr><td>10148</td><td>47</td><td>100.0</td><td>09-11-2003 00:00</td><td>Anna's Decorations, Ltd</td><td>02 9936 8555</td></tr><tr><td>10161</td><td>43</td><td>100.0</td><td>10/17/2003 0:00</td><td>Heintze Collectables</td><td>86 21 3555</td></tr><tr><td>10172</td><td>42</td><td>100.0</td><td>11-05-2003 00:00</td><td>Gift Depot Inc.</td><td>2035552570</td></tr><tr><td>10181</td><td>42</td><td>100.0</td><td>11-12-2003 00:00</td><td>Herkku Gifts</td><td>+47 2267 3215</td></tr><tr><td>10321</td><td>44</td><td>100.0</td><td>11-04-2004 00:00</td><td>FunGiftIdeas.com</td><td>5085552555</td></tr><tr><td>10331</td><td>44</td><td>100.0</td><td>11/17/2004 0:00</td><td>Motor Mint Distributors Inc.</td><td>2155559857</td></tr><tr><td>10367</td><td>49</td><td>56.3</td><td>01-12-2005 00:00</td><td>Toys4GrownUps.com</td><td>6265557265</td></tr><tr><td>10407</td><td>59</td><td>100.0</td><td>4/22/2005 0:00</td><td>The Sharp Gifts Warehouse</td><td>4085553659</td></tr><tr><td>10119</td><td>43</td><td>100.0</td><td>4/28/2003 0:00</td><td>Salzburg Collectables</td><td>6562-9555</td></tr><tr><td>10167</td><td>43</td><td>100.0</td><td>10/23/2003 0:00</td><td>Scandinavian Gift Ideas</td><td>0695-34 6555</td></tr><tr><td>10178</td><td>42</td><td>100.0</td><td>11-08-2003 00:00</td><td>Alpha Cognac</td><td>61.77.6555</td></tr><tr><td>10198</td><td>42</td><td>100.0</td><td>11/27/2003 0:00</td><td>Cruz & Sons Co.</td><td>+63 2 555 3587</td></tr><tr><td>10222</td><td>49</td><td>100.0</td><td>2/19/2004 0:00</td><td>Collectable Mini Designs Co.</td><td>7605558146</td></tr><tr><td>10250</td><td>45</td><td>100.0</td><td>05-11-2004 00:00</td><td>The Sharp Gifts Warehouse</td><td>4085553659</td></tr><tr><td>10262</td><td>49</td><td>100.0</td><td>6/24/2004 0:00</td><td>Euro Shopping Channel</td><td>(91) 555 94 44</td></tr><tr><td>10274</td><td>41</td><td>100.0</td><td>7/21/2004 0:00</td><td>Collectables For Less Inc.</td><td>6175558555</td></tr><tr><td>10284</td><td>45</td><td>100.0</td><td>8/21/2004 0:00</td><td>Norway Gifts By Mail, Co.</td><td>+47 2212 1555</td></tr><tr><td>10338</td><td>41</td><td>100.0</td><td>11/22/2004 0:00</td><td>Royale Belge</td><td>(071) 23 67 2555</td></tr><tr><td>10110</td><td>42</td><td>100.0</td><td>3/18/2003 0:00</td><td>AV Stores, Co.</td><td>(171) 555-1555</td></tr><tr><td>10182</td><td>44</td><td>100.0</td><td>11-12-2003 00:00</td><td>Mini Gifts Distributors Ltd.</td><td>4155551450</td></tr><tr><td>10241</td><td>41</td><td>100.0</td><td>4/13/2004 0:00</td><td>Mini Caravy</td><td>88.60.1555</td></tr><tr><td>10302</td><td>43</td><td>100.0</td><td>10-06-2003 00:00</td><td>UK Collectables, Ltd.</td><td>(171) 555-2282</td></tr><tr><td>10312</td><td>48</td><td>100.0</td><td>10/21/2004 0:00</td><td>Mini Gifts Distributors Ltd.</td><td>4155551450</td></tr><tr><td>10331</td><td>44</td><td>74.04</td><td>11/17/2004 0:00</td><td>Motor Mint Distributors Inc.</td><td>2155559857</td></tr><tr><td>10344</td><td>45</td><td>100.0</td><td>11/25/2004 0:00</td><td>Marseille Mini Autos</td><td>91.24.4555</td></tr><tr><td>10407</td><td>76</td><td>100.0</td><td>4/22/2005 0:00</td><td>The Sharp Gifts Warehouse</td><td>4085553659</td></tr><tr><td>10122</td><td>43</td><td>72.38</td><td>05-08-2003 00:00</td><td>Marseille Mini Autos</td><td>91.24.4555</td></tr><tr><td>10135</td><td>48</td><td>79.31</td><td>07-02-2003 00:00</td><td>Mini Gifts Distributors Ltd.</td><td>4155551450</td></tr><tr><td>10192</td><td>45</td><td>90.86</td><td>11/20/2003 0:00</td><td>Online Diecast Creations Co.</td><td>6035558647</td></tr><tr><td>10203</td><td>45</td><td>85.47</td><td>12-02-2003 00:00</td><td>Euro Shopping Channel</td><td>(91) 555 94 44</td></tr><tr><td>10225</td><td>47</td><td>64.68</td><td>2/22/2004 0:00</td><td>Vida Sport, Ltd</td><td>0897-034555</td></tr><tr><td>10239</td><td>46</td><td>73.92</td><td>04-12-2004 00:00</td><td>Oulu Toy Supplies, Inc.</td><td>981-443655</td></tr><tr><td>10287</td><td>44</td><td>82.39</td><td>8/30/2004 0:00</td><td>Vida Sport, Ltd</td><td>0897-034555</td></tr><tr><td>10300</td><td>41</td><td>92.4</td><td>10-04-2003 00:00</td><td>Blauer See Auto, Co.</td><td>+49 69 66 90 2555</td></tr><tr><td>10342</td><td>55</td><td>65.45</td><td>11/24/2004 0:00</td><td>Australian Collectors, Co.</td><td>03 9520 4555</td></tr><tr><td>10389</td><td>49</td><td>79.22</td><td>03-03-2005 00:00</td><td>Scandinavian Gift Ideas</td><td>0695-34 6555</td></tr><tr><td>10405</td><td>61</td><td>73.92</td><td>4/14/2005 0:00</td><td>Mini Caravy</td><td>88.60.1555</td></tr><tr><td>10161</td><td>48</td><td>100.0</td><td>10/17/2003 0:00</td><td>Heintze Collectables</td><td>86 21 3555</td></tr><tr><td>10192</td><td>47</td><td>100.0</td><td>11/20/2003 0:00</td><td>Online Diecast Creations Co.</td><td>6035558647</td></tr><tr><td>10212</td><td>41</td><td>100.0</td><td>1/16/2004 0:00</td><td>Euro Shopping Channel</td><td>(91) 555 94 44</td></tr><tr><td>10266</td><td>49</td><td>100.0</td><td>07-06-2004 00:00</td><td>L'ordine Souveniers</td><td>0522-556555</td></tr><tr><td>10301</td><td>47</td><td>100.0</td><td>10-05-2003 00:00</td><td>Norway Gifts By Mail, Co.</td><td>+47 2212 1555</td></tr><tr><td>10406</td><td>48</td><td>100.0</td><td>4/15/2005 0:00</td><td>Danish Wholesale Imports</td><td>31 12 3555</td></tr><tr><td>10115</td><td>46</td><td>100.0</td><td>04-04-2003 00:00</td><td>Classic Legends Inc.</td><td>2125558493</td></tr><tr><td>10127</td><td>45</td><td>100.0</td><td>06-03-2003 00:00</td><td>Muscle Machine Inc</td><td>2125557413</td></tr><tr><td>10151</td><td>43</td><td>100.0</td><td>9/21/2003 0:00</td><td>Oulu Toy Supplies, Inc.</td><td>981-443655</td></tr><tr><td>10184</td><td>46</td><td>100.0</td><td>11/14/2003 0:00</td><td>Iberia Gift Imports, Corp.</td><td>(95) 555 82 82</td></tr><tr><td>10207</td><td>44</td><td>100.0</td><td>12-09-2003 00:00</td><td>Diecast Collectables</td><td>6175552555</td></tr><tr><td>10219</td><td>43</td><td>100.0</td><td>02-10-2004 00:00</td><td>Signal Collectibles Ltd.</td><td>4155554312</td></tr><tr><td>10230</td><td>49</td><td>100.0</td><td>3/15/2004 0:00</td><td>Blauer See Auto, Co.</td><td>+49 69 66 90 2555</td></tr><tr><td>10271</td><td>50</td><td>100.0</td><td>7/20/2004 0:00</td><td>Mini Gifts Distributors Ltd.</td><td>4155551450</td></tr><tr><td>10314</td><td>42</td><td>100.0</td><td>10/22/2004 0:00</td><td>Heintze Collectables</td><td>86 21 3555</td></tr><tr><td>10324</td><td>47</td><td>100.0</td><td>11-05-2004 00:00</td><td>Vitachrome Inc.</td><td>2125551500</td></tr><tr><td>10336</td><td>49</td><td>100.0</td><td>11/20/2004 0:00</td><td>La Corne D'abondance, Co.</td><td>(1) 42.34.2555</td></tr><tr><td>10412</td><td>41</td><td>100.0</td><td>05-03-2005 00:00</td><td>Euro Shopping Channel</td><td>(91) 555 94 44</td></tr><tr><td>10100</td><td>50</td><td>67.8</td><td>01-06-2003 00:00</td><td>Online Diecast Creations Co.</td><td>6035558647</td></tr><tr><td>10124</td><td>42</td><td>53.88</td><td>5/21/2003 0:00</td><td>Signal Gift Stores</td><td>7025551838</td></tr><tr><td>10193</td><td>42</td><td>59.33</td><td>11/21/2003 0:00</td><td>Australian Collectables, Ltd</td><td>61-9-3844-6555</td></tr><tr><td>10303</td><td>46</td><td>49.04</td><td>10-06-2004 00:00</td><td>Iberia Gift Imports, Corp.</td><td>(95) 555 82 82</td></tr><tr><td>10367</td><td>45</td><td>100.0</td><td>01-12-2005 00:00</td><td>Toys4GrownUps.com</td><td>6265557265</td></tr><tr><td>10407</td><td>42</td><td>72.65</td><td>4/22/2005 0:00</td><td>The Sharp Gifts Warehouse</td><td>4085553659</td></tr><tr><td>10127</td><td>45</td><td>100.0</td><td>06-03-2003 00:00</td><td>Muscle Machine Inc</td><td>2125557413</td></tr><tr><td>10141</td><td>47</td><td>100.0</td><td>08-01-2003 00:00</td><td>Suominen Souveniers</td><td>+358 9 8045 555</td></tr><tr><td>10151</td><td>49</td><td>100.0</td><td>9/21/2003 0:00</td><td>Oulu Toy Supplies, Inc.</td><td>981-443655</td></tr><tr><td>10165</td><td>46</td><td>100.0</td><td>10/22/2003 0:00</td><td>Dragon Souveniers, Ltd.</td><td>+65 221 7555</td></tr><tr><td>10175</td><td>48</td><td>100.0</td><td>11-06-2003 00:00</td><td>Stylish Desk Decors, Co.</td><td>(171) 555-0297</td></tr><tr><td>10184</td><td>46</td><td>100.0</td><td>11/14/2003 0:00</td><td>Iberia Gift Imports, Corp.</td><td>(95) 555 82 82</td></tr><tr><td>10207</td><td>43</td><td>100.0</td><td>12-09-2003 00:00</td><td>Diecast Collectables</td><td>6175552555</td></tr><tr><td>10271</td><td>50</td><td>100.0</td><td>7/20/2004 0:00</td><td>Mini Gifts Distributors Ltd.</td><td>4155551450</td></tr><tr><td>10281</td><td>48</td><td>100.0</td><td>8/19/2004 0:00</td><td>Diecast Classics Inc.</td><td>2155551555</td></tr><tr><td>10292</td><td>41</td><td>100.0</td><td>09-08-2004 00:00</td><td>Land of Toys Inc.</td><td>2125557818</td></tr><tr><td>10334</td><td>46</td><td>100.0</td><td>11/19/2004 0:00</td><td>Volvo Model Replicas, Co</td><td>0921-12 3555</td></tr><tr><td>10412</td><td>56</td><td>98.18</td><td>05-03-2005 00:00</td><td>Euro Shopping Channel</td><td>(91) 555 94 44</td></tr><tr><td>10124</td><td>42</td><td>100.0</td><td>5/21/2003 0:00</td><td>Signal Gift Stores</td><td>7025551838</td></tr><tr><td>10193</td><td>44</td><td>100.0</td><td>11/21/2003 0:00</td><td>Australian Collectables, Ltd</td><td>61-9-3844-6555</td></tr><tr><td>10227</td><td>46</td><td>100.0</td><td>03-02-2004 00:00</td><td>Saveley & Henriot, Co.</td><td>78.32.5555</td></tr><tr><td>10243</td><td>47</td><td>100.0</td><td>4/26/2004 0:00</td><td>Diecast Collectables</td><td>6175552555</td></tr><tr><td>10322</td><td>50</td><td>100.0</td><td>11-04-2004 00:00</td><td>Online Diecast Creations Co.</td><td>6035558647</td></tr><tr><td>10420</td><td>45</td><td>100.0</td><td>5/29/2005 0:00</td><td>Souveniers And Things Co.</td><td>+61 2 9495 8555</td></tr><tr><td>10114</td><td>45</td><td>68.67</td><td>04-01-2003 00:00</td><td>La Corne D'abondance, Co.</td><td>(1) 42.34.2555</td></tr><tr><td>10126</td><td>43</td><td>65.02</td><td>5/28/2003 0:00</td><td>Corrida Auto Replicas, Ltd</td><td>(91) 555 22 82</td></tr><tr><td>10140</td><td>46</td><td>61.99</td><td>7/24/2003 0:00</td><td>Technics Stores Inc.</td><td>6505556809</td></tr><tr><td>10175</td><td>41</td><td>69.28</td><td>11-06-2003 00:00</td><td>Stylish Desk Decors, Co.</td><td>(171) 555-0297</td></tr><tr><td>10184</td><td>44</td><td>60.16</td><td>11/14/2003 0:00</td><td>Iberia Gift Imports, Corp.</td><td>(95) 555 82 82</td></tr><tr><td>10194</td><td>45</td><td>70.49</td><td>11/25/2003 0:00</td><td>Saveley & Henriot, Co.</td><td>78.32.5555</td></tr><tr><td>10305</td><td>41</td><td>53.48</td><td>10/13/2004 0:00</td><td>Marta's Replicas Co.</td><td>6175558555</td></tr><tr><td>10347</td><td>50</td><td>100.0</td><td>11/29/2004 0:00</td><td>Australian Collectors, Co.</td><td>03 9520 4555</td></tr><tr><td>10357</td><td>41</td><td>61.99</td><td>12-10-2004 00:00</td><td>Mini Gifts Distributors Ltd.</td><td>4155551450</td></tr><tr><td>10391</td><td>44</td><td>38.5</td><td>03-09-2005 00:00</td><td>Anna's Decorations, Ltd</td><td>02 9936 8555</td></tr><tr><td>10412</td><td>47</td><td>61.99</td><td>05-03-2005 00:00</td><td>Euro Shopping Channel</td><td>(91) 555 94 44</td></tr><tr><td>10133</td><td>49</td><td>69.27</td><td>6/27/2003 0:00</td><td>Euro Shopping Channel</td><td>(91) 555 94 44</td></tr><tr><td>10210</td><td>50</td><td>76.88</td><td>01-12-2004 00:00</td><td>Osaka Souveniers Co.</td><td>+81 06 6342 5555</td></tr><tr><td>10223</td><td>47</td><td>100.0</td><td>2/20/2004 0:00</td><td>Australian Collectors, Co.</td><td>03 9520 4555</td></tr><tr><td>10327</td><td>45</td><td>100.0</td><td>11-10-2004 00:00</td><td>Danish Wholesale Imports</td><td>31 12 3555</td></tr><tr><td>10374</td><td>42</td><td>69.27</td><td>02-02-2005 00:00</td><td>Australian Gift Network, Co</td><td>61-7-3844-6555</td></tr><tr><td>10401</td><td>42</td><td>76.03</td><td>04-03-2005 00:00</td><td>Tekni Collectables Inc.</td><td>2015559350</td></tr><tr><td>10120</td><td>46</td><td>58.15</td><td>4/29/2003 0:00</td><td>Australian Collectors, Co.</td><td>03 9520 4555</td></tr><tr><td>10159</td><td>42</td><td>51.48</td><td>10-10-2003 00:00</td><td>Corporate Gift Ideas Co.</td><td>6505551386</td></tr><tr><td>10168</td><td>46</td><td>61.18</td><td>10/28/2003 0:00</td><td>Technics Stores Inc.</td><td>6505556809</td></tr><tr><td>10318</td><td>42</td><td>52.7</td><td>11-02-2004 00:00</td><td>Diecast Classics Inc.</td><td>2155551555</td></tr><tr><td>10402</td><td>55</td><td>55.72</td><td>04-07-2005 00:00</td><td>Auto Canal Petit</td><td>(1) 47.55.6555</td></tr><tr><td>10139</td><td>41</td><td>100.0</td><td>7/16/2003 0:00</td><td>Souveniers And Things Co.</td><td>+61 2 9495 8555</td></tr><tr><td>10162</td><td>48</td><td>100.0</td><td>10/18/2003 0:00</td><td>Corporate Gift Ideas Co.</td><td>6505551386</td></tr><tr><td>10214</td><td>50</td><td>100.0</td><td>1/26/2004 0:00</td><td>Corrida Auto Replicas, Ltd</td><td>(91) 555 22 82</td></tr><tr><td>10244</td><td>43</td><td>100.0</td><td>4/29/2004 0:00</td><td>Euro Shopping Channel</td><td>(91) 555 94 44</td></tr><tr><td>10289</td><td>43</td><td>100.0</td><td>09-03-2004 00:00</td><td>Herkku Gifts</td><td>+47 2267 3215</td></tr><tr><td>10123</td><td>46</td><td>100.0</td><td>5/20/2003 0:00</td><td>Atelier graphique</td><td>40.32.2555</td></tr><tr><td>10241</td><td>44</td><td>100.0</td><td>4/13/2004 0:00</td><td>Mini Caravy</td><td>88.60.1555</td></tr><tr><td>10287</td><td>44</td><td>100.0</td><td>8/30/2004 0:00</td><td>Vida Sport, Ltd</td><td>0897-034555</td></tr><tr><td>10311</td><td>43</td><td>100.0</td><td>10/16/2004 0:00</td><td>Euro Shopping Channel</td><td>(91) 555 94 44</td></tr><tr><td>10366</td><td>49</td><td>100.0</td><td>01-10-2005 00:00</td><td>Royale Belge</td><td>(071) 23 67 2555</td></tr><tr><td>10407</td><td>41</td><td>100.0</td><td>4/22/2005 0:00</td><td>The Sharp Gifts Warehouse</td><td>4085553659</td></tr><tr><td>10419</td><td>55</td><td>100.0</td><td>5/17/2005 0:00</td><td>Salzburg Collectables</td><td>6562-9555</td></tr><tr><td>10139</td><td>46</td><td>100.0</td><td>7/16/2003 0:00</td><td>Souveniers And Things Co.</td><td>+61 2 9495 8555</td></tr><tr><td>10150</td><td>47</td><td>91.18</td><td>9/19/2003 0:00</td><td>Dragon Souveniers, Ltd.</td><td>+65 221 7555</td></tr><tr><td>10174</td><td>46</td><td>100.0</td><td>11-06-2003 00:00</td><td>Australian Gift Network, Co</td><td>61-7-3844-6555</td></tr><tr><td>10215</td><td>49</td><td>100.0</td><td>1/29/2004 0:00</td><td>West Coast Collectables Co.</td><td>3105553722</td></tr><tr><td>10257</td><td>50</td><td>88.14</td><td>6/14/2004 0:00</td><td>The Sharp Gifts Warehouse</td><td>4085553659</td></tr><tr><td>10280</td><td>46</td><td>100.0</td><td>8/17/2004 0:00</td><td>Amica Models & Co.</td><td>011-4988555</td></tr><tr><td>10291</td><td>47</td><td>100.0</td><td>09-08-2004 00:00</td><td>Scandinavian Gift Ideas</td><td>0695-34 6555</td></tr><tr><td>10304</td><td>46</td><td>100.0</td><td>10-11-2004 00:00</td><td>Auto Assoc. & Cie.</td><td>30.59.8555</td></tr><tr><td>10347</td><td>48</td><td>100.0</td><td>11/29/2004 0:00</td><td>Australian Collectors, Co.</td><td>03 9520 4555</td></tr><tr><td>10357</td><td>41</td><td>87.13</td><td>12-10-2004 00:00</td><td>Mini Gifts Distributors Ltd.</td><td>4155551450</td></tr><tr><td>10369</td><td>42</td><td>100.0</td><td>1/20/2005 0:00</td><td>Collectables For Less Inc.</td><td>6175558555</td></tr><tr><td>10381</td><td>41</td><td>100.0</td><td>2/17/2005 0:00</td><td>Corporate Gift Ideas Co.</td><td>6505551386</td></tr><tr><td>10126</td><td>46</td><td>73.7</td><td>5/28/2003 0:00</td><td>Corrida Auto Replicas, Ltd</td><td>(91) 555 22 82</td></tr><tr><td>10163</td><td>48</td><td>69.96</td><td>10/20/2003 0:00</td><td>Classic Legends Inc.</td><td>2125558493</td></tr><tr><td>10228</td><td>45</td><td>63.71</td><td>03-10-2004 00:00</td><td>Cambridge Collectables Co.</td><td>6175555555</td></tr><tr><td>10257</td><td>49</td><td>53.72</td><td>6/14/2004 0:00</td><td>The Sharp Gifts Warehouse</td><td>4085553659</td></tr><tr><td>10280</td><td>43</td><td>68.71</td><td>8/17/2004 0:00</td><td>Amica Models & Co.</td><td>011-4988555</td></tr><tr><td>10322</td><td>41</td><td>29.87</td><td>11-04-2004 00:00</td><td>Online Diecast Creations Co.</td><td>6035558647</td></tr><tr><td>10357</td><td>49</td><td>70.58</td><td>12-10-2004 00:00</td><td>Mini Gifts Distributors Ltd.</td><td>4155551450</td></tr><tr><td>10106</td><td>41</td><td>83.44</td><td>2/17/2003 0:00</td><td>Rovelli Gifts</td><td>035-640555</td></tr><tr><td>10143</td><td>46</td><td>74.84</td><td>08-10-2003 00:00</td><td>Mini Creations Ltd.</td><td>5085559555</td></tr><tr><td>10155</td><td>44</td><td>79.14</td><td>10-06-2003 00:00</td><td>Toys of Finland, Co.</td><td>90-224 8555</td></tr><tr><td>10167</td><td>46</td><td>73.12</td><td>10/23/2003 0:00</td><td>Scandinavian Gift Ideas</td><td>0695-34 6555</td></tr><tr><td>10178</td><td>41</td><td>81.72</td><td>11-08-2003 00:00</td><td>Alpha Cognac</td><td>61.77.6555</td></tr><tr><td>10197</td><td>46</td><td>87.74</td><td>11/26/2003 0:00</td><td>Enaco Distributors</td><td>(93) 203 4555</td></tr><tr><td>10222</td><td>49</td><td>94.62</td><td>2/19/2004 0:00</td><td>Collectable Mini Designs Co.</td><td>7605558146</td></tr><tr><td>10350</td><td>43</td><td>64.97</td><td>12-02-2004 00:00</td><td>Euro Shopping Channel</td><td>(91) 555 94 44</td></tr><tr><td>10414</td><td>44</td><td>73.98</td><td>05-06-2005 00:00</td><td>Gifts4AllAges.com</td><td>6175559555</td></tr><tr><td>10111</td><td>43</td><td>100.0</td><td>3/25/2003 0:00</td><td>Mini Wheels Co.</td><td>6505555787</td></tr><tr><td>10215</td><td>49</td><td>100.0</td><td>1/29/2004 0:00</td><td>West Coast Collectables Co.</td><td>3105553722</td></tr><tr><td>10322</td><td>48</td><td>47.04</td><td>11-04-2004 00:00</td><td>Online Diecast Creations Co.</td><td>6035558647</td></tr><tr><td>10347</td><td>45</td><td>100.0</td><td>11/29/2004 0:00</td><td>Australian Collectors, Co.</td><td>03 9520 4555</td></tr><tr><td>10357</td><td>44</td><td>100.0</td><td>12-10-2004 00:00</td><td>Mini Gifts Distributors Ltd.</td><td>4155551450</td></tr><tr><td>10128</td><td>41</td><td>100.0</td><td>06-06-2003 00:00</td><td>Euro Shopping Channel</td><td>(91) 555 94 44</td></tr><tr><td>10142</td><td>47</td><td>100.0</td><td>08-08-2003 00:00</td><td>Mini Gifts Distributors Ltd.</td><td>4155551450</td></tr><tr><td>10166</td><td>43</td><td>100.0</td><td>10/21/2003 0:00</td><td>FunGiftIdeas.com</td><td>5085552555</td></tr><tr><td>10196</td><td>49</td><td>100.0</td><td>11/26/2003 0:00</td><td>Super Scale Inc.</td><td>2035559545</td></tr><tr><td>10282</td><td>43</td><td>100.0</td><td>8/20/2004 0:00</td><td>Mini Gifts Distributors Ltd.</td><td>4155551450</td></tr><tr><td>10336</td><td>48</td><td>100.0</td><td>11/20/2004 0:00</td><td>La Corne D'abondance, Co.</td><td>(1) 42.34.2555</td></tr><tr><td>10350</td><td>44</td><td>100.0</td><td>12-02-2004 00:00</td><td>Euro Shopping Channel</td><td>(91) 555 94 44</td></tr><tr><td>10414</td><td>41</td><td>100.0</td><td>05-06-2005 00:00</td><td>Gifts4AllAges.com</td><td>6175559555</td></tr><tr><td>10109</td><td>46</td><td>100.0</td><td>03-10-2003 00:00</td><td>Motor Mint Distributors Inc.</td><td>2155559857</td></tr><tr><td>10114</td><td>48</td><td>100.0</td><td>04-01-2003 00:00</td><td>La Corne D'abondance, Co.</td><td>(1) 42.34.2555</td></tr><tr><td>10136</td><td>41</td><td>100.0</td><td>07-04-2003 00:00</td><td>Alpha Cognac</td><td>61.77.6555</td></tr><tr><td>10165</td><td>47</td><td>100.0</td><td>10/22/2003 0:00</td><td>Dragon Souveniers, Ltd.</td><td>+65 221 7555</td></tr><tr><td>10181</td><td>45</td><td>100.0</td><td>11-12-2003 00:00</td><td>Herkku Gifts</td><td>+47 2267 3215</td></tr><tr><td>10195</td><td>50</td><td>100.0</td><td>11/25/2003 0:00</td><td>Mini Classics</td><td>9145554562</td></tr><tr><td>10203</td><td>48</td><td>100.0</td><td>12-02-2003 00:00</td><td>Euro Shopping Channel</td><td>(91) 555 94 44</td></tr><tr><td>10225</td><td>43</td><td>100.0</td><td>2/22/2004 0:00</td><td>Vida Sport, Ltd</td><td>0897-034555</td></tr><tr><td>10239</td><td>47</td><td>100.0</td><td>04-12-2004 00:00</td><td>Oulu Toy Supplies, Inc.</td><td>981-443655</td></tr><tr><td>10278</td><td>42</td><td>100.0</td><td>08-06-2004 00:00</td><td>Signal Gift Stores</td><td>7025551838</td></tr><tr><td>10310</td><td>48</td><td>100.0</td><td>10/16/2004 0:00</td><td>Toms Spezialitten, Ltd</td><td>0221-5554327</td></tr><tr><td>10349</td><td>48</td><td>100.0</td><td>12-01-2004 00:00</td><td>Muscle Machine Inc</td><td>2125557413</td></tr><tr><td>10383</td><td>47</td><td>100.0</td><td>2/22/2005 0:00</td><td>Euro Shopping Channel</td><td>(91) 555 94 44</td></tr><tr><td>10405</td><td>55</td><td>100.0</td><td>4/14/2005 0:00</td><td>Mini Caravy</td><td>88.60.1555</td></tr><tr><td>10412</td><td>60</td><td>100.0</td><td>05-03-2005 00:00</td><td>Euro Shopping Channel</td><td>(91) 555 94 44</td></tr><tr><td>10128</td><td>41</td><td>100.0</td><td>06-06-2003 00:00</td><td>Euro Shopping Channel</td><td>(91) 555 94 44</td></tr><tr><td>10165</td><td>50</td><td>100.0</td><td>10/22/2003 0:00</td><td>Dragon Souveniers, Ltd.</td><td>+65 221 7555</td></tr><tr><td>10185</td><td>49</td><td>80.67</td><td>11/14/2003 0:00</td><td>Mini Creations Ltd.</td><td>5085559555</td></tr><tr><td>10208</td><td>48</td><td>100.0</td><td>01-02-2004 00:00</td><td>Saveley & Henriot, Co.</td><td>78.32.5555</td></tr><tr><td>10232</td><td>48</td><td>95.8</td><td>3/20/2004 0:00</td><td>giftsbymail.co.uk</td><td>(198) 555-8888</td></tr><tr><td>10248</td><td>42</td><td>100.0</td><td>05-07-2004 00:00</td><td>Land of Toys Inc.</td><td>2125557818</td></tr><tr><td>10273</td><td>47</td><td>100.0</td><td>7/21/2004 0:00</td><td>Petit Auto</td><td>(02) 5554 67</td></tr><tr><td>10350</td><td>41</td><td>93.04</td><td>12-02-2004 00:00</td><td>Euro Shopping Channel</td><td>(91) 555 94 44</td></tr><tr><td>10414</td><td>48</td><td>100.0</td><td>05-06-2005 00:00</td><td>Gifts4AllAges.com</td><td>6175559555</td></tr><tr><td>10135</td><td>45</td><td>78.0</td><td>07-02-2003 00:00</td><td>Mini Gifts Distributors Ltd.</td><td>4155551450</td></tr><tr><td>10238</td><td>41</td><td>73.17</td><td>04-09-2004 00:00</td><td>Danish Wholesale Imports</td><td>31 12 3555</td></tr><tr><td>10265</td><td>45</td><td>86.84</td><td>07-02-2004 00:00</td><td>Australian Collectables, Ltd</td><td>61-9-3844-6555</td></tr><tr><td>10287</td><td>43</td><td>70.76</td><td>8/30/2004 0:00</td><td>Vida Sport, Ltd</td><td>0897-034555</td></tr><tr><td>10300</td><td>49</td><td>78.8</td><td>10-04-2003 00:00</td><td>Blauer See Auto, Co.</td><td>+49 69 66 90 2555</td></tr><tr><td>10319</td><td>46</td><td>73.98</td><td>11-03-2004 00:00</td><td>Microscale Inc.</td><td>2125551957</td></tr><tr><td>10363</td><td>46</td><td>60.3</td><td>01-06-2005 00:00</td><td>Suominen Souveniers</td><td>+358 9 8045 555</td></tr><tr><td>10103</td><td>46</td><td>100.0</td><td>1/29/2003 0:00</td><td>Baane Mini Imports</td><td>07-98 9555</td></tr><tr><td>10149</td><td>42</td><td>94.25</td><td>09-12-2003 00:00</td><td>Signal Collectibles Ltd.</td><td>4155554312</td></tr><tr><td>10163</td><td>43</td><td>100.0</td><td>10/20/2003 0:00</td><td>Classic Legends Inc.</td><td>2125558493</td></tr><tr><td>10215</td><td>41</td><td>100.0</td><td>1/29/2004 0:00</td><td>West Coast Collectables Co.</td><td>3105553722</td></tr><tr><td>10333</td><td>46</td><td>100.0</td><td>11/18/2004 0:00</td><td>Mini Wheels Co.</td><td>6505555787</td></tr><tr><td>10369</td><td>45</td><td>73.08</td><td>1/20/2005 0:00</td><td>Collectables For Less Inc.</td><td>6175558555</td></tr><tr><td>10382</td><td>50</td><td>100.0</td><td>2/17/2005 0:00</td><td>Mini Gifts Distributors Ltd.</td><td>4155551450</td></tr><tr><td>10135</td><td>42</td><td>100.0</td><td>07-02-2003 00:00</td><td>Mini Gifts Distributors Ltd.</td><td>4155551450</td></tr><tr><td>10238</td><td>49</td><td>100.0</td><td>04-09-2004 00:00</td><td>Danish Wholesale Imports</td><td>31 12 3555</td></tr><tr><td>10252</td><td>41</td><td>100.0</td><td>5/26/2004 0:00</td><td>Auto Canal Petit</td><td>(1) 47.55.6555</td></tr><tr><td>10265</td><td>49</td><td>100.0</td><td>07-02-2004 00:00</td><td>Australian Collectables, Ltd</td><td>61-9-3844-6555</td></tr><tr><td>10310</td><td>49</td><td>100.0</td><td>10/16/2004 0:00</td><td>Toms Spezialitten, Ltd</td><td>0221-5554327</td></tr><tr><td>10342</td><td>55</td><td>100.0</td><td>11/24/2004 0:00</td><td>Australian Collectors, Co.</td><td>03 9520 4555</td></tr><tr><td>10378</td><td>43</td><td>96.49</td><td>02-10-2005 00:00</td><td>Euro Shopping Channel</td><td>(91) 555 94 44</td></tr><tr><td>10390</td><td>50</td><td>100.0</td><td>03-04-2005 00:00</td><td>Mini Gifts Distributors Ltd.</td><td>4155551450</td></tr><tr><td>10109</td><td>47</td><td>100.0</td><td>03-10-2003 00:00</td><td>Motor Mint Distributors Inc.</td><td>2155559857</td></tr><tr><td>10172</td><td>48</td><td>100.0</td><td>11-05-2003 00:00</td><td>Gift Depot Inc.</td><td>2035552570</td></tr><tr><td>10192</td><td>45</td><td>100.0</td><td>11/20/2003 0:00</td><td>Online Diecast Creations Co.</td><td>6035558647</td></tr><tr><td>10212</td><td>45</td><td>100.0</td><td>1/16/2004 0:00</td><td>Euro Shopping Channel</td><td>(91) 555 94 44</td></tr><tr><td>10226</td><td>46</td><td>100.0</td><td>2/26/2004 0:00</td><td>Collectable Mini Designs Co.</td><td>7605558146</td></tr><tr><td>10343</td><td>44</td><td>84.88</td><td>11/24/2004 0:00</td><td>Reims Collectables</td><td>26.47.1555</td></tr><tr><td>10367</td><td>46</td><td>100.0</td><td>01-12-2005 00:00</td><td>Toys4GrownUps.com</td><td>6265557265</td></tr><tr><td>10406</td><td>65</td><td>100.0</td><td>4/15/2005 0:00</td><td>Danish Wholesale Imports</td><td>31 12 3555</td></tr><tr><td>10419</td><td>43</td><td>100.0</td><td>5/17/2005 0:00</td><td>Salzburg Collectables</td><td>6562-9555</td></tr><tr><td>10108</td><td>43</td><td>67.77</td><td>03-03-2003 00:00</td><td>Cruz & Sons Co.</td><td>+63 2 555 3587</td></tr><tr><td>10135</td><td>45</td><td>50.36</td><td>07-02-2003 00:00</td><td>Mini Gifts Distributors Ltd.</td><td>4155551450</td></tr><tr><td>10146</td><td>47</td><td>67.14</td><td>09-03-2003 00:00</td><td>Gift Ideas Corp.</td><td>2035554407</td></tr><tr><td>10191</td><td>43</td><td>72.74</td><td>11/20/2003 0:00</td><td>Toms Spezialitten, Ltd</td><td>0221-5554327</td></tr><tr><td>10211</td><td>46</td><td>54.09</td><td>1/15/2004 0:00</td><td>Auto Canal Petit</td><td>(1) 47.55.6555</td></tr><tr><td>10264</td><td>48</td><td>54.71</td><td>6/30/2004 0:00</td><td>Gifts4AllAges.com</td><td>6175559555</td></tr><tr><td>10310</td><td>42</td><td>67.14</td><td>10/16/2004 0:00</td><td>Toms Spezialitten, Ltd</td><td>0221-5554327</td></tr><tr><td>10319</td><td>44</td><td>59.06</td><td>11-03-2004 00:00</td><td>Microscale Inc.</td><td>2125551957</td></tr><tr><td>10106</td><td>41</td><td>100.0</td><td>2/17/2003 0:00</td><td>Rovelli Gifts</td><td>035-640555</td></tr><tr><td>10178</td><td>48</td><td>100.0</td><td>11-08-2003 00:00</td><td>Alpha Cognac</td><td>61.77.6555</td></tr><tr><td>10186</td><td>46</td><td>100.0</td><td>11/14/2003 0:00</td><td>Double Decker Gift Stores, Ltd</td><td>(171) 555-7555</td></tr><tr><td>10222</td><td>45</td><td>85.75</td><td>2/19/2004 0:00</td><td>Collectable Mini Designs Co.</td><td>7605558146</td></tr><tr><td>10249</td><td>46</td><td>100.0</td><td>05-08-2004 00:00</td><td>Cambridge Collectables Co.</td><td>6175555555</td></tr><tr><td>10273</td><td>50</td><td>85.75</td><td>7/21/2004 0:00</td><td>Petit Auto</td><td>(02) 5554 67</td></tr><tr><td>10283</td><td>46</td><td>100.0</td><td>8/20/2004 0:00</td><td>Royal Canadian Collectables, Ltd.</td><td>(604) 555-4555</td></tr><tr><td>10307</td><td>48</td><td>86.81</td><td>10/14/2004 0:00</td><td>Classic Gift Ideas, Inc</td><td>2155554695</td></tr><tr><td>10316</td><td>47</td><td>86.81</td><td>11-01-2004 00:00</td><td>giftsbymail.co.uk</td><td>(198) 555-8888</td></tr><tr><td>10338</td><td>45</td><td>100.0</td><td>11/22/2004 0:00</td><td>Royale Belge</td><td>(071) 23 67 2555</td></tr><tr><td>10373</td><td>50</td><td>60.49</td><td>1/31/2005 0:00</td><td>Oulu Toy Supplies, Inc.</td><td>981-443655</td></tr><tr><td>10398</td><td>45</td><td>100.0</td><td>3/30/2005 0:00</td><td>Reims Collectables</td><td>26.47.1555</td></tr><tr><td>10400</td><td>58</td><td>100.0</td><td>04-01-2005 00:00</td><td>The Sharp Gifts Warehouse</td><td>4085553659</td></tr><tr><td>10415</td><td>51</td><td>100.0</td><td>05-09-2005 00:00</td><td>Australian Collectables, Ltd</td><td>61-9-3844-6555</td></tr><tr><td>10220</td><td>50</td><td>100.0</td><td>02-12-2004 00:00</td><td>Clover Collections, Co.</td><td>+353 1862 1555</td></tr><tr><td>10230</td><td>42</td><td>100.0</td><td>3/15/2004 0:00</td><td>Blauer See Auto, Co.</td><td>+49 69 66 90 2555</td></tr><tr><td>10247</td><td>48</td><td>100.0</td><td>05-05-2004 00:00</td><td>Suominen Souveniers</td><td>+358 9 8045 555</td></tr><tr><td>10292</td><td>44</td><td>100.0</td><td>09-08-2004 00:00</td><td>Land of Toys Inc.</td><td>2125557818</td></tr><tr><td>10324</td><td>49</td><td>100.0</td><td>11-05-2004 00:00</td><td>Vitachrome Inc.</td><td>2125551500</td></tr><tr><td>10372</td><td>48</td><td>100.0</td><td>1/26/2005 0:00</td><td>Tokyo Collectables, Ltd</td><td>+81 3 3584 0555</td></tr><tr><td>10413</td><td>49</td><td>100.0</td><td>05-05-2005 00:00</td><td>Gift Depot Inc.</td><td>2035552570</td></tr><tr><td>10241</td><td>42</td><td>90.19</td><td>4/13/2004 0:00</td><td>Mini Caravy</td><td>88.60.1555</td></tr><tr><td>10311</td><td>41</td><td>81.91</td><td>10/16/2004 0:00</td><td>Euro Shopping Channel</td><td>(91) 555 94 44</td></tr><tr><td>10332</td><td>50</td><td>100.0</td><td>11/17/2004 0:00</td><td>AV Stores, Co.</td><td>(171) 555-1555</td></tr><tr><td>10367</td><td>43</td><td>62.72</td><td>01-12-2005 00:00</td><td>Toys4GrownUps.com</td><td>6265557265</td></tr><tr><td>10420</td><td>66</td><td>92.95</td><td>5/29/2005 0:00</td><td>Souveniers And Things Co.</td><td>+61 2 9495 8555</td></tr><tr><td>10105</td><td>41</td><td>82.5</td><td>02-11-2003 00:00</td><td>Danish Wholesale Imports</td><td>31 12 3555</td></tr><tr><td>10128</td><td>43</td><td>92.16</td><td>06-06-2003 00:00</td><td>Euro Shopping Channel</td><td>(91) 555 94 44</td></tr><tr><td>10185</td><td>47</td><td>77.24</td><td>11/14/2003 0:00</td><td>Mini Creations Ltd.</td><td>5085559555</td></tr><tr><td>10197</td><td>50</td><td>100.0</td><td>11/26/2003 0:00</td><td>Enaco Distributors</td><td>(93) 203 4555</td></tr><tr><td>10208</td><td>45</td><td>87.77</td><td>01-02-2004 00:00</td><td>Saveley & Henriot, Co.</td><td>78.32.5555</td></tr><tr><td>10248</td><td>42</td><td>75.48</td><td>05-07-2004 00:00</td><td>Land of Toys Inc.</td><td>2125557818</td></tr><tr><td>10293</td><td>49</td><td>100.0</td><td>09-09-2004 00:00</td><td>Amica Models & Co.</td><td>011-4988555</td></tr><tr><td>10326</td><td>50</td><td>86.01</td><td>11-09-2004 00:00</td><td>Volvo Model Replicas, Co</td><td>0921-12 3555</td></tr><tr><td>10372</td><td>41</td><td>86.89</td><td>1/26/2005 0:00</td><td>Tokyo Collectables, Ltd</td><td>+81 3 3584 0555</td></tr><tr><td>10396</td><td>45</td><td>100.0</td><td>3/23/2005 0:00</td><td>Mini Gifts Distributors Ltd.</td><td>4155551450</td></tr><tr><td>10114</td><td>41</td><td>100.0</td><td>04-01-2003 00:00</td><td>La Corne D'abondance, Co.</td><td>(1) 42.34.2555</td></tr><tr><td>10126</td><td>50</td><td>100.0</td><td>5/28/2003 0:00</td><td>Corrida Auto Replicas, Ltd</td><td>(91) 555 22 82</td></tr><tr><td>10150</td><td>49</td><td>100.0</td><td>9/19/2003 0:00</td><td>Dragon Souveniers, Ltd.</td><td>+65 221 7555</td></tr><tr><td>10164</td><td>45</td><td>100.0</td><td>10/21/2003 0:00</td><td>Mini Auto Werke</td><td>7675-3555</td></tr><tr><td>10175</td><td>47</td><td>100.0</td><td>11-06-2003 00:00</td><td>Stylish Desk Decors, Co.</td><td>(171) 555-0297</td></tr><tr><td>10207</td><td>47</td><td>100.0</td><td>12-09-2003 00:00</td><td>Diecast Collectables</td><td>6175552555</td></tr><tr><td>10229</td><td>41</td><td>100.0</td><td>03-11-2004 00:00</td><td>Mini Gifts Distributors Ltd.</td><td>4155551450</td></tr><tr><td>10259</td><td>41</td><td>100.0</td><td>6/15/2004 0:00</td><td>Handji Gifts& Co</td><td>+65 224 1555</td></tr><tr><td>10291</td><td>48</td><td>100.0</td><td>09-08-2004 00:00</td><td>Scandinavian Gift Ideas</td><td>0695-34 6555</td></tr><tr><td>10323</td><td>47</td><td>100.0</td><td>11-05-2004 00:00</td><td>Blauer See Auto, Co.</td><td>+49 69 66 90 2555</td></tr><tr><td>10334</td><td>49</td><td>100.0</td><td>11/19/2004 0:00</td><td>Volvo Model Replicas, Co</td><td>0921-12 3555</td></tr><tr><td>10347</td><td>45</td><td>100.0</td><td>11/29/2004 0:00</td><td>Australian Collectors, Co.</td><td>03 9520 4555</td></tr><tr><td>10411</td><td>46</td><td>100.0</td><td>05-01-2005 00:00</td><td>Quebec Home Shopping Network</td><td>(514) 555-8054</td></tr><tr><td>10103</td><td>41</td><td>47.29</td><td>1/29/2003 0:00</td><td>Baane Mini Imports</td><td>07-98 9555</td></tr><tr><td>10113</td><td>50</td><td>49.81</td><td>3/26/2003 0:00</td><td>Mini Gifts Distributors Ltd.</td><td>4155551450</td></tr><tr><td>10126</td><td>43</td><td>53.83</td><td>5/28/2003 0:00</td><td>Corrida Auto Replicas, Ltd</td><td>(91) 555 22 82</td></tr><tr><td>10174</td><td>49</td><td>44.78</td><td>11-06-2003 00:00</td><td>Australian Gift Network, Co</td><td>61-7-3844-6555</td></tr><tr><td>10194</td><td>41</td><td>44.78</td><td>11/25/2003 0:00</td><td>Saveley & Henriot, Co.</td><td>78.32.5555</td></tr><tr><td>10215</td><td>46</td><td>45.28</td><td>1/29/2004 0:00</td><td>West Coast Collectables Co.</td><td>3105553722</td></tr><tr><td>10245</td><td>45</td><td>59.87</td><td>05-04-2004 00:00</td><td>Super Scale Inc.</td><td>2035559545</td></tr><tr><td>10270</td><td>44</td><td>58.36</td><td>7/19/2004 0:00</td><td>Souveniers And Things Co.</td><td>+61 2 9495 8555</td></tr><tr><td>10281</td><td>44</td><td>59.87</td><td>8/19/2004 0:00</td><td>Diecast Classics Inc.</td><td>2155551555</td></tr><tr><td>10108</td><td>44</td><td>100.0</td><td>03-03-2003 00:00</td><td>Cruz & Sons Co.</td><td>+63 2 555 3587</td></tr><tr><td>10180</td><td>44</td><td>100.0</td><td>11-11-2003 00:00</td><td>Daedalus Designs Imports</td><td>20.16.1555</td></tr><tr><td>10211</td><td>41</td><td>100.0</td><td>1/15/2004 0:00</td><td>Auto Canal Petit</td><td>(1) 47.55.6555</td></tr><tr><td>10238</td><td>44</td><td>100.0</td><td>04-09-2004 00:00</td><td>Danish Wholesale Imports</td><td>31 12 3555</td></tr><tr><td>10276</td><td>48</td><td>100.0</td><td>08-02-2004 00:00</td><td>Online Mini Collectables</td><td>6175557555</td></tr><tr><td>10299</td><td>49</td><td>100.0</td><td>9/30/2004 0:00</td><td>Toys of Finland, Co.</td><td>90-224 8555</td></tr><tr><td>10319</td><td>45</td><td>100.0</td><td>11-03-2004 00:00</td><td>Microscale Inc.</td><td>2125551957</td></tr><tr><td>10330</td><td>50</td><td>100.0</td><td>11/16/2004 0:00</td><td>Cruz & Sons Co.</td><td>+63 2 555 3587</td></tr><tr><td>10378</td><td>49</td><td>67.14</td><td>02-10-2005 00:00</td><td>Euro Shopping Channel</td><td>(91) 555 94 44</td></tr><tr><td>10390</td><td>49</td><td>100.0</td><td>03-04-2005 00:00</td><td>Mini Gifts Distributors Ltd.</td><td>4155551450</td></tr><tr><td>10110</td><td>42</td><td>61.29</td><td>3/18/2003 0:00</td><td>AV Stores, Co.</td><td>(171) 555-1555</td></tr><tr><td>10182</td><td>44</td><td>69.84</td><td>11-12-2003 00:00</td><td>Mini Gifts Distributors Ltd.</td><td>4155551450</td></tr><tr><td>10204</td><td>45</td><td>76.26</td><td>12-02-2003 00:00</td><td>Muscle Machine Inc</td><td>2125557413</td></tr><tr><td>10367</td><td>44</td><td>85.25</td><td>01-12-2005 00:00</td><td>Toys4GrownUps.com</td><td>6265557265</td></tr><tr><td>10407</td><td>66</td><td>66.99</td><td>4/22/2005 0:00</td><td>The Sharp Gifts Warehouse</td><td>4085553659</td></tr><tr><td>10182</td><td>47</td><td>74.22</td><td>11-12-2003 00:00</td><td>Mini Gifts Distributors Ltd.</td><td>4155551450</td></tr><tr><td>10212</td><td>41</td><td>82.31</td><td>1/16/2004 0:00</td><td>Euro Shopping Channel</td><td>(91) 555 94 44</td></tr><tr><td>10420</td><td>60</td><td>64.67</td><td>5/29/2005 0:00</td><td>Souveniers And Things Co.</td><td>+61 2 9495 8555</td></tr><tr><td>10115</td><td>47</td><td>69.36</td><td>04-04-2003 00:00</td><td>Classic Legends Inc.</td><td>2125558493</td></tr><tr><td>10195</td><td>44</td><td>66.47</td><td>11/25/2003 0:00</td><td>Mini Classics</td><td>9145554562</td></tr><tr><td>10207</td><td>49</td><td>46.82</td><td>12-09-2003 00:00</td><td>Diecast Collectables</td><td>6175552555</td></tr><tr><td>10246</td><td>44</td><td>52.6</td><td>05-05-2004 00:00</td><td>Euro Shopping Channel</td><td>(91) 555 94 44</td></tr><tr><td>10271</td><td>45</td><td>64.74</td><td>7/20/2004 0:00</td><td>Mini Gifts Distributors Ltd.</td><td>4155551450</td></tr><tr><td>10305</td><td>45</td><td>61.85</td><td>10/13/2004 0:00</td><td>Marta's Replicas Co.</td><td>6175558555</td></tr><tr><td>10314</td><td>44</td><td>53.18</td><td>10/22/2004 0:00</td><td>Heintze Collectables</td><td>86 21 3555</td></tr><tr><td>10336</td><td>45</td><td>100.0</td><td>11/20/2004 0:00</td><td>La Corne D'abondance, Co.</td><td>(1) 42.34.2555</td></tr><tr><td>10349</td><td>48</td><td>47.4</td><td>12-01-2004 00:00</td><td>Muscle Machine Inc</td><td>2125557413</td></tr><tr><td>10358</td><td>44</td><td>60.76</td><td>12-10-2004 00:00</td><td>Euro Shopping Channel</td><td>(91) 555 94 44</td></tr><tr><td>10425</td><td>55</td><td>46.82</td><td>5/31/2005 0:00</td><td>La Rochelle Gifts</td><td>40.67.8555</td></tr><tr><td>10145</td><td>43</td><td>95.8</td><td>8/25/2003 0:00</td><td>Toys4GrownUps.com</td><td>6265557265</td></tr><tr><td>10159</td><td>44</td><td>100.0</td><td>10-10-2003 00:00</td><td>Corporate Gift Ideas Co.</td><td>6505551386</td></tr><tr><td>10168</td><td>50</td><td>100.0</td><td>10/28/2003 0:00</td><td>Technics Stores Inc.</td><td>6505556809</td></tr><tr><td>10180</td><td>48</td><td>100.0</td><td>11-11-2003 00:00</td><td>Daedalus Designs Imports</td><td>20.16.1555</td></tr><tr><td>10263</td><td>42</td><td>100.0</td><td>6/28/2004 0:00</td><td>Gift Depot Inc.</td><td>2035552570</td></tr><tr><td>10299</td><td>47</td><td>100.0</td><td>9/30/2004 0:00</td><td>Toys of Finland, Co.</td><td>90-224 8555</td></tr><tr><td>10318</td><td>48</td><td>100.0</td><td>11-02-2004 00:00</td><td>Diecast Classics Inc.</td><td>2155551555</td></tr><tr><td>10362</td><td>50</td><td>96.92</td><td>01-05-2005 00:00</td><td>Technics Stores Inc.</td><td>6505556809</td></tr><tr><td>10389</td><td>45</td><td>100.0</td><td>03-03-2005 00:00</td><td>Scandinavian Gift Ideas</td><td>0695-34 6555</td></tr><tr><td>10403</td><td>46</td><td>100.0</td><td>04-08-2005 00:00</td><td>UK Collectables, Ltd.</td><td>(171) 555-2282</td></tr><tr><td>10123</td><td>50</td><td>59.87</td><td>5/20/2003 0:00</td><td>Atelier graphique</td><td>40.32.2555</td></tr><tr><td>10148</td><td>47</td><td>56.85</td><td>09-11-2003 00:00</td><td>Anna's Decorations, Ltd</td><td>02 9936 8555</td></tr><tr><td>10192</td><td>47</td><td>53.83</td><td>11/20/2003 0:00</td><td>Online Diecast Creations Co.</td><td>6035558647</td></tr><tr><td>10204</td><td>45</td><td>49.81</td><td>12-02-2003 00:00</td><td>Muscle Machine Inc</td><td>2125557413</td></tr><tr><td>10212</td><td>45</td><td>53.33</td><td>1/16/2004 0:00</td><td>Euro Shopping Channel</td><td>(91) 555 94 44</td></tr><tr><td>10288</td><td>50</td><td>52.32</td><td>09-01-2004 00:00</td><td>Handji Gifts& Co</td><td>+65 224 1555</td></tr><tr><td>10311</td><td>45</td><td>49.3</td><td>10/16/2004 0:00</td><td>Euro Shopping Channel</td><td>(91) 555 94 44</td></tr><tr><td>10321</td><td>48</td><td>42.26</td><td>11-04-2004 00:00</td><td>FunGiftIdeas.com</td><td>5085552555</td></tr><tr><td>10407</td><td>64</td><td>40.25</td><td>4/22/2005 0:00</td><td>The Sharp Gifts Warehouse</td><td>4085553659</td></tr><tr><td>10133</td><td>41</td><td>94.1</td><td>6/27/2003 0:00</td><td>Euro Shopping Channel</td><td>(91) 555 94 44</td></tr><tr><td>10168</td><td>49</td><td>100.0</td><td>10/28/2003 0:00</td><td>Technics Stores Inc.</td><td>6505556809</td></tr><tr><td>10328</td><td>47</td><td>87.54</td><td>11-12-2004 00:00</td><td>Rovelli Gifts</td><td>035-640555</td></tr><tr><td>10374</td><td>46</td><td>94.1</td><td>02-02-2005 00:00</td><td>Australian Gift Network, Co</td><td>61-7-3844-6555</td></tr><tr><td>10398</td><td>43</td><td>100.0</td><td>3/30/2005 0:00</td><td>Reims Collectables</td><td>26.47.1555</td></tr><tr><td>10416</td><td>47</td><td>88.63</td><td>05-10-2005 00:00</td><td>L'ordine Souveniers</td><td>0522-556555</td></tr><tr><td>10101</td><td>45</td><td>31.2</td><td>01-09-2003 00:00</td><td>Blauer See Auto, Co.</td><td>+49 69 66 90 2555</td></tr><tr><td>10124</td><td>45</td><td>37.84</td><td>5/21/2003 0:00</td><td>Signal Gift Stores</td><td>7025551838</td></tr><tr><td>10227</td><td>42</td><td>29.21</td><td>03-02-2004 00:00</td><td>Saveley & Henriot, Co.</td><td>78.32.5555</td></tr><tr><td>10332</td><td>45</td><td>81.91</td><td>11/17/2004 0:00</td><td>AV Stores, Co.</td><td>(171) 555-1555</td></tr><tr><td>10356</td><td>48</td><td>100.0</td><td>12-09-2004 00:00</td><td>Lyon Souveniers</td><td>+33 1 46 62 7555</td></tr><tr><td>10409</td><td>61</td><td>29.54</td><td>4/23/2005 0:00</td><td>Handji Gifts& Co</td><td>+65 224 1555</td></tr><tr><td>10420</td><td>45</td><td>26.88</td><td>5/29/2005 0:00</td><td>Souveniers And Things Co.</td><td>+61 2 9495 8555</td></tr><tr><td>10134</td><td>43</td><td>83.03</td><td>07-01-2003 00:00</td><td>Lyon Souveniers</td><td>+33 1 46 62 7555</td></tr><tr><td>10145</td><td>47</td><td>83.03</td><td>8/25/2003 0:00</td><td>Toys4GrownUps.com</td><td>6265557265</td></tr><tr><td>10308</td><td>47</td><td>63.22</td><td>10/15/2004 0:00</td><td>Mini Classics</td><td>9145554562</td></tr><tr><td>10340</td><td>55</td><td>79.98</td><td>11/24/2004 0:00</td><td>Enaco Distributors</td><td>(93) 203 4555</td></tr><tr><td>10389</td><td>49</td><td>81.4</td><td>03-03-2005 00:00</td><td>Scandinavian Gift Ideas</td><td>0695-34 6555</td></tr><tr><td>10402</td><td>59</td><td>87.6</td><td>04-07-2005 00:00</td><td>Auto Canal Petit</td><td>(1) 47.55.6555</td></tr><tr><td>10105</td><td>43</td><td>100.0</td><td>02-11-2003 00:00</td><td>Danish Wholesale Imports</td><td>31 12 3555</td></tr><tr><td>10117</td><td>41</td><td>100.0</td><td>4/16/2003 0:00</td><td>Dragon Souveniers, Ltd.</td><td>+65 221 7555</td></tr><tr><td>10129</td><td>45</td><td>100.0</td><td>06-12-2003 00:00</td><td>Stylish Desk Decors, Co.</td><td>(171) 555-0297</td></tr><tr><td>10177</td><td>50</td><td>100.0</td><td>11-07-2003 00:00</td><td>CAF Imports</td><td>+34 913 728 555</td></tr><tr><td>10197</td><td>41</td><td>100.0</td><td>11/26/2003 0:00</td><td>Enaco Distributors</td><td>(93) 203 4555</td></tr><tr><td>10221</td><td>49</td><td>100.0</td><td>2/18/2004 0:00</td><td>Petit Auto</td><td>(02) 5554 67</td></tr><tr><td>10232</td><td>46</td><td>100.0</td><td>3/20/2004 0:00</td><td>giftsbymail.co.uk</td><td>(198) 555-8888</td></tr><tr><td>10248</td><td>48</td><td>100.0</td><td>05-07-2004 00:00</td><td>Land of Toys Inc.</td><td>2125557818</td></tr><tr><td>10283</td><td>42</td><td>100.0</td><td>8/20/2004 0:00</td><td>Royal Canadian Collectables, Ltd.</td><td>(604) 555-4555</td></tr><tr><td>10326</td><td>41</td><td>100.0</td><td>11-09-2004 00:00</td><td>Volvo Model Replicas, Co</td><td>0921-12 3555</td></tr><tr><td>10396</td><td>49</td><td>100.0</td><td>3/23/2005 0:00</td><td>Mini Gifts Distributors Ltd.</td><td>4155551450</td></tr><tr><td>10101</td><td>46</td><td>53.76</td><td>01-09-2003 00:00</td><td>Blauer See Auto, Co.</td><td>+49 69 66 90 2555</td></tr><tr><td>10149</td><td>49</td><td>49.28</td><td>09-12-2003 00:00</td><td>Signal Collectibles Ltd.</td><td>4155554312</td></tr><tr><td>10162</td><td>43</td><td>36.29</td><td>10/18/2003 0:00</td><td>Corporate Gift Ideas Co.</td><td>6505551386</td></tr><tr><td>10214</td><td>49</td><td>47.94</td><td>1/26/2004 0:00</td><td>Corrida Auto Replicas, Ltd</td><td>(91) 555 22 82</td></tr><tr><td>10280</td><td>45</td><td>47.49</td><td>8/17/2004 0:00</td><td>Amica Models & Co.</td><td>011-4988555</td></tr><tr><td>10289</td><td>45</td><td>48.38</td><td>09-03-2004 00:00</td><td>Herkku Gifts</td><td>+47 2267 3215</td></tr><tr><td>10304</td><td>44</td><td>39.42</td><td>10-11-2004 00:00</td><td>Auto Assoc. & Cie.</td><td>30.59.8555</td></tr><tr><td>10345</td><td>43</td><td>53.76</td><td>11/25/2004 0:00</td><td>Atelier graphique</td><td>40.32.2555</td></tr><tr><td>10140</td><td>47</td><td>100.0</td><td>7/24/2003 0:00</td><td>Technics Stores Inc.</td><td>6505556809</td></tr><tr><td>10151</td><td>42</td><td>100.0</td><td>9/21/2003 0:00</td><td>Oulu Toy Supplies, Inc.</td><td>981-443655</td></tr><tr><td>10194</td><td>49</td><td>100.0</td><td>11/25/2003 0:00</td><td>Saveley & Henriot, Co.</td><td>78.32.5555</td></tr><tr><td>10207</td><td>46</td><td>100.0</td><td>12-09-2003 00:00</td><td>Diecast Collectables</td><td>6175552555</td></tr><tr><td>10229</td><td>48</td><td>100.0</td><td>03-11-2004 00:00</td><td>Mini Gifts Distributors Ltd.</td><td>4155551450</td></tr><tr><td>10259</td><td>47</td><td>100.0</td><td>6/15/2004 0:00</td><td>Handji Gifts& Co</td><td>+65 224 1555</td></tr><tr><td>10271</td><td>43</td><td>100.0</td><td>7/20/2004 0:00</td><td>Mini Gifts Distributors Ltd.</td><td>4155551450</td></tr><tr><td>10291</td><td>48</td><td>100.0</td><td>09-08-2004 00:00</td><td>Scandinavian Gift Ideas</td><td>0695-34 6555</td></tr><tr><td>10313</td><td>42</td><td>100.0</td><td>10/22/2004 0:00</td><td>Canadian Gift Exchange Network</td><td>(604) 555-3392</td></tr><tr><td>10334</td><td>42</td><td>100.0</td><td>11/19/2004 0:00</td><td>Volvo Model Replicas, Co</td><td>0921-12 3555</td></tr><tr><td>10358</td><td>41</td><td>100.0</td><td>12-10-2004 00:00</td><td>Euro Shopping Channel</td><td>(91) 555 94 44</td></tr><tr><td>10412</td><td>70</td><td>100.0</td><td>05-03-2005 00:00</td><td>Euro Shopping Channel</td><td>(91) 555 94 44</td></tr><tr><td>10425</td><td>49</td><td>100.0</td><td>5/31/2005 0:00</td><td>La Rochelle Gifts</td><td>40.67.8555</td></tr><tr><td>10190</td><td>42</td><td>76.19</td><td>11/19/2003 0:00</td><td>Euro Shopping Channel</td><td>(91) 555 94 44</td></tr><tr><td>10252</td><td>47</td><td>65.8</td><td>5/26/2004 0:00</td><td>Auto Canal Petit</td><td>(1) 47.55.6555</td></tr><tr><td>10276</td><td>46</td><td>75.49</td><td>08-02-2004 00:00</td><td>Online Mini Collectables</td><td>6175557555</td></tr><tr><td>10330</td><td>42</td><td>81.03</td><td>11/16/2004 0:00</td><td>Cruz & Sons Co.</td><td>+63 2 555 3587</td></tr><tr><td>10355</td><td>41</td><td>70.65</td><td>12-07-2004 00:00</td><td>Euro Shopping Channel</td><td>(91) 555 94 44</td></tr><tr><td>10363</td><td>43</td><td>61.23</td><td>01-06-2005 00:00</td><td>Suominen Souveniers</td><td>+358 9 8045 555</td></tr><tr><td>10110</td><td>43</td><td>78.15</td><td>3/18/2003 0:00</td><td>AV Stores, Co.</td><td>(171) 555-1555</td></tr><tr><td>10192</td><td>46</td><td>83.6</td><td>11/20/2003 0:00</td><td>Online Diecast Creations Co.</td><td>6035558647</td></tr><tr><td>10204</td><td>47</td><td>96.32</td><td>12-02-2003 00:00</td><td>Muscle Machine Inc</td><td>2125557413</td></tr><tr><td>10212</td><td>45</td><td>88.14</td><td>1/16/2004 0:00</td><td>Euro Shopping Channel</td><td>(91) 555 94 44</td></tr><tr><td>10227</td><td>47</td><td>88.14</td><td>03-02-2004 00:00</td><td>Saveley & Henriot, Co.</td><td>78.32.5555</td></tr><tr><td>10241</td><td>47</td><td>94.5</td><td>4/13/2004 0:00</td><td>Mini Caravy</td><td>88.60.1555</td></tr><tr><td>10279</td><td>49</td><td>79.97</td><td>08-09-2004 00:00</td><td>Euro Shopping Channel</td><td>(91) 555 94 44</td></tr><tr><td>10302</td><td>49</td><td>100.0</td><td>10-06-2003 00:00</td><td>UK Collectables, Ltd.</td><td>(171) 555-2282</td></tr><tr><td>10407</td><td>76</td><td>94.5</td><td>4/22/2005 0:00</td><td>The Sharp Gifts Warehouse</td><td>4085553659</td></tr><tr><td>10104</td><td>44</td><td>39.6</td><td>1/31/2003 0:00</td><td>Euro Shopping Channel</td><td>(91) 555 94 44</td></tr><tr><td>10184</td><td>42</td><td>31.82</td><td>11/14/2003 0:00</td><td>Iberia Gift Imports, Corp.</td><td>(95) 555 82 82</td></tr><tr><td>10207</td><td>42</td><td>29.7</td><td>12-09-2003 00:00</td><td>Diecast Collectables</td><td>6175552555</td></tr><tr><td>10246</td><td>49</td><td>36.07</td><td>05-05-2004 00:00</td><td>Euro Shopping Channel</td><td>(91) 555 94 44</td></tr><tr><td>10305</td><td>48</td><td>31.47</td><td>10/13/2004 0:00</td><td>Marta's Replicas Co.</td><td>6175558555</td></tr><tr><td>10371</td><td>45</td><td>100.0</td><td>1/23/2005 0:00</td><td>Mini Gifts Distributors Ltd.</td><td>4155551450</td></tr><tr><td>10394</td><td>46</td><td>38.9</td><td>3/15/2005 0:00</td><td>Euro Shopping Channel</td><td>(91) 555 94 44</td></tr><tr><td>10106</td><td>49</td><td>74.68</td><td>2/17/2003 0:00</td><td>Rovelli Gifts</td><td>035-640555</td></tr><tr><td>10119</td><td>41</td><td>59.6</td><td>4/28/2003 0:00</td><td>Salzburg Collectables</td><td>6562-9555</td></tr><tr><td>10198</td><td>48</td><td>67.82</td><td>11/27/2003 0:00</td><td>Cruz & Sons Co.</td><td>+63 2 555 3587</td></tr><tr><td>10209</td><td>43</td><td>82.21</td><td>01-09-2004 00:00</td><td>Men 'R' US Retailers, Ltd.</td><td>2155554369</td></tr><tr><td>10328</td><td>48</td><td>58.92</td><td>11-12-2004 00:00</td><td>Rovelli Gifts</td><td>035-640555</td></tr><tr><td>10339</td><td>55</td><td>100.0</td><td>11/23/2004 0:00</td><td>Tokyo Collectables, Ltd</td><td>+81 3 3584 0555</td></tr><tr><td>10110</td><td>46</td><td>100.0</td><td>3/18/2003 0:00</td><td>AV Stores, Co.</td><td>(171) 555-1555</td></tr><tr><td>10204</td><td>42</td><td>100.0</td><td>12-02-2003 00:00</td><td>Muscle Machine Inc</td><td>2125557413</td></tr><tr><td>10267</td><td>43</td><td>100.0</td><td>07-07-2004 00:00</td><td>Muscle Machine Inc</td><td>2125557413</td></tr><tr><td>10279</td><td>48</td><td>100.0</td><td>08-09-2004 00:00</td><td>Euro Shopping Channel</td><td>(91) 555 94 44</td></tr><tr><td>10288</td><td>48</td><td>100.0</td><td>09-01-2004 00:00</td><td>Handji Gifts& Co</td><td>+65 224 1555</td></tr><tr><td>10302</td><td>45</td><td>100.0</td><td>10-06-2003 00:00</td><td>UK Collectables, Ltd.</td><td>(171) 555-2282</td></tr><tr><td>10311</td><td>43</td><td>100.0</td><td>10/16/2004 0:00</td><td>Euro Shopping Channel</td><td>(91) 555 94 44</td></tr><tr><td>10332</td><td>44</td><td>42.26</td><td>11/17/2004 0:00</td><td>AV Stores, Co.</td><td>(171) 555-1555</td></tr><tr><td>10380</td><td>44</td><td>36.29</td><td>2/16/2005 0:00</td><td>Euro Shopping Channel</td><td>(91) 555 94 44</td></tr><tr><td>10407</td><td>59</td><td>98.65</td><td>4/22/2005 0:00</td><td>The Sharp Gifts Warehouse</td><td>4085553659</td></tr><tr><td>10420</td><td>55</td><td>96.3</td><td>5/29/2005 0:00</td><td>Souveniers And Things Co.</td><td>+61 2 9495 8555</td></tr><tr><td>10160</td><td>42</td><td>37.0</td><td>10-11-2003 00:00</td><td>Men 'R' US Retailers, Ltd.</td><td>2155554369</td></tr><tr><td>10225</td><td>42</td><td>36.63</td><td>2/22/2004 0:00</td><td>Vida Sport, Ltd</td><td>0897-034555</td></tr><tr><td>10301</td><td>48</td><td>34.36</td><td>10-05-2003 00:00</td><td>Norway Gifts By Mail, Co.</td><td>+47 2212 1555</td></tr><tr><td>10378</td><td>41</td><td>100.0</td><td>02-10-2005 00:00</td><td>Euro Shopping Channel</td><td>(91) 555 94 44</td></tr><tr><td>10405</td><td>47</td><td>44.56</td><td>4/14/2005 0:00</td><td>Mini Caravy</td><td>88.60.1555</td></tr><tr><td>10105</td><td>44</td><td>72.58</td><td>02-11-2003 00:00</td><td>Danish Wholesale Imports</td><td>31 12 3555</td></tr><tr><td>10129</td><td>41</td><td>94.71</td><td>06-12-2003 00:00</td><td>Stylish Desk Decors, Co.</td><td>(171) 555-0297</td></tr><tr><td>10142</td><td>49</td><td>98.25</td><td>08-08-2003 00:00</td><td>Mini Gifts Distributors Ltd.</td><td>4155551450</td></tr><tr><td>10177</td><td>45</td><td>72.58</td><td>11-07-2003 00:00</td><td>CAF Imports</td><td>+34 913 728 555</td></tr><tr><td>10197</td><td>47</td><td>83.2</td><td>11/26/2003 0:00</td><td>Enaco Distributors</td><td>(93) 203 4555</td></tr><tr><td>10222</td><td>47</td><td>70.81</td><td>2/19/2004 0:00</td><td>Collectable Mini Designs Co.</td><td>7605558146</td></tr><tr><td>10295</td><td>46</td><td>84.97</td><td>09-10-2004 00:00</td><td>Gifts4AllAges.com</td><td>6175559555</td></tr><tr><td>10326</td><td>41</td><td>85.85</td><td>11-09-2004 00:00</td><td>Volvo Model Replicas, Co</td><td>0921-12 3555</td></tr><tr><td>10339</td><td>55</td><td>100.0</td><td>11/23/2004 0:00</td><td>Tokyo Collectables, Ltd</td><td>+81 3 3584 0555</td></tr><tr><td>10384</td><td>43</td><td>97.87</td><td>2/23/2005 0:00</td><td>Corporate Gift Ideas Co.</td><td>6505551386</td></tr><tr><td>10414</td><td>60</td><td>100.0</td><td>05-06-2005 00:00</td><td>Gifts4AllAges.com</td><td>6175559555</td></tr><tr><td>10124</td><td>49</td><td>83.04</td><td>5/21/2003 0:00</td><td>Signal Gift Stores</td><td>7025551838</td></tr><tr><td>10267</td><td>44</td><td>96.74</td><td>07-07-2004 00:00</td><td>Muscle Machine Inc</td><td>2125557413</td></tr><tr><td>10302</td><td>48</td><td>74.48</td><td>10-06-2003 00:00</td><td>UK Collectables, Ltd.</td><td>(171) 555-2282</td></tr><tr><td>10332</td><td>45</td><td>34.19</td><td>11/17/2004 0:00</td><td>AV Stores, Co.</td><td>(171) 555-1555</td></tr><tr><td>10368</td><td>46</td><td>79.62</td><td>1/19/2005 0:00</td><td>Mini Gifts Distributors Ltd.</td><td>4155551450</td></tr><tr><td>10380</td><td>44</td><td>79.06</td><td>2/16/2005 0:00</td><td>Euro Shopping Channel</td><td>(91) 555 94 44</td></tr><tr><td>10159</td><td>50</td><td>69.8</td><td>10-10-2003 00:00</td><td>Corporate Gift Ideas Co.</td><td>6505551386</td></tr><tr><td>10191</td><td>48</td><td>60.01</td><td>11/20/2003 0:00</td><td>Toms Spezialitten, Ltd</td><td>0221-5554327</td></tr><tr><td>10211</td><td>48</td><td>48.98</td><td>1/15/2004 0:00</td><td>Auto Canal Petit</td><td>(1) 47.55.6555</td></tr><tr><td>10238</td><td>47</td><td>62.45</td><td>04-09-2004 00:00</td><td>Danish Wholesale Imports</td><td>31 12 3555</td></tr><tr><td>10266</td><td>47</td><td>62.45</td><td>07-06-2004 00:00</td><td>L'ordine Souveniers</td><td>0522-556555</td></tr><tr><td>10342</td><td>48</td><td>62.45</td><td>11/24/2004 0:00</td><td>Australian Collectors, Co.</td><td>03 9520 4555</td></tr><tr><td>10355</td><td>44</td><td>62.45</td><td>12-07-2004 00:00</td><td>Euro Shopping Channel</td><td>(91) 555 94 44</td></tr><tr><td>10378</td><td>46</td><td>41.54</td><td>02-10-2005 00:00</td><td>Euro Shopping Channel</td><td>(91) 555 94 44</td></tr><tr><td>10390</td><td>46</td><td>52.84</td><td>03-04-2005 00:00</td><td>Mini Gifts Distributors Ltd.</td><td>4155551450</td></tr><tr><td>10419</td><td>55</td><td>52.66</td><td>5/17/2005 0:00</td><td>Salzburg Collectables</td><td>6562-9555</td></tr><tr><td>10222</td><td>43</td><td>70.35</td><td>2/19/2004 0:00</td><td>Collectable Mini Designs Co.</td><td>7605558146</td></tr><tr><td>10262</td><td>46</td><td>70.35</td><td>6/24/2004 0:00</td><td>Euro Shopping Channel</td><td>(91) 555 94 44</td></tr><tr><td>10316</td><td>47</td><td>76.93</td><td>11-01-2004 00:00</td><td>giftsbymail.co.uk</td><td>(198) 555-8888</td></tr><tr><td>10373</td><td>46</td><td>66.0</td><td>1/31/2005 0:00</td><td>Oulu Toy Supplies, Inc.</td><td>981-443655</td></tr><tr><td>10124</td><td>43</td><td>100.0</td><td>5/21/2003 0:00</td><td>Signal Gift Stores</td><td>7025551838</td></tr><tr><td>10182</td><td>49</td><td>100.0</td><td>11-12-2003 00:00</td><td>Mini Gifts Distributors Ltd.</td><td>4155551450</td></tr><tr><td>10192</td><td>46</td><td>100.0</td><td>11/20/2003 0:00</td><td>Online Diecast Creations Co.</td><td>6035558647</td></tr><tr><td>10204</td><td>48</td><td>91.02</td><td>12-02-2003 00:00</td><td>Muscle Machine Inc</td><td>2125557413</td></tr><tr><td>10212</td><td>46</td><td>87.81</td><td>1/16/2004 0:00</td><td>Euro Shopping Channel</td><td>(91) 555 94 44</td></tr><tr><td>10226</td><td>48</td><td>92.09</td><td>2/26/2004 0:00</td><td>Collectable Mini Designs Co.</td><td>7605558146</td></tr><tr><td>10267</td><td>43</td><td>100.0</td><td>07-07-2004 00:00</td><td>Muscle Machine Inc</td><td>2125557413</td></tr><tr><td>10279</td><td>48</td><td>100.0</td><td>08-09-2004 00:00</td><td>Euro Shopping Channel</td><td>(91) 555 94 44</td></tr><tr><td>10288</td><td>41</td><td>100.0</td><td>09-01-2004 00:00</td><td>Handji Gifts& Co</td><td>+65 224 1555</td></tr><tr><td>10311</td><td>46</td><td>92.09</td><td>10/16/2004 0:00</td><td>Euro Shopping Channel</td><td>(91) 555 94 44</td></tr><tr><td>10407</td><td>43</td><td>86.73</td><td>4/22/2005 0:00</td><td>The Sharp Gifts Warehouse</td><td>4085553659</td></tr><tr><td>10105</td><td>50</td><td>79.67</td><td>02-11-2003 00:00</td><td>Danish Wholesale Imports</td><td>31 12 3555</td></tr><tr><td>10129</td><td>50</td><td>77.99</td><td>06-12-2003 00:00</td><td>Stylish Desk Decors, Co.</td><td>(171) 555-0297</td></tr><tr><td>10222</td><td>46</td><td>80.51</td><td>2/19/2004 0:00</td><td>Collectable Mini Designs Co.</td><td>7605558146</td></tr><tr><td>10262</td><td>49</td><td>87.21</td><td>6/24/2004 0:00</td><td>Euro Shopping Channel</td><td>(91) 555 94 44</td></tr><tr><td>10273</td><td>48</td><td>83.02</td><td>7/21/2004 0:00</td><td>Petit Auto</td><td>(02) 5554 67</td></tr><tr><td>10339</td><td>42</td><td>59.36</td><td>11/23/2004 0:00</td><td>Tokyo Collectables, Ltd</td><td>+81 3 3584 0555</td></tr><tr><td>10400</td><td>42</td><td>72.96</td><td>04-01-2005 00:00</td><td>The Sharp Gifts Warehouse</td><td>4085553659</td></tr><tr><td>10414</td><td>51</td><td>76.31</td><td>05-06-2005 00:00</td><td>Gifts4AllAges.com</td><td>6175559555</td></tr><tr><td>10122</td><td>43</td><td>100.0</td><td>05-08-2003 00:00</td><td>Marseille Mini Autos</td><td>91.24.4555</td></tr><tr><td>10135</td><td>47</td><td>100.0</td><td>07-02-2003 00:00</td><td>Mini Gifts Distributors Ltd.</td><td>4155551450</td></tr><tr><td>10192</td><td>45</td><td>100.0</td><td>11/20/2003 0:00</td><td>Online Diecast Creations Co.</td><td>6035558647</td></tr><tr><td>10203</td><td>47</td><td>100.0</td><td>12-02-2003 00:00</td><td>Euro Shopping Channel</td><td>(91) 555 94 44</td></tr><tr><td>10212</td><td>49</td><td>100.0</td><td>1/16/2004 0:00</td><td>Euro Shopping Channel</td><td>(91) 555 94 44</td></tr><tr><td>10301</td><td>50</td><td>100.0</td><td>10-05-2003 00:00</td><td>Norway Gifts By Mail, Co.</td><td>+47 2212 1555</td></tr><tr><td>10310</td><td>45</td><td>100.0</td><td>10/16/2004 0:00</td><td>Toms Spezialitten, Ltd</td><td>0221-5554327</td></tr><tr><td>10342</td><td>42</td><td>100.0</td><td>11/24/2004 0:00</td><td>Australian Collectors, Co.</td><td>03 9520 4555</td></tr><tr><td>10390</td><td>45</td><td>100.0</td><td>03-04-2005 00:00</td><td>Mini Gifts Distributors Ltd.</td><td>4155551450</td></tr><tr><td>10405</td><td>76</td><td>100.0</td><td>4/14/2005 0:00</td><td>Mini Caravy</td><td>88.60.1555</td></tr><tr><td>10419</td><td>70</td><td>100.0</td><td>5/17/2005 0:00</td><td>Salzburg Collectables</td><td>6562-9555</td></tr><tr><td>10106</td><td>50</td><td>64.83</td><td>2/17/2003 0:00</td><td>Rovelli Gifts</td><td>035-640555</td></tr><tr><td>10131</td><td>50</td><td>81.89</td><td>6/16/2003 0:00</td><td>Gift Ideas Corp.</td><td>2035554407</td></tr><tr><td>10155</td><td>44</td><td>77.11</td><td>10-06-2003 00:00</td><td>Toys of Finland, Co.</td><td>90-224 8555</td></tr><tr><td>10198</td><td>43</td><td>66.19</td><td>11/27/2003 0:00</td><td>Cruz & Sons Co.</td><td>+63 2 555 3587</td></tr><tr><td>10222</td><td>48</td><td>56.64</td><td>2/19/2004 0:00</td><td>Collectable Mini Designs Co.</td><td>7605558146</td></tr><tr><td>10262</td><td>48</td><td>61.42</td><td>6/24/2004 0:00</td><td>Euro Shopping Channel</td><td>(91) 555 94 44</td></tr><tr><td>10275</td><td>41</td><td>81.89</td><td>7/23/2004 0:00</td><td>La Rochelle Gifts</td><td>40.67.8555</td></tr><tr><td>10308</td><td>43</td><td>76.43</td><td>10/15/2004 0:00</td><td>Mini Classics</td><td>9145554562</td></tr><tr><td>10339</td><td>45</td><td>96.92</td><td>11/23/2004 0:00</td><td>Tokyo Collectables, Ltd</td><td>+81 3 3584 0555</td></tr><tr><td>10386</td><td>41</td><td>73.32</td><td>03-01-2005 00:00</td><td>Euro Shopping Channel</td><td>(91) 555 94 44</td></tr><tr><td>10398</td><td>41</td><td>68.24</td><td>3/30/2005 0:00</td><td>Reims Collectables</td><td>26.47.1555</td></tr><tr><td>10401</td><td>64</td><td>60.05</td><td>04-03-2005 00:00</td><td>Tekni Collectables Inc.</td><td>2015559350</td></tr><tr><td>10100</td><td>49</td><td>34.47</td><td>01-06-2003 00:00</td><td>Online Diecast Creations Co.</td><td>6035558647</td></tr><tr><td>10110</td><td>48</td><td>34.47</td><td>3/18/2003 0:00</td><td>AV Stores, Co.</td><td>(171) 555-1555</td></tr><tr><td>10124</td><td>46</td><td>33.23</td><td>5/21/2003 0:00</td><td>Signal Gift Stores</td><td>7025551838</td></tr><tr><td>10214</td><td>44</td><td>34.88</td><td>1/26/2004 0:00</td><td>Corrida Auto Replicas, Ltd</td><td>(91) 555 22 82</td></tr><tr><td>10242</td><td>46</td><td>36.93</td><td>4/20/2004 0:00</td><td>Microscale Inc.</td><td>2125551957</td></tr><tr><td>10332</td><td>41</td><td>77.24</td><td>11/17/2004 0:00</td><td>AV Stores, Co.</td><td>(171) 555-1555</td></tr><tr><td>10368</td><td>46</td><td>37.34</td><td>1/19/2005 0:00</td><td>Mini Gifts Distributors Ltd.</td><td>4155551450</td></tr><tr><td>10380</td><td>43</td><td>95.03</td><td>2/16/2005 0:00</td><td>Euro Shopping Channel</td><td>(91) 555 94 44</td></tr><tr><td>10115</td><td>44</td><td>100.0</td><td>04-04-2003 00:00</td><td>Classic Legends Inc.</td><td>2125558493</td></tr><tr><td>10184</td><td>49</td><td>100.0</td><td>11/14/2003 0:00</td><td>Iberia Gift Imports, Corp.</td><td>(95) 555 82 82</td></tr><tr><td>10230</td><td>45</td><td>100.0</td><td>3/15/2004 0:00</td><td>Blauer See Auto, Co.</td><td>+49 69 66 90 2555</td></tr><tr><td>10246</td><td>46</td><td>100.0</td><td>05-05-2004 00:00</td><td>Euro Shopping Channel</td><td>(91) 555 94 44</td></tr><tr><td>10325</td><td>44</td><td>100.0</td><td>11-05-2004 00:00</td><td>Baane Mini Imports</td><td>07-98 9555</td></tr><tr><td>10163</td><td>42</td><td>91.55</td><td>10/20/2003 0:00</td><td>Classic Legends Inc.</td><td>2125558493</td></tr><tr><td>10183</td><td>47</td><td>100.0</td><td>11/13/2003 0:00</td><td>Classic Gift Ideas, Inc</td><td>2155554695</td></tr><tr><td>10257</td><td>46</td><td>78.89</td><td>6/14/2004 0:00</td><td>The Sharp Gifts Warehouse</td><td>4085553659</td></tr><tr><td>10269</td><td>48</td><td>97.39</td><td>7/16/2004 0:00</td><td>Salzburg Collectables</td><td>6562-9555</td></tr><tr><td>10290</td><td>45</td><td>100.0</td><td>09-07-2004 00:00</td><td>Auto-Moto Classics Inc.</td><td>6175558428</td></tr><tr><td>10312</td><td>44</td><td>100.0</td><td>10/21/2004 0:00</td><td>Mini Gifts Distributors Ltd.</td><td>4155551450</td></tr><tr><td>10358</td><td>41</td><td>100.0</td><td>12-10-2004 00:00</td><td>Euro Shopping Channel</td><td>(91) 555 94 44</td></tr><tr><td>10133</td><td>46</td><td>77.52</td><td>6/27/2003 0:00</td><td>Euro Shopping Channel</td><td>(91) 555 94 44</td></tr><tr><td>10168</td><td>48</td><td>78.25</td><td>10/28/2003 0:00</td><td>Technics Stores Inc.</td><td>6505556809</td></tr><tr><td>10308</td><td>44</td><td>83.32</td><td>10/15/2004 0:00</td><td>Mini Classics</td><td>9145554562</td></tr><tr><td>10328</td><td>43</td><td>60.86</td><td>11-12-2004 00:00</td><td>Rovelli Gifts</td><td>035-640555</td></tr><tr><td>10375</td><td>43</td><td>100.0</td><td>02-03-2005 00:00</td><td>La Rochelle Gifts</td><td>40.67.8555</td></tr><tr><td>10386</td><td>50</td><td>63.34</td><td>03-01-2005 00:00</td><td>Euro Shopping Channel</td><td>(91) 555 94 44</td></tr><tr><td>10398</td><td>45</td><td>78.25</td><td>3/30/2005 0:00</td><td>Reims Collectables</td><td>26.47.1555</td></tr><tr><td>10401</td><td>52</td><td>81.14</td><td>04-03-2005 00:00</td><td>Tekni Collectables Inc.</td><td>2015559350</td></tr><tr><td>10416</td><td>48</td><td>74.62</td><td>05-10-2005 00:00</td><td>L'ordine Souveniers</td><td>0522-556555</td></tr><tr><td>10191</td><td>44</td><td>66.29</td><td>11/20/2003 0:00</td><td>Toms Spezialitten, Ltd</td><td>0221-5554327</td></tr><tr><td>10225</td><td>46</td><td>70.33</td><td>2/22/2004 0:00</td><td>Vida Sport, Ltd</td><td>0897-034555</td></tr><tr><td>10264</td><td>47</td><td>83.27</td><td>6/30/2004 0:00</td><td>Gifts4AllAges.com</td><td>6175559555</td></tr><tr><td>10276</td><td>48</td><td>75.18</td><td>08-02-2004 00:00</td><td>Online Mini Collectables</td><td>6175557555</td></tr><tr><td>10310</td><td>49</td><td>97.01</td><td>10/16/2004 0:00</td><td>Toms Spezialitten, Ltd</td><td>0221-5554327</td></tr><tr><td>10319</td><td>43</td><td>85.69</td><td>11-03-2004 00:00</td><td>Microscale Inc.</td><td>2125551957</td></tr><tr><td>10331</td><td>41</td><td>100.0</td><td>11/17/2004 0:00</td><td>Motor Mint Distributors Inc.</td><td>2155559857</td></tr><tr><td>10363</td><td>43</td><td>100.0</td><td>01-06-2005 00:00</td><td>Suominen Souveniers</td><td>+358 9 8045 555</td></tr><tr><td>10378</td><td>41</td><td>100.0</td><td>02-10-2005 00:00</td><td>Euro Shopping Channel</td><td>(91) 555 94 44</td></tr><tr><td>10126</td><td>43</td><td>96.31</td><td>5/28/2003 0:00</td><td>Corrida Auto Replicas, Ltd</td><td>(91) 555 22 82</td></tr><tr><td>10184</td><td>46</td><td>100.0</td><td>11/14/2003 0:00</td><td>Iberia Gift Imports, Corp.</td><td>(95) 555 82 82</td></tr><tr><td>10207</td><td>49</td><td>80.9</td><td>12-09-2003 00:00</td><td>Diecast Collectables</td><td>6175552555</td></tr><tr><td>10259</td><td>45</td><td>86.68</td><td>6/15/2004 0:00</td><td>Handji Gifts& Co</td><td>+65 224 1555</td></tr><tr><td>10335</td><td>44</td><td>100.0</td><td>11/19/2004 0:00</td><td>Mini Gifts Distributors Ltd.</td><td>4155551450</td></tr><tr><td>10348</td><td>42</td><td>100.0</td><td>11-01-2004 00:00</td><td>Corrida Auto Replicas, Ltd</td><td>(91) 555 22 82</td></tr><tr><td>10358</td><td>41</td><td>100.0</td><td>12-10-2004 00:00</td><td>Euro Shopping Channel</td><td>(91) 555 94 44</td></tr><tr><td>10425</td><td>41</td><td>86.68</td><td>5/31/2005 0:00</td><td>La Rochelle Gifts</td><td>40.67.8555</td></tr><tr><td>10188</td><td>44</td><td>98.89</td><td>11/18/2003 0:00</td><td>Herkku Gifts</td><td>+47 2267 3215</td></tr><tr><td>10210</td><td>46</td><td>79.91</td><td>01-12-2004 00:00</td><td>Osaka Souveniers Co.</td><td>+81 06 6342 5555</td></tr><tr><td>10235</td><td>41</td><td>100.0</td><td>04-02-2004 00:00</td><td>Royal Canadian Collectables, Ltd.</td><td>(604) 555-4555</td></tr><tr><td>10318</td><td>47</td><td>100.0</td><td>11-02-2004 00:00</td><td>Diecast Classics Inc.</td><td>2155551555</td></tr><tr><td>10329</td><td>45</td><td>63.91</td><td>11/15/2004 0:00</td><td>Land of Toys Inc.</td><td>2125557818</td></tr><tr><td>10340</td><td>55</td><td>100.0</td><td>11/24/2004 0:00</td><td>Enaco Distributors</td><td>(93) 203 4555</td></tr><tr><td>10353</td><td>46</td><td>81.17</td><td>12-04-2004 00:00</td><td>Gift Ideas Corp.</td><td>2035554407</td></tr><tr><td>10363</td><td>50</td><td>100.0</td><td>01-06-2005 00:00</td><td>Suominen Souveniers</td><td>+358 9 8045 555</td></tr><tr><td>10387</td><td>44</td><td>94.9</td><td>03-02-2005 00:00</td><td>Dragon Souveniers, Ltd.</td><td>+65 221 7555</td></tr><tr><td>10401</td><td>49</td><td>100.0</td><td>04-03-2005 00:00</td><td>Tekni Collectables Inc.</td><td>2015559350</td></tr><tr><td>10416</td><td>45</td><td>100.0</td><td>05-10-2005 00:00</td><td>L'ordine Souveniers</td><td>0522-556555</td></tr><tr><td>10190</td><td>46</td><td>32.99</td><td>11/19/2003 0:00</td><td>Euro Shopping Channel</td><td>(91) 555 94 44</td></tr><tr><td>10211</td><td>41</td><td>42.24</td><td>1/15/2004 0:00</td><td>Auto Canal Petit</td><td>(1) 47.55.6555</td></tr><tr><td>10224</td><td>43</td><td>39.43</td><td>2/21/2004 0:00</td><td>Daedalus Designs Imports</td><td>20.16.1555</td></tr><tr><td>10364</td><td>48</td><td>48.28</td><td>01-06-2005 00:00</td><td>Marseille Mini Autos</td><td>91.24.4555</td></tr><tr><td>10390</td><td>41</td><td>44.56</td><td>03-04-2005 00:00</td><td>Mini Gifts Distributors Ltd.</td><td>4155551450</td></tr><tr><td>10127</td><td>45</td><td>51.95</td><td>06-03-2003 00:00</td><td>Muscle Machine Inc</td><td>2125557413</td></tr><tr><td>10151</td><td>41</td><td>63.85</td><td>9/21/2003 0:00</td><td>Oulu Toy Supplies, Inc.</td><td>981-443655</td></tr><tr><td>10165</td><td>48</td><td>45.99</td><td>10/22/2003 0:00</td><td>Dragon Souveniers, Ltd.</td><td>+65 221 7555</td></tr><tr><td>10175</td><td>50</td><td>63.31</td><td>11-06-2003 00:00</td><td>Stylish Desk Decors, Co.</td><td>(171) 555-0297</td></tr><tr><td>10292</td><td>50</td><td>46.53</td><td>09-08-2004 00:00</td><td>Land of Toys Inc.</td><td>2125557818</td></tr><tr><td>10104</td><td>49</td><td>65.87</td><td>1/31/2003 0:00</td><td>Euro Shopping Channel</td><td>(91) 555 94 44</td></tr><tr><td>10142</td><td>42</td><td>74.57</td><td>08-08-2003 00:00</td><td>Mini Gifts Distributors Ltd.</td><td>4155551450</td></tr><tr><td>10165</td><td>44</td><td>53.44</td><td>10/22/2003 0:00</td><td>Dragon Souveniers, Ltd.</td><td>+65 221 7555</td></tr><tr><td>10184</td><td>48</td><td>50.95</td><td>11/14/2003 0:00</td><td>Iberia Gift Imports, Corp.</td><td>(95) 555 82 82</td></tr><tr><td>10207</td><td>45</td><td>56.55</td><td>12-09-2003 00:00</td><td>Diecast Collectables</td><td>6175552555</td></tr><tr><td>10230</td><td>46</td><td>60.9</td><td>3/15/2004 0:00</td><td>Blauer See Auto, Co.</td><td>+49 69 66 90 2555</td></tr><tr><td>10272</td><td>45</td><td>64.63</td><td>7/20/2004 0:00</td><td>Diecast Classics Inc.</td><td>2155551555</td></tr><tr><td>10306</td><td>46</td><td>50.33</td><td>10/14/2004 0:00</td><td>AV Stores, Co.</td><td>(171) 555-1555</td></tr><tr><td>10383</td><td>44</td><td>36.07</td><td>2/22/2005 0:00</td><td>Euro Shopping Channel</td><td>(91) 555 94 44</td></tr><tr><td>10103</td><td>45</td><td>75.63</td><td>1/29/2003 0:00</td><td>Baane Mini Imports</td><td>07-98 9555</td></tr><tr><td>10150</td><td>49</td><td>58.18</td><td>9/19/2003 0:00</td><td>Dragon Souveniers, Ltd.</td><td>+65 221 7555</td></tr><tr><td>10164</td><td>49</td><td>54.94</td><td>10/21/2003 0:00</td><td>Mini Auto Werke</td><td>7675-3555</td></tr><tr><td>10183</td><td>49</td><td>64.64</td><td>11/13/2003 0:00</td><td>Classic Gift Ideas, Inc</td><td>2155554695</td></tr><tr><td>10245</td><td>44</td><td>69.16</td><td>05-04-2004 00:00</td><td>Super Scale Inc.</td><td>2035559545</td></tr><tr><td>10324</td><td>48</td><td>100.0</td><td>11-05-2004 00:00</td><td>Vitachrome Inc.</td><td>2125551500</td></tr><tr><td>10382</td><td>48</td><td>100.0</td><td>2/17/2005 0:00</td><td>Mini Gifts Distributors Ltd.</td><td>4155551450</td></tr><tr><td>10424</td><td>44</td><td>61.41</td><td>5/31/2005 0:00</td><td>Euro Shopping Channel</td><td>(91) 555 94 44</td></tr><tr><td>10133</td><td>49</td><td>57.1</td><td>6/27/2003 0:00</td><td>Euro Shopping Channel</td><td>(91) 555 94 44</td></tr><tr><td>10250</td><td>50</td><td>61.22</td><td>05-11-2004 00:00</td><td>The Sharp Gifts Warehouse</td><td>4085553659</td></tr><tr><td>10284</td><td>50</td><td>81.86</td><td>8/21/2004 0:00</td><td>Norway Gifts By Mail, Co.</td><td>+47 2212 1555</td></tr><tr><td>10308</td><td>46</td><td>66.04</td><td>10/15/2004 0:00</td><td>Mini Classics</td><td>9145554562</td></tr><tr><td>10361</td><td>49</td><td>72.33</td><td>12/17/2004 0:00</td><td>Souveniers And Things Co.</td><td>+61 2 9495 8555</td></tr><tr><td>10375</td><td>44</td><td>82.26</td><td>02-03-2005 00:00</td><td>La Rochelle Gifts</td><td>40.67.8555</td></tr><tr><td>10401</td><td>62</td><td>77.73</td><td>04-03-2005 00:00</td><td>Tekni Collectables Inc.</td><td>2015559350</td></tr><tr><td>10190</td><td>42</td><td>85.72</td><td>11/19/2003 0:00</td><td>Euro Shopping Channel</td><td>(91) 555 94 44</td></tr><tr><td>10309</td><td>50</td><td>84.7</td><td>10/15/2004 0:00</td><td>Baane Mini Imports</td><td>07-98 9555</td></tr><tr><td>10375</td><td>41</td><td>100.0</td><td>02-03-2005 00:00</td><td>La Rochelle Gifts</td><td>40.67.8555</td></tr><tr><td>10390</td><td>45</td><td>48.98</td><td>03-04-2005 00:00</td><td>Mini Gifts Distributors Ltd.</td><td>4155551450</td></tr><tr><td>10403</td><td>45</td><td>100.0</td><td>04-08-2005 00:00</td><td>UK Collectables, Ltd.</td><td>(171) 555-2282</td></tr><tr><td>10120</td><td>49</td><td>50.62</td><td>4/29/2003 0:00</td><td>Australian Collectors, Co.</td><td>03 9520 4555</td></tr><tr><td>10168</td><td>48</td><td>51.93</td><td>10/28/2003 0:00</td><td>Technics Stores Inc.</td><td>6505556809</td></tr><tr><td>10210</td><td>43</td><td>41.02</td><td>01-12-2004 00:00</td><td>Osaka Souveniers Co.</td><td>+81 06 6342 5555</td></tr><tr><td>10223</td><td>41</td><td>46.26</td><td>2/20/2004 0:00</td><td>Australian Collectors, Co.</td><td>03 9520 4555</td></tr><tr><td>10235</td><td>41</td><td>35.35</td><td>04-02-2004 00:00</td><td>Royal Canadian Collectables, Ltd.</td><td>(604) 555-4555</td></tr><tr><td>10262</td><td>49</td><td>37.97</td><td>6/24/2004 0:00</td><td>Euro Shopping Channel</td><td>(91) 555 94 44</td></tr><tr><td>10308</td><td>47</td><td>43.64</td><td>10/15/2004 0:00</td><td>Mini Classics</td><td>9145554562</td></tr><tr><td>10375</td><td>49</td><td>65.8</td><td>02-03-2005 00:00</td><td>La Rochelle Gifts</td><td>40.67.8555</td></tr><tr><td>10398</td><td>49</td><td>36.66</td><td>3/30/2005 0:00</td><td>Reims Collectables</td><td>26.47.1555</td></tr><tr><td>10401</td><td>56</td><td>35.35</td><td>04-03-2005 00:00</td><td>Tekni Collectables Inc.</td><td>2015559350</td></tr><tr><td>10127</td><td>46</td><td>100.0</td><td>06-03-2003 00:00</td><td>Muscle Machine Inc</td><td>2125557413</td></tr><tr><td>10141</td><td>44</td><td>100.0</td><td>08-01-2003 00:00</td><td>Suominen Souveniers</td><td>+358 9 8045 555</td></tr><tr><td>10165</td><td>48</td><td>94.92</td><td>10/22/2003 0:00</td><td>Dragon Souveniers, Ltd.</td><td>+65 221 7555</td></tr><tr><td>10184</td><td>45</td><td>100.0</td><td>11/14/2003 0:00</td><td>Iberia Gift Imports, Corp.</td><td>(95) 555 82 82</td></tr><tr><td>10195</td><td>49</td><td>100.0</td><td>11/25/2003 0:00</td><td>Mini Classics</td><td>9145554562</td></tr><tr><td>10292</td><td>41</td><td>100.0</td><td>09-08-2004 00:00</td><td>Land of Toys Inc.</td><td>2125557818</td></tr><tr><td>10305</td><td>42</td><td>100.0</td><td>10/13/2004 0:00</td><td>Marta's Replicas Co.</td><td>6175558555</td></tr><tr><td>10359</td><td>46</td><td>100.0</td><td>12/15/2004 0:00</td><td>Reims Collectables</td><td>26.47.1555</td></tr><tr><td>10371</td><td>48</td><td>56.55</td><td>1/23/2005 0:00</td><td>Mini Gifts Distributors Ltd.</td><td>4155551450</td></tr><tr><td>10395</td><td>46</td><td>100.0</td><td>3/17/2005 0:00</td><td>Lyon Souveniers</td><td>+33 1 46 62 7555</td></tr><tr><td>10127</td><td>46</td><td>69.12</td><td>06-03-2003 00:00</td><td>Muscle Machine Inc</td><td>2125557413</td></tr><tr><td>10142</td><td>42</td><td>49.79</td><td>08-08-2003 00:00</td><td>Mini Gifts Distributors Ltd.</td><td>4155551450</td></tr><tr><td>10196</td><td>46</td><td>62.09</td><td>11/26/2003 0:00</td><td>Super Scale Inc.</td><td>2035559545</td></tr><tr><td>10230</td><td>43</td><td>52.14</td><td>3/15/2004 0:00</td><td>Blauer See Auto, Co.</td><td>+49 69 66 90 2555</td></tr><tr><td>10247</td><td>49</td><td>63.85</td><td>05-05-2004 00:00</td><td>Suominen Souveniers</td><td>+358 9 8045 555</td></tr><tr><td>10272</td><td>43</td><td>56.82</td><td>7/20/2004 0:00</td><td>Diecast Classics Inc.</td><td>2155551555</td></tr><tr><td>10325</td><td>44</td><td>100.0</td><td>11-05-2004 00:00</td><td>Baane Mini Imports</td><td>07-98 9555</td></tr><tr><td>10350</td><td>44</td><td>100.0</td><td>12-02-2004 00:00</td><td>Euro Shopping Channel</td><td>(91) 555 94 44</td></tr><tr><td>10395</td><td>45</td><td>100.0</td><td>3/17/2005 0:00</td><td>Lyon Souveniers</td><td>+33 1 46 62 7555</td></tr><tr><td>10413</td><td>51</td><td>63.85</td><td>05-05-2005 00:00</td><td>Gift Depot Inc.</td><td>2035552570</td></tr><tr><td>10121</td><td>44</td><td>74.85</td><td>05-07-2003 00:00</td><td>Reims Collectables</td><td>26.47.1555</td></tr><tr><td>10135</td><td>44</td><td>96.0</td><td>07-02-2003 00:00</td><td>Mini Gifts Distributors Ltd.</td><td>4155551450</td></tr><tr><td>10169</td><td>48</td><td>80.55</td><td>11-04-2003 00:00</td><td>Anna's Decorations, Ltd</td><td>02 9936 8555</td></tr><tr><td>10224</td><td>50</td><td>77.29</td><td>2/21/2004 0:00</td><td>Daedalus Designs Imports</td><td>20.16.1555</td></tr><tr><td>10252</td><td>48</td><td>72.41</td><td>5/26/2004 0:00</td><td>Auto Canal Petit</td><td>(1) 47.55.6555</td></tr><tr><td>10264</td><td>47</td><td>89.5</td><td>6/30/2004 0:00</td><td>Gifts4AllAges.com</td><td>6175559555</td></tr><tr><td>10299</td><td>44</td><td>80.55</td><td>9/30/2004 0:00</td><td>Toys of Finland, Co.</td><td>90-224 8555</td></tr><tr><td>10319</td><td>45</td><td>77.29</td><td>11-03-2004 00:00</td><td>Microscale Inc.</td><td>2125551957</td></tr><tr><td>10365</td><td>44</td><td>100.0</td><td>01-07-2005 00:00</td><td>Mini Creations Ltd.</td><td>5085559555</td></tr><tr><td>10375</td><td>49</td><td>100.0</td><td>02-03-2005 00:00</td><td>La Rochelle Gifts</td><td>40.67.8555</td></tr><tr><td>10105</td><td>41</td><td>70.67</td><td>02-11-2003 00:00</td><td>Danish Wholesale Imports</td><td>31 12 3555</td></tr><tr><td>10142</td><td>41</td><td>64.0</td><td>08-08-2003 00:00</td><td>Mini Gifts Distributors Ltd.</td><td>4155551450</td></tr><tr><td>10153</td><td>43</td><td>64.67</td><td>9/28/2003 0:00</td><td>Euro Shopping Channel</td><td>(91) 555 94 44</td></tr><tr><td>10167</td><td>43</td><td>75.34</td><td>10/23/2003 0:00</td><td>Scandinavian Gift Ideas</td><td>0695-34 6555</td></tr><tr><td>10283</td><td>45</td><td>78.67</td><td>8/20/2004 0:00</td><td>Royal Canadian Collectables, Ltd.</td><td>(604) 555-4555</td></tr><tr><td>10306</td><td>50</td><td>54.0</td><td>10/14/2004 0:00</td><td>AV Stores, Co.</td><td>(171) 555-1555</td></tr><tr><td>10315</td><td>41</td><td>62.0</td><td>10/29/2004 0:00</td><td>La Rochelle Gifts</td><td>40.67.8555</td></tr><tr><td>10350</td><td>46</td><td>76.67</td><td>12-02-2004 00:00</td><td>Euro Shopping Channel</td><td>(91) 555 94 44</td></tr><tr><td>10373</td><td>44</td><td>100.0</td><td>1/31/2005 0:00</td><td>Oulu Toy Supplies, Inc.</td><td>981-443655</td></tr><tr><td>10120</td><td>47</td><td>82.21</td><td>4/29/2003 0:00</td><td>Australian Collectors, Co.</td><td>03 9520 4555</td></tr><tr><td>10156</td><td>48</td><td>100.0</td><td>10-08-2003 00:00</td><td>Euro Shopping Channel</td><td>(91) 555 94 44</td></tr><tr><td>10199</td><td>48</td><td>83.12</td><td>12-01-2003 00:00</td><td>West Coast Collectables Co.</td><td>3105553722</td></tr><tr><td>10296</td><td>42</td><td>100.0</td><td>9/15/2004 0:00</td><td>Bavarian Collectables Imports, Co.</td><td>+49 89 61 08 9555</td></tr><tr><td>10388</td><td>46</td><td>100.0</td><td>03-03-2005 00:00</td><td>FunGiftIdeas.com</td><td>5085552555</td></tr><tr><td>10398</td><td>47</td><td>87.69</td><td>3/30/2005 0:00</td><td>Reims Collectables</td><td>26.47.1555</td></tr><tr><td>10142</td><td>43</td><td>84.01</td><td>08-08-2003 00:00</td><td>Mini Gifts Distributors Ltd.</td><td>4155551450</td></tr><tr><td>10196</td><td>50</td><td>94.4</td><td>11/26/2003 0:00</td><td>Super Scale Inc.</td><td>2035559545</td></tr><tr><td>10282</td><td>43</td><td>86.61</td><td>8/20/2004 0:00</td><td>Mini Gifts Distributors Ltd.</td><td>4155551450</td></tr><tr><td>10372</td><td>44</td><td>100.0</td><td>1/26/2005 0:00</td><td>Tokyo Collectables, Ltd</td><td>+81 3 3584 0555</td></tr><tr><td>10384</td><td>49</td><td>100.0</td><td>2/23/2005 0:00</td><td>Corporate Gift Ideas Co.</td><td>6505551386</td></tr><tr><td>10262</td><td>44</td><td>94.14</td><td>6/24/2004 0:00</td><td>Euro Shopping Channel</td><td>(91) 555 94 44</td></tr><tr><td>10316</td><td>45</td><td>93.24</td><td>11-01-2004 00:00</td><td>giftsbymail.co.uk</td><td>(198) 555-8888</td></tr><tr><td>10328</td><td>41</td><td>100.0</td><td>11-12-2004 00:00</td><td>Rovelli Gifts</td><td>035-640555</td></tr><tr><td>10339</td><td>55</td><td>71.25</td><td>11/23/2004 0:00</td><td>Tokyo Collectables, Ltd</td><td>+81 3 3584 0555</td></tr><tr><td>10400</td><td>46</td><td>87.8</td><td>04-01-2005 00:00</td><td>The Sharp Gifts Warehouse</td><td>4085553659</td></tr><tr><td>10198</td><td>42</td><td>100.0</td><td>11/27/2003 0:00</td><td>Cruz & Sons Co.</td><td>+63 2 555 3587</td></tr><tr><td>10284</td><td>45</td><td>100.0</td><td>8/21/2004 0:00</td><td>Norway Gifts By Mail, Co.</td><td>+47 2212 1555</td></tr><tr><td>10340</td><td>55</td><td>87.75</td><td>11/24/2004 0:00</td><td>Enaco Distributors</td><td>(93) 203 4555</td></tr><tr><td>10352</td><td>49</td><td>100.0</td><td>12-03-2004 00:00</td><td>Auto-Moto Classics Inc.</td><td>6175558428</td></tr><tr><td>10401</td><td>85</td><td>88.75</td><td>04-03-2005 00:00</td><td>Tekni Collectables Inc.</td><td>2015559350</td></tr><tr><td>10129</td><td>45</td><td>85.29</td><td>06-12-2003 00:00</td><td>Stylish Desk Decors, Co.</td><td>(171) 555-0297</td></tr><tr><td>10167</td><td>46</td><td>70.11</td><td>10/23/2003 0:00</td><td>Scandinavian Gift Ideas</td><td>0695-34 6555</td></tr><tr><td>10197</td><td>50</td><td>78.79</td><td>11/26/2003 0:00</td><td>Enaco Distributors</td><td>(93) 203 4555</td></tr><tr><td>10208</td><td>46</td><td>74.45</td><td>01-02-2004 00:00</td><td>Saveley & Henriot, Co.</td><td>78.32.5555</td></tr><tr><td>10261</td><td>44</td><td>68.67</td><td>6/17/2004 0:00</td><td>Quebec Home Shopping Network</td><td>(514) 555-8054</td></tr><tr><td>10273</td><td>42</td><td>62.16</td><td>7/21/2004 0:00</td><td>Petit Auto</td><td>(02) 5554 67</td></tr><tr><td>10283</td><td>47</td><td>65.77</td><td>8/20/2004 0:00</td><td>Royal Canadian Collectables, Ltd.</td><td>(604) 555-4555</td></tr><tr><td>10295</td><td>44</td><td>58.55</td><td>09-10-2004 00:00</td><td>Gifts4AllAges.com</td><td>6175559555</td></tr><tr><td>10306</td><td>43</td><td>75.17</td><td>10/14/2004 0:00</td><td>AV Stores, Co.</td><td>(171) 555-1555</td></tr><tr><td>10316</td><td>48</td><td>74.45</td><td>11-01-2004 00:00</td><td>giftsbymail.co.uk</td><td>(198) 555-8888</td></tr><tr><td>10339</td><td>50</td><td>74.35</td><td>11/23/2004 0:00</td><td>Tokyo Collectables, Ltd</td><td>+81 3 3584 0555</td></tr><tr><td>10373</td><td>41</td><td>70.33</td><td>1/31/2005 0:00</td><td>Oulu Toy Supplies, Inc.</td><td>981-443655</td></tr><tr><td>10103</td><td>42</td><td>100.0</td><td>1/29/2003 0:00</td><td>Baane Mini Imports</td><td>07-98 9555</td></tr><tr><td>10114</td><td>42</td><td>100.0</td><td>04-01-2003 00:00</td><td>La Corne D'abondance, Co.</td><td>(1) 42.34.2555</td></tr><tr><td>10126</td><td>45</td><td>100.0</td><td>5/28/2003 0:00</td><td>Corrida Auto Replicas, Ltd</td><td>(91) 555 22 82</td></tr><tr><td>10175</td><td>42</td><td>85.98</td><td>11-06-2003 00:00</td><td>Stylish Desk Decors, Co.</td><td>(171) 555-0297</td></tr><tr><td>10229</td><td>50</td><td>100.0</td><td>03-11-2004 00:00</td><td>Mini Gifts Distributors Ltd.</td><td>4155551450</td></tr><tr><td>10245</td><td>44</td><td>100.0</td><td>05-04-2004 00:00</td><td>Super Scale Inc.</td><td>2035559545</td></tr><tr><td>10258</td><td>45</td><td>80.92</td><td>6/15/2004 0:00</td><td>Tokyo Collectables, Ltd</td><td>+81 3 3584 0555</td></tr><tr><td>10270</td><td>46</td><td>88.0</td><td>7/19/2004 0:00</td><td>Souveniers And Things Co.</td><td>+61 2 9495 8555</td></tr><tr><td>10336</td><td>46</td><td>100.0</td><td>11/20/2004 0:00</td><td>La Corne D'abondance, Co.</td><td>(1) 42.34.2555</td></tr><tr><td>10424</td><td>46</td><td>80.92</td><td>5/31/2005 0:00</td><td>Euro Shopping Channel</td><td>(91) 555 94 44</td></tr><tr><td>10250</td><td>44</td><td>100.0</td><td>05-11-2004 00:00</td><td>The Sharp Gifts Warehouse</td><td>4085553659</td></tr><tr><td>10263</td><td>47</td><td>100.0</td><td>6/28/2004 0:00</td><td>Gift Depot Inc.</td><td>2035552570</td></tr><tr><td>10275</td><td>48</td><td>100.0</td><td>7/23/2004 0:00</td><td>La Rochelle Gifts</td><td>40.67.8555</td></tr><tr><td>10285</td><td>45</td><td>100.0</td><td>8/27/2004 0:00</td><td>Marta's Replicas Co.</td><td>6175558555</td></tr><tr><td>10318</td><td>50</td><td>100.0</td><td>11-02-2004 00:00</td><td>Diecast Classics Inc.</td><td>2155551555</td></tr><tr><td>10353</td><td>48</td><td>68.8</td><td>12-04-2004 00:00</td><td>Gift Ideas Corp.</td><td>2035554407</td></tr><tr><td>10361</td><td>44</td><td>72.42</td><td>12/17/2004 0:00</td><td>Souveniers And Things Co.</td><td>+61 2 9495 8555</td></tr><tr><td>10388</td><td>50</td><td>100.0</td><td>03-03-2005 00:00</td><td>FunGiftIdeas.com</td><td>5085552555</td></tr><tr><td>10416</td><td>41</td><td>100.0</td><td>05-10-2005 00:00</td><td>L'ordine Souveniers</td><td>0522-556555</td></tr><tr><td>10106</td><td>44</td><td>74.4</td><td>2/17/2003 0:00</td><td>Rovelli Gifts</td><td>035-640555</td></tr><tr><td>10120</td><td>43</td><td>76.0</td><td>4/29/2003 0:00</td><td>Australian Collectors, Co.</td><td>03 9520 4555</td></tr><tr><td>10155</td><td>43</td><td>86.4</td><td>10-06-2003 00:00</td><td>Toys of Finland, Co.</td><td>90-224 8555</td></tr><tr><td>10168</td><td>48</td><td>96.0</td><td>10/28/2003 0:00</td><td>Technics Stores Inc.</td><td>6505556809</td></tr><tr><td>10250</td><td>44</td><td>67.2</td><td>05-11-2004 00:00</td><td>The Sharp Gifts Warehouse</td><td>4085553659</td></tr><tr><td>10275</td><td>43</td><td>73.6</td><td>7/23/2004 0:00</td><td>La Rochelle Gifts</td><td>40.67.8555</td></tr><tr><td>10316</td><td>48</td><td>75.2</td><td>11-01-2004 00:00</td><td>giftsbymail.co.uk</td><td>(198) 555-8888</td></tr><tr><td>10353</td><td>43</td><td>81.95</td><td>12-04-2004 00:00</td><td>Gift Ideas Corp.</td><td>2035554407</td></tr><tr><td>10361</td><td>44</td><td>100.0</td><td>12/17/2004 0:00</td><td>Souveniers And Things Co.</td><td>+61 2 9495 8555</td></tr><tr><td>10375</td><td>44</td><td>100.0</td><td>02-03-2005 00:00</td><td>La Rochelle Gifts</td><td>40.67.8555</td></tr><tr><td>10401</td><td>77</td><td>92.0</td><td>04-03-2005 00:00</td><td>Tekni Collectables Inc.</td><td>2015559350</td></tr><tr><td>10129</td><td>42</td><td>91.15</td><td>06-12-2003 00:00</td><td>Stylish Desk Decors, Co.</td><td>(171) 555-0297</td></tr><tr><td>10153</td><td>50</td><td>88.15</td><td>9/28/2003 0:00</td><td>Euro Shopping Channel</td><td>(91) 555 94 44</td></tr><tr><td>10177</td><td>44</td><td>92.16</td><td>11-07-2003 00:00</td><td>CAF Imports</td><td>+34 913 728 555</td></tr><tr><td>10232</td><td>48</td><td>96.16</td><td>3/20/2004 0:00</td><td>giftsbymail.co.uk</td><td>(198) 555-8888</td></tr><tr><td>10327</td><td>43</td><td>80.0</td><td>11-10-2004 00:00</td><td>Danish Wholesale Imports</td><td>31 12 3555</td></tr><tr><td>10386</td><td>45</td><td>92.08</td><td>03-01-2005 00:00</td><td>Euro Shopping Channel</td><td>(91) 555 94 44</td></tr><tr><td>10397</td><td>48</td><td>100.0</td><td>3/28/2005 0:00</td><td>Alpha Cognac</td><td>61.77.6555</td></tr><tr><td>10117</td><td>45</td><td>83.42</td><td>4/16/2003 0:00</td><td>Dragon Souveniers, Ltd.</td><td>+65 221 7555</td></tr><tr><td>10261</td><td>50</td><td>81.43</td><td>6/17/2004 0:00</td><td>Quebec Home Shopping Network</td><td>(514) 555-8054</td></tr><tr><td>10294</td><td>45</td><td>100.0</td><td>09-10-2004 00:00</td><td>Online Mini Collectables</td><td>6175557555</td></tr><tr><td>10106</td><td>48</td><td>61.44</td><td>2/17/2003 0:00</td><td>Rovelli Gifts</td><td>035-640555</td></tr><tr><td>10155</td><td>44</td><td>85.87</td><td>10-06-2003 00:00</td><td>Toys of Finland, Co.</td><td>90-224 8555</td></tr><tr><td>10178</td><td>45</td><td>76.25</td><td>11-08-2003 00:00</td><td>Alpha Cognac</td><td>61.77.6555</td></tr><tr><td>10210</td><td>42</td><td>70.33</td><td>01-12-2004 00:00</td><td>Osaka Souveniers Co.</td><td>+81 06 6342 5555</td></tr><tr><td>10222</td><td>43</td><td>74.03</td><td>2/19/2004 0:00</td><td>Collectable Mini Designs Co.</td><td>7605558146</td></tr><tr><td>10296</td><td>47</td><td>86.62</td><td>9/15/2004 0:00</td><td>Bavarian Collectables Imports, Co.</td><td>+49 89 61 08 9555</td></tr><tr><td>10316</td><td>44</td><td>62.19</td><td>11-01-2004 00:00</td><td>giftsbymail.co.uk</td><td>(198) 555-8888</td></tr><tr><td>10339</td><td>50</td><td>57.86</td><td>11/23/2004 0:00</td><td>Tokyo Collectables, Ltd</td><td>+81 3 3584 0555</td></tr><tr><td>10373</td><td>45</td><td>55.62</td><td>1/31/2005 0:00</td><td>Oulu Toy Supplies, Inc.</td><td>981-443655</td></tr><tr><td>10386</td><td>44</td><td>86.4</td><td>03-01-2005 00:00</td><td>Euro Shopping Channel</td><td>(91) 555 94 44</td></tr><tr><td>10416</td><td>43</td><td>62.19</td><td>05-10-2005 00:00</td><td>L'ordine Souveniers</td><td>0522-556555</td></tr><tr><td>10106</td><td>48</td><td>52.64</td><td>2/17/2003 0:00</td><td>Rovelli Gifts</td><td>035-640555</td></tr><tr><td>10178</td><td>45</td><td>51.15</td><td>11-08-2003 00:00</td><td>Alpha Cognac</td><td>61.77.6555</td></tr><tr><td>10209</td><td>48</td><td>44.69</td><td>01-09-2004 00:00</td><td>Men 'R' US Retailers, Ltd.</td><td>2155554369</td></tr><tr><td>10283</td><td>43</td><td>57.61</td><td>8/20/2004 0:00</td><td>Royal Canadian Collectables, Ltd.</td><td>(604) 555-4555</td></tr><tr><td>10329</td><td>44</td><td>86.13</td><td>11/15/2004 0:00</td><td>Land of Toys Inc.</td><td>2125557818</td></tr><tr><td>10352</td><td>49</td><td>52.64</td><td>12-03-2004 00:00</td><td>Auto-Moto Classics Inc.</td><td>6175558428</td></tr><tr><td>10386</td><td>50</td><td>87.15</td><td>03-01-2005 00:00</td><td>Euro Shopping Channel</td><td>(91) 555 94 44</td></tr><tr><td>10415</td><td>42</td><td>57.61</td><td>05-09-2005 00:00</td><td>Australian Collectables, Ltd</td><td>61-9-3844-6555</td></tr><tr><td>10117</td><td>50</td><td>43.68</td><td>4/16/2003 0:00</td><td>Dragon Souveniers, Ltd.</td><td>+65 221 7555</td></tr><tr><td>10153</td><td>50</td><td>60.06</td><td>9/28/2003 0:00</td><td>Euro Shopping Channel</td><td>(91) 555 94 44</td></tr><tr><td>10197</td><td>42</td><td>50.23</td><td>11/26/2003 0:00</td><td>Enaco Distributors</td><td>(93) 203 4555</td></tr><tr><td>10208</td><td>42</td><td>63.88</td><td>01-02-2004 00:00</td><td>Saveley & Henriot, Co.</td><td>78.32.5555</td></tr><tr><td>10337</td><td>42</td><td>97.16</td><td>11/21/2004 0:00</td><td>Classic Legends Inc.</td><td>2125558493</td></tr><tr><td>10386</td><td>43</td><td>100.0</td><td>03-01-2005 00:00</td><td>Euro Shopping Channel</td><td>(91) 555 94 44</td></tr><tr><td>10414</td><td>47</td><td>65.52</td><td>05-06-2005 00:00</td><td>Gifts4AllAges.com</td><td>6175559555</td></tr></tbody></table></div>"
      ]
     },
     "metadata": {
      "application/vnd.databricks.v1+output": {
       "addedWidgets": {},
       "aggData": [],
       "aggError": "",
       "aggOverflow": false,
       "aggSchema": [],
       "aggSeriesLimitReached": false,
       "aggType": "",
       "arguments": {},
       "columnCustomDisplayInfos": {},
       "data": [
        [
         10134,
         41,
         94.74,
         "07-01-2003 00:00",
         "Lyon Souveniers",
         "+33 1 46 62 7555"
        ],
        [
         10145,
         45,
         83.26,
         "8/25/2003 0:00",
         "Toys4GrownUps.com",
         "6265557265"
        ],
        [
         10159,
         49,
         100.0,
         "10-10-2003 00:00",
         "Corporate Gift Ideas Co.",
         "6505551386"
        ],
        [
         10188,
         48,
         100.0,
         "11/18/2003 0:00",
         "Herkku Gifts",
         "+47 2267 3215"
        ],
        [
         10211,
         41,
         100.0,
         "1/15/2004 0:00",
         "Auto Canal Petit",
         "(1) 47.55.6555"
        ],
        [
         10275,
         45,
         92.83,
         "7/23/2004 0:00",
         "La Rochelle Gifts",
         "40.67.8555"
        ],
        [
         10309,
         41,
         100.0,
         "10/15/2004 0:00",
         "Baane Mini Imports",
         "07-98 9555"
        ],
        [
         10318,
         46,
         94.74,
         "11-02-2004 00:00",
         "Diecast Classics Inc.",
         "2155551555"
        ],
        [
         10329,
         42,
         100.0,
         "11/15/2004 0:00",
         "Land of Toys Inc.",
         "2125557818"
        ],
        [
         10341,
         41,
         100.0,
         "11/24/2004 0:00",
         "Salzburg Collectables",
         "6562-9555"
        ],
        [
         10388,
         42,
         76.36,
         "03-03-2005 00:00",
         "FunGiftIdeas.com",
         "5085552555"
        ],
        [
         10417,
         66,
         100.0,
         "5/13/2005 0:00",
         "Euro Shopping Channel",
         "(91) 555 94 44"
        ],
        [
         10150,
         45,
         100.0,
         "9/19/2003 0:00",
         "Dragon Souveniers, Ltd.",
         "+65 221 7555"
        ],
        [
         10194,
         42,
         100.0,
         "11/25/2003 0:00",
         "Saveley & Henriot, Co.",
         "78.32.5555"
        ],
        [
         10206,
         47,
         100.0,
         "12-05-2003 00:00",
         "Canadian Gift Exchange Network",
         "(604) 555-3392"
        ],
        [
         10304,
         47,
         100.0,
         "10-11-2004 00:00",
         "Auto Assoc. & Cie.",
         "30.59.8555"
        ],
        [
         10312,
         48,
         100.0,
         "10/21/2004 0:00",
         "Mini Gifts Distributors Ltd.",
         "4155551450"
        ],
        [
         10369,
         41,
         100.0,
         "1/20/2005 0:00",
         "Collectables For Less Inc.",
         "6175558555"
        ],
        [
         10424,
         50,
         100.0,
         "5/31/2005 0:00",
         "Euro Shopping Channel",
         "(91) 555 94 44"
        ],
        [
         10180,
         42,
         100.0,
         "11-11-2003 00:00",
         "Daedalus Designs Imports",
         "20.16.1555"
        ],
        [
         10223,
         47,
         100.0,
         "2/20/2004 0:00",
         "Australian Collectors, Co.",
         "03 9520 4555"
        ],
        [
         10251,
         44,
         100.0,
         "5/18/2004 0:00",
         "Tekni Collectables Inc.",
         "2015559350"
        ],
        [
         10285,
         47,
         100.0,
         "8/27/2004 0:00",
         "Marta's Replicas Co.",
         "6175558555"
        ],
        [
         10318,
         45,
         100.0,
         "11-02-2004 00:00",
         "Diecast Classics Inc.",
         "2155551555"
        ],
        [
         10388,
         50,
         44.51,
         "03-03-2005 00:00",
         "FunGiftIdeas.com",
         "5085552555"
        ],
        [
         10402,
         45,
         100.0,
         "04-07-2005 00:00",
         "Auto Canal Petit",
         "(1) 47.55.6555"
        ],
        [
         10417,
         45,
         100.0,
         "5/13/2005 0:00",
         "Euro Shopping Channel",
         "(91) 555 94 44"
        ],
        [
         10120,
         46,
         100.0,
         "4/29/2003 0:00",
         "Australian Collectors, Co.",
         "03 9520 4555"
        ],
        [
         10180,
         41,
         100.0,
         "11-11-2003 00:00",
         "Daedalus Designs Imports",
         "20.16.1555"
        ],
        [
         10188,
         45,
         100.0,
         "11/18/2003 0:00",
         "Herkku Gifts",
         "+47 2267 3215"
        ],
        [
         10201,
         49,
         100.0,
         "12-01-2003 00:00",
         "Mini Wheels Co.",
         "6505555787"
        ],
        [
         10223,
         49,
         100.0,
         "2/20/2004 0:00",
         "Australian Collectors, Co.",
         "03 9520 4555"
        ],
        [
         10251,
         43,
         100.0,
         "5/18/2004 0:00",
         "Tekni Collectables Inc.",
         "2015559350"
        ],
        [
         10263,
         41,
         100.0,
         "6/28/2004 0:00",
         "Gift Depot Inc.",
         "2035552570"
        ],
        [
         10403,
         66,
         100.0,
         "04-08-2005 00:00",
         "UK Collectables, Ltd.",
         "(171) 555-2282"
        ],
        [
         10417,
         56,
         100.0,
         "5/13/2005 0:00",
         "Euro Shopping Channel",
         "(91) 555 94 44"
        ],
        [
         10105,
         50,
         100.0,
         "02-11-2003 00:00",
         "Danish Wholesale Imports",
         "31 12 3555"
        ],
        [
         10119,
         46,
         100.0,
         "4/28/2003 0:00",
         "Salzburg Collectables",
         "6562-9555"
        ],
        [
         10143,
         49,
         100.0,
         "08-10-2003 00:00",
         "Mini Creations Ltd.",
         "5085559555"
        ],
        [
         10167,
         44,
         100.0,
         "10/23/2003 0:00",
         "Scandinavian Gift Ideas",
         "0695-34 6555"
        ],
        [
         10197,
         45,
         100.0,
         "11/26/2003 0:00",
         "Enaco Distributors",
         "(93) 203 4555"
        ],
        [
         10222,
         49,
         100.0,
         "2/19/2004 0:00",
         "Collectable Mini Designs Co.",
         "7605558146"
        ],
        [
         10325,
         47,
         64.93,
         "11-05-2004 00:00",
         "Baane Mini Imports",
         "07-98 9555"
        ],
        [
         10359,
         48,
         54.68,
         "12/15/2004 0:00",
         "Reims Collectables",
         "26.47.1555"
        ],
        [
         10400,
         64,
         100.0,
         "04-01-2005 00:00",
         "The Sharp Gifts Warehouse",
         "4085553659"
        ],
        [
         10103,
         42,
         100.0,
         "1/29/2003 0:00",
         "Baane Mini Imports",
         "07-98 9555"
        ],
        [
         10217,
         48,
         100.0,
         "02-04-2004 00:00",
         "Handji Gifts& Co",
         "+65 224 1555"
        ],
        [
         10229,
         50,
         100.0,
         "03-11-2004 00:00",
         "Mini Gifts Distributors Ltd.",
         "4155551450"
        ],
        [
         10281,
         44,
         100.0,
         "8/19/2004 0:00",
         "Diecast Classics Inc.",
         "2155551555"
        ],
        [
         10322,
         46,
         61.99,
         "11-04-2004 00:00",
         "Online Diecast Creations Co.",
         "6035558647"
        ],
        [
         10357,
         43,
         100.0,
         "12-10-2004 00:00",
         "Mini Gifts Distributors Ltd.",
         "4155551450"
        ],
        [
         10122,
         42,
         100.0,
         "05-08-2003 00:00",
         "Marseille Mini Autos",
         "91.24.4555"
        ],
        [
         10135,
         42,
         100.0,
         "07-02-2003 00:00",
         "Mini Gifts Distributors Ltd.",
         "4155551450"
        ],
        [
         10147,
         48,
         100.0,
         "09-05-2003 00:00",
         "Collectables For Less Inc.",
         "6175558555"
        ],
        [
         10159,
         41,
         100.0,
         "10-10-2003 00:00",
         "Corporate Gift Ideas Co.",
         "6505551386"
        ],
        [
         10211,
         41,
         100.0,
         "1/15/2004 0:00",
         "Auto Canal Petit",
         "(1) 47.55.6555"
        ],
        [
         10266,
         44,
         100.0,
         "07-06-2004 00:00",
         "L'ordine Souveniers",
         "0522-556555"
        ],
        [
         10276,
         50,
         100.0,
         "08-02-2004 00:00",
         "Online Mini Collectables",
         "6175557555"
        ],
        [
         10329,
         41,
         71.47,
         "11/15/2004 0:00",
         "Land of Toys Inc.",
         "2125557818"
        ],
        [
         10341,
         45,
         79.65,
         "11/24/2004 0:00",
         "Salzburg Collectables",
         "6562-9555"
        ],
        [
         10375,
         45,
         76.0,
         "02-03-2005 00:00",
         "La Rochelle Gifts",
         "40.67.8555"
        ],
        [
         10105,
         41,
         100.0,
         "02-11-2003 00:00",
         "Danish Wholesale Imports",
         "31 12 3555"
        ],
        [
         10127,
         46,
         100.0,
         "06-03-2003 00:00",
         "Muscle Machine Inc",
         "2125557413"
        ],
        [
         10165,
         44,
         100.0,
         "10/22/2003 0:00",
         "Dragon Souveniers, Ltd.",
         "+65 221 7555"
        ],
        [
         10196,
         47,
         100.0,
         "11/26/2003 0:00",
         "Super Scale Inc.",
         "2035559545"
        ],
        [
         10208,
         46,
         100.0,
         "01-02-2004 00:00",
         "Saveley & Henriot, Co.",
         "78.32.5555"
        ],
        [
         10231,
         42,
         100.0,
         "3/19/2004 0:00",
         "CAF Imports",
         "+34 913 728 555"
        ],
        [
         10247,
         44,
         100.0,
         "05-05-2004 00:00",
         "Suominen Souveniers",
         "+358 9 8045 555"
        ],
        [
         10282,
         41,
         100.0,
         "8/20/2004 0:00",
         "Mini Gifts Distributors Ltd.",
         "4155551450"
        ],
        [
         10293,
         46,
         100.0,
         "09-09-2004 00:00",
         "Amica Models & Co.",
         "011-4988555"
        ],
        [
         10325,
         42,
         64.0,
         "11-05-2004 00:00",
         "Baane Mini Imports",
         "07-98 9555"
        ],
        [
         10348,
         48,
         52.36,
         "11-01-2004 00:00",
         "Corrida Auto Replicas, Ltd",
         "(91) 555 22 82"
        ],
        [
         10359,
         42,
         100.0,
         "12/15/2004 0:00",
         "Reims Collectables",
         "26.47.1555"
        ],
        [
         10164,
         49,
         100.0,
         "10/21/2003 0:00",
         "Mini Auto Werke",
         "7675-3555"
        ],
        [
         10174,
         43,
         100.0,
         "11-06-2003 00:00",
         "Australian Gift Network, Co",
         "61-7-3844-6555"
        ],
        [
         10183,
         41,
         100.0,
         "11/13/2003 0:00",
         "Classic Gift Ideas, Inc",
         "2155554695"
        ],
        [
         10216,
         43,
         100.0,
         "02-02-2004 00:00",
         "Auto Assoc. & Cie.",
         "30.59.8555"
        ],
        [
         10258,
         41,
         100.0,
         "6/15/2004 0:00",
         "Tokyo Collectables, Ltd",
         "+81 3 3584 0555"
        ],
        [
         10291,
         41,
         100.0,
         "09-08-2004 00:00",
         "Scandinavian Gift Ideas",
         "0695-34 6555"
        ],
        [
         10357,
         49,
         100.0,
         "12-10-2004 00:00",
         "Mini Gifts Distributors Ltd.",
         "4155551450"
        ],
        [
         10370,
         49,
         100.0,
         "1/20/2005 0:00",
         "Anna's Decorations, Ltd",
         "02 9936 8555"
        ],
        [
         10424,
         49,
         100.0,
         "5/31/2005 0:00",
         "Euro Shopping Channel",
         "(91) 555 94 44"
        ],
        [
         10121,
         50,
         100.0,
         "05-07-2003 00:00",
         "Reims Collectables",
         "26.47.1555"
        ],
        [
         10145,
         49,
         100.0,
         "8/25/2003 0:00",
         "Toys4GrownUps.com",
         "6265557265"
        ],
        [
         10224,
         43,
         100.0,
         "2/21/2004 0:00",
         "Daedalus Designs Imports",
         "20.16.1555"
        ],
        [
         10251,
         46,
         100.0,
         "5/18/2004 0:00",
         "Tekni Collectables Inc.",
         "2015559350"
        ],
        [
         10263,
         48,
         100.0,
         "6/28/2004 0:00",
         "Gift Depot Inc.",
         "2035552570"
        ],
        [
         10276,
         43,
         100.0,
         "08-02-2004 00:00",
         "Online Mini Collectables",
         "6175557555"
        ],
        [
         10285,
         49,
         100.0,
         "8/27/2004 0:00",
         "Marta's Replicas Co.",
         "6175558555"
        ],
        [
         10341,
         55,
         100.0,
         "11/24/2004 0:00",
         "Salzburg Collectables",
         "6562-9555"
        ],
        [
         10375,
         49,
         78.92,
         "02-03-2005 00:00",
         "La Rochelle Gifts",
         "40.67.8555"
        ],
        [
         10388,
         44,
         100.0,
         "03-03-2005 00:00",
         "FunGiftIdeas.com",
         "5085552555"
        ],
        [
         10403,
         66,
         100.0,
         "04-08-2005 00:00",
         "UK Collectables, Ltd.",
         "(171) 555-2282"
        ],
        [
         10117,
         43,
         100.0,
         "4/16/2003 0:00",
         "Dragon Souveniers, Ltd.",
         "+65 221 7555"
        ],
        [
         10127,
         46,
         100.0,
         "06-03-2003 00:00",
         "Muscle Machine Inc",
         "2125557413"
        ],
        [
         10153,
         42,
         100.0,
         "9/28/2003 0:00",
         "Euro Shopping Channel",
         "(91) 555 94 44"
        ],
        [
         10176,
         47,
         100.0,
         "11-06-2003 00:00",
         "L'ordine Souveniers",
         "0522-556555"
        ],
        [
         10230,
         43,
         100.0,
         "3/15/2004 0:00",
         "Blauer See Auto, Co.",
         "+49 69 66 90 2555"
        ],
        [
         10314,
         46,
         100.0,
         "10/22/2004 0:00",
         "Heintze Collectables",
         "86 21 3555"
        ],
        [
         10348,
         47,
         100.0,
         "11-01-2004 00:00",
         "Corrida Auto Replicas, Ltd",
         "(91) 555 22 82"
        ],
        [
         10358,
         49,
         55.34,
         "12-10-2004 00:00",
         "Euro Shopping Channel",
         "(91) 555 94 44"
        ],
        [
         10413,
         47,
         100.0,
         "05-05-2005 00:00",
         "Gift Depot Inc.",
         "2035552570"
        ],
        [
         10108,
         45,
         100.0,
         "03-03-2003 00:00",
         "Cruz & Sons Co.",
         "+63 2 555 3587"
        ],
        [
         10135,
         48,
         100.0,
         "07-02-2003 00:00",
         "Mini Gifts Distributors Ltd.",
         "4155551450"
        ],
        [
         10160,
         46,
         100.0,
         "10-11-2003 00:00",
         "Men 'R' US Retailers, Ltd.",
         "2155554369"
        ],
        [
         10170,
         47,
         100.0,
         "11-04-2003 00:00",
         "Mini Auto Werke",
         "7675-3555"
        ],
        [
         10276,
         47,
         100.0,
         "08-02-2004 00:00",
         "Online Mini Collectables",
         "6175557555"
        ],
        [
         10287,
         45,
         100.0,
         "8/30/2004 0:00",
         "Vida Sport, Ltd",
         "0897-034555"
        ],
        [
         10329,
         46,
         83.63,
         "11/15/2004 0:00",
         "Land of Toys Inc.",
         "2125557818"
        ],
        [
         10341,
         44,
         95.93,
         "11/24/2004 0:00",
         "Salzburg Collectables",
         "6562-9555"
        ],
        [
         10127,
         42,
         100.0,
         "06-03-2003 00:00",
         "Muscle Machine Inc",
         "2125557413"
        ],
        [
         10142,
         46,
         100.0,
         "08-08-2003 00:00",
         "Mini Gifts Distributors Ltd.",
         "4155551450"
        ],
        [
         10153,
         49,
         100.0,
         "9/28/2003 0:00",
         "Euro Shopping Channel",
         "(91) 555 94 44"
        ],
        [
         10176,
         50,
         100.0,
         "11-06-2003 00:00",
         "L'ordine Souveniers",
         "0522-556555"
        ],
        [
         10185,
         43,
         100.0,
         "11/14/2003 0:00",
         "Mini Creations Ltd.",
         "5085559555"
        ],
        [
         10231,
         49,
         100.0,
         "3/19/2004 0:00",
         "CAF Imports",
         "+34 913 728 555"
        ],
        [
         10293,
         45,
         100.0,
         "09-09-2004 00:00",
         "Amica Models & Co.",
         "011-4988555"
        ],
        [
         10336,
         49,
         63.38,
         "11/20/2004 0:00",
         "La Corne D'abondance, Co.",
         "(1) 42.34.2555"
        ],
        [
         10359,
         49,
         62.09,
         "12/15/2004 0:00",
         "Reims Collectables",
         "26.47.1555"
        ],
        [
         10203,
         44,
         82.99,
         "12-02-2003 00:00",
         "Euro Shopping Channel",
         "(91) 555 94 44"
        ],
        [
         10287,
         41,
         69.43,
         "8/30/2004 0:00",
         "Vida Sport, Ltd",
         "0897-034555"
        ],
        [
         10310,
         49,
         81.4,
         "10/16/2004 0:00",
         "Toms Spezialitten, Ltd",
         "0221-5554327"
        ],
        [
         10104,
         41,
         100.0,
         "1/31/2003 0:00",
         "Euro Shopping Channel",
         "(91) 555 94 44"
        ],
        [
         10115,
         46,
         100.0,
         "04-04-2003 00:00",
         "Classic Legends Inc.",
         "2125558493"
        ],
        [
         10165,
         48,
         100.0,
         "10/22/2003 0:00",
         "Dragon Souveniers, Ltd.",
         "+65 221 7555"
        ],
        [
         10195,
         49,
         100.0,
         "11/25/2003 0:00",
         "Mini Classics",
         "9145554562"
        ],
        [
         10219,
         48,
         100.0,
         "02-10-2004 00:00",
         "Signal Collectibles Ltd.",
         "4155554312"
        ],
        [
         10246,
         46,
         100.0,
         "05-05-2004 00:00",
         "Euro Shopping Channel",
         "(91) 555 94 44"
        ],
        [
         10259,
         46,
         100.0,
         "6/15/2004 0:00",
         "Handji Gifts& Co",
         "+65 224 1555"
        ],
        [
         10281,
         41,
         100.0,
         "8/19/2004 0:00",
         "Diecast Classics Inc.",
         "2155551555"
        ],
        [
         10314,
         45,
         100.0,
         "10/22/2004 0:00",
         "Heintze Collectables",
         "86 21 3555"
        ],
        [
         10349,
         48,
         100.0,
         "12-01-2004 00:00",
         "Muscle Machine Inc",
         "2125557413"
        ],
        [
         10358,
         42,
         64.16,
         "12-10-2004 00:00",
         "Euro Shopping Channel",
         "(91) 555 94 44"
        ],
        [
         10371,
         49,
         35.71,
         "1/23/2005 0:00",
         "Mini Gifts Distributors Ltd.",
         "4155551450"
        ],
        [
         10412,
         54,
         100.0,
         "05-03-2005 00:00",
         "Euro Shopping Channel",
         "(91) 555 94 44"
        ],
        [
         10160,
         50,
         100.0,
         "10-11-2003 00:00",
         "Men 'R' US Retailers, Ltd.",
         "2155554369"
        ],
        [
         10170,
         41,
         100.0,
         "11-04-2003 00:00",
         "Mini Auto Werke",
         "7675-3555"
        ],
        [
         10203,
         47,
         100.0,
         "12-02-2003 00:00",
         "Euro Shopping Channel",
         "(91) 555 94 44"
        ],
        [
         10253,
         41,
         100.0,
         "06-01-2004 00:00",
         "UK Collectables, Ltd.",
         "(171) 555-2282"
        ],
        [
         10341,
         55,
         75.2,
         "11/24/2004 0:00",
         "Salzburg Collectables",
         "6562-9555"
        ],
        [
         10363,
         46,
         88.45,
         "01-06-2005 00:00",
         "Suominen Souveniers",
         "+358 9 8045 555"
        ],
        [
         10377,
         50,
         100.0,
         "02-09-2005 00:00",
         "Toys of Finland, Co.",
         "90-224 8555"
        ],
        [
         10389,
         47,
         100.0,
         "03-03-2005 00:00",
         "Scandinavian Gift Ideas",
         "0695-34 6555"
        ],
        [
         10405,
         97,
         93.28,
         "4/14/2005 0:00",
         "Mini Caravy",
         "88.60.1555"
        ],
        [
         10113,
         49,
         100.0,
         "3/26/2003 0:00",
         "Mini Gifts Distributors Ltd.",
         "4155551450"
        ],
        [
         10174,
         48,
         93.34,
         "11-06-2003 00:00",
         "Australian Gift Network, Co",
         "61-7-3844-6555"
        ],
        [
         10215,
         46,
         100.0,
         "1/29/2004 0:00",
         "West Coast Collectables Co.",
         "3105553722"
        ],
        [
         10258,
         41,
         100.0,
         "6/15/2004 0:00",
         "Tokyo Collectables, Ltd",
         "+81 3 3584 0555"
        ],
        [
         10270,
         43,
         96.84,
         "7/19/2004 0:00",
         "Souveniers And Things Co.",
         "+61 2 9495 8555"
        ],
        [
         10291,
         41,
         100.0,
         "09-08-2004 00:00",
         "Scandinavian Gift Ideas",
         "0695-34 6555"
        ],
        [
         10304,
         46,
         98.0,
         "10-11-2004 00:00",
         "Auto Assoc. & Cie.",
         "30.59.8555"
        ],
        [
         10347,
         42,
         49.6,
         "11/29/2004 0:00",
         "Australian Collectors, Co.",
         "03 9520 4555"
        ],
        [
         10381,
         48,
         98.0,
         "2/17/2005 0:00",
         "Corporate Gift Ideas Co.",
         "6505551386"
        ],
        [
         10424,
         54,
         100.0,
         "5/31/2005 0:00",
         "Euro Shopping Channel",
         "(91) 555 94 44"
        ],
        [
         10181,
         44,
         100.0,
         "11-12-2003 00:00",
         "Herkku Gifts",
         "+47 2267 3215"
        ],
        [
         10204,
         42,
         100.0,
         "12-02-2003 00:00",
         "Muscle Machine Inc",
         "2125557413"
        ],
        [
         10240,
         41,
         100.0,
         "4/13/2004 0:00",
         "Osaka Souveniers Co.",
         "+81 06 6342 5555"
        ],
        [
         10287,
         41,
         100.0,
         "8/30/2004 0:00",
         "Vida Sport, Ltd",
         "0897-034555"
        ],
        [
         10321,
         41,
         100.0,
         "11-04-2004 00:00",
         "FunGiftIdeas.com",
         "5085552555"
        ],
        [
         10331,
         46,
         100.0,
         "11/17/2004 0:00",
         "Motor Mint Distributors Inc.",
         "2155559857"
        ],
        [
         10356,
         43,
         97.6,
         "12-09-2004 00:00",
         "Lyon Souveniers",
         "+33 1 46 62 7555"
        ],
        [
         10406,
         61,
         100.0,
         "4/15/2005 0:00",
         "Danish Wholesale Imports",
         "31 12 3555"
        ],
        [
         10149,
         50,
         100.0,
         "09-12-2003 00:00",
         "Signal Collectibles Ltd.",
         "4155554312"
        ],
        [
         10162,
         48,
         91.44,
         "10/18/2003 0:00",
         "Corporate Gift Ideas Co.",
         "6505551386"
        ],
        [
         10173,
         43,
         100.0,
         "11-05-2003 00:00",
         "Rovelli Gifts",
         "035-640555"
        ],
        [
         10280,
         50,
         100.0,
         "8/17/2004 0:00",
         "Amica Models & Co.",
         "011-4988555"
        ],
        [
         10312,
         43,
         89.38,
         "10/21/2004 0:00",
         "Mini Gifts Distributors Ltd.",
         "4155551450"
        ],
        [
         10322,
         43,
         86.3,
         "11-04-2004 00:00",
         "Online Diecast Creations Co.",
         "6035558647"
        ],
        [
         10332,
         46,
         95.13,
         "11/17/2004 0:00",
         "AV Stores, Co.",
         "(171) 555-1555"
        ],
        [
         10346,
         42,
         36.11,
         "11/29/2004 0:00",
         "Signal Gift Stores",
         "7025551838"
        ],
        [
         10356,
         50,
         50.18,
         "12-09-2004 00:00",
         "Lyon Souveniers",
         "+33 1 46 62 7555"
        ],
        [
         10369,
         44,
         100.0,
         "1/20/2005 0:00",
         "Collectables For Less Inc.",
         "6175558555"
        ],
        [
         10422,
         51,
         95.55,
         "5/30/2005 0:00",
         "Diecast Classics Inc.",
         "2155551555"
        ],
        [
         10102,
         41,
         50.14,
         "01-10-2003 00:00",
         "Vitachrome Inc.",
         "2125551500"
        ],
        [
         10111,
         48,
         49.06,
         "3/25/2003 0:00",
         "Mini Wheels Co.",
         "6505555787"
        ],
        [
         10126,
         42,
         54.99,
         "5/28/2003 0:00",
         "Corrida Auto Replicas, Ltd",
         "(91) 555 22 82"
        ],
        [
         10139,
         49,
         43.13,
         "7/16/2003 0:00",
         "Souveniers And Things Co.",
         "+61 2 9495 8555"
        ],
        [
         10162,
         45,
         51.21,
         "10/18/2003 0:00",
         "Corporate Gift Ideas Co.",
         "6505551386"
        ],
        [
         10173,
         48,
         44.21,
         "11-05-2003 00:00",
         "Rovelli Gifts",
         "035-640555"
        ],
        [
         10193,
         46,
         53.37,
         "11/21/2003 0:00",
         "Australian Collectables, Ltd",
         "61-9-3844-6555"
        ],
        [
         10205,
         48,
         63.61,
         "12-03-2003 00:00",
         "Euro Shopping Channel",
         "(91) 555 94 44"
        ],
        [
         10322,
         41,
         57.68,
         "11-04-2004 00:00",
         "Online Diecast Creations Co.",
         "6035558647"
        ],
        [
         10391,
         42,
         100.0,
         "03-09-2005 00:00",
         "Anna's Decorations, Ltd",
         "02 9936 8555"
        ],
        [
         10137,
         44,
         99.55,
         "07-10-2003 00:00",
         "Reims Collectables",
         "26.47.1555"
        ],
        [
         10148,
         47,
         100.0,
         "09-11-2003 00:00",
         "Anna's Decorations, Ltd",
         "02 9936 8555"
        ],
        [
         10161,
         43,
         100.0,
         "10/17/2003 0:00",
         "Heintze Collectables",
         "86 21 3555"
        ],
        [
         10172,
         42,
         100.0,
         "11-05-2003 00:00",
         "Gift Depot Inc.",
         "2035552570"
        ],
        [
         10181,
         42,
         100.0,
         "11-12-2003 00:00",
         "Herkku Gifts",
         "+47 2267 3215"
        ],
        [
         10321,
         44,
         100.0,
         "11-04-2004 00:00",
         "FunGiftIdeas.com",
         "5085552555"
        ],
        [
         10331,
         44,
         100.0,
         "11/17/2004 0:00",
         "Motor Mint Distributors Inc.",
         "2155559857"
        ],
        [
         10367,
         49,
         56.3,
         "01-12-2005 00:00",
         "Toys4GrownUps.com",
         "6265557265"
        ],
        [
         10407,
         59,
         100.0,
         "4/22/2005 0:00",
         "The Sharp Gifts Warehouse",
         "4085553659"
        ],
        [
         10119,
         43,
         100.0,
         "4/28/2003 0:00",
         "Salzburg Collectables",
         "6562-9555"
        ],
        [
         10167,
         43,
         100.0,
         "10/23/2003 0:00",
         "Scandinavian Gift Ideas",
         "0695-34 6555"
        ],
        [
         10178,
         42,
         100.0,
         "11-08-2003 00:00",
         "Alpha Cognac",
         "61.77.6555"
        ],
        [
         10198,
         42,
         100.0,
         "11/27/2003 0:00",
         "Cruz & Sons Co.",
         "+63 2 555 3587"
        ],
        [
         10222,
         49,
         100.0,
         "2/19/2004 0:00",
         "Collectable Mini Designs Co.",
         "7605558146"
        ],
        [
         10250,
         45,
         100.0,
         "05-11-2004 00:00",
         "The Sharp Gifts Warehouse",
         "4085553659"
        ],
        [
         10262,
         49,
         100.0,
         "6/24/2004 0:00",
         "Euro Shopping Channel",
         "(91) 555 94 44"
        ],
        [
         10274,
         41,
         100.0,
         "7/21/2004 0:00",
         "Collectables For Less Inc.",
         "6175558555"
        ],
        [
         10284,
         45,
         100.0,
         "8/21/2004 0:00",
         "Norway Gifts By Mail, Co.",
         "+47 2212 1555"
        ],
        [
         10338,
         41,
         100.0,
         "11/22/2004 0:00",
         "Royale Belge",
         "(071) 23 67 2555"
        ],
        [
         10110,
         42,
         100.0,
         "3/18/2003 0:00",
         "AV Stores, Co.",
         "(171) 555-1555"
        ],
        [
         10182,
         44,
         100.0,
         "11-12-2003 00:00",
         "Mini Gifts Distributors Ltd.",
         "4155551450"
        ],
        [
         10241,
         41,
         100.0,
         "4/13/2004 0:00",
         "Mini Caravy",
         "88.60.1555"
        ],
        [
         10302,
         43,
         100.0,
         "10-06-2003 00:00",
         "UK Collectables, Ltd.",
         "(171) 555-2282"
        ],
        [
         10312,
         48,
         100.0,
         "10/21/2004 0:00",
         "Mini Gifts Distributors Ltd.",
         "4155551450"
        ],
        [
         10331,
         44,
         74.04,
         "11/17/2004 0:00",
         "Motor Mint Distributors Inc.",
         "2155559857"
        ],
        [
         10344,
         45,
         100.0,
         "11/25/2004 0:00",
         "Marseille Mini Autos",
         "91.24.4555"
        ],
        [
         10407,
         76,
         100.0,
         "4/22/2005 0:00",
         "The Sharp Gifts Warehouse",
         "4085553659"
        ],
        [
         10122,
         43,
         72.38,
         "05-08-2003 00:00",
         "Marseille Mini Autos",
         "91.24.4555"
        ],
        [
         10135,
         48,
         79.31,
         "07-02-2003 00:00",
         "Mini Gifts Distributors Ltd.",
         "4155551450"
        ],
        [
         10192,
         45,
         90.86,
         "11/20/2003 0:00",
         "Online Diecast Creations Co.",
         "6035558647"
        ],
        [
         10203,
         45,
         85.47,
         "12-02-2003 00:00",
         "Euro Shopping Channel",
         "(91) 555 94 44"
        ],
        [
         10225,
         47,
         64.68,
         "2/22/2004 0:00",
         "Vida Sport, Ltd",
         "0897-034555"
        ],
        [
         10239,
         46,
         73.92,
         "04-12-2004 00:00",
         "Oulu Toy Supplies, Inc.",
         "981-443655"
        ],
        [
         10287,
         44,
         82.39,
         "8/30/2004 0:00",
         "Vida Sport, Ltd",
         "0897-034555"
        ],
        [
         10300,
         41,
         92.4,
         "10-04-2003 00:00",
         "Blauer See Auto, Co.",
         "+49 69 66 90 2555"
        ],
        [
         10342,
         55,
         65.45,
         "11/24/2004 0:00",
         "Australian Collectors, Co.",
         "03 9520 4555"
        ],
        [
         10389,
         49,
         79.22,
         "03-03-2005 00:00",
         "Scandinavian Gift Ideas",
         "0695-34 6555"
        ],
        [
         10405,
         61,
         73.92,
         "4/14/2005 0:00",
         "Mini Caravy",
         "88.60.1555"
        ],
        [
         10161,
         48,
         100.0,
         "10/17/2003 0:00",
         "Heintze Collectables",
         "86 21 3555"
        ],
        [
         10192,
         47,
         100.0,
         "11/20/2003 0:00",
         "Online Diecast Creations Co.",
         "6035558647"
        ],
        [
         10212,
         41,
         100.0,
         "1/16/2004 0:00",
         "Euro Shopping Channel",
         "(91) 555 94 44"
        ],
        [
         10266,
         49,
         100.0,
         "07-06-2004 00:00",
         "L'ordine Souveniers",
         "0522-556555"
        ],
        [
         10301,
         47,
         100.0,
         "10-05-2003 00:00",
         "Norway Gifts By Mail, Co.",
         "+47 2212 1555"
        ],
        [
         10406,
         48,
         100.0,
         "4/15/2005 0:00",
         "Danish Wholesale Imports",
         "31 12 3555"
        ],
        [
         10115,
         46,
         100.0,
         "04-04-2003 00:00",
         "Classic Legends Inc.",
         "2125558493"
        ],
        [
         10127,
         45,
         100.0,
         "06-03-2003 00:00",
         "Muscle Machine Inc",
         "2125557413"
        ],
        [
         10151,
         43,
         100.0,
         "9/21/2003 0:00",
         "Oulu Toy Supplies, Inc.",
         "981-443655"
        ],
        [
         10184,
         46,
         100.0,
         "11/14/2003 0:00",
         "Iberia Gift Imports, Corp.",
         "(95) 555 82 82"
        ],
        [
         10207,
         44,
         100.0,
         "12-09-2003 00:00",
         "Diecast Collectables",
         "6175552555"
        ],
        [
         10219,
         43,
         100.0,
         "02-10-2004 00:00",
         "Signal Collectibles Ltd.",
         "4155554312"
        ],
        [
         10230,
         49,
         100.0,
         "3/15/2004 0:00",
         "Blauer See Auto, Co.",
         "+49 69 66 90 2555"
        ],
        [
         10271,
         50,
         100.0,
         "7/20/2004 0:00",
         "Mini Gifts Distributors Ltd.",
         "4155551450"
        ],
        [
         10314,
         42,
         100.0,
         "10/22/2004 0:00",
         "Heintze Collectables",
         "86 21 3555"
        ],
        [
         10324,
         47,
         100.0,
         "11-05-2004 00:00",
         "Vitachrome Inc.",
         "2125551500"
        ],
        [
         10336,
         49,
         100.0,
         "11/20/2004 0:00",
         "La Corne D'abondance, Co.",
         "(1) 42.34.2555"
        ],
        [
         10412,
         41,
         100.0,
         "05-03-2005 00:00",
         "Euro Shopping Channel",
         "(91) 555 94 44"
        ],
        [
         10100,
         50,
         67.8,
         "01-06-2003 00:00",
         "Online Diecast Creations Co.",
         "6035558647"
        ],
        [
         10124,
         42,
         53.88,
         "5/21/2003 0:00",
         "Signal Gift Stores",
         "7025551838"
        ],
        [
         10193,
         42,
         59.33,
         "11/21/2003 0:00",
         "Australian Collectables, Ltd",
         "61-9-3844-6555"
        ],
        [
         10303,
         46,
         49.04,
         "10-06-2004 00:00",
         "Iberia Gift Imports, Corp.",
         "(95) 555 82 82"
        ],
        [
         10367,
         45,
         100.0,
         "01-12-2005 00:00",
         "Toys4GrownUps.com",
         "6265557265"
        ],
        [
         10407,
         42,
         72.65,
         "4/22/2005 0:00",
         "The Sharp Gifts Warehouse",
         "4085553659"
        ],
        [
         10127,
         45,
         100.0,
         "06-03-2003 00:00",
         "Muscle Machine Inc",
         "2125557413"
        ],
        [
         10141,
         47,
         100.0,
         "08-01-2003 00:00",
         "Suominen Souveniers",
         "+358 9 8045 555"
        ],
        [
         10151,
         49,
         100.0,
         "9/21/2003 0:00",
         "Oulu Toy Supplies, Inc.",
         "981-443655"
        ],
        [
         10165,
         46,
         100.0,
         "10/22/2003 0:00",
         "Dragon Souveniers, Ltd.",
         "+65 221 7555"
        ],
        [
         10175,
         48,
         100.0,
         "11-06-2003 00:00",
         "Stylish Desk Decors, Co.",
         "(171) 555-0297"
        ],
        [
         10184,
         46,
         100.0,
         "11/14/2003 0:00",
         "Iberia Gift Imports, Corp.",
         "(95) 555 82 82"
        ],
        [
         10207,
         43,
         100.0,
         "12-09-2003 00:00",
         "Diecast Collectables",
         "6175552555"
        ],
        [
         10271,
         50,
         100.0,
         "7/20/2004 0:00",
         "Mini Gifts Distributors Ltd.",
         "4155551450"
        ],
        [
         10281,
         48,
         100.0,
         "8/19/2004 0:00",
         "Diecast Classics Inc.",
         "2155551555"
        ],
        [
         10292,
         41,
         100.0,
         "09-08-2004 00:00",
         "Land of Toys Inc.",
         "2125557818"
        ],
        [
         10334,
         46,
         100.0,
         "11/19/2004 0:00",
         "Volvo Model Replicas, Co",
         "0921-12 3555"
        ],
        [
         10412,
         56,
         98.18,
         "05-03-2005 00:00",
         "Euro Shopping Channel",
         "(91) 555 94 44"
        ],
        [
         10124,
         42,
         100.0,
         "5/21/2003 0:00",
         "Signal Gift Stores",
         "7025551838"
        ],
        [
         10193,
         44,
         100.0,
         "11/21/2003 0:00",
         "Australian Collectables, Ltd",
         "61-9-3844-6555"
        ],
        [
         10227,
         46,
         100.0,
         "03-02-2004 00:00",
         "Saveley & Henriot, Co.",
         "78.32.5555"
        ],
        [
         10243,
         47,
         100.0,
         "4/26/2004 0:00",
         "Diecast Collectables",
         "6175552555"
        ],
        [
         10322,
         50,
         100.0,
         "11-04-2004 00:00",
         "Online Diecast Creations Co.",
         "6035558647"
        ],
        [
         10420,
         45,
         100.0,
         "5/29/2005 0:00",
         "Souveniers And Things Co.",
         "+61 2 9495 8555"
        ],
        [
         10114,
         45,
         68.67,
         "04-01-2003 00:00",
         "La Corne D'abondance, Co.",
         "(1) 42.34.2555"
        ],
        [
         10126,
         43,
         65.02,
         "5/28/2003 0:00",
         "Corrida Auto Replicas, Ltd",
         "(91) 555 22 82"
        ],
        [
         10140,
         46,
         61.99,
         "7/24/2003 0:00",
         "Technics Stores Inc.",
         "6505556809"
        ],
        [
         10175,
         41,
         69.28,
         "11-06-2003 00:00",
         "Stylish Desk Decors, Co.",
         "(171) 555-0297"
        ],
        [
         10184,
         44,
         60.16,
         "11/14/2003 0:00",
         "Iberia Gift Imports, Corp.",
         "(95) 555 82 82"
        ],
        [
         10194,
         45,
         70.49,
         "11/25/2003 0:00",
         "Saveley & Henriot, Co.",
         "78.32.5555"
        ],
        [
         10305,
         41,
         53.48,
         "10/13/2004 0:00",
         "Marta's Replicas Co.",
         "6175558555"
        ],
        [
         10347,
         50,
         100.0,
         "11/29/2004 0:00",
         "Australian Collectors, Co.",
         "03 9520 4555"
        ],
        [
         10357,
         41,
         61.99,
         "12-10-2004 00:00",
         "Mini Gifts Distributors Ltd.",
         "4155551450"
        ],
        [
         10391,
         44,
         38.5,
         "03-09-2005 00:00",
         "Anna's Decorations, Ltd",
         "02 9936 8555"
        ],
        [
         10412,
         47,
         61.99,
         "05-03-2005 00:00",
         "Euro Shopping Channel",
         "(91) 555 94 44"
        ],
        [
         10133,
         49,
         69.27,
         "6/27/2003 0:00",
         "Euro Shopping Channel",
         "(91) 555 94 44"
        ],
        [
         10210,
         50,
         76.88,
         "01-12-2004 00:00",
         "Osaka Souveniers Co.",
         "+81 06 6342 5555"
        ],
        [
         10223,
         47,
         100.0,
         "2/20/2004 0:00",
         "Australian Collectors, Co.",
         "03 9520 4555"
        ],
        [
         10327,
         45,
         100.0,
         "11-10-2004 00:00",
         "Danish Wholesale Imports",
         "31 12 3555"
        ],
        [
         10374,
         42,
         69.27,
         "02-02-2005 00:00",
         "Australian Gift Network, Co",
         "61-7-3844-6555"
        ],
        [
         10401,
         42,
         76.03,
         "04-03-2005 00:00",
         "Tekni Collectables Inc.",
         "2015559350"
        ],
        [
         10120,
         46,
         58.15,
         "4/29/2003 0:00",
         "Australian Collectors, Co.",
         "03 9520 4555"
        ],
        [
         10159,
         42,
         51.48,
         "10-10-2003 00:00",
         "Corporate Gift Ideas Co.",
         "6505551386"
        ],
        [
         10168,
         46,
         61.18,
         "10/28/2003 0:00",
         "Technics Stores Inc.",
         "6505556809"
        ],
        [
         10318,
         42,
         52.7,
         "11-02-2004 00:00",
         "Diecast Classics Inc.",
         "2155551555"
        ],
        [
         10402,
         55,
         55.72,
         "04-07-2005 00:00",
         "Auto Canal Petit",
         "(1) 47.55.6555"
        ],
        [
         10139,
         41,
         100.0,
         "7/16/2003 0:00",
         "Souveniers And Things Co.",
         "+61 2 9495 8555"
        ],
        [
         10162,
         48,
         100.0,
         "10/18/2003 0:00",
         "Corporate Gift Ideas Co.",
         "6505551386"
        ],
        [
         10214,
         50,
         100.0,
         "1/26/2004 0:00",
         "Corrida Auto Replicas, Ltd",
         "(91) 555 22 82"
        ],
        [
         10244,
         43,
         100.0,
         "4/29/2004 0:00",
         "Euro Shopping Channel",
         "(91) 555 94 44"
        ],
        [
         10289,
         43,
         100.0,
         "09-03-2004 00:00",
         "Herkku Gifts",
         "+47 2267 3215"
        ],
        [
         10123,
         46,
         100.0,
         "5/20/2003 0:00",
         "Atelier graphique",
         "40.32.2555"
        ],
        [
         10241,
         44,
         100.0,
         "4/13/2004 0:00",
         "Mini Caravy",
         "88.60.1555"
        ],
        [
         10287,
         44,
         100.0,
         "8/30/2004 0:00",
         "Vida Sport, Ltd",
         "0897-034555"
        ],
        [
         10311,
         43,
         100.0,
         "10/16/2004 0:00",
         "Euro Shopping Channel",
         "(91) 555 94 44"
        ],
        [
         10366,
         49,
         100.0,
         "01-10-2005 00:00",
         "Royale Belge",
         "(071) 23 67 2555"
        ],
        [
         10407,
         41,
         100.0,
         "4/22/2005 0:00",
         "The Sharp Gifts Warehouse",
         "4085553659"
        ],
        [
         10419,
         55,
         100.0,
         "5/17/2005 0:00",
         "Salzburg Collectables",
         "6562-9555"
        ],
        [
         10139,
         46,
         100.0,
         "7/16/2003 0:00",
         "Souveniers And Things Co.",
         "+61 2 9495 8555"
        ],
        [
         10150,
         47,
         91.18,
         "9/19/2003 0:00",
         "Dragon Souveniers, Ltd.",
         "+65 221 7555"
        ],
        [
         10174,
         46,
         100.0,
         "11-06-2003 00:00",
         "Australian Gift Network, Co",
         "61-7-3844-6555"
        ],
        [
         10215,
         49,
         100.0,
         "1/29/2004 0:00",
         "West Coast Collectables Co.",
         "3105553722"
        ],
        [
         10257,
         50,
         88.14,
         "6/14/2004 0:00",
         "The Sharp Gifts Warehouse",
         "4085553659"
        ],
        [
         10280,
         46,
         100.0,
         "8/17/2004 0:00",
         "Amica Models & Co.",
         "011-4988555"
        ],
        [
         10291,
         47,
         100.0,
         "09-08-2004 00:00",
         "Scandinavian Gift Ideas",
         "0695-34 6555"
        ],
        [
         10304,
         46,
         100.0,
         "10-11-2004 00:00",
         "Auto Assoc. & Cie.",
         "30.59.8555"
        ],
        [
         10347,
         48,
         100.0,
         "11/29/2004 0:00",
         "Australian Collectors, Co.",
         "03 9520 4555"
        ],
        [
         10357,
         41,
         87.13,
         "12-10-2004 00:00",
         "Mini Gifts Distributors Ltd.",
         "4155551450"
        ],
        [
         10369,
         42,
         100.0,
         "1/20/2005 0:00",
         "Collectables For Less Inc.",
         "6175558555"
        ],
        [
         10381,
         41,
         100.0,
         "2/17/2005 0:00",
         "Corporate Gift Ideas Co.",
         "6505551386"
        ],
        [
         10126,
         46,
         73.7,
         "5/28/2003 0:00",
         "Corrida Auto Replicas, Ltd",
         "(91) 555 22 82"
        ],
        [
         10163,
         48,
         69.96,
         "10/20/2003 0:00",
         "Classic Legends Inc.",
         "2125558493"
        ],
        [
         10228,
         45,
         63.71,
         "03-10-2004 00:00",
         "Cambridge Collectables Co.",
         "6175555555"
        ],
        [
         10257,
         49,
         53.72,
         "6/14/2004 0:00",
         "The Sharp Gifts Warehouse",
         "4085553659"
        ],
        [
         10280,
         43,
         68.71,
         "8/17/2004 0:00",
         "Amica Models & Co.",
         "011-4988555"
        ],
        [
         10322,
         41,
         29.87,
         "11-04-2004 00:00",
         "Online Diecast Creations Co.",
         "6035558647"
        ],
        [
         10357,
         49,
         70.58,
         "12-10-2004 00:00",
         "Mini Gifts Distributors Ltd.",
         "4155551450"
        ],
        [
         10106,
         41,
         83.44,
         "2/17/2003 0:00",
         "Rovelli Gifts",
         "035-640555"
        ],
        [
         10143,
         46,
         74.84,
         "08-10-2003 00:00",
         "Mini Creations Ltd.",
         "5085559555"
        ],
        [
         10155,
         44,
         79.14,
         "10-06-2003 00:00",
         "Toys of Finland, Co.",
         "90-224 8555"
        ],
        [
         10167,
         46,
         73.12,
         "10/23/2003 0:00",
         "Scandinavian Gift Ideas",
         "0695-34 6555"
        ],
        [
         10178,
         41,
         81.72,
         "11-08-2003 00:00",
         "Alpha Cognac",
         "61.77.6555"
        ],
        [
         10197,
         46,
         87.74,
         "11/26/2003 0:00",
         "Enaco Distributors",
         "(93) 203 4555"
        ],
        [
         10222,
         49,
         94.62,
         "2/19/2004 0:00",
         "Collectable Mini Designs Co.",
         "7605558146"
        ],
        [
         10350,
         43,
         64.97,
         "12-02-2004 00:00",
         "Euro Shopping Channel",
         "(91) 555 94 44"
        ],
        [
         10414,
         44,
         73.98,
         "05-06-2005 00:00",
         "Gifts4AllAges.com",
         "6175559555"
        ],
        [
         10111,
         43,
         100.0,
         "3/25/2003 0:00",
         "Mini Wheels Co.",
         "6505555787"
        ],
        [
         10215,
         49,
         100.0,
         "1/29/2004 0:00",
         "West Coast Collectables Co.",
         "3105553722"
        ],
        [
         10322,
         48,
         47.04,
         "11-04-2004 00:00",
         "Online Diecast Creations Co.",
         "6035558647"
        ],
        [
         10347,
         45,
         100.0,
         "11/29/2004 0:00",
         "Australian Collectors, Co.",
         "03 9520 4555"
        ],
        [
         10357,
         44,
         100.0,
         "12-10-2004 00:00",
         "Mini Gifts Distributors Ltd.",
         "4155551450"
        ],
        [
         10128,
         41,
         100.0,
         "06-06-2003 00:00",
         "Euro Shopping Channel",
         "(91) 555 94 44"
        ],
        [
         10142,
         47,
         100.0,
         "08-08-2003 00:00",
         "Mini Gifts Distributors Ltd.",
         "4155551450"
        ],
        [
         10166,
         43,
         100.0,
         "10/21/2003 0:00",
         "FunGiftIdeas.com",
         "5085552555"
        ],
        [
         10196,
         49,
         100.0,
         "11/26/2003 0:00",
         "Super Scale Inc.",
         "2035559545"
        ],
        [
         10282,
         43,
         100.0,
         "8/20/2004 0:00",
         "Mini Gifts Distributors Ltd.",
         "4155551450"
        ],
        [
         10336,
         48,
         100.0,
         "11/20/2004 0:00",
         "La Corne D'abondance, Co.",
         "(1) 42.34.2555"
        ],
        [
         10350,
         44,
         100.0,
         "12-02-2004 00:00",
         "Euro Shopping Channel",
         "(91) 555 94 44"
        ],
        [
         10414,
         41,
         100.0,
         "05-06-2005 00:00",
         "Gifts4AllAges.com",
         "6175559555"
        ],
        [
         10109,
         46,
         100.0,
         "03-10-2003 00:00",
         "Motor Mint Distributors Inc.",
         "2155559857"
        ],
        [
         10114,
         48,
         100.0,
         "04-01-2003 00:00",
         "La Corne D'abondance, Co.",
         "(1) 42.34.2555"
        ],
        [
         10136,
         41,
         100.0,
         "07-04-2003 00:00",
         "Alpha Cognac",
         "61.77.6555"
        ],
        [
         10165,
         47,
         100.0,
         "10/22/2003 0:00",
         "Dragon Souveniers, Ltd.",
         "+65 221 7555"
        ],
        [
         10181,
         45,
         100.0,
         "11-12-2003 00:00",
         "Herkku Gifts",
         "+47 2267 3215"
        ],
        [
         10195,
         50,
         100.0,
         "11/25/2003 0:00",
         "Mini Classics",
         "9145554562"
        ],
        [
         10203,
         48,
         100.0,
         "12-02-2003 00:00",
         "Euro Shopping Channel",
         "(91) 555 94 44"
        ],
        [
         10225,
         43,
         100.0,
         "2/22/2004 0:00",
         "Vida Sport, Ltd",
         "0897-034555"
        ],
        [
         10239,
         47,
         100.0,
         "04-12-2004 00:00",
         "Oulu Toy Supplies, Inc.",
         "981-443655"
        ],
        [
         10278,
         42,
         100.0,
         "08-06-2004 00:00",
         "Signal Gift Stores",
         "7025551838"
        ],
        [
         10310,
         48,
         100.0,
         "10/16/2004 0:00",
         "Toms Spezialitten, Ltd",
         "0221-5554327"
        ],
        [
         10349,
         48,
         100.0,
         "12-01-2004 00:00",
         "Muscle Machine Inc",
         "2125557413"
        ],
        [
         10383,
         47,
         100.0,
         "2/22/2005 0:00",
         "Euro Shopping Channel",
         "(91) 555 94 44"
        ],
        [
         10405,
         55,
         100.0,
         "4/14/2005 0:00",
         "Mini Caravy",
         "88.60.1555"
        ],
        [
         10412,
         60,
         100.0,
         "05-03-2005 00:00",
         "Euro Shopping Channel",
         "(91) 555 94 44"
        ],
        [
         10128,
         41,
         100.0,
         "06-06-2003 00:00",
         "Euro Shopping Channel",
         "(91) 555 94 44"
        ],
        [
         10165,
         50,
         100.0,
         "10/22/2003 0:00",
         "Dragon Souveniers, Ltd.",
         "+65 221 7555"
        ],
        [
         10185,
         49,
         80.67,
         "11/14/2003 0:00",
         "Mini Creations Ltd.",
         "5085559555"
        ],
        [
         10208,
         48,
         100.0,
         "01-02-2004 00:00",
         "Saveley & Henriot, Co.",
         "78.32.5555"
        ],
        [
         10232,
         48,
         95.8,
         "3/20/2004 0:00",
         "giftsbymail.co.uk",
         "(198) 555-8888"
        ],
        [
         10248,
         42,
         100.0,
         "05-07-2004 00:00",
         "Land of Toys Inc.",
         "2125557818"
        ],
        [
         10273,
         47,
         100.0,
         "7/21/2004 0:00",
         "Petit Auto",
         "(02) 5554 67"
        ],
        [
         10350,
         41,
         93.04,
         "12-02-2004 00:00",
         "Euro Shopping Channel",
         "(91) 555 94 44"
        ],
        [
         10414,
         48,
         100.0,
         "05-06-2005 00:00",
         "Gifts4AllAges.com",
         "6175559555"
        ],
        [
         10135,
         45,
         78.0,
         "07-02-2003 00:00",
         "Mini Gifts Distributors Ltd.",
         "4155551450"
        ],
        [
         10238,
         41,
         73.17,
         "04-09-2004 00:00",
         "Danish Wholesale Imports",
         "31 12 3555"
        ],
        [
         10265,
         45,
         86.84,
         "07-02-2004 00:00",
         "Australian Collectables, Ltd",
         "61-9-3844-6555"
        ],
        [
         10287,
         43,
         70.76,
         "8/30/2004 0:00",
         "Vida Sport, Ltd",
         "0897-034555"
        ],
        [
         10300,
         49,
         78.8,
         "10-04-2003 00:00",
         "Blauer See Auto, Co.",
         "+49 69 66 90 2555"
        ],
        [
         10319,
         46,
         73.98,
         "11-03-2004 00:00",
         "Microscale Inc.",
         "2125551957"
        ],
        [
         10363,
         46,
         60.3,
         "01-06-2005 00:00",
         "Suominen Souveniers",
         "+358 9 8045 555"
        ],
        [
         10103,
         46,
         100.0,
         "1/29/2003 0:00",
         "Baane Mini Imports",
         "07-98 9555"
        ],
        [
         10149,
         42,
         94.25,
         "09-12-2003 00:00",
         "Signal Collectibles Ltd.",
         "4155554312"
        ],
        [
         10163,
         43,
         100.0,
         "10/20/2003 0:00",
         "Classic Legends Inc.",
         "2125558493"
        ],
        [
         10215,
         41,
         100.0,
         "1/29/2004 0:00",
         "West Coast Collectables Co.",
         "3105553722"
        ],
        [
         10333,
         46,
         100.0,
         "11/18/2004 0:00",
         "Mini Wheels Co.",
         "6505555787"
        ],
        [
         10369,
         45,
         73.08,
         "1/20/2005 0:00",
         "Collectables For Less Inc.",
         "6175558555"
        ],
        [
         10382,
         50,
         100.0,
         "2/17/2005 0:00",
         "Mini Gifts Distributors Ltd.",
         "4155551450"
        ],
        [
         10135,
         42,
         100.0,
         "07-02-2003 00:00",
         "Mini Gifts Distributors Ltd.",
         "4155551450"
        ],
        [
         10238,
         49,
         100.0,
         "04-09-2004 00:00",
         "Danish Wholesale Imports",
         "31 12 3555"
        ],
        [
         10252,
         41,
         100.0,
         "5/26/2004 0:00",
         "Auto Canal Petit",
         "(1) 47.55.6555"
        ],
        [
         10265,
         49,
         100.0,
         "07-02-2004 00:00",
         "Australian Collectables, Ltd",
         "61-9-3844-6555"
        ],
        [
         10310,
         49,
         100.0,
         "10/16/2004 0:00",
         "Toms Spezialitten, Ltd",
         "0221-5554327"
        ],
        [
         10342,
         55,
         100.0,
         "11/24/2004 0:00",
         "Australian Collectors, Co.",
         "03 9520 4555"
        ],
        [
         10378,
         43,
         96.49,
         "02-10-2005 00:00",
         "Euro Shopping Channel",
         "(91) 555 94 44"
        ],
        [
         10390,
         50,
         100.0,
         "03-04-2005 00:00",
         "Mini Gifts Distributors Ltd.",
         "4155551450"
        ],
        [
         10109,
         47,
         100.0,
         "03-10-2003 00:00",
         "Motor Mint Distributors Inc.",
         "2155559857"
        ],
        [
         10172,
         48,
         100.0,
         "11-05-2003 00:00",
         "Gift Depot Inc.",
         "2035552570"
        ],
        [
         10192,
         45,
         100.0,
         "11/20/2003 0:00",
         "Online Diecast Creations Co.",
         "6035558647"
        ],
        [
         10212,
         45,
         100.0,
         "1/16/2004 0:00",
         "Euro Shopping Channel",
         "(91) 555 94 44"
        ],
        [
         10226,
         46,
         100.0,
         "2/26/2004 0:00",
         "Collectable Mini Designs Co.",
         "7605558146"
        ],
        [
         10343,
         44,
         84.88,
         "11/24/2004 0:00",
         "Reims Collectables",
         "26.47.1555"
        ],
        [
         10367,
         46,
         100.0,
         "01-12-2005 00:00",
         "Toys4GrownUps.com",
         "6265557265"
        ],
        [
         10406,
         65,
         100.0,
         "4/15/2005 0:00",
         "Danish Wholesale Imports",
         "31 12 3555"
        ],
        [
         10419,
         43,
         100.0,
         "5/17/2005 0:00",
         "Salzburg Collectables",
         "6562-9555"
        ],
        [
         10108,
         43,
         67.77,
         "03-03-2003 00:00",
         "Cruz & Sons Co.",
         "+63 2 555 3587"
        ],
        [
         10135,
         45,
         50.36,
         "07-02-2003 00:00",
         "Mini Gifts Distributors Ltd.",
         "4155551450"
        ],
        [
         10146,
         47,
         67.14,
         "09-03-2003 00:00",
         "Gift Ideas Corp.",
         "2035554407"
        ],
        [
         10191,
         43,
         72.74,
         "11/20/2003 0:00",
         "Toms Spezialitten, Ltd",
         "0221-5554327"
        ],
        [
         10211,
         46,
         54.09,
         "1/15/2004 0:00",
         "Auto Canal Petit",
         "(1) 47.55.6555"
        ],
        [
         10264,
         48,
         54.71,
         "6/30/2004 0:00",
         "Gifts4AllAges.com",
         "6175559555"
        ],
        [
         10310,
         42,
         67.14,
         "10/16/2004 0:00",
         "Toms Spezialitten, Ltd",
         "0221-5554327"
        ],
        [
         10319,
         44,
         59.06,
         "11-03-2004 00:00",
         "Microscale Inc.",
         "2125551957"
        ],
        [
         10106,
         41,
         100.0,
         "2/17/2003 0:00",
         "Rovelli Gifts",
         "035-640555"
        ],
        [
         10178,
         48,
         100.0,
         "11-08-2003 00:00",
         "Alpha Cognac",
         "61.77.6555"
        ],
        [
         10186,
         46,
         100.0,
         "11/14/2003 0:00",
         "Double Decker Gift Stores, Ltd",
         "(171) 555-7555"
        ],
        [
         10222,
         45,
         85.75,
         "2/19/2004 0:00",
         "Collectable Mini Designs Co.",
         "7605558146"
        ],
        [
         10249,
         46,
         100.0,
         "05-08-2004 00:00",
         "Cambridge Collectables Co.",
         "6175555555"
        ],
        [
         10273,
         50,
         85.75,
         "7/21/2004 0:00",
         "Petit Auto",
         "(02) 5554 67"
        ],
        [
         10283,
         46,
         100.0,
         "8/20/2004 0:00",
         "Royal Canadian Collectables, Ltd.",
         "(604) 555-4555"
        ],
        [
         10307,
         48,
         86.81,
         "10/14/2004 0:00",
         "Classic Gift Ideas, Inc",
         "2155554695"
        ],
        [
         10316,
         47,
         86.81,
         "11-01-2004 00:00",
         "giftsbymail.co.uk",
         "(198) 555-8888"
        ],
        [
         10338,
         45,
         100.0,
         "11/22/2004 0:00",
         "Royale Belge",
         "(071) 23 67 2555"
        ],
        [
         10373,
         50,
         60.49,
         "1/31/2005 0:00",
         "Oulu Toy Supplies, Inc.",
         "981-443655"
        ],
        [
         10398,
         45,
         100.0,
         "3/30/2005 0:00",
         "Reims Collectables",
         "26.47.1555"
        ],
        [
         10400,
         58,
         100.0,
         "04-01-2005 00:00",
         "The Sharp Gifts Warehouse",
         "4085553659"
        ],
        [
         10415,
         51,
         100.0,
         "05-09-2005 00:00",
         "Australian Collectables, Ltd",
         "61-9-3844-6555"
        ],
        [
         10220,
         50,
         100.0,
         "02-12-2004 00:00",
         "Clover Collections, Co.",
         "+353 1862 1555"
        ],
        [
         10230,
         42,
         100.0,
         "3/15/2004 0:00",
         "Blauer See Auto, Co.",
         "+49 69 66 90 2555"
        ],
        [
         10247,
         48,
         100.0,
         "05-05-2004 00:00",
         "Suominen Souveniers",
         "+358 9 8045 555"
        ],
        [
         10292,
         44,
         100.0,
         "09-08-2004 00:00",
         "Land of Toys Inc.",
         "2125557818"
        ],
        [
         10324,
         49,
         100.0,
         "11-05-2004 00:00",
         "Vitachrome Inc.",
         "2125551500"
        ],
        [
         10372,
         48,
         100.0,
         "1/26/2005 0:00",
         "Tokyo Collectables, Ltd",
         "+81 3 3584 0555"
        ],
        [
         10413,
         49,
         100.0,
         "05-05-2005 00:00",
         "Gift Depot Inc.",
         "2035552570"
        ],
        [
         10241,
         42,
         90.19,
         "4/13/2004 0:00",
         "Mini Caravy",
         "88.60.1555"
        ],
        [
         10311,
         41,
         81.91,
         "10/16/2004 0:00",
         "Euro Shopping Channel",
         "(91) 555 94 44"
        ],
        [
         10332,
         50,
         100.0,
         "11/17/2004 0:00",
         "AV Stores, Co.",
         "(171) 555-1555"
        ],
        [
         10367,
         43,
         62.72,
         "01-12-2005 00:00",
         "Toys4GrownUps.com",
         "6265557265"
        ],
        [
         10420,
         66,
         92.95,
         "5/29/2005 0:00",
         "Souveniers And Things Co.",
         "+61 2 9495 8555"
        ],
        [
         10105,
         41,
         82.5,
         "02-11-2003 00:00",
         "Danish Wholesale Imports",
         "31 12 3555"
        ],
        [
         10128,
         43,
         92.16,
         "06-06-2003 00:00",
         "Euro Shopping Channel",
         "(91) 555 94 44"
        ],
        [
         10185,
         47,
         77.24,
         "11/14/2003 0:00",
         "Mini Creations Ltd.",
         "5085559555"
        ],
        [
         10197,
         50,
         100.0,
         "11/26/2003 0:00",
         "Enaco Distributors",
         "(93) 203 4555"
        ],
        [
         10208,
         45,
         87.77,
         "01-02-2004 00:00",
         "Saveley & Henriot, Co.",
         "78.32.5555"
        ],
        [
         10248,
         42,
         75.48,
         "05-07-2004 00:00",
         "Land of Toys Inc.",
         "2125557818"
        ],
        [
         10293,
         49,
         100.0,
         "09-09-2004 00:00",
         "Amica Models & Co.",
         "011-4988555"
        ],
        [
         10326,
         50,
         86.01,
         "11-09-2004 00:00",
         "Volvo Model Replicas, Co",
         "0921-12 3555"
        ],
        [
         10372,
         41,
         86.89,
         "1/26/2005 0:00",
         "Tokyo Collectables, Ltd",
         "+81 3 3584 0555"
        ],
        [
         10396,
         45,
         100.0,
         "3/23/2005 0:00",
         "Mini Gifts Distributors Ltd.",
         "4155551450"
        ],
        [
         10114,
         41,
         100.0,
         "04-01-2003 00:00",
         "La Corne D'abondance, Co.",
         "(1) 42.34.2555"
        ],
        [
         10126,
         50,
         100.0,
         "5/28/2003 0:00",
         "Corrida Auto Replicas, Ltd",
         "(91) 555 22 82"
        ],
        [
         10150,
         49,
         100.0,
         "9/19/2003 0:00",
         "Dragon Souveniers, Ltd.",
         "+65 221 7555"
        ],
        [
         10164,
         45,
         100.0,
         "10/21/2003 0:00",
         "Mini Auto Werke",
         "7675-3555"
        ],
        [
         10175,
         47,
         100.0,
         "11-06-2003 00:00",
         "Stylish Desk Decors, Co.",
         "(171) 555-0297"
        ],
        [
         10207,
         47,
         100.0,
         "12-09-2003 00:00",
         "Diecast Collectables",
         "6175552555"
        ],
        [
         10229,
         41,
         100.0,
         "03-11-2004 00:00",
         "Mini Gifts Distributors Ltd.",
         "4155551450"
        ],
        [
         10259,
         41,
         100.0,
         "6/15/2004 0:00",
         "Handji Gifts& Co",
         "+65 224 1555"
        ],
        [
         10291,
         48,
         100.0,
         "09-08-2004 00:00",
         "Scandinavian Gift Ideas",
         "0695-34 6555"
        ],
        [
         10323,
         47,
         100.0,
         "11-05-2004 00:00",
         "Blauer See Auto, Co.",
         "+49 69 66 90 2555"
        ],
        [
         10334,
         49,
         100.0,
         "11/19/2004 0:00",
         "Volvo Model Replicas, Co",
         "0921-12 3555"
        ],
        [
         10347,
         45,
         100.0,
         "11/29/2004 0:00",
         "Australian Collectors, Co.",
         "03 9520 4555"
        ],
        [
         10411,
         46,
         100.0,
         "05-01-2005 00:00",
         "Quebec Home Shopping Network",
         "(514) 555-8054"
        ],
        [
         10103,
         41,
         47.29,
         "1/29/2003 0:00",
         "Baane Mini Imports",
         "07-98 9555"
        ],
        [
         10113,
         50,
         49.81,
         "3/26/2003 0:00",
         "Mini Gifts Distributors Ltd.",
         "4155551450"
        ],
        [
         10126,
         43,
         53.83,
         "5/28/2003 0:00",
         "Corrida Auto Replicas, Ltd",
         "(91) 555 22 82"
        ],
        [
         10174,
         49,
         44.78,
         "11-06-2003 00:00",
         "Australian Gift Network, Co",
         "61-7-3844-6555"
        ],
        [
         10194,
         41,
         44.78,
         "11/25/2003 0:00",
         "Saveley & Henriot, Co.",
         "78.32.5555"
        ],
        [
         10215,
         46,
         45.28,
         "1/29/2004 0:00",
         "West Coast Collectables Co.",
         "3105553722"
        ],
        [
         10245,
         45,
         59.87,
         "05-04-2004 00:00",
         "Super Scale Inc.",
         "2035559545"
        ],
        [
         10270,
         44,
         58.36,
         "7/19/2004 0:00",
         "Souveniers And Things Co.",
         "+61 2 9495 8555"
        ],
        [
         10281,
         44,
         59.87,
         "8/19/2004 0:00",
         "Diecast Classics Inc.",
         "2155551555"
        ],
        [
         10108,
         44,
         100.0,
         "03-03-2003 00:00",
         "Cruz & Sons Co.",
         "+63 2 555 3587"
        ],
        [
         10180,
         44,
         100.0,
         "11-11-2003 00:00",
         "Daedalus Designs Imports",
         "20.16.1555"
        ],
        [
         10211,
         41,
         100.0,
         "1/15/2004 0:00",
         "Auto Canal Petit",
         "(1) 47.55.6555"
        ],
        [
         10238,
         44,
         100.0,
         "04-09-2004 00:00",
         "Danish Wholesale Imports",
         "31 12 3555"
        ],
        [
         10276,
         48,
         100.0,
         "08-02-2004 00:00",
         "Online Mini Collectables",
         "6175557555"
        ],
        [
         10299,
         49,
         100.0,
         "9/30/2004 0:00",
         "Toys of Finland, Co.",
         "90-224 8555"
        ],
        [
         10319,
         45,
         100.0,
         "11-03-2004 00:00",
         "Microscale Inc.",
         "2125551957"
        ],
        [
         10330,
         50,
         100.0,
         "11/16/2004 0:00",
         "Cruz & Sons Co.",
         "+63 2 555 3587"
        ],
        [
         10378,
         49,
         67.14,
         "02-10-2005 00:00",
         "Euro Shopping Channel",
         "(91) 555 94 44"
        ],
        [
         10390,
         49,
         100.0,
         "03-04-2005 00:00",
         "Mini Gifts Distributors Ltd.",
         "4155551450"
        ],
        [
         10110,
         42,
         61.29,
         "3/18/2003 0:00",
         "AV Stores, Co.",
         "(171) 555-1555"
        ],
        [
         10182,
         44,
         69.84,
         "11-12-2003 00:00",
         "Mini Gifts Distributors Ltd.",
         "4155551450"
        ],
        [
         10204,
         45,
         76.26,
         "12-02-2003 00:00",
         "Muscle Machine Inc",
         "2125557413"
        ],
        [
         10367,
         44,
         85.25,
         "01-12-2005 00:00",
         "Toys4GrownUps.com",
         "6265557265"
        ],
        [
         10407,
         66,
         66.99,
         "4/22/2005 0:00",
         "The Sharp Gifts Warehouse",
         "4085553659"
        ],
        [
         10182,
         47,
         74.22,
         "11-12-2003 00:00",
         "Mini Gifts Distributors Ltd.",
         "4155551450"
        ],
        [
         10212,
         41,
         82.31,
         "1/16/2004 0:00",
         "Euro Shopping Channel",
         "(91) 555 94 44"
        ],
        [
         10420,
         60,
         64.67,
         "5/29/2005 0:00",
         "Souveniers And Things Co.",
         "+61 2 9495 8555"
        ],
        [
         10115,
         47,
         69.36,
         "04-04-2003 00:00",
         "Classic Legends Inc.",
         "2125558493"
        ],
        [
         10195,
         44,
         66.47,
         "11/25/2003 0:00",
         "Mini Classics",
         "9145554562"
        ],
        [
         10207,
         49,
         46.82,
         "12-09-2003 00:00",
         "Diecast Collectables",
         "6175552555"
        ],
        [
         10246,
         44,
         52.6,
         "05-05-2004 00:00",
         "Euro Shopping Channel",
         "(91) 555 94 44"
        ],
        [
         10271,
         45,
         64.74,
         "7/20/2004 0:00",
         "Mini Gifts Distributors Ltd.",
         "4155551450"
        ],
        [
         10305,
         45,
         61.85,
         "10/13/2004 0:00",
         "Marta's Replicas Co.",
         "6175558555"
        ],
        [
         10314,
         44,
         53.18,
         "10/22/2004 0:00",
         "Heintze Collectables",
         "86 21 3555"
        ],
        [
         10336,
         45,
         100.0,
         "11/20/2004 0:00",
         "La Corne D'abondance, Co.",
         "(1) 42.34.2555"
        ],
        [
         10349,
         48,
         47.4,
         "12-01-2004 00:00",
         "Muscle Machine Inc",
         "2125557413"
        ],
        [
         10358,
         44,
         60.76,
         "12-10-2004 00:00",
         "Euro Shopping Channel",
         "(91) 555 94 44"
        ],
        [
         10425,
         55,
         46.82,
         "5/31/2005 0:00",
         "La Rochelle Gifts",
         "40.67.8555"
        ],
        [
         10145,
         43,
         95.8,
         "8/25/2003 0:00",
         "Toys4GrownUps.com",
         "6265557265"
        ],
        [
         10159,
         44,
         100.0,
         "10-10-2003 00:00",
         "Corporate Gift Ideas Co.",
         "6505551386"
        ],
        [
         10168,
         50,
         100.0,
         "10/28/2003 0:00",
         "Technics Stores Inc.",
         "6505556809"
        ],
        [
         10180,
         48,
         100.0,
         "11-11-2003 00:00",
         "Daedalus Designs Imports",
         "20.16.1555"
        ],
        [
         10263,
         42,
         100.0,
         "6/28/2004 0:00",
         "Gift Depot Inc.",
         "2035552570"
        ],
        [
         10299,
         47,
         100.0,
         "9/30/2004 0:00",
         "Toys of Finland, Co.",
         "90-224 8555"
        ],
        [
         10318,
         48,
         100.0,
         "11-02-2004 00:00",
         "Diecast Classics Inc.",
         "2155551555"
        ],
        [
         10362,
         50,
         96.92,
         "01-05-2005 00:00",
         "Technics Stores Inc.",
         "6505556809"
        ],
        [
         10389,
         45,
         100.0,
         "03-03-2005 00:00",
         "Scandinavian Gift Ideas",
         "0695-34 6555"
        ],
        [
         10403,
         46,
         100.0,
         "04-08-2005 00:00",
         "UK Collectables, Ltd.",
         "(171) 555-2282"
        ],
        [
         10123,
         50,
         59.87,
         "5/20/2003 0:00",
         "Atelier graphique",
         "40.32.2555"
        ],
        [
         10148,
         47,
         56.85,
         "09-11-2003 00:00",
         "Anna's Decorations, Ltd",
         "02 9936 8555"
        ],
        [
         10192,
         47,
         53.83,
         "11/20/2003 0:00",
         "Online Diecast Creations Co.",
         "6035558647"
        ],
        [
         10204,
         45,
         49.81,
         "12-02-2003 00:00",
         "Muscle Machine Inc",
         "2125557413"
        ],
        [
         10212,
         45,
         53.33,
         "1/16/2004 0:00",
         "Euro Shopping Channel",
         "(91) 555 94 44"
        ],
        [
         10288,
         50,
         52.32,
         "09-01-2004 00:00",
         "Handji Gifts& Co",
         "+65 224 1555"
        ],
        [
         10311,
         45,
         49.3,
         "10/16/2004 0:00",
         "Euro Shopping Channel",
         "(91) 555 94 44"
        ],
        [
         10321,
         48,
         42.26,
         "11-04-2004 00:00",
         "FunGiftIdeas.com",
         "5085552555"
        ],
        [
         10407,
         64,
         40.25,
         "4/22/2005 0:00",
         "The Sharp Gifts Warehouse",
         "4085553659"
        ],
        [
         10133,
         41,
         94.1,
         "6/27/2003 0:00",
         "Euro Shopping Channel",
         "(91) 555 94 44"
        ],
        [
         10168,
         49,
         100.0,
         "10/28/2003 0:00",
         "Technics Stores Inc.",
         "6505556809"
        ],
        [
         10328,
         47,
         87.54,
         "11-12-2004 00:00",
         "Rovelli Gifts",
         "035-640555"
        ],
        [
         10374,
         46,
         94.1,
         "02-02-2005 00:00",
         "Australian Gift Network, Co",
         "61-7-3844-6555"
        ],
        [
         10398,
         43,
         100.0,
         "3/30/2005 0:00",
         "Reims Collectables",
         "26.47.1555"
        ],
        [
         10416,
         47,
         88.63,
         "05-10-2005 00:00",
         "L'ordine Souveniers",
         "0522-556555"
        ],
        [
         10101,
         45,
         31.2,
         "01-09-2003 00:00",
         "Blauer See Auto, Co.",
         "+49 69 66 90 2555"
        ],
        [
         10124,
         45,
         37.84,
         "5/21/2003 0:00",
         "Signal Gift Stores",
         "7025551838"
        ],
        [
         10227,
         42,
         29.21,
         "03-02-2004 00:00",
         "Saveley & Henriot, Co.",
         "78.32.5555"
        ],
        [
         10332,
         45,
         81.91,
         "11/17/2004 0:00",
         "AV Stores, Co.",
         "(171) 555-1555"
        ],
        [
         10356,
         48,
         100.0,
         "12-09-2004 00:00",
         "Lyon Souveniers",
         "+33 1 46 62 7555"
        ],
        [
         10409,
         61,
         29.54,
         "4/23/2005 0:00",
         "Handji Gifts& Co",
         "+65 224 1555"
        ],
        [
         10420,
         45,
         26.88,
         "5/29/2005 0:00",
         "Souveniers And Things Co.",
         "+61 2 9495 8555"
        ],
        [
         10134,
         43,
         83.03,
         "07-01-2003 00:00",
         "Lyon Souveniers",
         "+33 1 46 62 7555"
        ],
        [
         10145,
         47,
         83.03,
         "8/25/2003 0:00",
         "Toys4GrownUps.com",
         "6265557265"
        ],
        [
         10308,
         47,
         63.22,
         "10/15/2004 0:00",
         "Mini Classics",
         "9145554562"
        ],
        [
         10340,
         55,
         79.98,
         "11/24/2004 0:00",
         "Enaco Distributors",
         "(93) 203 4555"
        ],
        [
         10389,
         49,
         81.4,
         "03-03-2005 00:00",
         "Scandinavian Gift Ideas",
         "0695-34 6555"
        ],
        [
         10402,
         59,
         87.6,
         "04-07-2005 00:00",
         "Auto Canal Petit",
         "(1) 47.55.6555"
        ],
        [
         10105,
         43,
         100.0,
         "02-11-2003 00:00",
         "Danish Wholesale Imports",
         "31 12 3555"
        ],
        [
         10117,
         41,
         100.0,
         "4/16/2003 0:00",
         "Dragon Souveniers, Ltd.",
         "+65 221 7555"
        ],
        [
         10129,
         45,
         100.0,
         "06-12-2003 00:00",
         "Stylish Desk Decors, Co.",
         "(171) 555-0297"
        ],
        [
         10177,
         50,
         100.0,
         "11-07-2003 00:00",
         "CAF Imports",
         "+34 913 728 555"
        ],
        [
         10197,
         41,
         100.0,
         "11/26/2003 0:00",
         "Enaco Distributors",
         "(93) 203 4555"
        ],
        [
         10221,
         49,
         100.0,
         "2/18/2004 0:00",
         "Petit Auto",
         "(02) 5554 67"
        ],
        [
         10232,
         46,
         100.0,
         "3/20/2004 0:00",
         "giftsbymail.co.uk",
         "(198) 555-8888"
        ],
        [
         10248,
         48,
         100.0,
         "05-07-2004 00:00",
         "Land of Toys Inc.",
         "2125557818"
        ],
        [
         10283,
         42,
         100.0,
         "8/20/2004 0:00",
         "Royal Canadian Collectables, Ltd.",
         "(604) 555-4555"
        ],
        [
         10326,
         41,
         100.0,
         "11-09-2004 00:00",
         "Volvo Model Replicas, Co",
         "0921-12 3555"
        ],
        [
         10396,
         49,
         100.0,
         "3/23/2005 0:00",
         "Mini Gifts Distributors Ltd.",
         "4155551450"
        ],
        [
         10101,
         46,
         53.76,
         "01-09-2003 00:00",
         "Blauer See Auto, Co.",
         "+49 69 66 90 2555"
        ],
        [
         10149,
         49,
         49.28,
         "09-12-2003 00:00",
         "Signal Collectibles Ltd.",
         "4155554312"
        ],
        [
         10162,
         43,
         36.29,
         "10/18/2003 0:00",
         "Corporate Gift Ideas Co.",
         "6505551386"
        ],
        [
         10214,
         49,
         47.94,
         "1/26/2004 0:00",
         "Corrida Auto Replicas, Ltd",
         "(91) 555 22 82"
        ],
        [
         10280,
         45,
         47.49,
         "8/17/2004 0:00",
         "Amica Models & Co.",
         "011-4988555"
        ],
        [
         10289,
         45,
         48.38,
         "09-03-2004 00:00",
         "Herkku Gifts",
         "+47 2267 3215"
        ],
        [
         10304,
         44,
         39.42,
         "10-11-2004 00:00",
         "Auto Assoc. & Cie.",
         "30.59.8555"
        ],
        [
         10345,
         43,
         53.76,
         "11/25/2004 0:00",
         "Atelier graphique",
         "40.32.2555"
        ],
        [
         10140,
         47,
         100.0,
         "7/24/2003 0:00",
         "Technics Stores Inc.",
         "6505556809"
        ],
        [
         10151,
         42,
         100.0,
         "9/21/2003 0:00",
         "Oulu Toy Supplies, Inc.",
         "981-443655"
        ],
        [
         10194,
         49,
         100.0,
         "11/25/2003 0:00",
         "Saveley & Henriot, Co.",
         "78.32.5555"
        ],
        [
         10207,
         46,
         100.0,
         "12-09-2003 00:00",
         "Diecast Collectables",
         "6175552555"
        ],
        [
         10229,
         48,
         100.0,
         "03-11-2004 00:00",
         "Mini Gifts Distributors Ltd.",
         "4155551450"
        ],
        [
         10259,
         47,
         100.0,
         "6/15/2004 0:00",
         "Handji Gifts& Co",
         "+65 224 1555"
        ],
        [
         10271,
         43,
         100.0,
         "7/20/2004 0:00",
         "Mini Gifts Distributors Ltd.",
         "4155551450"
        ],
        [
         10291,
         48,
         100.0,
         "09-08-2004 00:00",
         "Scandinavian Gift Ideas",
         "0695-34 6555"
        ],
        [
         10313,
         42,
         100.0,
         "10/22/2004 0:00",
         "Canadian Gift Exchange Network",
         "(604) 555-3392"
        ],
        [
         10334,
         42,
         100.0,
         "11/19/2004 0:00",
         "Volvo Model Replicas, Co",
         "0921-12 3555"
        ],
        [
         10358,
         41,
         100.0,
         "12-10-2004 00:00",
         "Euro Shopping Channel",
         "(91) 555 94 44"
        ],
        [
         10412,
         70,
         100.0,
         "05-03-2005 00:00",
         "Euro Shopping Channel",
         "(91) 555 94 44"
        ],
        [
         10425,
         49,
         100.0,
         "5/31/2005 0:00",
         "La Rochelle Gifts",
         "40.67.8555"
        ],
        [
         10190,
         42,
         76.19,
         "11/19/2003 0:00",
         "Euro Shopping Channel",
         "(91) 555 94 44"
        ],
        [
         10252,
         47,
         65.8,
         "5/26/2004 0:00",
         "Auto Canal Petit",
         "(1) 47.55.6555"
        ],
        [
         10276,
         46,
         75.49,
         "08-02-2004 00:00",
         "Online Mini Collectables",
         "6175557555"
        ],
        [
         10330,
         42,
         81.03,
         "11/16/2004 0:00",
         "Cruz & Sons Co.",
         "+63 2 555 3587"
        ],
        [
         10355,
         41,
         70.65,
         "12-07-2004 00:00",
         "Euro Shopping Channel",
         "(91) 555 94 44"
        ],
        [
         10363,
         43,
         61.23,
         "01-06-2005 00:00",
         "Suominen Souveniers",
         "+358 9 8045 555"
        ],
        [
         10110,
         43,
         78.15,
         "3/18/2003 0:00",
         "AV Stores, Co.",
         "(171) 555-1555"
        ],
        [
         10192,
         46,
         83.6,
         "11/20/2003 0:00",
         "Online Diecast Creations Co.",
         "6035558647"
        ],
        [
         10204,
         47,
         96.32,
         "12-02-2003 00:00",
         "Muscle Machine Inc",
         "2125557413"
        ],
        [
         10212,
         45,
         88.14,
         "1/16/2004 0:00",
         "Euro Shopping Channel",
         "(91) 555 94 44"
        ],
        [
         10227,
         47,
         88.14,
         "03-02-2004 00:00",
         "Saveley & Henriot, Co.",
         "78.32.5555"
        ],
        [
         10241,
         47,
         94.5,
         "4/13/2004 0:00",
         "Mini Caravy",
         "88.60.1555"
        ],
        [
         10279,
         49,
         79.97,
         "08-09-2004 00:00",
         "Euro Shopping Channel",
         "(91) 555 94 44"
        ],
        [
         10302,
         49,
         100.0,
         "10-06-2003 00:00",
         "UK Collectables, Ltd.",
         "(171) 555-2282"
        ],
        [
         10407,
         76,
         94.5,
         "4/22/2005 0:00",
         "The Sharp Gifts Warehouse",
         "4085553659"
        ],
        [
         10104,
         44,
         39.6,
         "1/31/2003 0:00",
         "Euro Shopping Channel",
         "(91) 555 94 44"
        ],
        [
         10184,
         42,
         31.82,
         "11/14/2003 0:00",
         "Iberia Gift Imports, Corp.",
         "(95) 555 82 82"
        ],
        [
         10207,
         42,
         29.7,
         "12-09-2003 00:00",
         "Diecast Collectables",
         "6175552555"
        ],
        [
         10246,
         49,
         36.07,
         "05-05-2004 00:00",
         "Euro Shopping Channel",
         "(91) 555 94 44"
        ],
        [
         10305,
         48,
         31.47,
         "10/13/2004 0:00",
         "Marta's Replicas Co.",
         "6175558555"
        ],
        [
         10371,
         45,
         100.0,
         "1/23/2005 0:00",
         "Mini Gifts Distributors Ltd.",
         "4155551450"
        ],
        [
         10394,
         46,
         38.9,
         "3/15/2005 0:00",
         "Euro Shopping Channel",
         "(91) 555 94 44"
        ],
        [
         10106,
         49,
         74.68,
         "2/17/2003 0:00",
         "Rovelli Gifts",
         "035-640555"
        ],
        [
         10119,
         41,
         59.6,
         "4/28/2003 0:00",
         "Salzburg Collectables",
         "6562-9555"
        ],
        [
         10198,
         48,
         67.82,
         "11/27/2003 0:00",
         "Cruz & Sons Co.",
         "+63 2 555 3587"
        ],
        [
         10209,
         43,
         82.21,
         "01-09-2004 00:00",
         "Men 'R' US Retailers, Ltd.",
         "2155554369"
        ],
        [
         10328,
         48,
         58.92,
         "11-12-2004 00:00",
         "Rovelli Gifts",
         "035-640555"
        ],
        [
         10339,
         55,
         100.0,
         "11/23/2004 0:00",
         "Tokyo Collectables, Ltd",
         "+81 3 3584 0555"
        ],
        [
         10110,
         46,
         100.0,
         "3/18/2003 0:00",
         "AV Stores, Co.",
         "(171) 555-1555"
        ],
        [
         10204,
         42,
         100.0,
         "12-02-2003 00:00",
         "Muscle Machine Inc",
         "2125557413"
        ],
        [
         10267,
         43,
         100.0,
         "07-07-2004 00:00",
         "Muscle Machine Inc",
         "2125557413"
        ],
        [
         10279,
         48,
         100.0,
         "08-09-2004 00:00",
         "Euro Shopping Channel",
         "(91) 555 94 44"
        ],
        [
         10288,
         48,
         100.0,
         "09-01-2004 00:00",
         "Handji Gifts& Co",
         "+65 224 1555"
        ],
        [
         10302,
         45,
         100.0,
         "10-06-2003 00:00",
         "UK Collectables, Ltd.",
         "(171) 555-2282"
        ],
        [
         10311,
         43,
         100.0,
         "10/16/2004 0:00",
         "Euro Shopping Channel",
         "(91) 555 94 44"
        ],
        [
         10332,
         44,
         42.26,
         "11/17/2004 0:00",
         "AV Stores, Co.",
         "(171) 555-1555"
        ],
        [
         10380,
         44,
         36.29,
         "2/16/2005 0:00",
         "Euro Shopping Channel",
         "(91) 555 94 44"
        ],
        [
         10407,
         59,
         98.65,
         "4/22/2005 0:00",
         "The Sharp Gifts Warehouse",
         "4085553659"
        ],
        [
         10420,
         55,
         96.3,
         "5/29/2005 0:00",
         "Souveniers And Things Co.",
         "+61 2 9495 8555"
        ],
        [
         10160,
         42,
         37.0,
         "10-11-2003 00:00",
         "Men 'R' US Retailers, Ltd.",
         "2155554369"
        ],
        [
         10225,
         42,
         36.63,
         "2/22/2004 0:00",
         "Vida Sport, Ltd",
         "0897-034555"
        ],
        [
         10301,
         48,
         34.36,
         "10-05-2003 00:00",
         "Norway Gifts By Mail, Co.",
         "+47 2212 1555"
        ],
        [
         10378,
         41,
         100.0,
         "02-10-2005 00:00",
         "Euro Shopping Channel",
         "(91) 555 94 44"
        ],
        [
         10405,
         47,
         44.56,
         "4/14/2005 0:00",
         "Mini Caravy",
         "88.60.1555"
        ],
        [
         10105,
         44,
         72.58,
         "02-11-2003 00:00",
         "Danish Wholesale Imports",
         "31 12 3555"
        ],
        [
         10129,
         41,
         94.71,
         "06-12-2003 00:00",
         "Stylish Desk Decors, Co.",
         "(171) 555-0297"
        ],
        [
         10142,
         49,
         98.25,
         "08-08-2003 00:00",
         "Mini Gifts Distributors Ltd.",
         "4155551450"
        ],
        [
         10177,
         45,
         72.58,
         "11-07-2003 00:00",
         "CAF Imports",
         "+34 913 728 555"
        ],
        [
         10197,
         47,
         83.2,
         "11/26/2003 0:00",
         "Enaco Distributors",
         "(93) 203 4555"
        ],
        [
         10222,
         47,
         70.81,
         "2/19/2004 0:00",
         "Collectable Mini Designs Co.",
         "7605558146"
        ],
        [
         10295,
         46,
         84.97,
         "09-10-2004 00:00",
         "Gifts4AllAges.com",
         "6175559555"
        ],
        [
         10326,
         41,
         85.85,
         "11-09-2004 00:00",
         "Volvo Model Replicas, Co",
         "0921-12 3555"
        ],
        [
         10339,
         55,
         100.0,
         "11/23/2004 0:00",
         "Tokyo Collectables, Ltd",
         "+81 3 3584 0555"
        ],
        [
         10384,
         43,
         97.87,
         "2/23/2005 0:00",
         "Corporate Gift Ideas Co.",
         "6505551386"
        ],
        [
         10414,
         60,
         100.0,
         "05-06-2005 00:00",
         "Gifts4AllAges.com",
         "6175559555"
        ],
        [
         10124,
         49,
         83.04,
         "5/21/2003 0:00",
         "Signal Gift Stores",
         "7025551838"
        ],
        [
         10267,
         44,
         96.74,
         "07-07-2004 00:00",
         "Muscle Machine Inc",
         "2125557413"
        ],
        [
         10302,
         48,
         74.48,
         "10-06-2003 00:00",
         "UK Collectables, Ltd.",
         "(171) 555-2282"
        ],
        [
         10332,
         45,
         34.19,
         "11/17/2004 0:00",
         "AV Stores, Co.",
         "(171) 555-1555"
        ],
        [
         10368,
         46,
         79.62,
         "1/19/2005 0:00",
         "Mini Gifts Distributors Ltd.",
         "4155551450"
        ],
        [
         10380,
         44,
         79.06,
         "2/16/2005 0:00",
         "Euro Shopping Channel",
         "(91) 555 94 44"
        ],
        [
         10159,
         50,
         69.8,
         "10-10-2003 00:00",
         "Corporate Gift Ideas Co.",
         "6505551386"
        ],
        [
         10191,
         48,
         60.01,
         "11/20/2003 0:00",
         "Toms Spezialitten, Ltd",
         "0221-5554327"
        ],
        [
         10211,
         48,
         48.98,
         "1/15/2004 0:00",
         "Auto Canal Petit",
         "(1) 47.55.6555"
        ],
        [
         10238,
         47,
         62.45,
         "04-09-2004 00:00",
         "Danish Wholesale Imports",
         "31 12 3555"
        ],
        [
         10266,
         47,
         62.45,
         "07-06-2004 00:00",
         "L'ordine Souveniers",
         "0522-556555"
        ],
        [
         10342,
         48,
         62.45,
         "11/24/2004 0:00",
         "Australian Collectors, Co.",
         "03 9520 4555"
        ],
        [
         10355,
         44,
         62.45,
         "12-07-2004 00:00",
         "Euro Shopping Channel",
         "(91) 555 94 44"
        ],
        [
         10378,
         46,
         41.54,
         "02-10-2005 00:00",
         "Euro Shopping Channel",
         "(91) 555 94 44"
        ],
        [
         10390,
         46,
         52.84,
         "03-04-2005 00:00",
         "Mini Gifts Distributors Ltd.",
         "4155551450"
        ],
        [
         10419,
         55,
         52.66,
         "5/17/2005 0:00",
         "Salzburg Collectables",
         "6562-9555"
        ],
        [
         10222,
         43,
         70.35,
         "2/19/2004 0:00",
         "Collectable Mini Designs Co.",
         "7605558146"
        ],
        [
         10262,
         46,
         70.35,
         "6/24/2004 0:00",
         "Euro Shopping Channel",
         "(91) 555 94 44"
        ],
        [
         10316,
         47,
         76.93,
         "11-01-2004 00:00",
         "giftsbymail.co.uk",
         "(198) 555-8888"
        ],
        [
         10373,
         46,
         66.0,
         "1/31/2005 0:00",
         "Oulu Toy Supplies, Inc.",
         "981-443655"
        ],
        [
         10124,
         43,
         100.0,
         "5/21/2003 0:00",
         "Signal Gift Stores",
         "7025551838"
        ],
        [
         10182,
         49,
         100.0,
         "11-12-2003 00:00",
         "Mini Gifts Distributors Ltd.",
         "4155551450"
        ],
        [
         10192,
         46,
         100.0,
         "11/20/2003 0:00",
         "Online Diecast Creations Co.",
         "6035558647"
        ],
        [
         10204,
         48,
         91.02,
         "12-02-2003 00:00",
         "Muscle Machine Inc",
         "2125557413"
        ],
        [
         10212,
         46,
         87.81,
         "1/16/2004 0:00",
         "Euro Shopping Channel",
         "(91) 555 94 44"
        ],
        [
         10226,
         48,
         92.09,
         "2/26/2004 0:00",
         "Collectable Mini Designs Co.",
         "7605558146"
        ],
        [
         10267,
         43,
         100.0,
         "07-07-2004 00:00",
         "Muscle Machine Inc",
         "2125557413"
        ],
        [
         10279,
         48,
         100.0,
         "08-09-2004 00:00",
         "Euro Shopping Channel",
         "(91) 555 94 44"
        ],
        [
         10288,
         41,
         100.0,
         "09-01-2004 00:00",
         "Handji Gifts& Co",
         "+65 224 1555"
        ],
        [
         10311,
         46,
         92.09,
         "10/16/2004 0:00",
         "Euro Shopping Channel",
         "(91) 555 94 44"
        ],
        [
         10407,
         43,
         86.73,
         "4/22/2005 0:00",
         "The Sharp Gifts Warehouse",
         "4085553659"
        ],
        [
         10105,
         50,
         79.67,
         "02-11-2003 00:00",
         "Danish Wholesale Imports",
         "31 12 3555"
        ],
        [
         10129,
         50,
         77.99,
         "06-12-2003 00:00",
         "Stylish Desk Decors, Co.",
         "(171) 555-0297"
        ],
        [
         10222,
         46,
         80.51,
         "2/19/2004 0:00",
         "Collectable Mini Designs Co.",
         "7605558146"
        ],
        [
         10262,
         49,
         87.21,
         "6/24/2004 0:00",
         "Euro Shopping Channel",
         "(91) 555 94 44"
        ],
        [
         10273,
         48,
         83.02,
         "7/21/2004 0:00",
         "Petit Auto",
         "(02) 5554 67"
        ],
        [
         10339,
         42,
         59.36,
         "11/23/2004 0:00",
         "Tokyo Collectables, Ltd",
         "+81 3 3584 0555"
        ],
        [
         10400,
         42,
         72.96,
         "04-01-2005 00:00",
         "The Sharp Gifts Warehouse",
         "4085553659"
        ],
        [
         10414,
         51,
         76.31,
         "05-06-2005 00:00",
         "Gifts4AllAges.com",
         "6175559555"
        ],
        [
         10122,
         43,
         100.0,
         "05-08-2003 00:00",
         "Marseille Mini Autos",
         "91.24.4555"
        ],
        [
         10135,
         47,
         100.0,
         "07-02-2003 00:00",
         "Mini Gifts Distributors Ltd.",
         "4155551450"
        ],
        [
         10192,
         45,
         100.0,
         "11/20/2003 0:00",
         "Online Diecast Creations Co.",
         "6035558647"
        ],
        [
         10203,
         47,
         100.0,
         "12-02-2003 00:00",
         "Euro Shopping Channel",
         "(91) 555 94 44"
        ],
        [
         10212,
         49,
         100.0,
         "1/16/2004 0:00",
         "Euro Shopping Channel",
         "(91) 555 94 44"
        ],
        [
         10301,
         50,
         100.0,
         "10-05-2003 00:00",
         "Norway Gifts By Mail, Co.",
         "+47 2212 1555"
        ],
        [
         10310,
         45,
         100.0,
         "10/16/2004 0:00",
         "Toms Spezialitten, Ltd",
         "0221-5554327"
        ],
        [
         10342,
         42,
         100.0,
         "11/24/2004 0:00",
         "Australian Collectors, Co.",
         "03 9520 4555"
        ],
        [
         10390,
         45,
         100.0,
         "03-04-2005 00:00",
         "Mini Gifts Distributors Ltd.",
         "4155551450"
        ],
        [
         10405,
         76,
         100.0,
         "4/14/2005 0:00",
         "Mini Caravy",
         "88.60.1555"
        ],
        [
         10419,
         70,
         100.0,
         "5/17/2005 0:00",
         "Salzburg Collectables",
         "6562-9555"
        ],
        [
         10106,
         50,
         64.83,
         "2/17/2003 0:00",
         "Rovelli Gifts",
         "035-640555"
        ],
        [
         10131,
         50,
         81.89,
         "6/16/2003 0:00",
         "Gift Ideas Corp.",
         "2035554407"
        ],
        [
         10155,
         44,
         77.11,
         "10-06-2003 00:00",
         "Toys of Finland, Co.",
         "90-224 8555"
        ],
        [
         10198,
         43,
         66.19,
         "11/27/2003 0:00",
         "Cruz & Sons Co.",
         "+63 2 555 3587"
        ],
        [
         10222,
         48,
         56.64,
         "2/19/2004 0:00",
         "Collectable Mini Designs Co.",
         "7605558146"
        ],
        [
         10262,
         48,
         61.42,
         "6/24/2004 0:00",
         "Euro Shopping Channel",
         "(91) 555 94 44"
        ],
        [
         10275,
         41,
         81.89,
         "7/23/2004 0:00",
         "La Rochelle Gifts",
         "40.67.8555"
        ],
        [
         10308,
         43,
         76.43,
         "10/15/2004 0:00",
         "Mini Classics",
         "9145554562"
        ],
        [
         10339,
         45,
         96.92,
         "11/23/2004 0:00",
         "Tokyo Collectables, Ltd",
         "+81 3 3584 0555"
        ],
        [
         10386,
         41,
         73.32,
         "03-01-2005 00:00",
         "Euro Shopping Channel",
         "(91) 555 94 44"
        ],
        [
         10398,
         41,
         68.24,
         "3/30/2005 0:00",
         "Reims Collectables",
         "26.47.1555"
        ],
        [
         10401,
         64,
         60.05,
         "04-03-2005 00:00",
         "Tekni Collectables Inc.",
         "2015559350"
        ],
        [
         10100,
         49,
         34.47,
         "01-06-2003 00:00",
         "Online Diecast Creations Co.",
         "6035558647"
        ],
        [
         10110,
         48,
         34.47,
         "3/18/2003 0:00",
         "AV Stores, Co.",
         "(171) 555-1555"
        ],
        [
         10124,
         46,
         33.23,
         "5/21/2003 0:00",
         "Signal Gift Stores",
         "7025551838"
        ],
        [
         10214,
         44,
         34.88,
         "1/26/2004 0:00",
         "Corrida Auto Replicas, Ltd",
         "(91) 555 22 82"
        ],
        [
         10242,
         46,
         36.93,
         "4/20/2004 0:00",
         "Microscale Inc.",
         "2125551957"
        ],
        [
         10332,
         41,
         77.24,
         "11/17/2004 0:00",
         "AV Stores, Co.",
         "(171) 555-1555"
        ],
        [
         10368,
         46,
         37.34,
         "1/19/2005 0:00",
         "Mini Gifts Distributors Ltd.",
         "4155551450"
        ],
        [
         10380,
         43,
         95.03,
         "2/16/2005 0:00",
         "Euro Shopping Channel",
         "(91) 555 94 44"
        ],
        [
         10115,
         44,
         100.0,
         "04-04-2003 00:00",
         "Classic Legends Inc.",
         "2125558493"
        ],
        [
         10184,
         49,
         100.0,
         "11/14/2003 0:00",
         "Iberia Gift Imports, Corp.",
         "(95) 555 82 82"
        ],
        [
         10230,
         45,
         100.0,
         "3/15/2004 0:00",
         "Blauer See Auto, Co.",
         "+49 69 66 90 2555"
        ],
        [
         10246,
         46,
         100.0,
         "05-05-2004 00:00",
         "Euro Shopping Channel",
         "(91) 555 94 44"
        ],
        [
         10325,
         44,
         100.0,
         "11-05-2004 00:00",
         "Baane Mini Imports",
         "07-98 9555"
        ],
        [
         10163,
         42,
         91.55,
         "10/20/2003 0:00",
         "Classic Legends Inc.",
         "2125558493"
        ],
        [
         10183,
         47,
         100.0,
         "11/13/2003 0:00",
         "Classic Gift Ideas, Inc",
         "2155554695"
        ],
        [
         10257,
         46,
         78.89,
         "6/14/2004 0:00",
         "The Sharp Gifts Warehouse",
         "4085553659"
        ],
        [
         10269,
         48,
         97.39,
         "7/16/2004 0:00",
         "Salzburg Collectables",
         "6562-9555"
        ],
        [
         10290,
         45,
         100.0,
         "09-07-2004 00:00",
         "Auto-Moto Classics Inc.",
         "6175558428"
        ],
        [
         10312,
         44,
         100.0,
         "10/21/2004 0:00",
         "Mini Gifts Distributors Ltd.",
         "4155551450"
        ],
        [
         10358,
         41,
         100.0,
         "12-10-2004 00:00",
         "Euro Shopping Channel",
         "(91) 555 94 44"
        ],
        [
         10133,
         46,
         77.52,
         "6/27/2003 0:00",
         "Euro Shopping Channel",
         "(91) 555 94 44"
        ],
        [
         10168,
         48,
         78.25,
         "10/28/2003 0:00",
         "Technics Stores Inc.",
         "6505556809"
        ],
        [
         10308,
         44,
         83.32,
         "10/15/2004 0:00",
         "Mini Classics",
         "9145554562"
        ],
        [
         10328,
         43,
         60.86,
         "11-12-2004 00:00",
         "Rovelli Gifts",
         "035-640555"
        ],
        [
         10375,
         43,
         100.0,
         "02-03-2005 00:00",
         "La Rochelle Gifts",
         "40.67.8555"
        ],
        [
         10386,
         50,
         63.34,
         "03-01-2005 00:00",
         "Euro Shopping Channel",
         "(91) 555 94 44"
        ],
        [
         10398,
         45,
         78.25,
         "3/30/2005 0:00",
         "Reims Collectables",
         "26.47.1555"
        ],
        [
         10401,
         52,
         81.14,
         "04-03-2005 00:00",
         "Tekni Collectables Inc.",
         "2015559350"
        ],
        [
         10416,
         48,
         74.62,
         "05-10-2005 00:00",
         "L'ordine Souveniers",
         "0522-556555"
        ],
        [
         10191,
         44,
         66.29,
         "11/20/2003 0:00",
         "Toms Spezialitten, Ltd",
         "0221-5554327"
        ],
        [
         10225,
         46,
         70.33,
         "2/22/2004 0:00",
         "Vida Sport, Ltd",
         "0897-034555"
        ],
        [
         10264,
         47,
         83.27,
         "6/30/2004 0:00",
         "Gifts4AllAges.com",
         "6175559555"
        ],
        [
         10276,
         48,
         75.18,
         "08-02-2004 00:00",
         "Online Mini Collectables",
         "6175557555"
        ],
        [
         10310,
         49,
         97.01,
         "10/16/2004 0:00",
         "Toms Spezialitten, Ltd",
         "0221-5554327"
        ],
        [
         10319,
         43,
         85.69,
         "11-03-2004 00:00",
         "Microscale Inc.",
         "2125551957"
        ],
        [
         10331,
         41,
         100.0,
         "11/17/2004 0:00",
         "Motor Mint Distributors Inc.",
         "2155559857"
        ],
        [
         10363,
         43,
         100.0,
         "01-06-2005 00:00",
         "Suominen Souveniers",
         "+358 9 8045 555"
        ],
        [
         10378,
         41,
         100.0,
         "02-10-2005 00:00",
         "Euro Shopping Channel",
         "(91) 555 94 44"
        ],
        [
         10126,
         43,
         96.31,
         "5/28/2003 0:00",
         "Corrida Auto Replicas, Ltd",
         "(91) 555 22 82"
        ],
        [
         10184,
         46,
         100.0,
         "11/14/2003 0:00",
         "Iberia Gift Imports, Corp.",
         "(95) 555 82 82"
        ],
        [
         10207,
         49,
         80.9,
         "12-09-2003 00:00",
         "Diecast Collectables",
         "6175552555"
        ],
        [
         10259,
         45,
         86.68,
         "6/15/2004 0:00",
         "Handji Gifts& Co",
         "+65 224 1555"
        ],
        [
         10335,
         44,
         100.0,
         "11/19/2004 0:00",
         "Mini Gifts Distributors Ltd.",
         "4155551450"
        ],
        [
         10348,
         42,
         100.0,
         "11-01-2004 00:00",
         "Corrida Auto Replicas, Ltd",
         "(91) 555 22 82"
        ],
        [
         10358,
         41,
         100.0,
         "12-10-2004 00:00",
         "Euro Shopping Channel",
         "(91) 555 94 44"
        ],
        [
         10425,
         41,
         86.68,
         "5/31/2005 0:00",
         "La Rochelle Gifts",
         "40.67.8555"
        ],
        [
         10188,
         44,
         98.89,
         "11/18/2003 0:00",
         "Herkku Gifts",
         "+47 2267 3215"
        ],
        [
         10210,
         46,
         79.91,
         "01-12-2004 00:00",
         "Osaka Souveniers Co.",
         "+81 06 6342 5555"
        ],
        [
         10235,
         41,
         100.0,
         "04-02-2004 00:00",
         "Royal Canadian Collectables, Ltd.",
         "(604) 555-4555"
        ],
        [
         10318,
         47,
         100.0,
         "11-02-2004 00:00",
         "Diecast Classics Inc.",
         "2155551555"
        ],
        [
         10329,
         45,
         63.91,
         "11/15/2004 0:00",
         "Land of Toys Inc.",
         "2125557818"
        ],
        [
         10340,
         55,
         100.0,
         "11/24/2004 0:00",
         "Enaco Distributors",
         "(93) 203 4555"
        ],
        [
         10353,
         46,
         81.17,
         "12-04-2004 00:00",
         "Gift Ideas Corp.",
         "2035554407"
        ],
        [
         10363,
         50,
         100.0,
         "01-06-2005 00:00",
         "Suominen Souveniers",
         "+358 9 8045 555"
        ],
        [
         10387,
         44,
         94.9,
         "03-02-2005 00:00",
         "Dragon Souveniers, Ltd.",
         "+65 221 7555"
        ],
        [
         10401,
         49,
         100.0,
         "04-03-2005 00:00",
         "Tekni Collectables Inc.",
         "2015559350"
        ],
        [
         10416,
         45,
         100.0,
         "05-10-2005 00:00",
         "L'ordine Souveniers",
         "0522-556555"
        ],
        [
         10190,
         46,
         32.99,
         "11/19/2003 0:00",
         "Euro Shopping Channel",
         "(91) 555 94 44"
        ],
        [
         10211,
         41,
         42.24,
         "1/15/2004 0:00",
         "Auto Canal Petit",
         "(1) 47.55.6555"
        ],
        [
         10224,
         43,
         39.43,
         "2/21/2004 0:00",
         "Daedalus Designs Imports",
         "20.16.1555"
        ],
        [
         10364,
         48,
         48.28,
         "01-06-2005 00:00",
         "Marseille Mini Autos",
         "91.24.4555"
        ],
        [
         10390,
         41,
         44.56,
         "03-04-2005 00:00",
         "Mini Gifts Distributors Ltd.",
         "4155551450"
        ],
        [
         10127,
         45,
         51.95,
         "06-03-2003 00:00",
         "Muscle Machine Inc",
         "2125557413"
        ],
        [
         10151,
         41,
         63.85,
         "9/21/2003 0:00",
         "Oulu Toy Supplies, Inc.",
         "981-443655"
        ],
        [
         10165,
         48,
         45.99,
         "10/22/2003 0:00",
         "Dragon Souveniers, Ltd.",
         "+65 221 7555"
        ],
        [
         10175,
         50,
         63.31,
         "11-06-2003 00:00",
         "Stylish Desk Decors, Co.",
         "(171) 555-0297"
        ],
        [
         10292,
         50,
         46.53,
         "09-08-2004 00:00",
         "Land of Toys Inc.",
         "2125557818"
        ],
        [
         10104,
         49,
         65.87,
         "1/31/2003 0:00",
         "Euro Shopping Channel",
         "(91) 555 94 44"
        ],
        [
         10142,
         42,
         74.57,
         "08-08-2003 00:00",
         "Mini Gifts Distributors Ltd.",
         "4155551450"
        ],
        [
         10165,
         44,
         53.44,
         "10/22/2003 0:00",
         "Dragon Souveniers, Ltd.",
         "+65 221 7555"
        ],
        [
         10184,
         48,
         50.95,
         "11/14/2003 0:00",
         "Iberia Gift Imports, Corp.",
         "(95) 555 82 82"
        ],
        [
         10207,
         45,
         56.55,
         "12-09-2003 00:00",
         "Diecast Collectables",
         "6175552555"
        ],
        [
         10230,
         46,
         60.9,
         "3/15/2004 0:00",
         "Blauer See Auto, Co.",
         "+49 69 66 90 2555"
        ],
        [
         10272,
         45,
         64.63,
         "7/20/2004 0:00",
         "Diecast Classics Inc.",
         "2155551555"
        ],
        [
         10306,
         46,
         50.33,
         "10/14/2004 0:00",
         "AV Stores, Co.",
         "(171) 555-1555"
        ],
        [
         10383,
         44,
         36.07,
         "2/22/2005 0:00",
         "Euro Shopping Channel",
         "(91) 555 94 44"
        ],
        [
         10103,
         45,
         75.63,
         "1/29/2003 0:00",
         "Baane Mini Imports",
         "07-98 9555"
        ],
        [
         10150,
         49,
         58.18,
         "9/19/2003 0:00",
         "Dragon Souveniers, Ltd.",
         "+65 221 7555"
        ],
        [
         10164,
         49,
         54.94,
         "10/21/2003 0:00",
         "Mini Auto Werke",
         "7675-3555"
        ],
        [
         10183,
         49,
         64.64,
         "11/13/2003 0:00",
         "Classic Gift Ideas, Inc",
         "2155554695"
        ],
        [
         10245,
         44,
         69.16,
         "05-04-2004 00:00",
         "Super Scale Inc.",
         "2035559545"
        ],
        [
         10324,
         48,
         100.0,
         "11-05-2004 00:00",
         "Vitachrome Inc.",
         "2125551500"
        ],
        [
         10382,
         48,
         100.0,
         "2/17/2005 0:00",
         "Mini Gifts Distributors Ltd.",
         "4155551450"
        ],
        [
         10424,
         44,
         61.41,
         "5/31/2005 0:00",
         "Euro Shopping Channel",
         "(91) 555 94 44"
        ],
        [
         10133,
         49,
         57.1,
         "6/27/2003 0:00",
         "Euro Shopping Channel",
         "(91) 555 94 44"
        ],
        [
         10250,
         50,
         61.22,
         "05-11-2004 00:00",
         "The Sharp Gifts Warehouse",
         "4085553659"
        ],
        [
         10284,
         50,
         81.86,
         "8/21/2004 0:00",
         "Norway Gifts By Mail, Co.",
         "+47 2212 1555"
        ],
        [
         10308,
         46,
         66.04,
         "10/15/2004 0:00",
         "Mini Classics",
         "9145554562"
        ],
        [
         10361,
         49,
         72.33,
         "12/17/2004 0:00",
         "Souveniers And Things Co.",
         "+61 2 9495 8555"
        ],
        [
         10375,
         44,
         82.26,
         "02-03-2005 00:00",
         "La Rochelle Gifts",
         "40.67.8555"
        ],
        [
         10401,
         62,
         77.73,
         "04-03-2005 00:00",
         "Tekni Collectables Inc.",
         "2015559350"
        ],
        [
         10190,
         42,
         85.72,
         "11/19/2003 0:00",
         "Euro Shopping Channel",
         "(91) 555 94 44"
        ],
        [
         10309,
         50,
         84.7,
         "10/15/2004 0:00",
         "Baane Mini Imports",
         "07-98 9555"
        ],
        [
         10375,
         41,
         100.0,
         "02-03-2005 00:00",
         "La Rochelle Gifts",
         "40.67.8555"
        ],
        [
         10390,
         45,
         48.98,
         "03-04-2005 00:00",
         "Mini Gifts Distributors Ltd.",
         "4155551450"
        ],
        [
         10403,
         45,
         100.0,
         "04-08-2005 00:00",
         "UK Collectables, Ltd.",
         "(171) 555-2282"
        ],
        [
         10120,
         49,
         50.62,
         "4/29/2003 0:00",
         "Australian Collectors, Co.",
         "03 9520 4555"
        ],
        [
         10168,
         48,
         51.93,
         "10/28/2003 0:00",
         "Technics Stores Inc.",
         "6505556809"
        ],
        [
         10210,
         43,
         41.02,
         "01-12-2004 00:00",
         "Osaka Souveniers Co.",
         "+81 06 6342 5555"
        ],
        [
         10223,
         41,
         46.26,
         "2/20/2004 0:00",
         "Australian Collectors, Co.",
         "03 9520 4555"
        ],
        [
         10235,
         41,
         35.35,
         "04-02-2004 00:00",
         "Royal Canadian Collectables, Ltd.",
         "(604) 555-4555"
        ],
        [
         10262,
         49,
         37.97,
         "6/24/2004 0:00",
         "Euro Shopping Channel",
         "(91) 555 94 44"
        ],
        [
         10308,
         47,
         43.64,
         "10/15/2004 0:00",
         "Mini Classics",
         "9145554562"
        ],
        [
         10375,
         49,
         65.8,
         "02-03-2005 00:00",
         "La Rochelle Gifts",
         "40.67.8555"
        ],
        [
         10398,
         49,
         36.66,
         "3/30/2005 0:00",
         "Reims Collectables",
         "26.47.1555"
        ],
        [
         10401,
         56,
         35.35,
         "04-03-2005 00:00",
         "Tekni Collectables Inc.",
         "2015559350"
        ],
        [
         10127,
         46,
         100.0,
         "06-03-2003 00:00",
         "Muscle Machine Inc",
         "2125557413"
        ],
        [
         10141,
         44,
         100.0,
         "08-01-2003 00:00",
         "Suominen Souveniers",
         "+358 9 8045 555"
        ],
        [
         10165,
         48,
         94.92,
         "10/22/2003 0:00",
         "Dragon Souveniers, Ltd.",
         "+65 221 7555"
        ],
        [
         10184,
         45,
         100.0,
         "11/14/2003 0:00",
         "Iberia Gift Imports, Corp.",
         "(95) 555 82 82"
        ],
        [
         10195,
         49,
         100.0,
         "11/25/2003 0:00",
         "Mini Classics",
         "9145554562"
        ],
        [
         10292,
         41,
         100.0,
         "09-08-2004 00:00",
         "Land of Toys Inc.",
         "2125557818"
        ],
        [
         10305,
         42,
         100.0,
         "10/13/2004 0:00",
         "Marta's Replicas Co.",
         "6175558555"
        ],
        [
         10359,
         46,
         100.0,
         "12/15/2004 0:00",
         "Reims Collectables",
         "26.47.1555"
        ],
        [
         10371,
         48,
         56.55,
         "1/23/2005 0:00",
         "Mini Gifts Distributors Ltd.",
         "4155551450"
        ],
        [
         10395,
         46,
         100.0,
         "3/17/2005 0:00",
         "Lyon Souveniers",
         "+33 1 46 62 7555"
        ],
        [
         10127,
         46,
         69.12,
         "06-03-2003 00:00",
         "Muscle Machine Inc",
         "2125557413"
        ],
        [
         10142,
         42,
         49.79,
         "08-08-2003 00:00",
         "Mini Gifts Distributors Ltd.",
         "4155551450"
        ],
        [
         10196,
         46,
         62.09,
         "11/26/2003 0:00",
         "Super Scale Inc.",
         "2035559545"
        ],
        [
         10230,
         43,
         52.14,
         "3/15/2004 0:00",
         "Blauer See Auto, Co.",
         "+49 69 66 90 2555"
        ],
        [
         10247,
         49,
         63.85,
         "05-05-2004 00:00",
         "Suominen Souveniers",
         "+358 9 8045 555"
        ],
        [
         10272,
         43,
         56.82,
         "7/20/2004 0:00",
         "Diecast Classics Inc.",
         "2155551555"
        ],
        [
         10325,
         44,
         100.0,
         "11-05-2004 00:00",
         "Baane Mini Imports",
         "07-98 9555"
        ],
        [
         10350,
         44,
         100.0,
         "12-02-2004 00:00",
         "Euro Shopping Channel",
         "(91) 555 94 44"
        ],
        [
         10395,
         45,
         100.0,
         "3/17/2005 0:00",
         "Lyon Souveniers",
         "+33 1 46 62 7555"
        ],
        [
         10413,
         51,
         63.85,
         "05-05-2005 00:00",
         "Gift Depot Inc.",
         "2035552570"
        ],
        [
         10121,
         44,
         74.85,
         "05-07-2003 00:00",
         "Reims Collectables",
         "26.47.1555"
        ],
        [
         10135,
         44,
         96.0,
         "07-02-2003 00:00",
         "Mini Gifts Distributors Ltd.",
         "4155551450"
        ],
        [
         10169,
         48,
         80.55,
         "11-04-2003 00:00",
         "Anna's Decorations, Ltd",
         "02 9936 8555"
        ],
        [
         10224,
         50,
         77.29,
         "2/21/2004 0:00",
         "Daedalus Designs Imports",
         "20.16.1555"
        ],
        [
         10252,
         48,
         72.41,
         "5/26/2004 0:00",
         "Auto Canal Petit",
         "(1) 47.55.6555"
        ],
        [
         10264,
         47,
         89.5,
         "6/30/2004 0:00",
         "Gifts4AllAges.com",
         "6175559555"
        ],
        [
         10299,
         44,
         80.55,
         "9/30/2004 0:00",
         "Toys of Finland, Co.",
         "90-224 8555"
        ],
        [
         10319,
         45,
         77.29,
         "11-03-2004 00:00",
         "Microscale Inc.",
         "2125551957"
        ],
        [
         10365,
         44,
         100.0,
         "01-07-2005 00:00",
         "Mini Creations Ltd.",
         "5085559555"
        ],
        [
         10375,
         49,
         100.0,
         "02-03-2005 00:00",
         "La Rochelle Gifts",
         "40.67.8555"
        ],
        [
         10105,
         41,
         70.67,
         "02-11-2003 00:00",
         "Danish Wholesale Imports",
         "31 12 3555"
        ],
        [
         10142,
         41,
         64.0,
         "08-08-2003 00:00",
         "Mini Gifts Distributors Ltd.",
         "4155551450"
        ],
        [
         10153,
         43,
         64.67,
         "9/28/2003 0:00",
         "Euro Shopping Channel",
         "(91) 555 94 44"
        ],
        [
         10167,
         43,
         75.34,
         "10/23/2003 0:00",
         "Scandinavian Gift Ideas",
         "0695-34 6555"
        ],
        [
         10283,
         45,
         78.67,
         "8/20/2004 0:00",
         "Royal Canadian Collectables, Ltd.",
         "(604) 555-4555"
        ],
        [
         10306,
         50,
         54.0,
         "10/14/2004 0:00",
         "AV Stores, Co.",
         "(171) 555-1555"
        ],
        [
         10315,
         41,
         62.0,
         "10/29/2004 0:00",
         "La Rochelle Gifts",
         "40.67.8555"
        ],
        [
         10350,
         46,
         76.67,
         "12-02-2004 00:00",
         "Euro Shopping Channel",
         "(91) 555 94 44"
        ],
        [
         10373,
         44,
         100.0,
         "1/31/2005 0:00",
         "Oulu Toy Supplies, Inc.",
         "981-443655"
        ],
        [
         10120,
         47,
         82.21,
         "4/29/2003 0:00",
         "Australian Collectors, Co.",
         "03 9520 4555"
        ],
        [
         10156,
         48,
         100.0,
         "10-08-2003 00:00",
         "Euro Shopping Channel",
         "(91) 555 94 44"
        ],
        [
         10199,
         48,
         83.12,
         "12-01-2003 00:00",
         "West Coast Collectables Co.",
         "3105553722"
        ],
        [
         10296,
         42,
         100.0,
         "9/15/2004 0:00",
         "Bavarian Collectables Imports, Co.",
         "+49 89 61 08 9555"
        ],
        [
         10388,
         46,
         100.0,
         "03-03-2005 00:00",
         "FunGiftIdeas.com",
         "5085552555"
        ],
        [
         10398,
         47,
         87.69,
         "3/30/2005 0:00",
         "Reims Collectables",
         "26.47.1555"
        ],
        [
         10142,
         43,
         84.01,
         "08-08-2003 00:00",
         "Mini Gifts Distributors Ltd.",
         "4155551450"
        ],
        [
         10196,
         50,
         94.4,
         "11/26/2003 0:00",
         "Super Scale Inc.",
         "2035559545"
        ],
        [
         10282,
         43,
         86.61,
         "8/20/2004 0:00",
         "Mini Gifts Distributors Ltd.",
         "4155551450"
        ],
        [
         10372,
         44,
         100.0,
         "1/26/2005 0:00",
         "Tokyo Collectables, Ltd",
         "+81 3 3584 0555"
        ],
        [
         10384,
         49,
         100.0,
         "2/23/2005 0:00",
         "Corporate Gift Ideas Co.",
         "6505551386"
        ],
        [
         10262,
         44,
         94.14,
         "6/24/2004 0:00",
         "Euro Shopping Channel",
         "(91) 555 94 44"
        ],
        [
         10316,
         45,
         93.24,
         "11-01-2004 00:00",
         "giftsbymail.co.uk",
         "(198) 555-8888"
        ],
        [
         10328,
         41,
         100.0,
         "11-12-2004 00:00",
         "Rovelli Gifts",
         "035-640555"
        ],
        [
         10339,
         55,
         71.25,
         "11/23/2004 0:00",
         "Tokyo Collectables, Ltd",
         "+81 3 3584 0555"
        ],
        [
         10400,
         46,
         87.8,
         "04-01-2005 00:00",
         "The Sharp Gifts Warehouse",
         "4085553659"
        ],
        [
         10198,
         42,
         100.0,
         "11/27/2003 0:00",
         "Cruz & Sons Co.",
         "+63 2 555 3587"
        ],
        [
         10284,
         45,
         100.0,
         "8/21/2004 0:00",
         "Norway Gifts By Mail, Co.",
         "+47 2212 1555"
        ],
        [
         10340,
         55,
         87.75,
         "11/24/2004 0:00",
         "Enaco Distributors",
         "(93) 203 4555"
        ],
        [
         10352,
         49,
         100.0,
         "12-03-2004 00:00",
         "Auto-Moto Classics Inc.",
         "6175558428"
        ],
        [
         10401,
         85,
         88.75,
         "04-03-2005 00:00",
         "Tekni Collectables Inc.",
         "2015559350"
        ],
        [
         10129,
         45,
         85.29,
         "06-12-2003 00:00",
         "Stylish Desk Decors, Co.",
         "(171) 555-0297"
        ],
        [
         10167,
         46,
         70.11,
         "10/23/2003 0:00",
         "Scandinavian Gift Ideas",
         "0695-34 6555"
        ],
        [
         10197,
         50,
         78.79,
         "11/26/2003 0:00",
         "Enaco Distributors",
         "(93) 203 4555"
        ],
        [
         10208,
         46,
         74.45,
         "01-02-2004 00:00",
         "Saveley & Henriot, Co.",
         "78.32.5555"
        ],
        [
         10261,
         44,
         68.67,
         "6/17/2004 0:00",
         "Quebec Home Shopping Network",
         "(514) 555-8054"
        ],
        [
         10273,
         42,
         62.16,
         "7/21/2004 0:00",
         "Petit Auto",
         "(02) 5554 67"
        ],
        [
         10283,
         47,
         65.77,
         "8/20/2004 0:00",
         "Royal Canadian Collectables, Ltd.",
         "(604) 555-4555"
        ],
        [
         10295,
         44,
         58.55,
         "09-10-2004 00:00",
         "Gifts4AllAges.com",
         "6175559555"
        ],
        [
         10306,
         43,
         75.17,
         "10/14/2004 0:00",
         "AV Stores, Co.",
         "(171) 555-1555"
        ],
        [
         10316,
         48,
         74.45,
         "11-01-2004 00:00",
         "giftsbymail.co.uk",
         "(198) 555-8888"
        ],
        [
         10339,
         50,
         74.35,
         "11/23/2004 0:00",
         "Tokyo Collectables, Ltd",
         "+81 3 3584 0555"
        ],
        [
         10373,
         41,
         70.33,
         "1/31/2005 0:00",
         "Oulu Toy Supplies, Inc.",
         "981-443655"
        ],
        [
         10103,
         42,
         100.0,
         "1/29/2003 0:00",
         "Baane Mini Imports",
         "07-98 9555"
        ],
        [
         10114,
         42,
         100.0,
         "04-01-2003 00:00",
         "La Corne D'abondance, Co.",
         "(1) 42.34.2555"
        ],
        [
         10126,
         45,
         100.0,
         "5/28/2003 0:00",
         "Corrida Auto Replicas, Ltd",
         "(91) 555 22 82"
        ],
        [
         10175,
         42,
         85.98,
         "11-06-2003 00:00",
         "Stylish Desk Decors, Co.",
         "(171) 555-0297"
        ],
        [
         10229,
         50,
         100.0,
         "03-11-2004 00:00",
         "Mini Gifts Distributors Ltd.",
         "4155551450"
        ],
        [
         10245,
         44,
         100.0,
         "05-04-2004 00:00",
         "Super Scale Inc.",
         "2035559545"
        ],
        [
         10258,
         45,
         80.92,
         "6/15/2004 0:00",
         "Tokyo Collectables, Ltd",
         "+81 3 3584 0555"
        ],
        [
         10270,
         46,
         88.0,
         "7/19/2004 0:00",
         "Souveniers And Things Co.",
         "+61 2 9495 8555"
        ],
        [
         10336,
         46,
         100.0,
         "11/20/2004 0:00",
         "La Corne D'abondance, Co.",
         "(1) 42.34.2555"
        ],
        [
         10424,
         46,
         80.92,
         "5/31/2005 0:00",
         "Euro Shopping Channel",
         "(91) 555 94 44"
        ],
        [
         10250,
         44,
         100.0,
         "05-11-2004 00:00",
         "The Sharp Gifts Warehouse",
         "4085553659"
        ],
        [
         10263,
         47,
         100.0,
         "6/28/2004 0:00",
         "Gift Depot Inc.",
         "2035552570"
        ],
        [
         10275,
         48,
         100.0,
         "7/23/2004 0:00",
         "La Rochelle Gifts",
         "40.67.8555"
        ],
        [
         10285,
         45,
         100.0,
         "8/27/2004 0:00",
         "Marta's Replicas Co.",
         "6175558555"
        ],
        [
         10318,
         50,
         100.0,
         "11-02-2004 00:00",
         "Diecast Classics Inc.",
         "2155551555"
        ],
        [
         10353,
         48,
         68.8,
         "12-04-2004 00:00",
         "Gift Ideas Corp.",
         "2035554407"
        ],
        [
         10361,
         44,
         72.42,
         "12/17/2004 0:00",
         "Souveniers And Things Co.",
         "+61 2 9495 8555"
        ],
        [
         10388,
         50,
         100.0,
         "03-03-2005 00:00",
         "FunGiftIdeas.com",
         "5085552555"
        ],
        [
         10416,
         41,
         100.0,
         "05-10-2005 00:00",
         "L'ordine Souveniers",
         "0522-556555"
        ],
        [
         10106,
         44,
         74.4,
         "2/17/2003 0:00",
         "Rovelli Gifts",
         "035-640555"
        ],
        [
         10120,
         43,
         76.0,
         "4/29/2003 0:00",
         "Australian Collectors, Co.",
         "03 9520 4555"
        ],
        [
         10155,
         43,
         86.4,
         "10-06-2003 00:00",
         "Toys of Finland, Co.",
         "90-224 8555"
        ],
        [
         10168,
         48,
         96.0,
         "10/28/2003 0:00",
         "Technics Stores Inc.",
         "6505556809"
        ],
        [
         10250,
         44,
         67.2,
         "05-11-2004 00:00",
         "The Sharp Gifts Warehouse",
         "4085553659"
        ],
        [
         10275,
         43,
         73.6,
         "7/23/2004 0:00",
         "La Rochelle Gifts",
         "40.67.8555"
        ],
        [
         10316,
         48,
         75.2,
         "11-01-2004 00:00",
         "giftsbymail.co.uk",
         "(198) 555-8888"
        ],
        [
         10353,
         43,
         81.95,
         "12-04-2004 00:00",
         "Gift Ideas Corp.",
         "2035554407"
        ],
        [
         10361,
         44,
         100.0,
         "12/17/2004 0:00",
         "Souveniers And Things Co.",
         "+61 2 9495 8555"
        ],
        [
         10375,
         44,
         100.0,
         "02-03-2005 00:00",
         "La Rochelle Gifts",
         "40.67.8555"
        ],
        [
         10401,
         77,
         92.0,
         "04-03-2005 00:00",
         "Tekni Collectables Inc.",
         "2015559350"
        ],
        [
         10129,
         42,
         91.15,
         "06-12-2003 00:00",
         "Stylish Desk Decors, Co.",
         "(171) 555-0297"
        ],
        [
         10153,
         50,
         88.15,
         "9/28/2003 0:00",
         "Euro Shopping Channel",
         "(91) 555 94 44"
        ],
        [
         10177,
         44,
         92.16,
         "11-07-2003 00:00",
         "CAF Imports",
         "+34 913 728 555"
        ],
        [
         10232,
         48,
         96.16,
         "3/20/2004 0:00",
         "giftsbymail.co.uk",
         "(198) 555-8888"
        ],
        [
         10327,
         43,
         80.0,
         "11-10-2004 00:00",
         "Danish Wholesale Imports",
         "31 12 3555"
        ],
        [
         10386,
         45,
         92.08,
         "03-01-2005 00:00",
         "Euro Shopping Channel",
         "(91) 555 94 44"
        ],
        [
         10397,
         48,
         100.0,
         "3/28/2005 0:00",
         "Alpha Cognac",
         "61.77.6555"
        ],
        [
         10117,
         45,
         83.42,
         "4/16/2003 0:00",
         "Dragon Souveniers, Ltd.",
         "+65 221 7555"
        ],
        [
         10261,
         50,
         81.43,
         "6/17/2004 0:00",
         "Quebec Home Shopping Network",
         "(514) 555-8054"
        ],
        [
         10294,
         45,
         100.0,
         "09-10-2004 00:00",
         "Online Mini Collectables",
         "6175557555"
        ],
        [
         10106,
         48,
         61.44,
         "2/17/2003 0:00",
         "Rovelli Gifts",
         "035-640555"
        ],
        [
         10155,
         44,
         85.87,
         "10-06-2003 00:00",
         "Toys of Finland, Co.",
         "90-224 8555"
        ],
        [
         10178,
         45,
         76.25,
         "11-08-2003 00:00",
         "Alpha Cognac",
         "61.77.6555"
        ],
        [
         10210,
         42,
         70.33,
         "01-12-2004 00:00",
         "Osaka Souveniers Co.",
         "+81 06 6342 5555"
        ],
        [
         10222,
         43,
         74.03,
         "2/19/2004 0:00",
         "Collectable Mini Designs Co.",
         "7605558146"
        ],
        [
         10296,
         47,
         86.62,
         "9/15/2004 0:00",
         "Bavarian Collectables Imports, Co.",
         "+49 89 61 08 9555"
        ],
        [
         10316,
         44,
         62.19,
         "11-01-2004 00:00",
         "giftsbymail.co.uk",
         "(198) 555-8888"
        ],
        [
         10339,
         50,
         57.86,
         "11/23/2004 0:00",
         "Tokyo Collectables, Ltd",
         "+81 3 3584 0555"
        ],
        [
         10373,
         45,
         55.62,
         "1/31/2005 0:00",
         "Oulu Toy Supplies, Inc.",
         "981-443655"
        ],
        [
         10386,
         44,
         86.4,
         "03-01-2005 00:00",
         "Euro Shopping Channel",
         "(91) 555 94 44"
        ],
        [
         10416,
         43,
         62.19,
         "05-10-2005 00:00",
         "L'ordine Souveniers",
         "0522-556555"
        ],
        [
         10106,
         48,
         52.64,
         "2/17/2003 0:00",
         "Rovelli Gifts",
         "035-640555"
        ],
        [
         10178,
         45,
         51.15,
         "11-08-2003 00:00",
         "Alpha Cognac",
         "61.77.6555"
        ],
        [
         10209,
         48,
         44.69,
         "01-09-2004 00:00",
         "Men 'R' US Retailers, Ltd.",
         "2155554369"
        ],
        [
         10283,
         43,
         57.61,
         "8/20/2004 0:00",
         "Royal Canadian Collectables, Ltd.",
         "(604) 555-4555"
        ],
        [
         10329,
         44,
         86.13,
         "11/15/2004 0:00",
         "Land of Toys Inc.",
         "2125557818"
        ],
        [
         10352,
         49,
         52.64,
         "12-03-2004 00:00",
         "Auto-Moto Classics Inc.",
         "6175558428"
        ],
        [
         10386,
         50,
         87.15,
         "03-01-2005 00:00",
         "Euro Shopping Channel",
         "(91) 555 94 44"
        ],
        [
         10415,
         42,
         57.61,
         "05-09-2005 00:00",
         "Australian Collectables, Ltd",
         "61-9-3844-6555"
        ],
        [
         10117,
         50,
         43.68,
         "4/16/2003 0:00",
         "Dragon Souveniers, Ltd.",
         "+65 221 7555"
        ],
        [
         10153,
         50,
         60.06,
         "9/28/2003 0:00",
         "Euro Shopping Channel",
         "(91) 555 94 44"
        ],
        [
         10197,
         42,
         50.23,
         "11/26/2003 0:00",
         "Enaco Distributors",
         "(93) 203 4555"
        ],
        [
         10208,
         42,
         63.88,
         "01-02-2004 00:00",
         "Saveley & Henriot, Co.",
         "78.32.5555"
        ],
        [
         10337,
         42,
         97.16,
         "11/21/2004 0:00",
         "Classic Legends Inc.",
         "2125558493"
        ],
        [
         10386,
         43,
         100.0,
         "03-01-2005 00:00",
         "Euro Shopping Channel",
         "(91) 555 94 44"
        ],
        [
         10414,
         47,
         65.52,
         "05-06-2005 00:00",
         "Gifts4AllAges.com",
         "6175559555"
        ]
       ],
       "datasetInfos": [],
       "dbfsResultPath": null,
       "isJsonSchema": true,
       "metadata": {},
       "overflow": false,
       "plotOptions": {
        "customPlotOptions": {},
        "displayType": "table",
        "pivotAggregation": null,
        "pivotColumns": null,
        "xColumns": null,
        "yColumns": null
       },
       "removedWidgets": [],
       "schema": [
        {
         "metadata": "{}",
         "name": "ORDERNUMBER",
         "type": "\"integer\""
        },
        {
         "metadata": "{}",
         "name": "QUANTITYORDERED",
         "type": "\"integer\""
        },
        {
         "metadata": "{}",
         "name": "PRICEEACH",
         "type": "\"double\""
        },
        {
         "metadata": "{}",
         "name": "ORDERDATE",
         "type": "\"string\""
        },
        {
         "metadata": "{}",
         "name": "CUSTOMERNAME",
         "type": "\"string\""
        },
        {
         "metadata": "{}",
         "name": "PHONE",
         "type": "\"string\""
        }
       ],
       "type": "table"
      }
     },
     "output_type": "display_data"
    },
    {
     "output_type": "display_data",
     "data": {
      "text/html": [
       "<style scoped>\n",
       "  .table-result-container {\n",
       "    max-height: 300px;\n",
       "    overflow: auto;\n",
       "  }\n",
       "  table, th, td {\n",
       "    border: 1px solid black;\n",
       "    border-collapse: collapse;\n",
       "  }\n",
       "  th, td {\n",
       "    padding: 5px;\n",
       "  }\n",
       "  th {\n",
       "    text-align: left;\n",
       "  }\n",
       "</style><div class='table-result-container'><table class='table-result'><thead style='background-color: white'><tr><th>path</th><th>name</th><th>size</th><th>modificationTime</th></tr></thead><tbody><tr><td>dbfs:/Volumes/workspace/skit_training/aarohi_training/Large_orders/CUSTOMERNAME=AV Stores, Co./</td><td>CUSTOMERNAME=AV Stores, Co./</td><td>0</td><td>1752511493077</td></tr><tr><td>dbfs:/Volumes/workspace/skit_training/aarohi_training/Large_orders/CUSTOMERNAME=Alpha Cognac/</td><td>CUSTOMERNAME=Alpha Cognac/</td><td>0</td><td>1752511493077</td></tr><tr><td>dbfs:/Volumes/workspace/skit_training/aarohi_training/Large_orders/CUSTOMERNAME=Amica Models & Co./</td><td>CUSTOMERNAME=Amica Models & Co./</td><td>0</td><td>1752511493077</td></tr><tr><td>dbfs:/Volumes/workspace/skit_training/aarohi_training/Large_orders/CUSTOMERNAME=Anna%27s Decorations, Ltd/</td><td>CUSTOMERNAME=Anna%27s Decorations, Ltd/</td><td>0</td><td>1752511493077</td></tr><tr><td>dbfs:/Volumes/workspace/skit_training/aarohi_training/Large_orders/CUSTOMERNAME=Atelier graphique/</td><td>CUSTOMERNAME=Atelier graphique/</td><td>0</td><td>1752511493077</td></tr><tr><td>dbfs:/Volumes/workspace/skit_training/aarohi_training/Large_orders/CUSTOMERNAME=Australian Collectables, Ltd/</td><td>CUSTOMERNAME=Australian Collectables, Ltd/</td><td>0</td><td>1752511493077</td></tr><tr><td>dbfs:/Volumes/workspace/skit_training/aarohi_training/Large_orders/CUSTOMERNAME=Australian Collectors, Co./</td><td>CUSTOMERNAME=Australian Collectors, Co./</td><td>0</td><td>1752511493077</td></tr><tr><td>dbfs:/Volumes/workspace/skit_training/aarohi_training/Large_orders/CUSTOMERNAME=Australian Gift Network, Co/</td><td>CUSTOMERNAME=Australian Gift Network, Co/</td><td>0</td><td>1752511493077</td></tr><tr><td>dbfs:/Volumes/workspace/skit_training/aarohi_training/Large_orders/CUSTOMERNAME=Auto Assoc. & Cie./</td><td>CUSTOMERNAME=Auto Assoc. & Cie./</td><td>0</td><td>1752511493077</td></tr><tr><td>dbfs:/Volumes/workspace/skit_training/aarohi_training/Large_orders/CUSTOMERNAME=Auto Canal Petit/</td><td>CUSTOMERNAME=Auto Canal Petit/</td><td>0</td><td>1752511493077</td></tr><tr><td>dbfs:/Volumes/workspace/skit_training/aarohi_training/Large_orders/CUSTOMERNAME=Auto-Moto Classics Inc./</td><td>CUSTOMERNAME=Auto-Moto Classics Inc./</td><td>0</td><td>1752511493078</td></tr><tr><td>dbfs:/Volumes/workspace/skit_training/aarohi_training/Large_orders/CUSTOMERNAME=Baane Mini Imports/</td><td>CUSTOMERNAME=Baane Mini Imports/</td><td>0</td><td>1752511493078</td></tr><tr><td>dbfs:/Volumes/workspace/skit_training/aarohi_training/Large_orders/CUSTOMERNAME=Bavarian Collectables Imports, Co./</td><td>CUSTOMERNAME=Bavarian Collectables Imports, Co./</td><td>0</td><td>1752511493078</td></tr><tr><td>dbfs:/Volumes/workspace/skit_training/aarohi_training/Large_orders/CUSTOMERNAME=Blauer See Auto, Co./</td><td>CUSTOMERNAME=Blauer See Auto, Co./</td><td>0</td><td>1752511493078</td></tr><tr><td>dbfs:/Volumes/workspace/skit_training/aarohi_training/Large_orders/CUSTOMERNAME=CAF Imports/</td><td>CUSTOMERNAME=CAF Imports/</td><td>0</td><td>1752511493078</td></tr><tr><td>dbfs:/Volumes/workspace/skit_training/aarohi_training/Large_orders/CUSTOMERNAME=Cambridge Collectables Co./</td><td>CUSTOMERNAME=Cambridge Collectables Co./</td><td>0</td><td>1752511493078</td></tr><tr><td>dbfs:/Volumes/workspace/skit_training/aarohi_training/Large_orders/CUSTOMERNAME=Canadian Gift Exchange Network/</td><td>CUSTOMERNAME=Canadian Gift Exchange Network/</td><td>0</td><td>1752511493078</td></tr><tr><td>dbfs:/Volumes/workspace/skit_training/aarohi_training/Large_orders/CUSTOMERNAME=Classic Gift Ideas, Inc/</td><td>CUSTOMERNAME=Classic Gift Ideas, Inc/</td><td>0</td><td>1752511493078</td></tr><tr><td>dbfs:/Volumes/workspace/skit_training/aarohi_training/Large_orders/CUSTOMERNAME=Classic Legends Inc./</td><td>CUSTOMERNAME=Classic Legends Inc./</td><td>0</td><td>1752511493078</td></tr><tr><td>dbfs:/Volumes/workspace/skit_training/aarohi_training/Large_orders/CUSTOMERNAME=Clover Collections, Co./</td><td>CUSTOMERNAME=Clover Collections, Co./</td><td>0</td><td>1752511493078</td></tr><tr><td>dbfs:/Volumes/workspace/skit_training/aarohi_training/Large_orders/CUSTOMERNAME=Collectable Mini Designs Co./</td><td>CUSTOMERNAME=Collectable Mini Designs Co./</td><td>0</td><td>1752511493078</td></tr><tr><td>dbfs:/Volumes/workspace/skit_training/aarohi_training/Large_orders/CUSTOMERNAME=Collectables For Less Inc./</td><td>CUSTOMERNAME=Collectables For Less Inc./</td><td>0</td><td>1752511493078</td></tr><tr><td>dbfs:/Volumes/workspace/skit_training/aarohi_training/Large_orders/CUSTOMERNAME=Corporate Gift Ideas Co./</td><td>CUSTOMERNAME=Corporate Gift Ideas Co./</td><td>0</td><td>1752511493078</td></tr><tr><td>dbfs:/Volumes/workspace/skit_training/aarohi_training/Large_orders/CUSTOMERNAME=Corrida Auto Replicas, Ltd/</td><td>CUSTOMERNAME=Corrida Auto Replicas, Ltd/</td><td>0</td><td>1752511493078</td></tr><tr><td>dbfs:/Volumes/workspace/skit_training/aarohi_training/Large_orders/CUSTOMERNAME=Cruz & Sons Co./</td><td>CUSTOMERNAME=Cruz & Sons Co./</td><td>0</td><td>1752511493078</td></tr><tr><td>dbfs:/Volumes/workspace/skit_training/aarohi_training/Large_orders/CUSTOMERNAME=Daedalus Designs Imports/</td><td>CUSTOMERNAME=Daedalus Designs Imports/</td><td>0</td><td>1752511493078</td></tr><tr><td>dbfs:/Volumes/workspace/skit_training/aarohi_training/Large_orders/CUSTOMERNAME=Danish Wholesale Imports/</td><td>CUSTOMERNAME=Danish Wholesale Imports/</td><td>0</td><td>1752511493078</td></tr><tr><td>dbfs:/Volumes/workspace/skit_training/aarohi_training/Large_orders/CUSTOMERNAME=Diecast Classics Inc./</td><td>CUSTOMERNAME=Diecast Classics Inc./</td><td>0</td><td>1752511493078</td></tr><tr><td>dbfs:/Volumes/workspace/skit_training/aarohi_training/Large_orders/CUSTOMERNAME=Diecast Collectables/</td><td>CUSTOMERNAME=Diecast Collectables/</td><td>0</td><td>1752511493078</td></tr><tr><td>dbfs:/Volumes/workspace/skit_training/aarohi_training/Large_orders/CUSTOMERNAME=Double Decker Gift Stores, Ltd/</td><td>CUSTOMERNAME=Double Decker Gift Stores, Ltd/</td><td>0</td><td>1752511493078</td></tr><tr><td>dbfs:/Volumes/workspace/skit_training/aarohi_training/Large_orders/CUSTOMERNAME=Dragon Souveniers, Ltd./</td><td>CUSTOMERNAME=Dragon Souveniers, Ltd./</td><td>0</td><td>1752511493078</td></tr><tr><td>dbfs:/Volumes/workspace/skit_training/aarohi_training/Large_orders/CUSTOMERNAME=Enaco Distributors/</td><td>CUSTOMERNAME=Enaco Distributors/</td><td>0</td><td>1752511493078</td></tr><tr><td>dbfs:/Volumes/workspace/skit_training/aarohi_training/Large_orders/CUSTOMERNAME=Euro Shopping Channel/</td><td>CUSTOMERNAME=Euro Shopping Channel/</td><td>0</td><td>1752511493078</td></tr><tr><td>dbfs:/Volumes/workspace/skit_training/aarohi_training/Large_orders/CUSTOMERNAME=FunGiftIdeas.com/</td><td>CUSTOMERNAME=FunGiftIdeas.com/</td><td>0</td><td>1752511493078</td></tr><tr><td>dbfs:/Volumes/workspace/skit_training/aarohi_training/Large_orders/CUSTOMERNAME=Gift Depot Inc./</td><td>CUSTOMERNAME=Gift Depot Inc./</td><td>0</td><td>1752511493079</td></tr><tr><td>dbfs:/Volumes/workspace/skit_training/aarohi_training/Large_orders/CUSTOMERNAME=Gift Ideas Corp./</td><td>CUSTOMERNAME=Gift Ideas Corp./</td><td>0</td><td>1752511493079</td></tr><tr><td>dbfs:/Volumes/workspace/skit_training/aarohi_training/Large_orders/CUSTOMERNAME=Gifts4AllAges.com/</td><td>CUSTOMERNAME=Gifts4AllAges.com/</td><td>0</td><td>1752511493079</td></tr><tr><td>dbfs:/Volumes/workspace/skit_training/aarohi_training/Large_orders/CUSTOMERNAME=Handji Gifts& Co/</td><td>CUSTOMERNAME=Handji Gifts& Co/</td><td>0</td><td>1752511493079</td></tr><tr><td>dbfs:/Volumes/workspace/skit_training/aarohi_training/Large_orders/CUSTOMERNAME=Heintze Collectables/</td><td>CUSTOMERNAME=Heintze Collectables/</td><td>0</td><td>1752511493079</td></tr><tr><td>dbfs:/Volumes/workspace/skit_training/aarohi_training/Large_orders/CUSTOMERNAME=Herkku Gifts/</td><td>CUSTOMERNAME=Herkku Gifts/</td><td>0</td><td>1752511493079</td></tr><tr><td>dbfs:/Volumes/workspace/skit_training/aarohi_training/Large_orders/CUSTOMERNAME=Iberia Gift Imports, Corp./</td><td>CUSTOMERNAME=Iberia Gift Imports, Corp./</td><td>0</td><td>1752511493079</td></tr><tr><td>dbfs:/Volumes/workspace/skit_training/aarohi_training/Large_orders/CUSTOMERNAME=L%27ordine Souveniers/</td><td>CUSTOMERNAME=L%27ordine Souveniers/</td><td>0</td><td>1752511493079</td></tr><tr><td>dbfs:/Volumes/workspace/skit_training/aarohi_training/Large_orders/CUSTOMERNAME=La Corne D%27abondance, Co./</td><td>CUSTOMERNAME=La Corne D%27abondance, Co./</td><td>0</td><td>1752511493079</td></tr><tr><td>dbfs:/Volumes/workspace/skit_training/aarohi_training/Large_orders/CUSTOMERNAME=La Rochelle Gifts/</td><td>CUSTOMERNAME=La Rochelle Gifts/</td><td>0</td><td>1752511493079</td></tr><tr><td>dbfs:/Volumes/workspace/skit_training/aarohi_training/Large_orders/CUSTOMERNAME=Land of Toys Inc./</td><td>CUSTOMERNAME=Land of Toys Inc./</td><td>0</td><td>1752511493079</td></tr><tr><td>dbfs:/Volumes/workspace/skit_training/aarohi_training/Large_orders/CUSTOMERNAME=Lyon Souveniers/</td><td>CUSTOMERNAME=Lyon Souveniers/</td><td>0</td><td>1752511493079</td></tr><tr><td>dbfs:/Volumes/workspace/skit_training/aarohi_training/Large_orders/CUSTOMERNAME=Marseille Mini Autos/</td><td>CUSTOMERNAME=Marseille Mini Autos/</td><td>0</td><td>1752511493079</td></tr><tr><td>dbfs:/Volumes/workspace/skit_training/aarohi_training/Large_orders/CUSTOMERNAME=Marta%27s Replicas Co./</td><td>CUSTOMERNAME=Marta%27s Replicas Co./</td><td>0</td><td>1752511493079</td></tr><tr><td>dbfs:/Volumes/workspace/skit_training/aarohi_training/Large_orders/CUSTOMERNAME=Men %27R%27 US Retailers, Ltd./</td><td>CUSTOMERNAME=Men %27R%27 US Retailers, Ltd./</td><td>0</td><td>1752511493079</td></tr><tr><td>dbfs:/Volumes/workspace/skit_training/aarohi_training/Large_orders/CUSTOMERNAME=Microscale Inc./</td><td>CUSTOMERNAME=Microscale Inc./</td><td>0</td><td>1752511493079</td></tr><tr><td>dbfs:/Volumes/workspace/skit_training/aarohi_training/Large_orders/CUSTOMERNAME=Mini Auto Werke/</td><td>CUSTOMERNAME=Mini Auto Werke/</td><td>0</td><td>1752511493079</td></tr><tr><td>dbfs:/Volumes/workspace/skit_training/aarohi_training/Large_orders/CUSTOMERNAME=Mini Caravy/</td><td>CUSTOMERNAME=Mini Caravy/</td><td>0</td><td>1752511493079</td></tr><tr><td>dbfs:/Volumes/workspace/skit_training/aarohi_training/Large_orders/CUSTOMERNAME=Mini Classics/</td><td>CUSTOMERNAME=Mini Classics/</td><td>0</td><td>1752511493079</td></tr><tr><td>dbfs:/Volumes/workspace/skit_training/aarohi_training/Large_orders/CUSTOMERNAME=Mini Creations Ltd./</td><td>CUSTOMERNAME=Mini Creations Ltd./</td><td>0</td><td>1752511493079</td></tr><tr><td>dbfs:/Volumes/workspace/skit_training/aarohi_training/Large_orders/CUSTOMERNAME=Mini Gifts Distributors Ltd./</td><td>CUSTOMERNAME=Mini Gifts Distributors Ltd./</td><td>0</td><td>1752511493079</td></tr><tr><td>dbfs:/Volumes/workspace/skit_training/aarohi_training/Large_orders/CUSTOMERNAME=Mini Wheels Co./</td><td>CUSTOMERNAME=Mini Wheels Co./</td><td>0</td><td>1752511493079</td></tr><tr><td>dbfs:/Volumes/workspace/skit_training/aarohi_training/Large_orders/CUSTOMERNAME=Motor Mint Distributors Inc./</td><td>CUSTOMERNAME=Motor Mint Distributors Inc./</td><td>0</td><td>1752511493079</td></tr><tr><td>dbfs:/Volumes/workspace/skit_training/aarohi_training/Large_orders/CUSTOMERNAME=Muscle Machine Inc/</td><td>CUSTOMERNAME=Muscle Machine Inc/</td><td>0</td><td>1752511493080</td></tr><tr><td>dbfs:/Volumes/workspace/skit_training/aarohi_training/Large_orders/CUSTOMERNAME=Norway Gifts By Mail, Co./</td><td>CUSTOMERNAME=Norway Gifts By Mail, Co./</td><td>0</td><td>1752511493080</td></tr><tr><td>dbfs:/Volumes/workspace/skit_training/aarohi_training/Large_orders/CUSTOMERNAME=Online Diecast Creations Co./</td><td>CUSTOMERNAME=Online Diecast Creations Co./</td><td>0</td><td>1752511493080</td></tr><tr><td>dbfs:/Volumes/workspace/skit_training/aarohi_training/Large_orders/CUSTOMERNAME=Online Mini Collectables/</td><td>CUSTOMERNAME=Online Mini Collectables/</td><td>0</td><td>1752511493080</td></tr><tr><td>dbfs:/Volumes/workspace/skit_training/aarohi_training/Large_orders/CUSTOMERNAME=Osaka Souveniers Co./</td><td>CUSTOMERNAME=Osaka Souveniers Co./</td><td>0</td><td>1752511493080</td></tr><tr><td>dbfs:/Volumes/workspace/skit_training/aarohi_training/Large_orders/CUSTOMERNAME=Oulu Toy Supplies, Inc./</td><td>CUSTOMERNAME=Oulu Toy Supplies, Inc./</td><td>0</td><td>1752511493080</td></tr><tr><td>dbfs:/Volumes/workspace/skit_training/aarohi_training/Large_orders/CUSTOMERNAME=Petit Auto/</td><td>CUSTOMERNAME=Petit Auto/</td><td>0</td><td>1752511493080</td></tr><tr><td>dbfs:/Volumes/workspace/skit_training/aarohi_training/Large_orders/CUSTOMERNAME=Quebec Home Shopping Network/</td><td>CUSTOMERNAME=Quebec Home Shopping Network/</td><td>0</td><td>1752511493080</td></tr><tr><td>dbfs:/Volumes/workspace/skit_training/aarohi_training/Large_orders/CUSTOMERNAME=Reims Collectables/</td><td>CUSTOMERNAME=Reims Collectables/</td><td>0</td><td>1752511493080</td></tr><tr><td>dbfs:/Volumes/workspace/skit_training/aarohi_training/Large_orders/CUSTOMERNAME=Rovelli Gifts/</td><td>CUSTOMERNAME=Rovelli Gifts/</td><td>0</td><td>1752511493080</td></tr><tr><td>dbfs:/Volumes/workspace/skit_training/aarohi_training/Large_orders/CUSTOMERNAME=Royal Canadian Collectables, Ltd./</td><td>CUSTOMERNAME=Royal Canadian Collectables, Ltd./</td><td>0</td><td>1752511493080</td></tr><tr><td>dbfs:/Volumes/workspace/skit_training/aarohi_training/Large_orders/CUSTOMERNAME=Royale Belge/</td><td>CUSTOMERNAME=Royale Belge/</td><td>0</td><td>1752511493080</td></tr><tr><td>dbfs:/Volumes/workspace/skit_training/aarohi_training/Large_orders/CUSTOMERNAME=Salzburg Collectables/</td><td>CUSTOMERNAME=Salzburg Collectables/</td><td>0</td><td>1752511493080</td></tr><tr><td>dbfs:/Volumes/workspace/skit_training/aarohi_training/Large_orders/CUSTOMERNAME=Saveley & Henriot, Co./</td><td>CUSTOMERNAME=Saveley & Henriot, Co./</td><td>0</td><td>1752511493080</td></tr><tr><td>dbfs:/Volumes/workspace/skit_training/aarohi_training/Large_orders/CUSTOMERNAME=Scandinavian Gift Ideas/</td><td>CUSTOMERNAME=Scandinavian Gift Ideas/</td><td>0</td><td>1752511493080</td></tr><tr><td>dbfs:/Volumes/workspace/skit_training/aarohi_training/Large_orders/CUSTOMERNAME=Signal Collectibles Ltd./</td><td>CUSTOMERNAME=Signal Collectibles Ltd./</td><td>0</td><td>1752511493080</td></tr><tr><td>dbfs:/Volumes/workspace/skit_training/aarohi_training/Large_orders/CUSTOMERNAME=Signal Gift Stores/</td><td>CUSTOMERNAME=Signal Gift Stores/</td><td>0</td><td>1752511493080</td></tr><tr><td>dbfs:/Volumes/workspace/skit_training/aarohi_training/Large_orders/CUSTOMERNAME=Souveniers And Things Co./</td><td>CUSTOMERNAME=Souveniers And Things Co./</td><td>0</td><td>1752511493080</td></tr><tr><td>dbfs:/Volumes/workspace/skit_training/aarohi_training/Large_orders/CUSTOMERNAME=Stylish Desk Decors, Co./</td><td>CUSTOMERNAME=Stylish Desk Decors, Co./</td><td>0</td><td>1752511493080</td></tr><tr><td>dbfs:/Volumes/workspace/skit_training/aarohi_training/Large_orders/CUSTOMERNAME=Suominen Souveniers/</td><td>CUSTOMERNAME=Suominen Souveniers/</td><td>0</td><td>1752511493080</td></tr><tr><td>dbfs:/Volumes/workspace/skit_training/aarohi_training/Large_orders/CUSTOMERNAME=Super Scale Inc./</td><td>CUSTOMERNAME=Super Scale Inc./</td><td>0</td><td>1752511493080</td></tr><tr><td>dbfs:/Volumes/workspace/skit_training/aarohi_training/Large_orders/CUSTOMERNAME=Technics Stores Inc./</td><td>CUSTOMERNAME=Technics Stores Inc./</td><td>0</td><td>1752511493080</td></tr><tr><td>dbfs:/Volumes/workspace/skit_training/aarohi_training/Large_orders/CUSTOMERNAME=Tekni Collectables Inc./</td><td>CUSTOMERNAME=Tekni Collectables Inc./</td><td>0</td><td>1752511493081</td></tr><tr><td>dbfs:/Volumes/workspace/skit_training/aarohi_training/Large_orders/CUSTOMERNAME=The Sharp Gifts Warehouse/</td><td>CUSTOMERNAME=The Sharp Gifts Warehouse/</td><td>0</td><td>1752511493081</td></tr><tr><td>dbfs:/Volumes/workspace/skit_training/aarohi_training/Large_orders/CUSTOMERNAME=Tokyo Collectables, Ltd/</td><td>CUSTOMERNAME=Tokyo Collectables, Ltd/</td><td>0</td><td>1752511493081</td></tr><tr><td>dbfs:/Volumes/workspace/skit_training/aarohi_training/Large_orders/CUSTOMERNAME=Toms Spezialitten, Ltd/</td><td>CUSTOMERNAME=Toms Spezialitten, Ltd/</td><td>0</td><td>1752511493081</td></tr><tr><td>dbfs:/Volumes/workspace/skit_training/aarohi_training/Large_orders/CUSTOMERNAME=Toys of Finland, Co./</td><td>CUSTOMERNAME=Toys of Finland, Co./</td><td>0</td><td>1752511493081</td></tr><tr><td>dbfs:/Volumes/workspace/skit_training/aarohi_training/Large_orders/CUSTOMERNAME=Toys4GrownUps.com/</td><td>CUSTOMERNAME=Toys4GrownUps.com/</td><td>0</td><td>1752511493081</td></tr><tr><td>dbfs:/Volumes/workspace/skit_training/aarohi_training/Large_orders/CUSTOMERNAME=UK Collectables, Ltd./</td><td>CUSTOMERNAME=UK Collectables, Ltd./</td><td>0</td><td>1752511493081</td></tr><tr><td>dbfs:/Volumes/workspace/skit_training/aarohi_training/Large_orders/CUSTOMERNAME=Vida Sport, Ltd/</td><td>CUSTOMERNAME=Vida Sport, Ltd/</td><td>0</td><td>1752511493081</td></tr><tr><td>dbfs:/Volumes/workspace/skit_training/aarohi_training/Large_orders/CUSTOMERNAME=Vitachrome Inc./</td><td>CUSTOMERNAME=Vitachrome Inc./</td><td>0</td><td>1752511493081</td></tr><tr><td>dbfs:/Volumes/workspace/skit_training/aarohi_training/Large_orders/CUSTOMERNAME=Volvo Model Replicas, Co/</td><td>CUSTOMERNAME=Volvo Model Replicas, Co/</td><td>0</td><td>1752511493081</td></tr><tr><td>dbfs:/Volumes/workspace/skit_training/aarohi_training/Large_orders/CUSTOMERNAME=West Coast Collectables Co./</td><td>CUSTOMERNAME=West Coast Collectables Co./</td><td>0</td><td>1752511493081</td></tr><tr><td>dbfs:/Volumes/workspace/skit_training/aarohi_training/Large_orders/CUSTOMERNAME=giftsbymail.co.uk/</td><td>CUSTOMERNAME=giftsbymail.co.uk/</td><td>0</td><td>1752511493081</td></tr><tr><td>dbfs:/Volumes/workspace/skit_training/aarohi_training/Large_orders/_delta_log/</td><td>_delta_log/</td><td>0</td><td>1752511493081</td></tr></tbody></table></div>"
      ]
     },
     "metadata": {
      "application/vnd.databricks.v1+output": {
       "addedWidgets": {},
       "aggData": [],
       "aggError": "",
       "aggOverflow": false,
       "aggSchema": [],
       "aggSeriesLimitReached": false,
       "aggType": "",
       "arguments": {},
       "columnCustomDisplayInfos": {},
       "data": [
        [
         "dbfs:/Volumes/workspace/skit_training/aarohi_training/Large_orders/CUSTOMERNAME=AV Stores, Co./",
         "CUSTOMERNAME=AV Stores, Co./",
         0,
         1752511493077
        ],
        [
         "dbfs:/Volumes/workspace/skit_training/aarohi_training/Large_orders/CUSTOMERNAME=Alpha Cognac/",
         "CUSTOMERNAME=Alpha Cognac/",
         0,
         1752511493077
        ],
        [
         "dbfs:/Volumes/workspace/skit_training/aarohi_training/Large_orders/CUSTOMERNAME=Amica Models & Co./",
         "CUSTOMERNAME=Amica Models & Co./",
         0,
         1752511493077
        ],
        [
         "dbfs:/Volumes/workspace/skit_training/aarohi_training/Large_orders/CUSTOMERNAME=Anna%27s Decorations, Ltd/",
         "CUSTOMERNAME=Anna%27s Decorations, Ltd/",
         0,
         1752511493077
        ],
        [
         "dbfs:/Volumes/workspace/skit_training/aarohi_training/Large_orders/CUSTOMERNAME=Atelier graphique/",
         "CUSTOMERNAME=Atelier graphique/",
         0,
         1752511493077
        ],
        [
         "dbfs:/Volumes/workspace/skit_training/aarohi_training/Large_orders/CUSTOMERNAME=Australian Collectables, Ltd/",
         "CUSTOMERNAME=Australian Collectables, Ltd/",
         0,
         1752511493077
        ],
        [
         "dbfs:/Volumes/workspace/skit_training/aarohi_training/Large_orders/CUSTOMERNAME=Australian Collectors, Co./",
         "CUSTOMERNAME=Australian Collectors, Co./",
         0,
         1752511493077
        ],
        [
         "dbfs:/Volumes/workspace/skit_training/aarohi_training/Large_orders/CUSTOMERNAME=Australian Gift Network, Co/",
         "CUSTOMERNAME=Australian Gift Network, Co/",
         0,
         1752511493077
        ],
        [
         "dbfs:/Volumes/workspace/skit_training/aarohi_training/Large_orders/CUSTOMERNAME=Auto Assoc. & Cie./",
         "CUSTOMERNAME=Auto Assoc. & Cie./",
         0,
         1752511493077
        ],
        [
         "dbfs:/Volumes/workspace/skit_training/aarohi_training/Large_orders/CUSTOMERNAME=Auto Canal Petit/",
         "CUSTOMERNAME=Auto Canal Petit/",
         0,
         1752511493077
        ],
        [
         "dbfs:/Volumes/workspace/skit_training/aarohi_training/Large_orders/CUSTOMERNAME=Auto-Moto Classics Inc./",
         "CUSTOMERNAME=Auto-Moto Classics Inc./",
         0,
         1752511493078
        ],
        [
         "dbfs:/Volumes/workspace/skit_training/aarohi_training/Large_orders/CUSTOMERNAME=Baane Mini Imports/",
         "CUSTOMERNAME=Baane Mini Imports/",
         0,
         1752511493078
        ],
        [
         "dbfs:/Volumes/workspace/skit_training/aarohi_training/Large_orders/CUSTOMERNAME=Bavarian Collectables Imports, Co./",
         "CUSTOMERNAME=Bavarian Collectables Imports, Co./",
         0,
         1752511493078
        ],
        [
         "dbfs:/Volumes/workspace/skit_training/aarohi_training/Large_orders/CUSTOMERNAME=Blauer See Auto, Co./",
         "CUSTOMERNAME=Blauer See Auto, Co./",
         0,
         1752511493078
        ],
        [
         "dbfs:/Volumes/workspace/skit_training/aarohi_training/Large_orders/CUSTOMERNAME=CAF Imports/",
         "CUSTOMERNAME=CAF Imports/",
         0,
         1752511493078
        ],
        [
         "dbfs:/Volumes/workspace/skit_training/aarohi_training/Large_orders/CUSTOMERNAME=Cambridge Collectables Co./",
         "CUSTOMERNAME=Cambridge Collectables Co./",
         0,
         1752511493078
        ],
        [
         "dbfs:/Volumes/workspace/skit_training/aarohi_training/Large_orders/CUSTOMERNAME=Canadian Gift Exchange Network/",
         "CUSTOMERNAME=Canadian Gift Exchange Network/",
         0,
         1752511493078
        ],
        [
         "dbfs:/Volumes/workspace/skit_training/aarohi_training/Large_orders/CUSTOMERNAME=Classic Gift Ideas, Inc/",
         "CUSTOMERNAME=Classic Gift Ideas, Inc/",
         0,
         1752511493078
        ],
        [
         "dbfs:/Volumes/workspace/skit_training/aarohi_training/Large_orders/CUSTOMERNAME=Classic Legends Inc./",
         "CUSTOMERNAME=Classic Legends Inc./",
         0,
         1752511493078
        ],
        [
         "dbfs:/Volumes/workspace/skit_training/aarohi_training/Large_orders/CUSTOMERNAME=Clover Collections, Co./",
         "CUSTOMERNAME=Clover Collections, Co./",
         0,
         1752511493078
        ],
        [
         "dbfs:/Volumes/workspace/skit_training/aarohi_training/Large_orders/CUSTOMERNAME=Collectable Mini Designs Co./",
         "CUSTOMERNAME=Collectable Mini Designs Co./",
         0,
         1752511493078
        ],
        [
         "dbfs:/Volumes/workspace/skit_training/aarohi_training/Large_orders/CUSTOMERNAME=Collectables For Less Inc./",
         "CUSTOMERNAME=Collectables For Less Inc./",
         0,
         1752511493078
        ],
        [
         "dbfs:/Volumes/workspace/skit_training/aarohi_training/Large_orders/CUSTOMERNAME=Corporate Gift Ideas Co./",
         "CUSTOMERNAME=Corporate Gift Ideas Co./",
         0,
         1752511493078
        ],
        [
         "dbfs:/Volumes/workspace/skit_training/aarohi_training/Large_orders/CUSTOMERNAME=Corrida Auto Replicas, Ltd/",
         "CUSTOMERNAME=Corrida Auto Replicas, Ltd/",
         0,
         1752511493078
        ],
        [
         "dbfs:/Volumes/workspace/skit_training/aarohi_training/Large_orders/CUSTOMERNAME=Cruz & Sons Co./",
         "CUSTOMERNAME=Cruz & Sons Co./",
         0,
         1752511493078
        ],
        [
         "dbfs:/Volumes/workspace/skit_training/aarohi_training/Large_orders/CUSTOMERNAME=Daedalus Designs Imports/",
         "CUSTOMERNAME=Daedalus Designs Imports/",
         0,
         1752511493078
        ],
        [
         "dbfs:/Volumes/workspace/skit_training/aarohi_training/Large_orders/CUSTOMERNAME=Danish Wholesale Imports/",
         "CUSTOMERNAME=Danish Wholesale Imports/",
         0,
         1752511493078
        ],
        [
         "dbfs:/Volumes/workspace/skit_training/aarohi_training/Large_orders/CUSTOMERNAME=Diecast Classics Inc./",
         "CUSTOMERNAME=Diecast Classics Inc./",
         0,
         1752511493078
        ],
        [
         "dbfs:/Volumes/workspace/skit_training/aarohi_training/Large_orders/CUSTOMERNAME=Diecast Collectables/",
         "CUSTOMERNAME=Diecast Collectables/",
         0,
         1752511493078
        ],
        [
         "dbfs:/Volumes/workspace/skit_training/aarohi_training/Large_orders/CUSTOMERNAME=Double Decker Gift Stores, Ltd/",
         "CUSTOMERNAME=Double Decker Gift Stores, Ltd/",
         0,
         1752511493078
        ],
        [
         "dbfs:/Volumes/workspace/skit_training/aarohi_training/Large_orders/CUSTOMERNAME=Dragon Souveniers, Ltd./",
         "CUSTOMERNAME=Dragon Souveniers, Ltd./",
         0,
         1752511493078
        ],
        [
         "dbfs:/Volumes/workspace/skit_training/aarohi_training/Large_orders/CUSTOMERNAME=Enaco Distributors/",
         "CUSTOMERNAME=Enaco Distributors/",
         0,
         1752511493078
        ],
        [
         "dbfs:/Volumes/workspace/skit_training/aarohi_training/Large_orders/CUSTOMERNAME=Euro Shopping Channel/",
         "CUSTOMERNAME=Euro Shopping Channel/",
         0,
         1752511493078
        ],
        [
         "dbfs:/Volumes/workspace/skit_training/aarohi_training/Large_orders/CUSTOMERNAME=FunGiftIdeas.com/",
         "CUSTOMERNAME=FunGiftIdeas.com/",
         0,
         1752511493078
        ],
        [
         "dbfs:/Volumes/workspace/skit_training/aarohi_training/Large_orders/CUSTOMERNAME=Gift Depot Inc./",
         "CUSTOMERNAME=Gift Depot Inc./",
         0,
         1752511493079
        ],
        [
         "dbfs:/Volumes/workspace/skit_training/aarohi_training/Large_orders/CUSTOMERNAME=Gift Ideas Corp./",
         "CUSTOMERNAME=Gift Ideas Corp./",
         0,
         1752511493079
        ],
        [
         "dbfs:/Volumes/workspace/skit_training/aarohi_training/Large_orders/CUSTOMERNAME=Gifts4AllAges.com/",
         "CUSTOMERNAME=Gifts4AllAges.com/",
         0,
         1752511493079
        ],
        [
         "dbfs:/Volumes/workspace/skit_training/aarohi_training/Large_orders/CUSTOMERNAME=Handji Gifts& Co/",
         "CUSTOMERNAME=Handji Gifts& Co/",
         0,
         1752511493079
        ],
        [
         "dbfs:/Volumes/workspace/skit_training/aarohi_training/Large_orders/CUSTOMERNAME=Heintze Collectables/",
         "CUSTOMERNAME=Heintze Collectables/",
         0,
         1752511493079
        ],
        [
         "dbfs:/Volumes/workspace/skit_training/aarohi_training/Large_orders/CUSTOMERNAME=Herkku Gifts/",
         "CUSTOMERNAME=Herkku Gifts/",
         0,
         1752511493079
        ],
        [
         "dbfs:/Volumes/workspace/skit_training/aarohi_training/Large_orders/CUSTOMERNAME=Iberia Gift Imports, Corp./",
         "CUSTOMERNAME=Iberia Gift Imports, Corp./",
         0,
         1752511493079
        ],
        [
         "dbfs:/Volumes/workspace/skit_training/aarohi_training/Large_orders/CUSTOMERNAME=L%27ordine Souveniers/",
         "CUSTOMERNAME=L%27ordine Souveniers/",
         0,
         1752511493079
        ],
        [
         "dbfs:/Volumes/workspace/skit_training/aarohi_training/Large_orders/CUSTOMERNAME=La Corne D%27abondance, Co./",
         "CUSTOMERNAME=La Corne D%27abondance, Co./",
         0,
         1752511493079
        ],
        [
         "dbfs:/Volumes/workspace/skit_training/aarohi_training/Large_orders/CUSTOMERNAME=La Rochelle Gifts/",
         "CUSTOMERNAME=La Rochelle Gifts/",
         0,
         1752511493079
        ],
        [
         "dbfs:/Volumes/workspace/skit_training/aarohi_training/Large_orders/CUSTOMERNAME=Land of Toys Inc./",
         "CUSTOMERNAME=Land of Toys Inc./",
         0,
         1752511493079
        ],
        [
         "dbfs:/Volumes/workspace/skit_training/aarohi_training/Large_orders/CUSTOMERNAME=Lyon Souveniers/",
         "CUSTOMERNAME=Lyon Souveniers/",
         0,
         1752511493079
        ],
        [
         "dbfs:/Volumes/workspace/skit_training/aarohi_training/Large_orders/CUSTOMERNAME=Marseille Mini Autos/",
         "CUSTOMERNAME=Marseille Mini Autos/",
         0,
         1752511493079
        ],
        [
         "dbfs:/Volumes/workspace/skit_training/aarohi_training/Large_orders/CUSTOMERNAME=Marta%27s Replicas Co./",
         "CUSTOMERNAME=Marta%27s Replicas Co./",
         0,
         1752511493079
        ],
        [
         "dbfs:/Volumes/workspace/skit_training/aarohi_training/Large_orders/CUSTOMERNAME=Men %27R%27 US Retailers, Ltd./",
         "CUSTOMERNAME=Men %27R%27 US Retailers, Ltd./",
         0,
         1752511493079
        ],
        [
         "dbfs:/Volumes/workspace/skit_training/aarohi_training/Large_orders/CUSTOMERNAME=Microscale Inc./",
         "CUSTOMERNAME=Microscale Inc./",
         0,
         1752511493079
        ],
        [
         "dbfs:/Volumes/workspace/skit_training/aarohi_training/Large_orders/CUSTOMERNAME=Mini Auto Werke/",
         "CUSTOMERNAME=Mini Auto Werke/",
         0,
         1752511493079
        ],
        [
         "dbfs:/Volumes/workspace/skit_training/aarohi_training/Large_orders/CUSTOMERNAME=Mini Caravy/",
         "CUSTOMERNAME=Mini Caravy/",
         0,
         1752511493079
        ],
        [
         "dbfs:/Volumes/workspace/skit_training/aarohi_training/Large_orders/CUSTOMERNAME=Mini Classics/",
         "CUSTOMERNAME=Mini Classics/",
         0,
         1752511493079
        ],
        [
         "dbfs:/Volumes/workspace/skit_training/aarohi_training/Large_orders/CUSTOMERNAME=Mini Creations Ltd./",
         "CUSTOMERNAME=Mini Creations Ltd./",
         0,
         1752511493079
        ],
        [
         "dbfs:/Volumes/workspace/skit_training/aarohi_training/Large_orders/CUSTOMERNAME=Mini Gifts Distributors Ltd./",
         "CUSTOMERNAME=Mini Gifts Distributors Ltd./",
         0,
         1752511493079
        ],
        [
         "dbfs:/Volumes/workspace/skit_training/aarohi_training/Large_orders/CUSTOMERNAME=Mini Wheels Co./",
         "CUSTOMERNAME=Mini Wheels Co./",
         0,
         1752511493079
        ],
        [
         "dbfs:/Volumes/workspace/skit_training/aarohi_training/Large_orders/CUSTOMERNAME=Motor Mint Distributors Inc./",
         "CUSTOMERNAME=Motor Mint Distributors Inc./",
         0,
         1752511493079
        ],
        [
         "dbfs:/Volumes/workspace/skit_training/aarohi_training/Large_orders/CUSTOMERNAME=Muscle Machine Inc/",
         "CUSTOMERNAME=Muscle Machine Inc/",
         0,
         1752511493080
        ],
        [
         "dbfs:/Volumes/workspace/skit_training/aarohi_training/Large_orders/CUSTOMERNAME=Norway Gifts By Mail, Co./",
         "CUSTOMERNAME=Norway Gifts By Mail, Co./",
         0,
         1752511493080
        ],
        [
         "dbfs:/Volumes/workspace/skit_training/aarohi_training/Large_orders/CUSTOMERNAME=Online Diecast Creations Co./",
         "CUSTOMERNAME=Online Diecast Creations Co./",
         0,
         1752511493080
        ],
        [
         "dbfs:/Volumes/workspace/skit_training/aarohi_training/Large_orders/CUSTOMERNAME=Online Mini Collectables/",
         "CUSTOMERNAME=Online Mini Collectables/",
         0,
         1752511493080
        ],
        [
         "dbfs:/Volumes/workspace/skit_training/aarohi_training/Large_orders/CUSTOMERNAME=Osaka Souveniers Co./",
         "CUSTOMERNAME=Osaka Souveniers Co./",
         0,
         1752511493080
        ],
        [
         "dbfs:/Volumes/workspace/skit_training/aarohi_training/Large_orders/CUSTOMERNAME=Oulu Toy Supplies, Inc./",
         "CUSTOMERNAME=Oulu Toy Supplies, Inc./",
         0,
         1752511493080
        ],
        [
         "dbfs:/Volumes/workspace/skit_training/aarohi_training/Large_orders/CUSTOMERNAME=Petit Auto/",
         "CUSTOMERNAME=Petit Auto/",
         0,
         1752511493080
        ],
        [
         "dbfs:/Volumes/workspace/skit_training/aarohi_training/Large_orders/CUSTOMERNAME=Quebec Home Shopping Network/",
         "CUSTOMERNAME=Quebec Home Shopping Network/",
         0,
         1752511493080
        ],
        [
         "dbfs:/Volumes/workspace/skit_training/aarohi_training/Large_orders/CUSTOMERNAME=Reims Collectables/",
         "CUSTOMERNAME=Reims Collectables/",
         0,
         1752511493080
        ],
        [
         "dbfs:/Volumes/workspace/skit_training/aarohi_training/Large_orders/CUSTOMERNAME=Rovelli Gifts/",
         "CUSTOMERNAME=Rovelli Gifts/",
         0,
         1752511493080
        ],
        [
         "dbfs:/Volumes/workspace/skit_training/aarohi_training/Large_orders/CUSTOMERNAME=Royal Canadian Collectables, Ltd./",
         "CUSTOMERNAME=Royal Canadian Collectables, Ltd./",
         0,
         1752511493080
        ],
        [
         "dbfs:/Volumes/workspace/skit_training/aarohi_training/Large_orders/CUSTOMERNAME=Royale Belge/",
         "CUSTOMERNAME=Royale Belge/",
         0,
         1752511493080
        ],
        [
         "dbfs:/Volumes/workspace/skit_training/aarohi_training/Large_orders/CUSTOMERNAME=Salzburg Collectables/",
         "CUSTOMERNAME=Salzburg Collectables/",
         0,
         1752511493080
        ],
        [
         "dbfs:/Volumes/workspace/skit_training/aarohi_training/Large_orders/CUSTOMERNAME=Saveley & Henriot, Co./",
         "CUSTOMERNAME=Saveley & Henriot, Co./",
         0,
         1752511493080
        ],
        [
         "dbfs:/Volumes/workspace/skit_training/aarohi_training/Large_orders/CUSTOMERNAME=Scandinavian Gift Ideas/",
         "CUSTOMERNAME=Scandinavian Gift Ideas/",
         0,
         1752511493080
        ],
        [
         "dbfs:/Volumes/workspace/skit_training/aarohi_training/Large_orders/CUSTOMERNAME=Signal Collectibles Ltd./",
         "CUSTOMERNAME=Signal Collectibles Ltd./",
         0,
         1752511493080
        ],
        [
         "dbfs:/Volumes/workspace/skit_training/aarohi_training/Large_orders/CUSTOMERNAME=Signal Gift Stores/",
         "CUSTOMERNAME=Signal Gift Stores/",
         0,
         1752511493080
        ],
        [
         "dbfs:/Volumes/workspace/skit_training/aarohi_training/Large_orders/CUSTOMERNAME=Souveniers And Things Co./",
         "CUSTOMERNAME=Souveniers And Things Co./",
         0,
         1752511493080
        ],
        [
         "dbfs:/Volumes/workspace/skit_training/aarohi_training/Large_orders/CUSTOMERNAME=Stylish Desk Decors, Co./",
         "CUSTOMERNAME=Stylish Desk Decors, Co./",
         0,
         1752511493080
        ],
        [
         "dbfs:/Volumes/workspace/skit_training/aarohi_training/Large_orders/CUSTOMERNAME=Suominen Souveniers/",
         "CUSTOMERNAME=Suominen Souveniers/",
         0,
         1752511493080
        ],
        [
         "dbfs:/Volumes/workspace/skit_training/aarohi_training/Large_orders/CUSTOMERNAME=Super Scale Inc./",
         "CUSTOMERNAME=Super Scale Inc./",
         0,
         1752511493080
        ],
        [
         "dbfs:/Volumes/workspace/skit_training/aarohi_training/Large_orders/CUSTOMERNAME=Technics Stores Inc./",
         "CUSTOMERNAME=Technics Stores Inc./",
         0,
         1752511493080
        ],
        [
         "dbfs:/Volumes/workspace/skit_training/aarohi_training/Large_orders/CUSTOMERNAME=Tekni Collectables Inc./",
         "CUSTOMERNAME=Tekni Collectables Inc./",
         0,
         1752511493081
        ],
        [
         "dbfs:/Volumes/workspace/skit_training/aarohi_training/Large_orders/CUSTOMERNAME=The Sharp Gifts Warehouse/",
         "CUSTOMERNAME=The Sharp Gifts Warehouse/",
         0,
         1752511493081
        ],
        [
         "dbfs:/Volumes/workspace/skit_training/aarohi_training/Large_orders/CUSTOMERNAME=Tokyo Collectables, Ltd/",
         "CUSTOMERNAME=Tokyo Collectables, Ltd/",
         0,
         1752511493081
        ],
        [
         "dbfs:/Volumes/workspace/skit_training/aarohi_training/Large_orders/CUSTOMERNAME=Toms Spezialitten, Ltd/",
         "CUSTOMERNAME=Toms Spezialitten, Ltd/",
         0,
         1752511493081
        ],
        [
         "dbfs:/Volumes/workspace/skit_training/aarohi_training/Large_orders/CUSTOMERNAME=Toys of Finland, Co./",
         "CUSTOMERNAME=Toys of Finland, Co./",
         0,
         1752511493081
        ],
        [
         "dbfs:/Volumes/workspace/skit_training/aarohi_training/Large_orders/CUSTOMERNAME=Toys4GrownUps.com/",
         "CUSTOMERNAME=Toys4GrownUps.com/",
         0,
         1752511493081
        ],
        [
         "dbfs:/Volumes/workspace/skit_training/aarohi_training/Large_orders/CUSTOMERNAME=UK Collectables, Ltd./",
         "CUSTOMERNAME=UK Collectables, Ltd./",
         0,
         1752511493081
        ],
        [
         "dbfs:/Volumes/workspace/skit_training/aarohi_training/Large_orders/CUSTOMERNAME=Vida Sport, Ltd/",
         "CUSTOMERNAME=Vida Sport, Ltd/",
         0,
         1752511493081
        ],
        [
         "dbfs:/Volumes/workspace/skit_training/aarohi_training/Large_orders/CUSTOMERNAME=Vitachrome Inc./",
         "CUSTOMERNAME=Vitachrome Inc./",
         0,
         1752511493081
        ],
        [
         "dbfs:/Volumes/workspace/skit_training/aarohi_training/Large_orders/CUSTOMERNAME=Volvo Model Replicas, Co/",
         "CUSTOMERNAME=Volvo Model Replicas, Co/",
         0,
         1752511493081
        ],
        [
         "dbfs:/Volumes/workspace/skit_training/aarohi_training/Large_orders/CUSTOMERNAME=West Coast Collectables Co./",
         "CUSTOMERNAME=West Coast Collectables Co./",
         0,
         1752511493081
        ],
        [
         "dbfs:/Volumes/workspace/skit_training/aarohi_training/Large_orders/CUSTOMERNAME=giftsbymail.co.uk/",
         "CUSTOMERNAME=giftsbymail.co.uk/",
         0,
         1752511493081
        ],
        [
         "dbfs:/Volumes/workspace/skit_training/aarohi_training/Large_orders/_delta_log/",
         "_delta_log/",
         0,
         1752511493081
        ]
       ],
       "datasetInfos": [],
       "dbfsResultPath": null,
       "isJsonSchema": true,
       "metadata": {},
       "overflow": false,
       "plotOptions": {
        "customPlotOptions": {},
        "displayType": "table",
        "pivotAggregation": null,
        "pivotColumns": null,
        "xColumns": null,
        "yColumns": null
       },
       "removedWidgets": [],
       "schema": [
        {
         "metadata": "{}",
         "name": "path",
         "type": "\"string\""
        },
        {
         "metadata": "{}",
         "name": "name",
         "type": "\"string\""
        },
        {
         "metadata": "{}",
         "name": "size",
         "type": "\"long\""
        },
        {
         "metadata": "{}",
         "name": "modificationTime",
         "type": "\"long\""
        }
       ],
       "type": "table"
      }
     },
     "output_type": "display_data"
    }
   ],
   "source": [
    "# filter and transformation\n",
    "df_transformed = df.filter(df.QUANTITYORDERED > 40) \\\n",
    "    .select(\n",
    "        \"ORDERNUMBER\",\n",
    "        \"QUANTITYORDERED\",\n",
    "        \"PRICEEACH\",\n",
    "        \"ORDERDATE\",\n",
    "        \"CUSTOMERNAME\",\n",
    "        \"PHONE\"\n",
    "    )\n",
    "display(df_transformed)\n",
    "\n",
    "# Write as Delta, partitioned by CUSTOMERNAME\n",
    "df_transformed.write.format(\"delta\") \\\n",
    "    .mode(\"overwrite\") \\\n",
    "    .partitionBy(\"CUSTOMERNAME\") \\\n",
    "    .save(\"/Volumes/workspace/skit_training/aarohi_training/Large_orders\")\n",
    "\n",
    "display(dbutils.fs.ls(\"/Volumes/workspace/skit_training/aarohi_training/Large_orders\"))"
   ]
  }
 ],
 "metadata": {
  "application/vnd.databricks.v1+notebook": {
   "computePreferences": null,
   "dashboards": [],
   "environmentMetadata": {
    "base_environment": "",
    "environment_version": "2"
   },
   "inputWidgetPreferences": null,
   "language": "python",
   "notebookMetadata": {
    "mostRecentlyExecutedCommandWithImplicitDF": {
     "commandId": 6133653670405351,
     "dataframes": [
      "_sqldf"
     ]
    },
    "pythonIndentUnit": 4
   },
   "notebookName": "Assignment Day 22",
   "widgets": {}
  },
  "language_info": {
   "name": "python"
  }
 },
 "nbformat": 4,
 "nbformat_minor": 0
}